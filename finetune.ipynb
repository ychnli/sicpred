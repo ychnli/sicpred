{
 "cells": [
  {
   "cell_type": "code",
   "execution_count": 3,
   "metadata": {},
   "outputs": [],
   "source": [
    "import xarray as xr\n",
    "import os\n",
    "import matplotlib.pyplot as plt\n",
    "import numpy as np \n",
    "\n",
    "import pandas as pd \n",
    "import torch \n",
    "from tqdm import tqdm\n",
    "from torch.optim import Adam\n",
    "from torch.utils.data import DataLoader\n",
    "import wandb\n",
    "import argparse \n",
    "import importlib.util\n",
    "import inspect\n",
    "import random\n",
    "\n",
    "from src.models.models_util import CESM_Dataset\n",
    "from src.models.models import UNetRes3\n",
    "from src.utils import util_cesm\n",
    "from src import config_cesm\n",
    "from src.models.losses import WeightedMSELoss\n",
    "import src.config as config_era5\n",
    "\n",
    "reference_grid = util_cesm.generate_sps_grid()\n",
    "\n",
    "def roll_acc(acc):\n",
    "    return xr.concat(\n",
    "        [acc.roll(month=int(lt - 1), roll_coords=False).sel(lead_time=lt) for lt in acc.lead_time.values],\n",
    "        dim=\"lead_time\"\n",
    "    )\n",
    "\n",
    "def aggregate_acc(acc, dim):\n",
    "    if dim == (\"x\", \"y\"):\n",
    "        acc = acc.groupby(\"start_prediction_month.month\").mean(\"start_prediction_month\")\n",
    "    else: \n",
    "        raise ValueError()\n",
    "        \n",
    "    # roll in lead time so that it gets lined up\n",
    "    return roll_acc(acc)\n",
    "\n",
    "def calculate_acc(pred_anom, truth_anom, aggregate, dim=\"start_prediction_month\"):\n",
    "    # Ensure dimensions match\n",
    "    if pred_anom.dims != truth_anom.dims:\n",
    "        raise ValueError(\"Predictions and truth must have the same dimensions.\")\n",
    "\n",
    "    acc = xr.cov(pred_anom, truth_anom, dim=dim) / (pred_anom.std(dim=dim) * truth_anom.std(dim=dim))\n",
    "\n",
    "    if aggregate:\n",
    "        acc = aggregate_acc(acc, dim)\n",
    "\n",
    "    return acc"
   ]
  },
  {
   "cell_type": "markdown",
   "metadata": {},
   "source": [
    "### Regrid obs"
   ]
  },
  {
   "cell_type": "code",
   "execution_count": 1,
   "metadata": {},
   "outputs": [],
   "source": [
    "import xarray as xr\n",
    "import xesmf as xe\n",
    "import os\n",
    "import numpy as np \n",
    "import pandas as pd \n",
    "import argparse \n",
    "\n",
    "from src.utils import util_cesm\n",
    "from src import config_cesm\n",
    "import src.config as config_era5\n"
   ]
  },
  {
   "cell_type": "code",
   "execution_count": 2,
   "metadata": {},
   "outputs": [],
   "source": [
    "cesm_to_era5_varnames = {\n",
    "    \"temp\": \"sea_surface_temperature\",\n",
    "    \"icefrac\": \"sea_ice_cover\",\n",
    "    \"psl\": \"mean_sea_level_pressure\",\n",
    "    \"geopotential\": \"geopotential_500hPa\"\n",
    "}\n",
    "\n",
    "cesm_to_era5_short_varnames = {\n",
    "    \"temp\": \"sst\",\n",
    "    \"icefrac\": \"siconc\",\n",
    "    \"psl\": \"msl\",\n",
    "    \"geopotential\": \"z\"\n",
    "}\n",
    "\n",
    "def transform_obs_to_cesm_format(var_name, output_grid, savedir): \n",
    "    os.makedirs(savedir, exist_ok=True)\n",
    "    savepath = os.path.join(savedir, f\"{var_name}_obs.nc\")\n",
    "    if (os.path.exists(savepath)): return \n",
    "\n",
    "    ds = xr.open_dataset(os.path.join(config_cesm.DATA_DIRECTORY, f\"ERA5/{cesm_to_era5_varnames[var_name]}.nc\")).sel(latitude=slice(-30,-90))\n",
    "    weight_file = f'{config_cesm.DATA_DIRECTORY}/cesm_lens/grids/era5_small_to_sps_bilinear_regridding_weights.nc'\n",
    "    \n",
    "    if os.path.exists(weight_file):\n",
    "        regridder = xe.Regridder(ds, output_grid, 'bilinear', weights=weight_file, \n",
    "                                ignore_degenerate=True, reuse_weights=True, periodic=True)\n",
    "    else:\n",
    "        regridder = xe.Regridder(ds, output_grid, 'bilinear', filename=weight_file, \n",
    "                                ignore_degenerate=True, reuse_weights=False, periodic=True)\n",
    "    ds_regridded = regridder(ds)\n",
    "    ds_regridded = ds_regridded.sel(expver=1).combine_first(ds_regridded.sel(expver=5))\n",
    "\n",
    "    # rename variable\n",
    "    ds_regridded = ds_regridded.rename({cesm_to_era5_short_varnames[var_name]: var_name})\n",
    "\n",
    "    # save\n",
    "    ds_regridded.to_netcdf(savepath)"
   ]
  },
  {
   "cell_type": "code",
   "execution_count": null,
   "metadata": {},
   "outputs": [],
   "source": [
    "sps_grid = util_cesm.generate_sps_grid()\n",
    "\n",
    "for var_name in [\"temp\", \"psl\", \"icefrac\", \"geopotential\"]:\n",
    "    print(f\"transforming {var_name}\")\n",
    "    transform_obs_to_cesm_format(var_name, sps_grid, os.path.join(config_cesm.DATA_DIRECTORY, \"ERA5/cesm_format\"))"
   ]
  },
  {
   "cell_type": "markdown",
   "metadata": {},
   "source": [
    "### Data loader"
   ]
  },
  {
   "cell_type": "code",
   "execution_count": 4,
   "metadata": {},
   "outputs": [],
   "source": [
    "ds = xr.open_dataset(os.path.join(config_cesm.DATA_DIRECTORY, f\"ERA5/cesm_format/icefrac_obs.nc\"))\n",
    "ntime = len(ds.time) - 12 - 6\n",
    "\n",
    "train_subset = np.arange(0, (7/10) * ntime, dtype=int)\n",
    "val_subset = np.arange((7/10) * ntime, (8/10) * ntime, dtype=int)\n",
    "test_subset = np.arange((8/10) * ntime, ntime, dtype=int)\n",
    "\n",
    "data_split_settings = {\n",
    "    \"train\": train_subset,\n",
    "    \"val\": val_subset,\n",
    "    \"test\": test_subset\n",
    "}\n",
    "\n",
    "\n",
    "def detrend_quadratic(da, time_dim='time'):\n",
    "    time_vals = da[time_dim].dt.year + da[time_dim].dt.month / 12.0\n",
    "    time_numeric = xr.DataArray(time_vals, coords={time_dim: da[time_dim]}, dims=time_dim)\n",
    "\n",
    "    spatial_dims = [d for d in da.dims if d not in [time_dim, 'member_id']]\n",
    "    da_stacked = da.stack(space=spatial_dims)\n",
    "    detrended = da_stacked.copy()\n",
    "\n",
    "    coeffs_all = []\n",
    "\n",
    "    for month in range(1, 13):\n",
    "        sel = da_stacked[time_dim].dt.month == month\n",
    "        if not sel.any(): continue\n",
    "\n",
    "        t = time_numeric.sel({time_dim: sel})\n",
    "        Y = da_stacked.sel({time_dim: sel})\n",
    "        X = np.stack([np.ones_like(t), t, t**2], axis=1)\n",
    "\n",
    "        beta = np.linalg.solve(X.T @ X, X.T @ Y.values)  # (3, space)\n",
    "        coeffs_all.append((month, beta))\n",
    "\n",
    "        trend = xr.DataArray((X @ beta).astype(Y.dtype), coords=Y.coords, dims=Y.dims)\n",
    "        detrended.loc[{time_dim: sel}] = da_stacked.sel({time_dim: sel}) - trend\n",
    "\n",
    "    detrended_unstacked = detrended.unstack('space')\n",
    "\n",
    "    # Build coeff DataArray\n",
    "    coeffs = np.full((12, 3) + (da_stacked.sizes['space'],), np.nan, dtype=da.dtype)\n",
    "    for month, beta in coeffs_all:\n",
    "        coeffs[month - 1] = beta \n",
    "\n",
    "    coeff_da = xr.DataArray(\n",
    "        coeffs,\n",
    "        dims=('month', 'coeff', 'space'),\n",
    "        coords={\n",
    "            'month': np.arange(1, 13),\n",
    "            'coeff': ['const', 'linear', 'quadratic'],\n",
    "            'space': da_stacked.coords['space']\n",
    "        }\n",
    "    ).unstack('space')\n",
    "\n",
    "    return detrended_unstacked, coeff_da\n",
    "\n",
    "def load_data_da_dict(config, use_cesm_climatology=False, cesm_climatology_dir=None, \n",
    "                     detrend=False):\n",
    "    data_da_dict = {}\n",
    "\n",
    "    for var_name in config.INPUT_CONFIG.keys(): \n",
    "        if config.INPUT_CONFIG[var_name]['include'] and config.INPUT_CONFIG[var_name]['norm']:\n",
    "            max_lag_months = config.INPUT_CONFIG[var_name]['lag']\n",
    "            divide_by_stdev = config.INPUT_CONFIG[var_name]['divide_by_stdev']\n",
    "            use_min_max = config.INPUT_CONFIG[var_name][\"use_min_max\"]\n",
    "\n",
    "            # Load the observational data\n",
    "            ds = xr.open_dataset(os.path.join(config_cesm.DATA_DIRECTORY, f\"ERA5/cesm_format/{var_name}_obs.nc\"))\n",
    "            obs_da = ds[var_name] \n",
    "            months = obs_da['time'].dt.month\n",
    "            da_train_subset = obs_da[np.concatenate((np.arange(12, dtype=int), train_subset + int(12)))]\n",
    "\n",
    "            if divide_by_stdev: \n",
    "                normalized_da = (obs_da - monthly_means.sel(month=months)) / monthly_stdev.sel(month=months)\n",
    "            else:    \n",
    "                if use_min_max:\n",
    "                    print(f\"normalizing {var_name} with min max\")\n",
    "                    monthly_mins = da_train_subset.groupby(\"time.month\").min(dim=(\"time\")).load()\n",
    "                    monthly_maxs = da_train_subset.groupby(\"time.month\").max(dim=(\"time\")).load()\n",
    "                    normalized_da = (obs_da - monthly_mins.sel(month=months)) / (monthly_maxs.sel(month=months) - monthly_mins.sel(month=months))\n",
    "                else:\n",
    "                    if use_cesm_climatology:\n",
    "                        monthly_means = xr.open_dataset(os.path.join(cesm_climatology_dir, f\"{var_name}_mean.nc\"))[var_name]\n",
    "                    else:\n",
    "                        monthly_means = da_train_subset.groupby(\"time.month\").mean(dim=\"time\").load()\n",
    "                    normalized_da = obs_da - monthly_means.sel(month=months)\n",
    "            \n",
    "            if detrend: \n",
    "                normalized_da, coeffs = detrend_quadratic(normalized_da)\n",
    "\n",
    "            # artificial cap: sst to [-5, 5]\n",
    "            if var_name == \"temp\":\n",
    "                normalized_da = xr.where(normalized_da > 5, 5, normalized_da)\n",
    "                normalized_da = xr.where(normalized_da < -5, -5, normalized_da)\n",
    "            data_da_dict[var_name] = normalized_da.drop_vars(\"month\")\n",
    "\n",
    "    return data_da_dict\n",
    "\n",
    "def get_obs_start_prediction_months(data_da_dict, data_split_settings):\n",
    "    max_lag = 12\n",
    "    first_month = data_da_dict[\"icefrac\"].time[max_lag].item()\n",
    "    last_month = data_da_dict[\"icefrac\"].time[-config.MAX_LEAD_MONTHS].item()\n",
    "    return pd.date_range(first_month, last_month, freq=\"MS\")\n",
    "\n",
    "\n",
    "def save_obs_inputs(input_config, save_path, data_da_dict, data_split_settings):\n",
    "    \"\"\"\n",
    "    Writes a model-ready input file (.nc) for each ensemble member to save_path\n",
    "\n",
    "    Param:\n",
    "        (dict)      input_config\n",
    "        (string)    save_path\n",
    "    \"\"\"\n",
    "\n",
    "    # get some auxiliary data\n",
    "    x_coords = data_da_dict[\"icefrac\"].x.data\n",
    "    y_coords = data_da_dict[\"icefrac\"].y.data\n",
    "    land_mask = np.isnan(data_da_dict[\"icefrac\"].isel(time=0)).data\n",
    "    land_mask = np.transpose(land_mask.reshape(1, 80, 80), [0, 2, 1]) # for some reason, x and y get switched\n",
    "\n",
    "    start_prediction_months = get_obs_start_prediction_months(data_da_dict, data_split_settings)\n",
    "    save_name = os.path.join(save_path, f\"inputs_obs.nc\")\n",
    "    if os.path.exists(save_name):\n",
    "       return\n",
    "\n",
    "    da_list = []\n",
    "    for start_prediction_month in start_prediction_months:\n",
    "        time_da_list = []\n",
    "        for input_var, input_var_params in input_config.items():\n",
    "            if not input_var_params[\"include\"]: \n",
    "                continue \n",
    "            \n",
    "            if not input_var_params[\"auxiliary\"]:\n",
    "                prediction_input_months = pd.date_range(start_prediction_month - pd.DateOffset(months=input_var_params[\"lag\"]), \n",
    "                                                        start_prediction_month - pd.DateOffset(months=1), freq=\"MS\")\n",
    "\n",
    "                input_data = data_da_dict[input_var].sel(time=prediction_input_months)\n",
    "\n",
    "                # mask out NaN values\n",
    "                input_data = input_data.fillna(0)\n",
    "\n",
    "                # rename the time coordinate to channel \n",
    "                lag = input_var_params[\"lag\"]\n",
    "                input_data = input_data.assign_coords(time=[f\"{input_var}_lag{lag+1-i}\" for i in range(1, lag+1)])\n",
    "                input_data = input_data.rename({\"time\": \"channel\"})\n",
    "            else:\n",
    "                if input_var == \"cosine_of_init_month\":\n",
    "                    input_data = xr.DataArray(\n",
    "                        np.full((1, 80, 80), np.cos(2 * np.pi * start_prediction_month.month / 12)),\n",
    "                        dims=[\"channel\", \"x\", \"y\"],\n",
    "                        coords={\"channel\": [input_var], \"x\": x_coords, \"y\": y_coords},\n",
    "                    )\n",
    "                elif input_var == \"sine_of_init_month\":\n",
    "                    input_data = xr.DataArray(\n",
    "                        np.full((1, 80, 80), np.sin(2 * np.pi * start_prediction_month.month / 12)),\n",
    "                        dims=[\"channel\", \"x\", \"y\"],\n",
    "                        coords={\"channel\": [input_var], \"x\": x_coords, \"y\": y_coords},\n",
    "                    )\n",
    "                elif input_var == \"land_mask\": \n",
    "                    input_data = xr.DataArray(\n",
    "                        land_mask, \n",
    "                        dims=[\"channel\", \"x\", \"y\"],\n",
    "                        coords={\"channel\": [input_var], \"x\": x_coords, \"y\": y_coords},\n",
    "                    )\n",
    "                else: \n",
    "                    raise NotImplementedError()\n",
    "\n",
    "            # add a coordinate to denote the start prediction month (time origin)\n",
    "            input_data = input_data.assign_coords(start_prediction_month=start_prediction_month)\n",
    "\n",
    "            time_da_list.append(input_data)\n",
    "\n",
    "        da_list.append(xr.concat(time_da_list, dim=\"channel\", coords='minimal', compat='override'))\n",
    "\n",
    "    da_merged = xr.concat(da_list, dim=\"start_prediction_month\", coords=\"minimal\", compat='override')\n",
    "\n",
    "    # rechunk\n",
    "    da_merged = da_merged.chunk(chunks={\"start_prediction_month\":12, \"channel\":-1})\n",
    "\n",
    "    # clean up singleton dimensions\n",
    "    if \"z_t\" in da_merged.dims: \n",
    "        da_merged = da_merged.drop_vars(\"z_t\")\n",
    "    if \"lev\" in da_merged.dims:\n",
    "        da_merged = da_merged.drop_vars(\"lev\")\n",
    "\n",
    "\n",
    "    print(\"done! Saving...\")\n",
    "    da_merged.to_dataset(name=\"data\").to_netcdf(save_name)\n",
    "    da_merged.close()\n",
    "\n",
    "\n",
    "def save_obs_targets(input_da_dict, input_config, target_config, \n",
    "                    save_path, max_lead_months, data_split_settings):\n",
    "    \"\"\"\n",
    "    Writes a model-ready targets file (.nc) for each ensemble member to save_path\n",
    "    \n",
    "    Param:\n",
    "        (dict)      input_config\n",
    "        (dict)      target_config\n",
    "        (string)    save_path\n",
    "        (int)       max_lead_months\n",
    "        (dict)      data_split_settings\n",
    "    \"\"\"\n",
    "\n",
    "    if not target_config[\"predict_anom\"]:\n",
    "        raise NotImplementedError()\n",
    "    else:\n",
    "        da = input_da_dict[\"icefrac\"]\n",
    "\n",
    "    start_prediction_months = get_obs_start_prediction_months(input_da_dict, data_split_settings)\n",
    "    save_name = os.path.join(save_path, f\"targets_obs.nc\")\n",
    "    if os.path.exists(save_name):\n",
    "        return\n",
    "\n",
    "    time_da_list = []\n",
    "\n",
    "    for start_prediction_month in start_prediction_months:\n",
    "        prediction_target_months = pd.date_range(start_prediction_month, \n",
    "                                                start_prediction_month + pd.DateOffset(months=max_lead_months-1), \n",
    "                                                freq=\"MS\")\n",
    "        \n",
    "        target_data = da.sel(time=prediction_target_months)\n",
    "\n",
    "        # mask out nans\n",
    "        target_data = target_data.fillna(0)\n",
    "\n",
    "        target_data = target_data.assign_coords(time=np.arange(1,7))\n",
    "        target_data = target_data.rename({\"time\": \"lead_time\"}) \n",
    "\n",
    "        # add a coordinate to denote the start prediction month (time origin)\n",
    "        target_data = target_data.assign_coords(start_prediction_month=start_prediction_month)\n",
    "\n",
    "        time_da_list.append(target_data)\n",
    "\n",
    "    da_merged = xr.concat(time_da_list, dim=\"start_prediction_month\", coords='minimal', compat='override')\n",
    "\n",
    "    da_merged = da_merged.chunk(chunks={\"start_prediction_month\":12, \"lead_time\":-1})\n",
    "    \n",
    "    da_merged.to_dataset(name=\"data\").to_netcdf(save_name)\n",
    "    da_merged.close()\n",
    "\n",
    "\n"
   ]
  },
  {
   "cell_type": "code",
   "execution_count": 10,
   "metadata": {},
   "outputs": [
    {
     "name": "stdout",
     "output_type": "stream",
     "text": [
      "done! Saving...\n"
     ]
    }
   ],
   "source": [
    "import src.experiment_configs.exp1_inputs.input2 as config2\n",
    "\n",
    "# the climatology for the largest training run \n",
    "cesm_clim_dir = \"/scratch/users/yucli/cesm_data_processed/normalized_inputs/seaice_plus_auxiliary_vol4_dt\"\n",
    "\n",
    "for config in [config2]:\n",
    "    save_path = os.path.join(config_cesm.PROCESSED_DATA_DIRECTORY, \"data_pairs\", \n",
    "                             \"seaice_plus_auxiliary_cesmclim\")\n",
    "    os.makedirs(save_path, exist_ok=True)\n",
    "\n",
    "    data_da_dict = load_data_da_dict(config, use_cesm_climatology=True, cesm_climatology_dir=cesm_clim_dir,\n",
    "                                    detrend=False)\n",
    "\n",
    "    save_obs_inputs(config.INPUT_CONFIG, save_path, data_da_dict, data_split_settings)\n",
    "\n",
    "    save_obs_targets(data_da_dict, config.INPUT_CONFIG, config.TARGET_CONFIG, \n",
    "                    save_path, 6, data_split_settings)\n"
   ]
  },
  {
   "cell_type": "code",
   "execution_count": 5,
   "metadata": {},
   "outputs": [],
   "source": [
    "\n",
    "class Obs_Dataset(torch.utils.data.Dataset):\n",
    "    def __init__(self, split, data_config_name, data_split_settings, data_dir=None):\n",
    "        if data_dir is not None:\n",
    "            self.data_dir = data_dir\n",
    "        else:\n",
    "            self.data_dir = os.path.join(config_cesm.PROCESSED_DATA_DIRECTORY, \"data_pairs\", data_config_name)\n",
    "            \n",
    "        self.split = split\n",
    "\n",
    "        # Open and keep datasets in memory\n",
    "        self.inputs = xr.open_dataset(os.path.join(self.data_dir, \"inputs_obs.nc\")).data\n",
    "        self.targets = xr.open_dataset(os.path.join(self.data_dir, \"targets_obs.nc\")).data\n",
    "\n",
    "        # Build a global index of samples\n",
    "        time_values = self.inputs[\"start_prediction_month\"].values\n",
    "        self.samples = [(time_values[start_idx], int(start_idx)) for start_idx in data_split_settings[split]]\n",
    "\n",
    "    def __len__(self):\n",
    "        return len(self.samples)\n",
    "\n",
    "    def __getitem__(self, idx):\n",
    "        start_prediction_month, start_idx = self.samples[idx]\n",
    "\n",
    "        input_sample = self.inputs.isel(start_prediction_month=start_idx).load().values.copy()\n",
    "        target_sample = self.targets.isel(start_prediction_month=start_idx).load().values.copy()\n",
    "\n",
    "        max_lead_months = target_sample.shape[0]\n",
    "        start_prediction_months = pd.date_range(\n",
    "            start_prediction_month,\n",
    "            start_prediction_month + pd.DateOffset(months=max_lead_months - 1),\n",
    "            freq=\"MS\"\n",
    "        )\n",
    "\n",
    "        time_npy = np.column_stack((start_prediction_months.year, start_prediction_months.month))\n",
    "\n",
    "        sample = {\n",
    "            \"input\": torch.tensor(input_sample, dtype=torch.float32),\n",
    "            \"target\": torch.tensor(target_sample, dtype=torch.float32),\n",
    "            \"start_prediction_month\": time_npy,\n",
    "        }\n",
    "\n",
    "        return sample\n"
   ]
  },
  {
   "cell_type": "code",
   "execution_count": 6,
   "metadata": {},
   "outputs": [],
   "source": [
    "def train_epoch(model, dataloader, optimizer, loss_fn, device, epoch, total_epochs, global_step):\n",
    "    model.train()\n",
    "    epoch_loss = 0\n",
    "    loss_fn_params = inspect.signature(loss_fn.forward).parameters\n",
    "\n",
    "    progress_bar = tqdm(enumerate(dataloader), total=len(dataloader), desc=f\"Epoch {epoch}/{total_epochs} [Train]\")\n",
    "\n",
    "    for _, batch in progress_bar:\n",
    "        inputs, targets = batch[\"input\"].to(device), batch[\"target\"].to(device)\n",
    "\n",
    "        optimizer.zero_grad()\n",
    "        predictions = model(inputs)\n",
    "\n",
    "        loss_kwargs = {\"prediction\": predictions, \"target\": targets}\n",
    "        if \"target_months\" in loss_fn_params:\n",
    "            loss_kwargs[\"target_months\"] = batch[\"start_prediction_month\"][:, :, 1].to(device)\n",
    "\n",
    "        loss = loss_fn(**loss_kwargs)\n",
    "        loss.backward()\n",
    "        optimizer.step()\n",
    "\n",
    "        epoch_loss += loss.item()\n",
    "        progress_bar.set_postfix({\"Batch Loss\": loss.item()})\n",
    "\n",
    "        # Log batch-level training loss\n",
    "        wandb.log({\"train_loss\": loss.item()}, step=global_step)\n",
    "        global_step += 1\n",
    "\n",
    "    return epoch_loss / len(dataloader), global_step\n",
    "\n",
    "def validate_epoch(model, dataloader, loss_fn, device, epoch, total_epochs, global_step):\n",
    "    model.eval()\n",
    "    total_squared_error = 0.0\n",
    "    total_count = 0\n",
    "    epoch_loss = 0 \n",
    "    loss_fn_params = inspect.signature(loss_fn.forward).parameters\n",
    "\n",
    "    progress_bar = tqdm(enumerate(dataloader), total=len(dataloader), desc=f\"Epoch {epoch}/{total_epochs} [Val]\")\n",
    "\n",
    "    with torch.no_grad():\n",
    "        for _, batch in progress_bar:\n",
    "            inputs, targets = batch[\"input\"].to(device), batch[\"target\"].to(device)\n",
    "            predictions = model(inputs)\n",
    "\n",
    "            # Compute loss \n",
    "            loss_kwargs = {\"prediction\": predictions, \"target\": targets}\n",
    "            if \"target_months\" in loss_fn_params:\n",
    "                loss_kwargs[\"target_months\"] = batch[\"start_prediction_month\"][:, :, 1].to(device)\n",
    "            loss = loss_fn(**loss_kwargs)\n",
    "\n",
    "            # Compute RMSE\n",
    "            squared_error = (predictions - targets) ** 2\n",
    "            total_squared_error += squared_error.sum().item()\n",
    "            total_count += targets.numel()\n",
    "\n",
    "            batch_rmse = torch.sqrt(squared_error.mean()).item()\n",
    "            progress_bar.set_postfix({\"Batch RMSE\": batch_rmse})\n",
    "            wandb.log({\n",
    "                \"val_loss\": loss.item(),\n",
    "                \"val_rmse\": batch_rmse\n",
    "            }, step=global_step)\n",
    "            \n",
    "            epoch_loss += loss.item()\n",
    "            global_step += 1\n",
    "\n",
    "    epoch_rmse = (total_squared_error / total_count) ** 0.5\n",
    "    return epoch_rmse, epoch_loss / len(dataloader), global_step\n",
    "\n",
    "from torch.optim.lr_scheduler import CosineAnnealingLR\n",
    "\n",
    "def train(data_config, save_path, architecture, finetune_model_path=None):\n",
    "    wandb.init(settings=wandb.Settings(console=\"off\"))\n",
    "    config = wandb.config\n",
    "    train_dataset = Obs_Dataset(\"train\", data_config.DATA_CONFIG_NAME, data_split_settings)\n",
    "    val_dataset = Obs_Dataset(\"val\", data_config.DATA_CONFIG_NAME, data_split_settings)\n",
    "\n",
    "    train_dataloader = DataLoader(train_dataset, batch_size=config.batch_size, shuffle=True, num_workers=0)\n",
    "    val_dataloader = DataLoader(val_dataset, batch_size=config.batch_size, shuffle=False, num_workers=0)\n",
    "\n",
    "    device = torch.device(\"cuda\" if torch.cuda.is_available() else \"cpu\")\n",
    "\n",
    "    in_channels = util_cesm.get_num_input_channels(data_config.INPUT_CONFIG)\n",
    "    out_channels = util_cesm.get_num_output_channels(data_config.MAX_LEAD_MONTHS, data_config.TARGET_CONFIG)\n",
    "\n",
    "    if finetune_model_path is None:\n",
    "        if architecture == \"UNetRes3\":\n",
    "            model = UNetRes3(\n",
    "                in_channels=in_channels, \n",
    "                out_channels=out_channels, \n",
    "                n_channels_factor=config.n_channels_factor,\n",
    "                predict_anomalies=data_config.TARGET_CONFIG[\"predict_anom\"]\n",
    "            ).to(device)\n",
    "        elif architecture == \"SICNet_TSAM\": \n",
    "            # Warning: hardcoded values for testing\n",
    "            model = SICNet(T=12, T_pred=6).to(device)\n",
    "    else:\n",
    "        # TODO: implement diff architectures (if necessary)\n",
    "        # load finetuned model\n",
    "        checkpoint = torch.load(finetune_model_path, map_location=device, weights_only=True)\n",
    "        model = UNetRes3(in_channels=in_channels, \n",
    "                        out_channels=out_channels, \n",
    "                        predict_anomalies=True).to(device)\n",
    "        model.load_state_dict(checkpoint[\"model_state_dict\"])\n",
    "\n",
    "    optimizer = Adam(model.parameters(), lr=config.lr, weight_decay=config.weight_decay)\n",
    "    scheduler = CosineAnnealingLR(optimizer, T_max=config.num_epochs)\n",
    "\n",
    "    loss_function_args = data_config.LOSS_FUNCTION_ARGS \n",
    "    loss_function_args[\"apply_month_weights\"] = bool(config.loss_function_args)\n",
    "    loss_fn = WeightedMSELoss(device=device, model=model, **loss_function_args)\n",
    "\n",
    "    num_epochs = config.num_epochs\n",
    "    global_step = 0\n",
    "    best_val_rmse = float('inf')\n",
    "    run_id = wandb.run.id \n",
    "    best_model_path = os.path.join(save_path, f\"{data_config.DATA_CONFIG_NAME}_{run_id}_best.pt\")\n",
    "    patience = 5\n",
    "    patience_counter = 0\n",
    "\n",
    "    for epoch in range(num_epochs):\n",
    "        train_loss, global_step = train_epoch(\n",
    "            model, train_dataloader, optimizer, loss_fn, device, epoch, num_epochs, global_step\n",
    "        )\n",
    "\n",
    "        val_rmse, val_loss, global_step = validate_epoch(\n",
    "            model, val_dataloader, loss_fn, device, epoch, num_epochs, global_step\n",
    "        )\n",
    "\n",
    "        # Log epoch stats and learning rate\n",
    "        current_lr = scheduler.get_last_lr()[0]\n",
    "        wandb.log({\n",
    "            \"epoch\": epoch,\n",
    "            \"epoch_train_loss\": train_loss,\n",
    "            \"epoch_val_loss\": val_loss, \n",
    "            \"epoch_val_rmse\": val_rmse,\n",
    "            \"lr\": current_lr,\n",
    "        }, step=global_step)\n",
    "\n",
    "        scheduler.step()\n",
    "\n",
    "        # Early stopping \n",
    "        if val_rmse < best_val_rmse:\n",
    "            best_val_rmse = val_rmse\n",
    "            torch.save(model.state_dict(), best_model_path)\n",
    "            patience_counter = 0\n",
    "        else:\n",
    "            patience_counter += 1\n",
    "            if patience_counter >= patience:\n",
    "                print(f\"Early stopping triggered at epoch {epoch+1}\")\n",
    "                break\n",
    "        \n",
    "        if best_val_rmse < float(\"inf\"):\n",
    "            wandb.log({\"best_val_rmse\": best_val_rmse}, step=global_step)\n",
    "\n",
    "def evaluate(model, dataloader):\n",
    "    channels, x_dim, y_dim = 6, 80, 80\n",
    "\n",
    "    pred_list = []\n",
    "    truth_list = []\n",
    "    time_list = []\n",
    "\n",
    "    # Populate the Dataset with predictions\n",
    "    with torch.no_grad():\n",
    "        for batch in dataloader:\n",
    "            inputs = batch[\"input\"].to(device)\n",
    "            targets = batch[\"target\"]\n",
    "            predictions = model(inputs).cpu().numpy()\n",
    "\n",
    "            # since batch size = 1, get the only sample in the batch\n",
    "            predictions = predictions[0]\n",
    "            targets = targets[0]\n",
    "\n",
    "            # Extract metadata\n",
    "            start_year, start_month = batch[\"start_prediction_month\"].cpu().numpy()[0, 0]\n",
    "            start_prediction_month = pd.Timestamp(year=start_year, month=start_month, day=1)\n",
    "            time_list.append(start_prediction_month)\n",
    "\n",
    "            pred_da = xr.DataArray(\n",
    "                predictions,\n",
    "                dims=[\"lead_time\", \"y\", \"x\"],\n",
    "                coords={\n",
    "                    \"lead_time\": np.arange(1, channels + 1),\n",
    "                    \"y\": reference_grid.y.values,\n",
    "                    \"x\": reference_grid.x.values,\n",
    "                }\n",
    "            )\n",
    "            truth_da = xr.DataArray(\n",
    "                targets,\n",
    "                dims=[\"lead_time\", \"y\", \"x\"],\n",
    "                coords={\n",
    "                    \"lead_time\": np.arange(1, channels + 1),\n",
    "                    \"y\": reference_grid.y.values,\n",
    "                    \"x\": reference_grid.x.values,\n",
    "                }\n",
    "            )\n",
    "\n",
    "            pred_list.append(pred_da)\n",
    "            truth_list.append(truth_da)\n",
    "\n",
    "    # Stack results along new time coordinate\n",
    "    ds_pred = xr.Dataset({\n",
    "        \"icefrac\": xr.concat(pred_list, dim=pd.Index(time_list, name=\"start_prediction_month\"))\n",
    "    })\n",
    "    ds_truth = xr.Dataset({\n",
    "        \"icefrac\": xr.concat(truth_list, dim=pd.Index(time_list, name=\"start_prediction_month\"))\n",
    "    })\n",
    "\n",
    "    return ds_pred, ds_truth\n"
   ]
  },
  {
   "cell_type": "markdown",
   "metadata": {},
   "source": [
    "## Sweep 1 (input2)\n",
    "Results at https://wandb.ai/ychnli-stanford-university/sea-ice-prediction/sweeps/ki0k0l49"
   ]
  },
  {
   "cell_type": "code",
   "execution_count": null,
   "metadata": {},
   "outputs": [],
   "source": [
    "import src.experiment_configs.exp1_inputs.input4 as config4\n",
    "import src.experiment_configs.exp1_inputs.input2 as config2\n",
    "\n",
    "data_config = config2\n",
    "\n",
    "sweep_config = {\n",
    "    'method': 'random', \n",
    "    'metric': {\n",
    "        'name': 'epoch_val_rmse',\n",
    "        'goal': 'minimize'\n",
    "    },\n",
    "    'parameters': {\n",
    "        'lr': {\n",
    "            'min': 1e-5,\n",
    "            'max': 5e-3 \n",
    "        },\n",
    "        'weight_decay': {\n",
    "            'min': 0.0,\n",
    "            'max': 1e-3\n",
    "        },\n",
    "        'batch_size': {\n",
    "            'values': [1, 2, 4, 8, 16, 32, 64] \n",
    "        },\n",
    "        'n_channels_factor': {\n",
    "            'values': [0.5, 0.75, 1]\n",
    "        },\n",
    "        'num_epochs': {\n",
    "            'value': 50\n",
    "        },\n",
    "        'loss_function_args': {\n",
    "            'values': [0, 1] # 0 = don't apply monthly weights; 1 = apply monthly weights\n",
    "        }\n",
    "    }\n",
    "}\n",
    "\n",
    "sweep_id = wandb.sweep(sweep_config, project=\"sea-ice-prediction\")\n",
    "\n",
    "save_path = \"/scratch/users/yucli/sicpred_models/exp3_obs_hypsweep\"\n",
    "wandb.agent(sweep_id, function=lambda: train(data_config, save_path=save_path), count=50)\n"
   ]
  },
  {
   "cell_type": "markdown",
   "metadata": {},
   "source": [
    "## Sweep 2 (input2)\n",
    "Refined ranges (removed large learning rates, use larger batch sizes)\n",
    "\n",
    "Results: https://wandb.ai/ychnli-stanford-university/sea-ice-prediction/sweeps/85pc8f4o"
   ]
  },
  {
   "cell_type": "code",
   "execution_count": null,
   "metadata": {},
   "outputs": [],
   "source": [
    "import src.experiment_configs.exp1_inputs.input4 as config4\n",
    "import src.experiment_configs.exp1_inputs.input2 as config2\n",
    "\n",
    "data_config = config2\n",
    "\n",
    "sweep_config = {\n",
    "    'method': 'random', \n",
    "    'metric': {\n",
    "        'name': 'best_val_rmse',\n",
    "        'goal': 'minimize'\n",
    "    },\n",
    "    'parameters': {\n",
    "        'lr': {\n",
    "            'min': 1e-5,\n",
    "            'max': 2e-3 \n",
    "        },\n",
    "        'weight_decay': {\n",
    "            'min': 0.0,\n",
    "            'max': 1e-4\n",
    "        },\n",
    "        'batch_size': {\n",
    "            'values': [20, 32, 50, 64] \n",
    "        },\n",
    "        'n_channels_factor': {\n",
    "            'values': [0.5, 0.75, 1]\n",
    "        },\n",
    "        'num_epochs': {\n",
    "            'value': 100\n",
    "        },\n",
    "        'loss_function_args': {\n",
    "            'value': 1\n",
    "        }\n",
    "    }\n",
    "}\n",
    "\n",
    "sweep_id = wandb.sweep(sweep_config, project=\"sea-ice-prediction\")\n",
    "\n",
    "save_path = \"/scratch/users/yucli/sicpred_models/exp3_obs_hypsweep\"\n",
    "wandb.agent(sweep_id, function=lambda: train(data_config, save_path=save_path), count=50)\n"
   ]
  },
  {
   "cell_type": "markdown",
   "metadata": {},
   "source": [
    "## Try a different model"
   ]
  },
  {
   "cell_type": "code",
   "execution_count": 18,
   "metadata": {},
   "outputs": [
    {
     "name": "stderr",
     "output_type": "stream",
     "text": [
      "/home/groups/earlew/yuchen/miniconda3/envs/sicpred_env_conda/lib/python3.12/site-packages/torch/nn/utils/weight_norm.py:143: FutureWarning: `torch.nn.utils.weight_norm` is deprecated in favor of `torch.nn.utils.parametrizations.weight_norm`.\n",
      "  WeightNorm.apply(module, name, dim)\n"
     ]
    },
    {
     "name": "stdout",
     "output_type": "stream",
     "text": [
      "2933608\n"
     ]
    }
   ],
   "source": [
    "import torch\n",
    "import torch.nn as nn\n",
    "import torch.nn.functional as F\n",
    "\n",
    "# class TemporalAttention2D(nn.Module):\n",
    "#     def __init__(self, T):\n",
    "#         super().__init__()\n",
    "#         kernel_size = max(1, T // 2)\n",
    "#         self.tcn1 = nn.Conv1d(T, 8, kernel_size=kernel_size, padding='same', dilation=1)\n",
    "#         self.tcn2 = nn.Conv1d(8, 8, kernel_size=kernel_size, padding='same', dilation=2)\n",
    "#         self.tcn3 = nn.Conv1d(8, T, kernel_size=kernel_size, padding='same', dilation=4)\n",
    "\n",
    "#     def forward(self, x):  # x: (N, T, H, W)\n",
    "#         print(x.shape)\n",
    "#         B, T, H, W = x.shape\n",
    "#         avg_pool = torch.mean(x.view(B, T, -1), dim=2)  # (B, T)\n",
    "#         print(avg_pool.shape)\n",
    "#         y = self.tcn1(avg_pool.unsqueeze(1))\n",
    "#         y = self.tcn2(y)\n",
    "#         y = self.tcn3(y)\n",
    "#         attn = torch.sigmoid(y).squeeze(1).unsqueeze(-1).unsqueeze(-1)  # (B, T, 1, 1)\n",
    "#         return x * attn\n",
    "\n",
    "# class SpatialAttention2D(nn.Module):\n",
    "#     def __init__(self):\n",
    "#         super().__init__()\n",
    "#         self.conv = nn.Conv2d(2, 1, kernel_size=7, padding=3)\n",
    "\n",
    "#     def forward(self, x):  # x: (N, T, H, W)\n",
    "#         avg_pool = torch.mean(x, dim=1, keepdim=True)  # (N, 1, H, W)\n",
    "#         max_pool, _ = torch.max(x, dim=1, keepdim=True)  # (N, 1, H, W)\n",
    "#         concat = torch.cat([avg_pool, max_pool], dim=1)\n",
    "#         attn = torch.sigmoid(self.conv(concat))  # (N, 1, H, W)\n",
    "#         return x * attn\n",
    "\n",
    "# class TSAM2D(nn.Module):\n",
    "#     def __init__(self, T):\n",
    "#         super().__init__()\n",
    "#         self.temporal = TemporalAttention2D(T)\n",
    "#         self.spatial = SpatialAttention2D()\n",
    "\n",
    "#     def forward(self, x):\n",
    "#         x = self.temporal(x)\n",
    "#         x = self.spatial(x)\n",
    "#         return x\n",
    "\n",
    "from torch.nn.utils import weight_norm\n",
    "\n",
    "class Convblock(nn.Module):\n",
    "    def __init__(self,in_channel,out_channel):\n",
    "        super(Convblock,self).__init__()\n",
    "        self.out_c = out_channel\n",
    "        self.in_c = in_channel\n",
    "        self.conv2d = nn.Conv2d(self.in_c,self.out_c,3,stride=1,padding=1)\n",
    "        self.batchnorm = nn.BatchNorm2d(out_channel)\n",
    "        self.relu = nn.ReLU()\n",
    "\n",
    "    def forward(self,x):\n",
    "        x = self.conv2d(x)\n",
    "        x = self.batchnorm(x)\n",
    "        x = self.relu(x)\n",
    "        return x\n",
    "\n",
    "class Chomp1d(nn.Module):\n",
    "    def __init__(self, chomp_size):\n",
    "        super(Chomp1d, self).__init__()\n",
    "        self.chomp_size = chomp_size\n",
    "\n",
    "    def forward(self, x):\n",
    "        if self.chomp_size != 0:\n",
    "            x = x[:, :, :-self.chomp_size].contiguous()\n",
    "        else: x \n",
    "        return x\n",
    "\n",
    "class TemporalBlock(nn.Module):\n",
    "    def __init__(self, n_inputs, n_outputs, kernel_size, stride, dilation, padding):\n",
    "        super(TemporalBlock, self).__init__()\n",
    "        self.conv1 = weight_norm(nn.Conv1d(n_inputs, n_outputs, kernel_size,\n",
    "                                           stride=stride, padding=padding, dilation=dilation))\n",
    "        self.chomp1 = Chomp1d(padding)\n",
    "        self.relu1 = nn.ReLU()\n",
    "\n",
    "        self.conv2 = weight_norm(nn.Conv1d(n_outputs, n_outputs, kernel_size,\n",
    "                                           stride=stride, padding=padding, dilation=dilation))\n",
    "        self.chomp2 = Chomp1d(padding)\n",
    "        self.relu2 = nn.ReLU()\n",
    "\n",
    "        self.net = nn.Sequential(self.conv1, self.chomp1, self.relu1,\n",
    "                                 self.conv2, self.chomp2, self.relu2)\n",
    "        self.downsample = nn.Conv1d(n_inputs, n_outputs, 1) if n_inputs != n_outputs else None\n",
    "        self.relu = nn.ReLU()\n",
    "        self.init_weights()\n",
    "\n",
    "    def init_weights(self):\n",
    "        self.conv1.weight.data.normal_(0, 0.01)\n",
    "        self.conv2.weight.data.normal_(0, 0.01)\n",
    "        if self.downsample is not None:\n",
    "            self.downsample.weight.data.normal_(0, 0.01)\n",
    "\n",
    "    def forward(self, x):\n",
    "        out = self.net(x)\n",
    "        res = x if self.downsample is None else self.downsample(x)\n",
    "        return self.relu(out + res)\n",
    "\n",
    "class TCN(nn.Module):\n",
    "    def __init__(self, num_inputs, num_channels, kernel_size):\n",
    "        super(TCN, self).__init__()\n",
    "        layers = []\n",
    "        num_levels = len(num_channels)\n",
    "        for i in range(num_levels):\n",
    "            dilation_size = 2 ** i\n",
    "            in_channels = num_inputs if i == 0 else num_channels[i-1]\n",
    "            out_channels = num_channels[i]\n",
    "            layers += [TemporalBlock(in_channels, out_channels, kernel_size, stride=1, dilation=dilation_size,\n",
    "                                     padding=(kernel_size-1) * dilation_size)]\n",
    "\n",
    "        self.network = nn.Sequential(*layers)\n",
    "\n",
    "    def forward(self, x):\n",
    "        return self.network(x)\n",
    "\n",
    "class TSAM(nn.Module):\n",
    "    def __init__(self, channels):\n",
    "        super(TSAM, self).__init__()\n",
    "        self.channels = channels\n",
    "        kernel_size_tcn = max(channels // 12, 1)\n",
    "        self.max_pool = nn.AdaptiveMaxPool2d(1)\n",
    "        self.avg_pool = nn.AdaptiveAvgPool2d(1)\n",
    "\n",
    "        self.max_tcn1 = TCN(num_inputs = 1, num_channels = [8,8,8], kernel_size = channels//12)\n",
    "        self.max_tcn2 = TCN(num_inputs = 8, num_channels = [8,8,8], kernel_size = channels//12)\n",
    "        self.max_tcn3 = TCN(num_inputs = 8, num_channels = [1,1], kernel_size = 1)\n",
    "        self.avg_tcn1 = TCN(num_inputs = 1, num_channels = [8,8,8], kernel_size = channels//12)\n",
    "        self.avg_tcn2 = TCN(num_inputs = 8, num_channels = [8,8,8], kernel_size = channels//12)\n",
    "        self.avg_tcn3 = TCN(num_inputs = 8, num_channels = [1,1], kernel_size= 1)\n",
    "        self.spatial_conv = nn.Conv2d(2, 1, kernel_size=7, padding=3, bias=False)\n",
    "\n",
    "        self.sigmoid = nn.Sigmoid()\n",
    "\n",
    "    def forward(self, x):\n",
    "        max_pooled = self.max_pool(x)\n",
    "\n",
    "        avg_pooled = self.avg_pool(x)\n",
    "\n",
    "        max_out = self.max_tcn3(self.max_tcn2(self.max_tcn1(torch.squeeze(max_pooled,-1).permute(0,2,1)))).permute(0,2,1)\n",
    "        avg_out = self.avg_tcn3(self.avg_tcn2(self.avg_tcn1(torch.squeeze(avg_pooled,-1).permute(0,2,1)))).permute(0,2,1)\n",
    "\n",
    "        tcn_out = max_out + avg_out\n",
    "        tcn_attention = self.sigmoid(tcn_out.unsqueeze(-1))\n",
    "        x = tcn_attention * x\n",
    "\n",
    "        max_pool = torch.max(x, dim=1, keepdim=True)[0]\n",
    "        avg_pool = torch.mean(x, dim=1, keepdim=True)\n",
    "        pool_cat = torch.cat([max_pool, avg_pool], dim=1)\n",
    "        spatial_attention = self.spatial_conv(pool_cat)\n",
    "\n",
    "        x = x * self.sigmoid(spatial_attention)\n",
    "\n",
    "        return x\n",
    "\n",
    "class CNNTSAMBlock(nn.Module):\n",
    "    def __init__(self, in_channels, out_channels, T):\n",
    "        super().__init__()\n",
    "        self.conv = nn.Conv2d(in_channels, out_channels, kernel_size=3, padding=1)\n",
    "        self.bn = nn.BatchNorm2d(out_channels)\n",
    "        self.tsam = TSAM(T)\n",
    "\n",
    "    def forward(self, x):\n",
    "        x = F.relu(self.bn(self.conv(x)))\n",
    "        return self.tsam(x)\n",
    "\n",
    "class ResNetTSAMBlock(nn.Module):\n",
    "    def __init__(self, in_channels, out_channels, T):\n",
    "        super().__init__()\n",
    "        self.conv1 = nn.Conv2d(in_channels, out_channels, kernel_size=3, padding=1)\n",
    "        self.bn1 = nn.BatchNorm2d(out_channels)\n",
    "        self.conv2 = nn.Conv2d(out_channels, out_channels, kernel_size=3, padding=1)\n",
    "        self.bn2 = nn.BatchNorm2d(out_channels)\n",
    "        self.tsam = TSAM(T)\n",
    "        self.need_proj = in_channels != out_channels\n",
    "        if self.need_proj:\n",
    "            self.proj = nn.Conv2d(in_channels, out_channels, kernel_size=1)\n",
    "\n",
    "    def forward(self, x):\n",
    "        identity = x\n",
    "        out = F.relu(self.bn1(self.conv1(x)))\n",
    "        out = self.bn2(self.conv2(out))\n",
    "        out = self.tsam(out)\n",
    "        if self.need_proj:\n",
    "            identity = self.proj(identity)\n",
    "        return F.relu(out + identity)\n",
    "\n",
    "class SICNet(nn.Module):\n",
    "    def __init__(self, T, T_pred, clip_near_zero_values=True, epsilon=0.01):\n",
    "        super().__init__()\n",
    "        base = 16\n",
    "        self.T, self.T_pred = T, T_pred\n",
    "        self.clip_near_zero_values = clip_near_zero_values\n",
    "        self.epsilon = epsilon\n",
    "\n",
    "        self.enc1 = CNNTSAMBlock(T, base*2, T)\n",
    "        self.pool1 = nn.MaxPool2d(2)\n",
    "        self.enc2 = nn.Sequential(\n",
    "            ResNetTSAMBlock(base*2, base*4, T), ResNetTSAMBlock(base*4, base*4, T))\n",
    "\n",
    "        self.pool2 = nn.MaxPool2d(2)\n",
    "        self.enc3 = nn.Sequential(\n",
    "            ResNetTSAMBlock(base*4, base*6, T), ResNetTSAMBlock(base*6, base*6, T))\n",
    "\n",
    "        self.pool3 = nn.MaxPool2d(2)\n",
    "        self.enc4 = nn.Sequential(\n",
    "            ResNetTSAMBlock(base*6, base*8, T), ResNetTSAMBlock(base*8, base*8, T))\n",
    "\n",
    "        self.pool4 = nn.MaxPool2d(2)\n",
    "        self.enc5 = nn.Sequential(\n",
    "            ResNetTSAMBlock(base*8, base*10, T), ResNetTSAMBlock(base*10, base*10, T))\n",
    "\n",
    "        self.up4 = nn.Upsample(scale_factor=2, mode='nearest')\n",
    "        self.dec4 = ResNetTSAMBlock(base*10 + base*8, base*8, T)\n",
    "        self.up3 = nn.Upsample(scale_factor=2, mode='nearest')\n",
    "        self.dec3 = ResNetTSAMBlock(base*8 + base*6, base*6, T)\n",
    "        self.up2 = nn.Upsample(scale_factor=2, mode='nearest')\n",
    "        self.dec2 = ResNetTSAMBlock(base*6 + base*4, base*4, T)\n",
    "        self.up1 = nn.Upsample(scale_factor=2, mode='nearest')\n",
    "        self.dec1 = ResNetTSAMBlock(base*4 + base*2, base*2, T)\n",
    "\n",
    "        self.out_conv = nn.Conv2d(base*2, T_pred, kernel_size=1)\n",
    "\n",
    "        land_mask = self.create_inverted_land_mask()\n",
    "        self.register_buffer(\"land_mask\", land_mask)\n",
    "\n",
    "    def create_inverted_land_mask(self):\n",
    "        try: \n",
    "            ds = xr.open_dataset(os.path.join(config_cesm.DATA_DIRECTORY, \"cesm_lens/grids/icefrac_land_mask.nc\"))\n",
    "        except:\n",
    "            raise Exception(\"Uh oh, seems like you still need to run the preprocess script to generate \\\n",
    "                an icefrac land mask. See src/util_cesm for the function\")\n",
    "\n",
    "        mask = ~ds.mask.values.astype(bool)  # invert land mask\n",
    "        return torch.from_numpy(mask).float().unsqueeze(0).repeat(self.T_pred, 1, 1)\n",
    "\n",
    "    def forward(self, x):  # x: (N, T, H, W)\n",
    "        e1 = self.enc1(x)\n",
    "        p1 = self.pool1(e1)\n",
    "        e2 = self.enc2(p1)\n",
    "        p2 = self.pool2(e2)\n",
    "        e3 = self.enc3(p2)\n",
    "        p3 = self.pool3(e3)\n",
    "        e4 = self.enc4(p3)\n",
    "        p4 = self.pool4(e4)\n",
    "        e5 = self.enc5(p4)\n",
    "\n",
    "        d4 = self.up4(e5)\n",
    "        d4 = self.dec4(torch.cat([d4, e4], dim=1))\n",
    "        d3 = self.up3(d4)\n",
    "        d3 = self.dec3(torch.cat([d3, e3], dim=1))\n",
    "        d2 = self.up2(d3)\n",
    "        d2 = self.dec2(torch.cat([d2, e2], dim=1))\n",
    "        d1 = self.up1(d2)\n",
    "        d1 = self.dec1(torch.cat([d1, e1], dim=1))\n",
    "\n",
    "        out = torch.tanh(self.out_conv(d1))  # (N, T_pred, H, W)\n",
    "\n",
    "        if self.clip_near_zero_values:\n",
    "            out = out.where(out.abs() > self.epsilon, 0)\n",
    "\n",
    "        out = out * self.land_mask.unsqueeze(0)  # (1, T_pred, H, W)\n",
    "        return out\n",
    "\n",
    "model = SICNet(T=12, T_pred=6)\n",
    "print(sum(p.numel() for p in model.parameters() if p.requires_grad))\n"
   ]
  },
  {
   "cell_type": "code",
   "execution_count": 21,
   "metadata": {},
   "outputs": [
    {
     "data": {
      "text/plain": [
       "torch.Size([2, 6, 80, 80])"
      ]
     },
     "execution_count": 21,
     "metadata": {},
     "output_type": "execute_result"
    }
   ],
   "source": [
    "x = torch.randn(2, 12, 80, 80)  # (N, T, H, W)\n",
    "model(x).shape"
   ]
  },
  {
   "cell_type": "code",
   "execution_count": 26,
   "metadata": {},
   "outputs": [
    {
     "name": "stdout",
     "output_type": "stream",
     "text": [
      "Create sweep with ID: 70ww3ii3\n",
      "Sweep URL: https://wandb.ai/ychnli-stanford-university/sea-ice-prediction/sweeps/70ww3ii3\n"
     ]
    },
    {
     "name": "stderr",
     "output_type": "stream",
     "text": [
      "\u001b[34m\u001b[1mwandb\u001b[0m: Agent Starting Run: nalqert0 with config:\n",
      "\u001b[34m\u001b[1mwandb\u001b[0m: \tbatch_size: 20\n",
      "\u001b[34m\u001b[1mwandb\u001b[0m: \tloss_function_args: 0\n",
      "\u001b[34m\u001b[1mwandb\u001b[0m: \tlr: 0.0017262115514815443\n",
      "\u001b[34m\u001b[1mwandb\u001b[0m: \tnum_epochs: 100\n",
      "\u001b[34m\u001b[1mwandb\u001b[0m: \tweight_decay: 7.876043007272442e-05\n"
     ]
    },
    {
     "data": {
      "text/html": [
       "Tracking run with wandb version 0.19.0"
      ],
      "text/plain": [
       "<IPython.core.display.HTML object>"
      ]
     },
     "metadata": {},
     "output_type": "display_data"
    },
    {
     "data": {
      "text/html": [
       "Run data is saved locally in <code>/home/users/yucli/sicpred/wandb/run-20250531_230933-nalqert0</code>"
      ],
      "text/plain": [
       "<IPython.core.display.HTML object>"
      ]
     },
     "metadata": {},
     "output_type": "display_data"
    },
    {
     "data": {
      "text/html": [
       "Syncing run <strong><a href='https://wandb.ai/ychnli-stanford-university/sea-ice-prediction/runs/nalqert0' target=\"_blank\">light-sweep-1</a></strong> to <a href='https://wandb.ai/ychnli-stanford-university/sea-ice-prediction' target=\"_blank\">Weights & Biases</a> (<a href='https://wandb.me/developer-guide' target=\"_blank\">docs</a>)<br/>Sweep page: <a href='https://wandb.ai/ychnli-stanford-university/sea-ice-prediction/sweeps/70ww3ii3' target=\"_blank\">https://wandb.ai/ychnli-stanford-university/sea-ice-prediction/sweeps/70ww3ii3</a>"
      ],
      "text/plain": [
       "<IPython.core.display.HTML object>"
      ]
     },
     "metadata": {},
     "output_type": "display_data"
    },
    {
     "data": {
      "text/html": [
       " View project at <a href='https://wandb.ai/ychnli-stanford-university/sea-ice-prediction' target=\"_blank\">https://wandb.ai/ychnli-stanford-university/sea-ice-prediction</a>"
      ],
      "text/plain": [
       "<IPython.core.display.HTML object>"
      ]
     },
     "metadata": {},
     "output_type": "display_data"
    },
    {
     "data": {
      "text/html": [
       " View sweep at <a href='https://wandb.ai/ychnli-stanford-university/sea-ice-prediction/sweeps/70ww3ii3' target=\"_blank\">https://wandb.ai/ychnli-stanford-university/sea-ice-prediction/sweeps/70ww3ii3</a>"
      ],
      "text/plain": [
       "<IPython.core.display.HTML object>"
      ]
     },
     "metadata": {},
     "output_type": "display_data"
    },
    {
     "data": {
      "text/html": [
       " View run at <a href='https://wandb.ai/ychnli-stanford-university/sea-ice-prediction/runs/nalqert0' target=\"_blank\">https://wandb.ai/ychnli-stanford-university/sea-ice-prediction/runs/nalqert0</a>"
      ],
      "text/plain": [
       "<IPython.core.display.HTML object>"
      ]
     },
     "metadata": {},
     "output_type": "display_data"
    },
    {
     "name": "stderr",
     "output_type": "stream",
     "text": [
      "/home/groups/earlew/yuchen/miniconda3/envs/sicpred_env_conda/lib/python3.12/site-packages/torch/nn/utils/weight_norm.py:143: FutureWarning: `torch.nn.utils.weight_norm` is deprecated in favor of `torch.nn.utils.parametrizations.weight_norm`.\n",
      "  WeightNorm.apply(module, name, dim)\n",
      "Epoch 0/100 [Train]: 100%|██████████| 19/19 [00:05<00:00,  3.77it/s, Batch Loss=0.00479]\n",
      "Epoch 0/100 [Val]: 100%|██████████| 3/3 [00:00<00:00,  7.93it/s, Batch RMSE=0.091] \n",
      "Epoch 1/100 [Train]: 100%|██████████| 19/19 [00:04<00:00,  4.17it/s, Batch Loss=0.00511]\n",
      "Epoch 1/100 [Val]: 100%|██████████| 3/3 [00:00<00:00,  9.16it/s, Batch RMSE=0.0886]\n",
      "Epoch 2/100 [Train]: 100%|██████████| 19/19 [00:04<00:00,  4.19it/s, Batch Loss=0.00468]\n",
      "Epoch 2/100 [Val]: 100%|██████████| 3/3 [00:00<00:00,  9.85it/s, Batch RMSE=0.0868]\n",
      "Epoch 3/100 [Train]: 100%|██████████| 19/19 [00:04<00:00,  4.21it/s, Batch Loss=0.0048] \n",
      "Epoch 3/100 [Val]: 100%|██████████| 3/3 [00:00<00:00,  9.46it/s, Batch RMSE=0.0841]\n",
      "Epoch 4/100 [Train]: 100%|██████████| 19/19 [00:04<00:00,  4.22it/s, Batch Loss=0.00476]\n",
      "Epoch 4/100 [Val]: 100%|██████████| 3/3 [00:00<00:00,  9.63it/s, Batch RMSE=0.0859]\n",
      "Epoch 5/100 [Train]: 100%|██████████| 19/19 [00:04<00:00,  4.21it/s, Batch Loss=0.00454]\n",
      "Epoch 5/100 [Val]: 100%|██████████| 3/3 [00:00<00:00,  9.88it/s, Batch RMSE=0.0819]\n",
      "Epoch 6/100 [Train]: 100%|██████████| 19/19 [00:04<00:00,  4.20it/s, Batch Loss=0.00435]\n",
      "Epoch 6/100 [Val]: 100%|██████████| 3/3 [00:00<00:00,  9.70it/s, Batch RMSE=0.0808]\n",
      "Epoch 7/100 [Train]: 100%|██████████| 19/19 [00:04<00:00,  4.25it/s, Batch Loss=0.00469]\n",
      "Epoch 7/100 [Val]: 100%|██████████| 3/3 [00:00<00:00, 10.00it/s, Batch RMSE=0.0829]\n",
      "Epoch 8/100 [Train]: 100%|██████████| 19/19 [00:04<00:00,  4.21it/s, Batch Loss=0.00451]\n",
      "Epoch 8/100 [Val]: 100%|██████████| 3/3 [00:00<00:00,  9.86it/s, Batch RMSE=0.0821]\n",
      "Epoch 9/100 [Train]: 100%|██████████| 19/19 [00:04<00:00,  4.22it/s, Batch Loss=0.00469]\n",
      "Epoch 9/100 [Val]: 100%|██████████| 3/3 [00:00<00:00,  9.74it/s, Batch RMSE=0.0832]\n",
      "Epoch 10/100 [Train]: 100%|██████████| 19/19 [00:04<00:00,  3.87it/s, Batch Loss=0.00419]\n",
      "Epoch 10/100 [Val]: 100%|██████████| 3/3 [00:00<00:00,  9.96it/s, Batch RMSE=0.0834]\n",
      "Epoch 11/100 [Train]: 100%|██████████| 19/19 [00:04<00:00,  4.26it/s, Batch Loss=0.00423]\n",
      "Epoch 11/100 [Val]: 100%|██████████| 3/3 [00:00<00:00,  9.53it/s, Batch RMSE=0.0794]\n",
      "Epoch 12/100 [Train]: 100%|██████████| 19/19 [00:04<00:00,  4.21it/s, Batch Loss=0.00455]\n",
      "Epoch 12/100 [Val]: 100%|██████████| 3/3 [00:00<00:00,  9.63it/s, Batch RMSE=0.0816]\n",
      "Epoch 13/100 [Train]: 100%|██████████| 19/19 [00:04<00:00,  4.22it/s, Batch Loss=0.00456]\n",
      "Epoch 13/100 [Val]: 100%|██████████| 3/3 [00:00<00:00,  9.45it/s, Batch RMSE=0.081] \n",
      "Epoch 14/100 [Train]: 100%|██████████| 19/19 [00:04<00:00,  4.15it/s, Batch Loss=0.00459]\n",
      "Epoch 14/100 [Val]: 100%|██████████| 3/3 [00:00<00:00,  9.56it/s, Batch RMSE=0.0819]\n",
      "Epoch 15/100 [Train]: 100%|██████████| 19/19 [00:04<00:00,  4.16it/s, Batch Loss=0.00432]\n",
      "Epoch 15/100 [Val]: 100%|██████████| 3/3 [00:00<00:00,  9.20it/s, Batch RMSE=0.0831]\n",
      "Epoch 16/100 [Train]: 100%|██████████| 19/19 [00:04<00:00,  4.15it/s, Batch Loss=0.00438]\n",
      "Epoch 16/100 [Val]: 100%|██████████| 3/3 [00:00<00:00,  9.21it/s, Batch RMSE=0.0808]\n"
     ]
    },
    {
     "name": "stdout",
     "output_type": "stream",
     "text": [
      "Early stopping triggered at epoch 17\n"
     ]
    },
    {
     "data": {
      "text/html": [
       "\n",
       "    <style>\n",
       "        .wandb-row {\n",
       "            display: flex;\n",
       "            flex-direction: row;\n",
       "            flex-wrap: wrap;\n",
       "            justify-content: flex-start;\n",
       "            width: 100%;\n",
       "        }\n",
       "        .wandb-col {\n",
       "            display: flex;\n",
       "            flex-direction: column;\n",
       "            flex-basis: 100%;\n",
       "            flex: 1;\n",
       "            padding: 10px;\n",
       "        }\n",
       "    </style>\n",
       "<div class=\"wandb-row\"><div class=\"wandb-col\"><h3>Run history:</h3><br/><table class=\"wandb\"><tr><td>best_val_rmse</td><td>█▆▅▃▃▂▂▂▂▂▂▁▁▁▁▁</td></tr><tr><td>epoch</td><td>▁▁▂▂▃▃▄▄▅▅▅▆▆▇▇██</td></tr><tr><td>epoch_train_loss</td><td>█▂▂▂▁▁▁▁▁▁▁▁▁▁▁▁▁</td></tr><tr><td>epoch_val_loss</td><td>█▆▅▃▄▂▂▃▂▂▂▁▂▁▂▂▂</td></tr><tr><td>epoch_val_rmse</td><td>█▆▅▃▄▂▂▃▂▂▂▁▂▁▂▂▂</td></tr><tr><td>lr</td><td>█████▇▇▇▆▆▅▅▄▃▃▂▁</td></tr><tr><td>train_loss</td><td>█▄▃▄▃▄▄▂▅▅▄▄▂▃▆▃▃▃▂▄▃▂▃▁▄▄▂▂▂▅▅▂▁▃▂▂▃▄▂▄</td></tr><tr><td>val_loss</td><td>█▆█▇▅▆▄▅▅▃▅▄▅▃▂▂▂▃▃▅▃▅▃▃▄▅▂▁▅▃▄▂▂▅▃▄▃▃▅▂</td></tr><tr><td>val_rmse</td><td>██▇▅▇▅▅▅▃▄▄▅▅▃▂▃▂▅▃▃▃▃▅▃▃▃▃▅▂▁▂▅▂▂▅▃▄▃▃▂</td></tr></table><br/></div><div class=\"wandb-col\"><h3>Run summary:</h3><br/><table class=\"wandb\"><tr><td>best_val_rmse</td><td>0.08269</td></tr><tr><td>epoch</td><td>16</td></tr><tr><td>epoch_train_loss</td><td>0.00443</td></tr><tr><td>epoch_val_loss</td><td>0.00573</td></tr><tr><td>epoch_val_rmse</td><td>0.08325</td></tr><tr><td>lr</td><td>0.00162</td></tr><tr><td>train_loss</td><td>0.00438</td></tr><tr><td>val_loss</td><td>0.00544</td></tr><tr><td>val_rmse</td><td>0.08076</td></tr></table><br/></div></div>"
      ],
      "text/plain": [
       "<IPython.core.display.HTML object>"
      ]
     },
     "metadata": {},
     "output_type": "display_data"
    },
    {
     "data": {
      "text/html": [
       " View run <strong style=\"color:#cdcd00\">light-sweep-1</strong> at: <a href='https://wandb.ai/ychnli-stanford-university/sea-ice-prediction/runs/nalqert0' target=\"_blank\">https://wandb.ai/ychnli-stanford-university/sea-ice-prediction/runs/nalqert0</a><br/> View project at: <a href='https://wandb.ai/ychnli-stanford-university/sea-ice-prediction' target=\"_blank\">https://wandb.ai/ychnli-stanford-university/sea-ice-prediction</a><br/>Synced 4 W&B file(s), 0 media file(s), 0 artifact file(s) and 0 other file(s)"
      ],
      "text/plain": [
       "<IPython.core.display.HTML object>"
      ]
     },
     "metadata": {},
     "output_type": "display_data"
    },
    {
     "data": {
      "text/html": [
       "Find logs at: <code>./wandb/run-20250531_230933-nalqert0/logs</code>"
      ],
      "text/plain": [
       "<IPython.core.display.HTML object>"
      ]
     },
     "metadata": {},
     "output_type": "display_data"
    },
    {
     "name": "stderr",
     "output_type": "stream",
     "text": [
      "\u001b[34m\u001b[1mwandb\u001b[0m: Agent Starting Run: 9qph0pg6 with config:\n",
      "\u001b[34m\u001b[1mwandb\u001b[0m: \tbatch_size: 20\n",
      "\u001b[34m\u001b[1mwandb\u001b[0m: \tloss_function_args: 0\n",
      "\u001b[34m\u001b[1mwandb\u001b[0m: \tlr: 0.00029402149037361053\n",
      "\u001b[34m\u001b[1mwandb\u001b[0m: \tnum_epochs: 100\n",
      "\u001b[34m\u001b[1mwandb\u001b[0m: \tweight_decay: 8.150560597284258e-05\n"
     ]
    },
    {
     "data": {
      "text/html": [
       "Tracking run with wandb version 0.19.0"
      ],
      "text/plain": [
       "<IPython.core.display.HTML object>"
      ]
     },
     "metadata": {},
     "output_type": "display_data"
    },
    {
     "data": {
      "text/html": [
       "Run data is saved locally in <code>/home/users/yucli/sicpred/wandb/run-20250531_231110-9qph0pg6</code>"
      ],
      "text/plain": [
       "<IPython.core.display.HTML object>"
      ]
     },
     "metadata": {},
     "output_type": "display_data"
    },
    {
     "data": {
      "text/html": [
       "Syncing run <strong><a href='https://wandb.ai/ychnli-stanford-university/sea-ice-prediction/runs/9qph0pg6' target=\"_blank\">dazzling-sweep-2</a></strong> to <a href='https://wandb.ai/ychnli-stanford-university/sea-ice-prediction' target=\"_blank\">Weights & Biases</a> (<a href='https://wandb.me/developer-guide' target=\"_blank\">docs</a>)<br/>Sweep page: <a href='https://wandb.ai/ychnli-stanford-university/sea-ice-prediction/sweeps/70ww3ii3' target=\"_blank\">https://wandb.ai/ychnli-stanford-university/sea-ice-prediction/sweeps/70ww3ii3</a>"
      ],
      "text/plain": [
       "<IPython.core.display.HTML object>"
      ]
     },
     "metadata": {},
     "output_type": "display_data"
    },
    {
     "data": {
      "text/html": [
       " View project at <a href='https://wandb.ai/ychnli-stanford-university/sea-ice-prediction' target=\"_blank\">https://wandb.ai/ychnli-stanford-university/sea-ice-prediction</a>"
      ],
      "text/plain": [
       "<IPython.core.display.HTML object>"
      ]
     },
     "metadata": {},
     "output_type": "display_data"
    },
    {
     "data": {
      "text/html": [
       " View sweep at <a href='https://wandb.ai/ychnli-stanford-university/sea-ice-prediction/sweeps/70ww3ii3' target=\"_blank\">https://wandb.ai/ychnli-stanford-university/sea-ice-prediction/sweeps/70ww3ii3</a>"
      ],
      "text/plain": [
       "<IPython.core.display.HTML object>"
      ]
     },
     "metadata": {},
     "output_type": "display_data"
    },
    {
     "data": {
      "text/html": [
       " View run at <a href='https://wandb.ai/ychnli-stanford-university/sea-ice-prediction/runs/9qph0pg6' target=\"_blank\">https://wandb.ai/ychnli-stanford-university/sea-ice-prediction/runs/9qph0pg6</a>"
      ],
      "text/plain": [
       "<IPython.core.display.HTML object>"
      ]
     },
     "metadata": {},
     "output_type": "display_data"
    },
    {
     "name": "stderr",
     "output_type": "stream",
     "text": [
      "/home/groups/earlew/yuchen/miniconda3/envs/sicpred_env_conda/lib/python3.12/site-packages/torch/nn/utils/weight_norm.py:143: FutureWarning: `torch.nn.utils.weight_norm` is deprecated in favor of `torch.nn.utils.parametrizations.weight_norm`.\n",
      "  WeightNorm.apply(module, name, dim)\n",
      "Epoch 0/100 [Train]: 100%|██████████| 19/19 [00:04<00:00,  4.07it/s, Batch Loss=0.00615]\n",
      "Epoch 0/100 [Val]: 100%|██████████| 3/3 [00:00<00:00,  8.06it/s, Batch RMSE=0.101] \n",
      "Epoch 1/100 [Train]: 100%|██████████| 19/19 [00:04<00:00,  4.15it/s, Batch Loss=0.00492]\n",
      "Epoch 1/100 [Val]: 100%|██████████| 3/3 [00:00<00:00,  9.77it/s, Batch RMSE=0.0903]\n",
      "Epoch 2/100 [Train]: 100%|██████████| 19/19 [00:04<00:00,  4.14it/s, Batch Loss=0.00428]\n",
      "Epoch 2/100 [Val]: 100%|██████████| 3/3 [00:00<00:00,  9.59it/s, Batch RMSE=0.0889]\n",
      "Epoch 3/100 [Train]: 100%|██████████| 19/19 [00:04<00:00,  4.18it/s, Batch Loss=0.00483]\n",
      "Epoch 3/100 [Val]: 100%|██████████| 3/3 [00:00<00:00, 10.00it/s, Batch RMSE=0.0861]\n",
      "Epoch 4/100 [Train]: 100%|██████████| 19/19 [00:04<00:00,  4.28it/s, Batch Loss=0.00466]\n",
      "Epoch 4/100 [Val]: 100%|██████████| 3/3 [00:00<00:00, 10.03it/s, Batch RMSE=0.0856]\n",
      "Epoch 5/100 [Train]: 100%|██████████| 19/19 [00:04<00:00,  4.23it/s, Batch Loss=0.00443]\n",
      "Epoch 5/100 [Val]: 100%|██████████| 3/3 [00:00<00:00,  9.84it/s, Batch RMSE=0.0853]\n",
      "Epoch 6/100 [Train]: 100%|██████████| 19/19 [00:04<00:00,  4.16it/s, Batch Loss=0.00422]\n",
      "Epoch 6/100 [Val]: 100%|██████████| 3/3 [00:00<00:00,  9.65it/s, Batch RMSE=0.085] \n",
      "Epoch 7/100 [Train]: 100%|██████████| 19/19 [00:04<00:00,  4.17it/s, Batch Loss=0.00412]\n",
      "Epoch 7/100 [Val]: 100%|██████████| 3/3 [00:00<00:00,  9.78it/s, Batch RMSE=0.0833]\n",
      "Epoch 8/100 [Train]: 100%|██████████| 19/19 [00:04<00:00,  4.17it/s, Batch Loss=0.00428]\n",
      "Epoch 8/100 [Val]: 100%|██████████| 3/3 [00:00<00:00,  9.50it/s, Batch RMSE=0.0846]\n",
      "Epoch 9/100 [Train]: 100%|██████████| 19/19 [00:04<00:00,  4.19it/s, Batch Loss=0.0038] \n",
      "Epoch 9/100 [Val]: 100%|██████████| 3/3 [00:00<00:00,  9.74it/s, Batch RMSE=0.0853]\n",
      "Epoch 10/100 [Train]: 100%|██████████| 19/19 [00:04<00:00,  4.19it/s, Batch Loss=0.00383]\n",
      "Epoch 10/100 [Val]: 100%|██████████| 3/3 [00:00<00:00,  9.68it/s, Batch RMSE=0.0834]\n",
      "Epoch 11/100 [Train]: 100%|██████████| 19/19 [00:04<00:00,  4.09it/s, Batch Loss=0.00359]\n",
      "Epoch 11/100 [Val]: 100%|██████████| 3/3 [00:00<00:00,  9.44it/s, Batch RMSE=0.0814]\n",
      "Epoch 12/100 [Train]: 100%|██████████| 19/19 [00:04<00:00,  4.23it/s, Batch Loss=0.00346]\n",
      "Epoch 12/100 [Val]: 100%|██████████| 3/3 [00:00<00:00,  9.94it/s, Batch RMSE=0.0852]\n",
      "Epoch 13/100 [Train]: 100%|██████████| 19/19 [00:04<00:00,  4.20it/s, Batch Loss=0.00364]\n",
      "Epoch 13/100 [Val]: 100%|██████████| 3/3 [00:00<00:00,  9.86it/s, Batch RMSE=0.0818]\n",
      "Epoch 14/100 [Train]: 100%|██████████| 19/19 [00:04<00:00,  4.19it/s, Batch Loss=0.00347]\n",
      "Epoch 14/100 [Val]: 100%|██████████| 3/3 [00:00<00:00,  8.45it/s, Batch RMSE=0.0882]\n",
      "Epoch 15/100 [Train]: 100%|██████████| 19/19 [00:04<00:00,  4.17it/s, Batch Loss=0.00329]\n",
      "Epoch 15/100 [Val]: 100%|██████████| 3/3 [00:00<00:00,  9.78it/s, Batch RMSE=0.0824]\n",
      "Epoch 16/100 [Train]: 100%|██████████| 19/19 [00:04<00:00,  4.21it/s, Batch Loss=0.00324]\n",
      "Epoch 16/100 [Val]: 100%|██████████| 3/3 [00:00<00:00,  9.85it/s, Batch RMSE=0.0862]\n"
     ]
    },
    {
     "name": "stdout",
     "output_type": "stream",
     "text": [
      "Early stopping triggered at epoch 17\n"
     ]
    },
    {
     "data": {
      "text/html": [
       "\n",
       "    <style>\n",
       "        .wandb-row {\n",
       "            display: flex;\n",
       "            flex-direction: row;\n",
       "            flex-wrap: wrap;\n",
       "            justify-content: flex-start;\n",
       "            width: 100%;\n",
       "        }\n",
       "        .wandb-col {\n",
       "            display: flex;\n",
       "            flex-direction: column;\n",
       "            flex-basis: 100%;\n",
       "            flex: 1;\n",
       "            padding: 10px;\n",
       "        }\n",
       "    </style>\n",
       "<div class=\"wandb-row\"><div class=\"wandb-col\"><h3>Run history:</h3><br/><table class=\"wandb\"><tr><td>best_val_rmse</td><td>█▄▃▂▂▂▂▂▂▂▂▁▁▁▁▁</td></tr><tr><td>epoch</td><td>▁▁▂▂▃▃▄▄▅▅▅▆▆▇▇██</td></tr><tr><td>epoch_train_loss</td><td>█▃▃▂▂▂▂▂▂▂▂▁▁▁▁▁▁</td></tr><tr><td>epoch_val_loss</td><td>█▄▃▂▂▂▂▂▂▂▂▁▂▁▃▁▂</td></tr><tr><td>epoch_val_rmse</td><td>█▄▃▂▂▂▂▂▂▂▂▁▂▁▃▁▂</td></tr><tr><td>lr</td><td>█████▇▇▇▆▆▅▅▄▃▃▂▁</td></tr><tr><td>train_loss</td><td>█▄▅▄▄▄▃▃▃▃▃▃▃▃▃▃▃▃▃▂▂▃▂▂▂▂▂▂▂▂▂▂▂▂▂▂▂▂▁▁</td></tr><tr><td>val_loss</td><td>█▇▇▄▃▄▃▃▃▂▂▂▃▂▂▂▂▃▁▂▂▂▃▂▂▁▂▂▁▁▂▁▁▃▂▂▁▁▂▃</td></tr><tr><td>val_rmse</td><td>█▇▇▄▃▄▃▃▃▂▃▂▂▂▂▂▂▃▂▂▂▂▃▂▃▂▁▁▃▂▃▁▁▃▃▂▁▁▂▃</td></tr></table><br/></div><div class=\"wandb-col\"><h3>Run summary:</h3><br/><table class=\"wandb\"><tr><td>best_val_rmse</td><td>0.08308</td></tr><tr><td>epoch</td><td>16</td></tr><tr><td>epoch_train_loss</td><td>0.00324</td></tr><tr><td>epoch_val_loss</td><td>0.00603</td></tr><tr><td>epoch_val_rmse</td><td>0.08504</td></tr><tr><td>lr</td><td>0.00028</td></tr><tr><td>train_loss</td><td>0.00324</td></tr><tr><td>val_loss</td><td>0.0062</td></tr><tr><td>val_rmse</td><td>0.08621</td></tr></table><br/></div></div>"
      ],
      "text/plain": [
       "<IPython.core.display.HTML object>"
      ]
     },
     "metadata": {},
     "output_type": "display_data"
    },
    {
     "data": {
      "text/html": [
       " View run <strong style=\"color:#cdcd00\">dazzling-sweep-2</strong> at: <a href='https://wandb.ai/ychnli-stanford-university/sea-ice-prediction/runs/9qph0pg6' target=\"_blank\">https://wandb.ai/ychnli-stanford-university/sea-ice-prediction/runs/9qph0pg6</a><br/> View project at: <a href='https://wandb.ai/ychnli-stanford-university/sea-ice-prediction' target=\"_blank\">https://wandb.ai/ychnli-stanford-university/sea-ice-prediction</a><br/>Synced 4 W&B file(s), 0 media file(s), 0 artifact file(s) and 0 other file(s)"
      ],
      "text/plain": [
       "<IPython.core.display.HTML object>"
      ]
     },
     "metadata": {},
     "output_type": "display_data"
    },
    {
     "data": {
      "text/html": [
       "Find logs at: <code>./wandb/run-20250531_231110-9qph0pg6/logs</code>"
      ],
      "text/plain": [
       "<IPython.core.display.HTML object>"
      ]
     },
     "metadata": {},
     "output_type": "display_data"
    },
    {
     "name": "stderr",
     "output_type": "stream",
     "text": [
      "\u001b[34m\u001b[1mwandb\u001b[0m: Agent Starting Run: bu8v48or with config:\n",
      "\u001b[34m\u001b[1mwandb\u001b[0m: \tbatch_size: 50\n",
      "\u001b[34m\u001b[1mwandb\u001b[0m: \tloss_function_args: 0\n",
      "\u001b[34m\u001b[1mwandb\u001b[0m: \tlr: 0.0007766900308027665\n",
      "\u001b[34m\u001b[1mwandb\u001b[0m: \tnum_epochs: 100\n",
      "\u001b[34m\u001b[1mwandb\u001b[0m: \tweight_decay: 7.038477853207419e-05\n"
     ]
    },
    {
     "data": {
      "text/html": [
       "Tracking run with wandb version 0.19.0"
      ],
      "text/plain": [
       "<IPython.core.display.HTML object>"
      ]
     },
     "metadata": {},
     "output_type": "display_data"
    },
    {
     "data": {
      "text/html": [
       "Run data is saved locally in <code>/home/users/yucli/sicpred/wandb/run-20250531_231241-bu8v48or</code>"
      ],
      "text/plain": [
       "<IPython.core.display.HTML object>"
      ]
     },
     "metadata": {},
     "output_type": "display_data"
    },
    {
     "data": {
      "text/html": [
       "Syncing run <strong><a href='https://wandb.ai/ychnli-stanford-university/sea-ice-prediction/runs/bu8v48or' target=\"_blank\">colorful-sweep-3</a></strong> to <a href='https://wandb.ai/ychnli-stanford-university/sea-ice-prediction' target=\"_blank\">Weights & Biases</a> (<a href='https://wandb.me/developer-guide' target=\"_blank\">docs</a>)<br/>Sweep page: <a href='https://wandb.ai/ychnli-stanford-university/sea-ice-prediction/sweeps/70ww3ii3' target=\"_blank\">https://wandb.ai/ychnli-stanford-university/sea-ice-prediction/sweeps/70ww3ii3</a>"
      ],
      "text/plain": [
       "<IPython.core.display.HTML object>"
      ]
     },
     "metadata": {},
     "output_type": "display_data"
    },
    {
     "data": {
      "text/html": [
       " View project at <a href='https://wandb.ai/ychnli-stanford-university/sea-ice-prediction' target=\"_blank\">https://wandb.ai/ychnli-stanford-university/sea-ice-prediction</a>"
      ],
      "text/plain": [
       "<IPython.core.display.HTML object>"
      ]
     },
     "metadata": {},
     "output_type": "display_data"
    },
    {
     "data": {
      "text/html": [
       " View sweep at <a href='https://wandb.ai/ychnli-stanford-university/sea-ice-prediction/sweeps/70ww3ii3' target=\"_blank\">https://wandb.ai/ychnli-stanford-university/sea-ice-prediction/sweeps/70ww3ii3</a>"
      ],
      "text/plain": [
       "<IPython.core.display.HTML object>"
      ]
     },
     "metadata": {},
     "output_type": "display_data"
    },
    {
     "data": {
      "text/html": [
       " View run at <a href='https://wandb.ai/ychnli-stanford-university/sea-ice-prediction/runs/bu8v48or' target=\"_blank\">https://wandb.ai/ychnli-stanford-university/sea-ice-prediction/runs/bu8v48or</a>"
      ],
      "text/plain": [
       "<IPython.core.display.HTML object>"
      ]
     },
     "metadata": {},
     "output_type": "display_data"
    },
    {
     "name": "stderr",
     "output_type": "stream",
     "text": [
      "/home/groups/earlew/yuchen/miniconda3/envs/sicpred_env_conda/lib/python3.12/site-packages/torch/nn/utils/weight_norm.py:143: FutureWarning: `torch.nn.utils.weight_norm` is deprecated in favor of `torch.nn.utils.parametrizations.weight_norm`.\n",
      "  WeightNorm.apply(module, name, dim)\n",
      "Epoch 0/100 [Train]: 100%|██████████| 8/8 [00:02<00:00,  3.23it/s, Batch Loss=0.00598]\n",
      "Epoch 0/100 [Val]: 100%|██████████| 2/2 [00:00<00:00,  4.46it/s, Batch RMSE=0.116]\n",
      "Epoch 1/100 [Train]: 100%|██████████| 8/8 [00:02<00:00,  3.36it/s, Batch Loss=0.00581]\n",
      "Epoch 1/100 [Val]: 100%|██████████| 2/2 [00:00<00:00,  8.28it/s, Batch RMSE=0.0992]\n",
      "Epoch 2/100 [Train]: 100%|██████████| 8/8 [00:02<00:00,  3.43it/s, Batch Loss=0.00509]\n",
      "Epoch 2/100 [Val]: 100%|██████████| 2/2 [00:00<00:00,  8.11it/s, Batch RMSE=0.0956]\n",
      "Epoch 3/100 [Train]: 100%|██████████| 8/8 [00:02<00:00,  3.47it/s, Batch Loss=0.00507]\n",
      "Epoch 3/100 [Val]: 100%|██████████| 2/2 [00:00<00:00,  8.59it/s, Batch RMSE=0.094] \n",
      "Epoch 4/100 [Train]: 100%|██████████| 8/8 [00:02<00:00,  3.45it/s, Batch Loss=0.00475]\n",
      "Epoch 4/100 [Val]: 100%|██████████| 2/2 [00:00<00:00,  8.21it/s, Batch RMSE=0.0928]\n",
      "Epoch 5/100 [Train]: 100%|██████████| 8/8 [00:02<00:00,  3.45it/s, Batch Loss=0.00466]\n",
      "Epoch 5/100 [Val]: 100%|██████████| 2/2 [00:00<00:00,  8.40it/s, Batch RMSE=0.0919]\n",
      "Epoch 6/100 [Train]: 100%|██████████| 8/8 [00:02<00:00,  3.46it/s, Batch Loss=0.00482]\n",
      "Epoch 6/100 [Val]: 100%|██████████| 2/2 [00:00<00:00,  8.48it/s, Batch RMSE=0.0919]\n",
      "Epoch 7/100 [Train]: 100%|██████████| 8/8 [00:02<00:00,  3.50it/s, Batch Loss=0.00475]\n",
      "Epoch 7/100 [Val]: 100%|██████████| 2/2 [00:00<00:00,  8.04it/s, Batch RMSE=0.0937]\n",
      "Epoch 8/100 [Train]: 100%|██████████| 8/8 [00:02<00:00,  3.45it/s, Batch Loss=0.00456]\n",
      "Epoch 8/100 [Val]: 100%|██████████| 2/2 [00:00<00:00,  8.55it/s, Batch RMSE=0.092] \n",
      "Epoch 9/100 [Train]: 100%|██████████| 8/8 [00:02<00:00,  3.47it/s, Batch Loss=0.00444]\n",
      "Epoch 9/100 [Val]: 100%|██████████| 2/2 [00:00<00:00,  8.30it/s, Batch RMSE=0.0918]\n",
      "Epoch 10/100 [Train]: 100%|██████████| 8/8 [00:02<00:00,  3.45it/s, Batch Loss=0.00467]\n",
      "Epoch 10/100 [Val]: 100%|██████████| 2/2 [00:00<00:00,  8.12it/s, Batch RMSE=0.0887]\n",
      "Epoch 11/100 [Train]: 100%|██████████| 8/8 [00:02<00:00,  3.47it/s, Batch Loss=0.00412]\n",
      "Epoch 11/100 [Val]: 100%|██████████| 2/2 [00:00<00:00,  8.30it/s, Batch RMSE=0.0892]\n",
      "Epoch 12/100 [Train]: 100%|██████████| 8/8 [00:02<00:00,  3.49it/s, Batch Loss=0.00421]\n",
      "Epoch 12/100 [Val]: 100%|██████████| 2/2 [00:00<00:00,  8.36it/s, Batch RMSE=0.0932]\n",
      "Epoch 13/100 [Train]: 100%|██████████| 8/8 [00:02<00:00,  3.48it/s, Batch Loss=0.00391]\n",
      "Epoch 13/100 [Val]: 100%|██████████| 2/2 [00:00<00:00,  8.16it/s, Batch RMSE=0.096]\n",
      "Epoch 14/100 [Train]: 100%|██████████| 8/8 [00:02<00:00,  3.47it/s, Batch Loss=0.00404]\n",
      "Epoch 14/100 [Val]: 100%|██████████| 2/2 [00:00<00:00,  8.63it/s, Batch RMSE=0.0854]\n",
      "Epoch 15/100 [Train]: 100%|██████████| 8/8 [00:02<00:00,  3.45it/s, Batch Loss=0.00421]\n",
      "Epoch 15/100 [Val]: 100%|██████████| 2/2 [00:00<00:00,  8.04it/s, Batch RMSE=0.0942]\n",
      "Epoch 16/100 [Train]: 100%|██████████| 8/8 [00:02<00:00,  3.39it/s, Batch Loss=0.00384]\n",
      "Epoch 16/100 [Val]: 100%|██████████| 2/2 [00:00<00:00,  8.33it/s, Batch RMSE=0.0915]\n",
      "Epoch 17/100 [Train]: 100%|██████████| 8/8 [00:02<00:00,  3.49it/s, Batch Loss=0.00414]\n",
      "Epoch 17/100 [Val]: 100%|██████████| 2/2 [00:00<00:00,  8.57it/s, Batch RMSE=0.102]\n",
      "Epoch 18/100 [Train]: 100%|██████████| 8/8 [00:02<00:00,  2.96it/s, Batch Loss=0.0039] \n",
      "Epoch 18/100 [Val]: 100%|██████████| 2/2 [00:00<00:00,  8.37it/s, Batch RMSE=0.0885]\n",
      "Epoch 19/100 [Train]: 100%|██████████| 8/8 [00:02<00:00,  3.47it/s, Batch Loss=0.00411]\n",
      "Epoch 19/100 [Val]: 100%|██████████| 2/2 [00:00<00:00,  8.54it/s, Batch RMSE=0.0918]\n"
     ]
    },
    {
     "name": "stdout",
     "output_type": "stream",
     "text": [
      "Early stopping triggered at epoch 20\n"
     ]
    },
    {
     "data": {
      "text/html": [
       "\n",
       "    <style>\n",
       "        .wandb-row {\n",
       "            display: flex;\n",
       "            flex-direction: row;\n",
       "            flex-wrap: wrap;\n",
       "            justify-content: flex-start;\n",
       "            width: 100%;\n",
       "        }\n",
       "        .wandb-col {\n",
       "            display: flex;\n",
       "            flex-direction: column;\n",
       "            flex-basis: 100%;\n",
       "            flex: 1;\n",
       "            padding: 10px;\n",
       "        }\n",
       "    </style>\n",
       "<div class=\"wandb-row\"><div class=\"wandb-col\"><h3>Run history:</h3><br/><table class=\"wandb\"><tr><td>best_val_rmse</td><td>█▄▃▂▂▂▂▂▂▂▁▁▁▁▁▁▁▁▁</td></tr><tr><td>epoch</td><td>▁▁▂▂▂▃▃▄▄▄▅▅▅▆▆▇▇▇██</td></tr><tr><td>epoch_train_loss</td><td>█▂▂▂▂▂▂▂▂▁▁▁▁▁▁▁▁▁▁▁</td></tr><tr><td>epoch_val_loss</td><td>█▄▃▃▂▂▂▂▂▂▂▂▂▃▁▃▂▄▁▂</td></tr><tr><td>epoch_val_rmse</td><td>█▄▃▂▂▂▂▂▂▂▁▁▂▂▁▂▂▄▁▂</td></tr><tr><td>lr</td><td>██████▇▇▇▆▆▆▅▅▄▄▃▂▂▁</td></tr><tr><td>train_loss</td><td>█▄▂▂▂▁▁▁▂▁▁▁▁▁▁▁▁▁▁▁▁▁▁▁▁▁▁▁▁▁▁▁▁▁▁▁▁▁▁▁</td></tr><tr><td>val_loss</td><td>▇█▃▄▂▃▂▃▂▃▂▃▂▃▂▃▂▃▂▃▁▂▁▂▂▃▂▄▁▁▂▃▂▂▃▅▁▂▂▃</td></tr><tr><td>val_rmse</td><td>▇█▃▄▃▃▂▃▂▃▂▃▂▃▂▃▂▃▂▂▁▂▁▂▂▃▂▃▁▁▂▃▂▂▃▅▁▂▂▂</td></tr></table><br/></div><div class=\"wandb-col\"><h3>Run summary:</h3><br/><table class=\"wandb\"><tr><td>best_val_rmse</td><td>0.086</td></tr><tr><td>epoch</td><td>19</td></tr><tr><td>epoch_train_loss</td><td>0.00392</td></tr><tr><td>epoch_val_loss</td><td>0.00694</td></tr><tr><td>epoch_val_rmse</td><td>0.09004</td></tr><tr><td>lr</td><td>0.00071</td></tr><tr><td>train_loss</td><td>0.00411</td></tr><tr><td>val_loss</td><td>0.00717</td></tr><tr><td>val_rmse</td><td>0.0918</td></tr></table><br/></div></div>"
      ],
      "text/plain": [
       "<IPython.core.display.HTML object>"
      ]
     },
     "metadata": {},
     "output_type": "display_data"
    },
    {
     "data": {
      "text/html": [
       " View run <strong style=\"color:#cdcd00\">colorful-sweep-3</strong> at: <a href='https://wandb.ai/ychnli-stanford-university/sea-ice-prediction/runs/bu8v48or' target=\"_blank\">https://wandb.ai/ychnli-stanford-university/sea-ice-prediction/runs/bu8v48or</a><br/> View project at: <a href='https://wandb.ai/ychnli-stanford-university/sea-ice-prediction' target=\"_blank\">https://wandb.ai/ychnli-stanford-university/sea-ice-prediction</a><br/>Synced 4 W&B file(s), 0 media file(s), 0 artifact file(s) and 0 other file(s)"
      ],
      "text/plain": [
       "<IPython.core.display.HTML object>"
      ]
     },
     "metadata": {},
     "output_type": "display_data"
    },
    {
     "data": {
      "text/html": [
       "Find logs at: <code>./wandb/run-20250531_231241-bu8v48or/logs</code>"
      ],
      "text/plain": [
       "<IPython.core.display.HTML object>"
      ]
     },
     "metadata": {},
     "output_type": "display_data"
    },
    {
     "name": "stderr",
     "output_type": "stream",
     "text": [
      "\u001b[34m\u001b[1mwandb\u001b[0m: Agent Starting Run: a0oxhfgq with config:\n",
      "\u001b[34m\u001b[1mwandb\u001b[0m: \tbatch_size: 20\n",
      "\u001b[34m\u001b[1mwandb\u001b[0m: \tloss_function_args: 0\n",
      "\u001b[34m\u001b[1mwandb\u001b[0m: \tlr: 0.0011924655750015468\n",
      "\u001b[34m\u001b[1mwandb\u001b[0m: \tnum_epochs: 100\n",
      "\u001b[34m\u001b[1mwandb\u001b[0m: \tweight_decay: 1.7131369716901902e-05\n"
     ]
    },
    {
     "data": {
      "text/html": [
       "Tracking run with wandb version 0.19.0"
      ],
      "text/plain": [
       "<IPython.core.display.HTML object>"
      ]
     },
     "metadata": {},
     "output_type": "display_data"
    },
    {
     "data": {
      "text/html": [
       "Run data is saved locally in <code>/home/users/yucli/sicpred/wandb/run-20250531_231342-a0oxhfgq</code>"
      ],
      "text/plain": [
       "<IPython.core.display.HTML object>"
      ]
     },
     "metadata": {},
     "output_type": "display_data"
    },
    {
     "data": {
      "text/html": [
       "Syncing run <strong><a href='https://wandb.ai/ychnli-stanford-university/sea-ice-prediction/runs/a0oxhfgq' target=\"_blank\">avid-sweep-4</a></strong> to <a href='https://wandb.ai/ychnli-stanford-university/sea-ice-prediction' target=\"_blank\">Weights & Biases</a> (<a href='https://wandb.me/developer-guide' target=\"_blank\">docs</a>)<br/>Sweep page: <a href='https://wandb.ai/ychnli-stanford-university/sea-ice-prediction/sweeps/70ww3ii3' target=\"_blank\">https://wandb.ai/ychnli-stanford-university/sea-ice-prediction/sweeps/70ww3ii3</a>"
      ],
      "text/plain": [
       "<IPython.core.display.HTML object>"
      ]
     },
     "metadata": {},
     "output_type": "display_data"
    },
    {
     "data": {
      "text/html": [
       " View project at <a href='https://wandb.ai/ychnli-stanford-university/sea-ice-prediction' target=\"_blank\">https://wandb.ai/ychnli-stanford-university/sea-ice-prediction</a>"
      ],
      "text/plain": [
       "<IPython.core.display.HTML object>"
      ]
     },
     "metadata": {},
     "output_type": "display_data"
    },
    {
     "data": {
      "text/html": [
       " View sweep at <a href='https://wandb.ai/ychnli-stanford-university/sea-ice-prediction/sweeps/70ww3ii3' target=\"_blank\">https://wandb.ai/ychnli-stanford-university/sea-ice-prediction/sweeps/70ww3ii3</a>"
      ],
      "text/plain": [
       "<IPython.core.display.HTML object>"
      ]
     },
     "metadata": {},
     "output_type": "display_data"
    },
    {
     "data": {
      "text/html": [
       " View run at <a href='https://wandb.ai/ychnli-stanford-university/sea-ice-prediction/runs/a0oxhfgq' target=\"_blank\">https://wandb.ai/ychnli-stanford-university/sea-ice-prediction/runs/a0oxhfgq</a>"
      ],
      "text/plain": [
       "<IPython.core.display.HTML object>"
      ]
     },
     "metadata": {},
     "output_type": "display_data"
    },
    {
     "name": "stderr",
     "output_type": "stream",
     "text": [
      "/home/groups/earlew/yuchen/miniconda3/envs/sicpred_env_conda/lib/python3.12/site-packages/torch/nn/utils/weight_norm.py:143: FutureWarning: `torch.nn.utils.weight_norm` is deprecated in favor of `torch.nn.utils.parametrizations.weight_norm`.\n",
      "  WeightNorm.apply(module, name, dim)\n",
      "Epoch 0/100 [Train]: 100%|██████████| 19/19 [00:04<00:00,  3.88it/s, Batch Loss=0.00504]\n",
      "Epoch 0/100 [Val]: 100%|██████████| 3/3 [00:00<00:00,  8.09it/s, Batch RMSE=0.09]  \n",
      "Epoch 1/100 [Train]: 100%|██████████| 19/19 [00:04<00:00,  4.18it/s, Batch Loss=0.00466]\n",
      "Epoch 1/100 [Val]: 100%|██████████| 3/3 [00:00<00:00,  9.70it/s, Batch RMSE=0.0886]\n",
      "Epoch 2/100 [Train]: 100%|██████████| 19/19 [00:04<00:00,  4.20it/s, Batch Loss=0.00451]\n",
      "Epoch 2/100 [Val]: 100%|██████████| 3/3 [00:00<00:00,  9.67it/s, Batch RMSE=0.0859]\n",
      "Epoch 3/100 [Train]: 100%|██████████| 19/19 [00:04<00:00,  3.83it/s, Batch Loss=0.00483]\n",
      "Epoch 3/100 [Val]: 100%|██████████| 3/3 [00:00<00:00,  9.81it/s, Batch RMSE=0.085] \n",
      "Epoch 4/100 [Train]: 100%|██████████| 19/19 [00:04<00:00,  4.20it/s, Batch Loss=0.0044] \n",
      "Epoch 4/100 [Val]: 100%|██████████| 3/3 [00:00<00:00,  9.74it/s, Batch RMSE=0.0848]\n",
      "Epoch 5/100 [Train]: 100%|██████████| 19/19 [00:04<00:00,  4.20it/s, Batch Loss=0.00449]\n",
      "Epoch 5/100 [Val]: 100%|██████████| 3/3 [00:00<00:00,  9.72it/s, Batch RMSE=0.0834]\n",
      "Epoch 6/100 [Train]: 100%|██████████| 19/19 [00:04<00:00,  4.20it/s, Batch Loss=0.00442]\n",
      "Epoch 6/100 [Val]: 100%|██████████| 3/3 [00:00<00:00, 10.02it/s, Batch RMSE=0.0831]\n",
      "Epoch 7/100 [Train]: 100%|██████████| 19/19 [00:04<00:00,  4.55it/s, Batch Loss=0.00419]\n",
      "Epoch 7/100 [Val]: 100%|██████████| 3/3 [00:00<00:00, 10.82it/s, Batch RMSE=0.0907]\n",
      "Epoch 8/100 [Train]: 100%|██████████| 19/19 [00:04<00:00,  4.66it/s, Batch Loss=0.00459]\n",
      "Epoch 8/100 [Val]: 100%|██████████| 3/3 [00:00<00:00, 10.99it/s, Batch RMSE=0.0819]\n",
      "Epoch 9/100 [Train]: 100%|██████████| 19/19 [00:04<00:00,  4.73it/s, Batch Loss=0.00455]\n",
      "Epoch 9/100 [Val]: 100%|██████████| 3/3 [00:00<00:00, 11.12it/s, Batch RMSE=0.0817]\n",
      "Epoch 10/100 [Train]: 100%|██████████| 19/19 [00:03<00:00,  4.76it/s, Batch Loss=0.00493]\n",
      "Epoch 10/100 [Val]: 100%|██████████| 3/3 [00:00<00:00, 11.17it/s, Batch RMSE=0.0837]\n",
      "Epoch 11/100 [Train]: 100%|██████████| 19/19 [00:04<00:00,  4.69it/s, Batch Loss=0.00475]\n",
      "Epoch 11/100 [Val]: 100%|██████████| 3/3 [00:00<00:00, 10.56it/s, Batch RMSE=0.0819]\n",
      "Epoch 12/100 [Train]: 100%|██████████| 19/19 [00:04<00:00,  4.30it/s, Batch Loss=0.00431]\n",
      "Epoch 12/100 [Val]: 100%|██████████| 3/3 [00:00<00:00,  9.81it/s, Batch RMSE=0.0817]\n",
      "Epoch 13/100 [Train]: 100%|██████████| 19/19 [00:04<00:00,  4.29it/s, Batch Loss=0.0045] \n",
      "Epoch 13/100 [Val]: 100%|██████████| 3/3 [00:00<00:00, 10.13it/s, Batch RMSE=0.0811]\n",
      "Epoch 14/100 [Train]: 100%|██████████| 19/19 [00:04<00:00,  4.28it/s, Batch Loss=0.0044] \n",
      "Epoch 14/100 [Val]: 100%|██████████| 3/3 [00:00<00:00,  9.77it/s, Batch RMSE=0.0815]\n",
      "Epoch 15/100 [Train]: 100%|██████████| 19/19 [00:04<00:00,  4.21it/s, Batch Loss=0.0041] \n",
      "Epoch 15/100 [Val]: 100%|██████████| 3/3 [00:00<00:00,  9.95it/s, Batch RMSE=0.0828]\n",
      "Epoch 16/100 [Train]: 100%|██████████| 19/19 [00:04<00:00,  3.89it/s, Batch Loss=0.00424]\n",
      "Epoch 16/100 [Val]: 100%|██████████| 3/3 [00:00<00:00,  9.89it/s, Batch RMSE=0.0859]\n"
     ]
    },
    {
     "name": "stdout",
     "output_type": "stream",
     "text": [
      "Early stopping triggered at epoch 17\n"
     ]
    },
    {
     "data": {
      "text/html": [
       "\n",
       "    <style>\n",
       "        .wandb-row {\n",
       "            display: flex;\n",
       "            flex-direction: row;\n",
       "            flex-wrap: wrap;\n",
       "            justify-content: flex-start;\n",
       "            width: 100%;\n",
       "        }\n",
       "        .wandb-col {\n",
       "            display: flex;\n",
       "            flex-direction: column;\n",
       "            flex-basis: 100%;\n",
       "            flex: 1;\n",
       "            padding: 10px;\n",
       "        }\n",
       "    </style>\n",
       "<div class=\"wandb-row\"><div class=\"wandb-col\"><h3>Run history:</h3><br/><table class=\"wandb\"><tr><td>best_val_rmse</td><td>█▆▄▃▃▂▂▂▁▁▁▁▁▁▁▁</td></tr><tr><td>epoch</td><td>▁▁▂▂▃▃▄▄▅▅▅▆▆▇▇██</td></tr><tr><td>epoch_train_loss</td><td>█▂▂▂▂▂▂▂▂▂▁▁▁▁▁▁▁</td></tr><tr><td>epoch_val_loss</td><td>█▇▄▃▃▂▂▅▁▁▃▁▁▁▁▂▄</td></tr><tr><td>epoch_val_rmse</td><td>█▆▄▃▃▂▂▅▁▁▃▁▁▁▁▂▄</td></tr><tr><td>lr</td><td>█████▇▇▇▆▆▅▅▄▃▃▂▁</td></tr><tr><td>train_loss</td><td>▆▄█▅▃▄▅▄▄▅▄▃▄▄▄▂▂▂▄▄▄▃▂▄▂▃▃▃▂▄▅▃▂▂▂▂▂▁▃▁</td></tr><tr><td>val_loss</td><td>█▅▇▇▅▅▃▄▅▄▄▅▂▃▅▂▃█▅▂▅▂▁▅▃▄▂▂▄▂▅▂▁▅▂▅▂▂▅▄</td></tr><tr><td>val_rmse</td><td>█▆▇▇▅▆▄▄▅▃▃▄▅▂▃▂▂▅▃█▂▂▂▁▅▃▄▂▂▂▅▂▁▅▂▅▂▂▅▄</td></tr></table><br/></div><div class=\"wandb-col\"><h3>Run summary:</h3><br/><table class=\"wandb\"><tr><td>best_val_rmse</td><td>0.08363</td></tr><tr><td>epoch</td><td>16</td></tr><tr><td>epoch_train_loss</td><td>0.00421</td></tr><tr><td>epoch_val_loss</td><td>0.00614</td></tr><tr><td>epoch_val_rmse</td><td>0.08592</td></tr><tr><td>lr</td><td>0.00112</td></tr><tr><td>train_loss</td><td>0.00424</td></tr><tr><td>val_loss</td><td>0.00615</td></tr><tr><td>val_rmse</td><td>0.08587</td></tr></table><br/></div></div>"
      ],
      "text/plain": [
       "<IPython.core.display.HTML object>"
      ]
     },
     "metadata": {},
     "output_type": "display_data"
    },
    {
     "data": {
      "text/html": [
       " View run <strong style=\"color:#cdcd00\">avid-sweep-4</strong> at: <a href='https://wandb.ai/ychnli-stanford-university/sea-ice-prediction/runs/a0oxhfgq' target=\"_blank\">https://wandb.ai/ychnli-stanford-university/sea-ice-prediction/runs/a0oxhfgq</a><br/> View project at: <a href='https://wandb.ai/ychnli-stanford-university/sea-ice-prediction' target=\"_blank\">https://wandb.ai/ychnli-stanford-university/sea-ice-prediction</a><br/>Synced 4 W&B file(s), 0 media file(s), 0 artifact file(s) and 0 other file(s)"
      ],
      "text/plain": [
       "<IPython.core.display.HTML object>"
      ]
     },
     "metadata": {},
     "output_type": "display_data"
    },
    {
     "data": {
      "text/html": [
       "Find logs at: <code>./wandb/run-20250531_231342-a0oxhfgq/logs</code>"
      ],
      "text/plain": [
       "<IPython.core.display.HTML object>"
      ]
     },
     "metadata": {},
     "output_type": "display_data"
    },
    {
     "name": "stderr",
     "output_type": "stream",
     "text": [
      "\u001b[34m\u001b[1mwandb\u001b[0m: Agent Starting Run: wsa48dm3 with config:\n",
      "\u001b[34m\u001b[1mwandb\u001b[0m: \tbatch_size: 20\n",
      "\u001b[34m\u001b[1mwandb\u001b[0m: \tloss_function_args: 0\n",
      "\u001b[34m\u001b[1mwandb\u001b[0m: \tlr: 0.0019661706375854876\n",
      "\u001b[34m\u001b[1mwandb\u001b[0m: \tnum_epochs: 100\n",
      "\u001b[34m\u001b[1mwandb\u001b[0m: \tweight_decay: 7.892864320803773e-06\n"
     ]
    },
    {
     "data": {
      "text/html": [
       "Tracking run with wandb version 0.19.0"
      ],
      "text/plain": [
       "<IPython.core.display.HTML object>"
      ]
     },
     "metadata": {},
     "output_type": "display_data"
    },
    {
     "data": {
      "text/html": [
       "Run data is saved locally in <code>/home/users/yucli/sicpred/wandb/run-20250531_231513-wsa48dm3</code>"
      ],
      "text/plain": [
       "<IPython.core.display.HTML object>"
      ]
     },
     "metadata": {},
     "output_type": "display_data"
    },
    {
     "data": {
      "text/html": [
       "Syncing run <strong><a href='https://wandb.ai/ychnli-stanford-university/sea-ice-prediction/runs/wsa48dm3' target=\"_blank\">solar-sweep-5</a></strong> to <a href='https://wandb.ai/ychnli-stanford-university/sea-ice-prediction' target=\"_blank\">Weights & Biases</a> (<a href='https://wandb.me/developer-guide' target=\"_blank\">docs</a>)<br/>Sweep page: <a href='https://wandb.ai/ychnli-stanford-university/sea-ice-prediction/sweeps/70ww3ii3' target=\"_blank\">https://wandb.ai/ychnli-stanford-university/sea-ice-prediction/sweeps/70ww3ii3</a>"
      ],
      "text/plain": [
       "<IPython.core.display.HTML object>"
      ]
     },
     "metadata": {},
     "output_type": "display_data"
    },
    {
     "data": {
      "text/html": [
       " View project at <a href='https://wandb.ai/ychnli-stanford-university/sea-ice-prediction' target=\"_blank\">https://wandb.ai/ychnli-stanford-university/sea-ice-prediction</a>"
      ],
      "text/plain": [
       "<IPython.core.display.HTML object>"
      ]
     },
     "metadata": {},
     "output_type": "display_data"
    },
    {
     "data": {
      "text/html": [
       " View sweep at <a href='https://wandb.ai/ychnli-stanford-university/sea-ice-prediction/sweeps/70ww3ii3' target=\"_blank\">https://wandb.ai/ychnli-stanford-university/sea-ice-prediction/sweeps/70ww3ii3</a>"
      ],
      "text/plain": [
       "<IPython.core.display.HTML object>"
      ]
     },
     "metadata": {},
     "output_type": "display_data"
    },
    {
     "data": {
      "text/html": [
       " View run at <a href='https://wandb.ai/ychnli-stanford-university/sea-ice-prediction/runs/wsa48dm3' target=\"_blank\">https://wandb.ai/ychnli-stanford-university/sea-ice-prediction/runs/wsa48dm3</a>"
      ],
      "text/plain": [
       "<IPython.core.display.HTML object>"
      ]
     },
     "metadata": {},
     "output_type": "display_data"
    },
    {
     "name": "stderr",
     "output_type": "stream",
     "text": [
      "/home/groups/earlew/yuchen/miniconda3/envs/sicpred_env_conda/lib/python3.12/site-packages/torch/nn/utils/weight_norm.py:143: FutureWarning: `torch.nn.utils.weight_norm` is deprecated in favor of `torch.nn.utils.parametrizations.weight_norm`.\n",
      "  WeightNorm.apply(module, name, dim)\n",
      "Epoch 0/100 [Train]: 100%|██████████| 19/19 [00:04<00:00,  4.07it/s, Batch Loss=0.0053] \n",
      "Epoch 0/100 [Val]: 100%|██████████| 3/3 [00:00<00:00,  8.32it/s, Batch RMSE=0.089] \n",
      "Epoch 1/100 [Train]: 100%|██████████| 19/19 [00:04<00:00,  4.22it/s, Batch Loss=0.00502]\n",
      "Epoch 1/100 [Val]: 100%|██████████| 3/3 [00:00<00:00,  9.77it/s, Batch RMSE=0.0881]\n",
      "Epoch 2/100 [Train]: 100%|██████████| 19/19 [00:04<00:00,  4.25it/s, Batch Loss=0.00484]\n",
      "Epoch 2/100 [Val]: 100%|██████████| 3/3 [00:00<00:00,  9.91it/s, Batch RMSE=0.0848]\n",
      "Epoch 3/100 [Train]: 100%|██████████| 19/19 [00:04<00:00,  4.23it/s, Batch Loss=0.00449]\n",
      "Epoch 3/100 [Val]: 100%|██████████| 3/3 [00:00<00:00,  9.81it/s, Batch RMSE=0.0843]\n",
      "Epoch 4/100 [Train]: 100%|██████████| 19/19 [00:04<00:00,  4.21it/s, Batch Loss=0.00485]\n",
      "Epoch 4/100 [Val]: 100%|██████████| 3/3 [00:00<00:00,  9.36it/s, Batch RMSE=0.0851]\n",
      "Epoch 5/100 [Train]: 100%|██████████| 19/19 [00:04<00:00,  4.19it/s, Batch Loss=0.00462]\n",
      "Epoch 5/100 [Val]: 100%|██████████| 3/3 [00:00<00:00,  9.76it/s, Batch RMSE=0.0828]\n",
      "Epoch 6/100 [Train]: 100%|██████████| 19/19 [00:04<00:00,  4.19it/s, Batch Loss=0.00453]\n",
      "Epoch 6/100 [Val]: 100%|██████████| 3/3 [00:00<00:00,  9.71it/s, Batch RMSE=0.0851]\n",
      "Epoch 7/100 [Train]: 100%|██████████| 19/19 [00:04<00:00,  4.27it/s, Batch Loss=0.00444]\n",
      "Epoch 7/100 [Val]: 100%|██████████| 3/3 [00:00<00:00,  9.98it/s, Batch RMSE=0.0827]\n",
      "Epoch 8/100 [Train]: 100%|██████████| 19/19 [00:04<00:00,  4.20it/s, Batch Loss=0.0043] \n",
      "Epoch 8/100 [Val]: 100%|██████████| 3/3 [00:00<00:00,  9.91it/s, Batch RMSE=0.0819]\n",
      "Epoch 9/100 [Train]: 100%|██████████| 19/19 [00:04<00:00,  4.23it/s, Batch Loss=0.00507]\n",
      "Epoch 9/100 [Val]: 100%|██████████| 3/3 [00:00<00:00,  9.77it/s, Batch RMSE=0.083] \n",
      "Epoch 10/100 [Train]: 100%|██████████| 19/19 [00:04<00:00,  4.23it/s, Batch Loss=0.00441]\n",
      "Epoch 10/100 [Val]: 100%|██████████| 3/3 [00:00<00:00,  9.86it/s, Batch RMSE=0.0821]\n",
      "Epoch 11/100 [Train]: 100%|██████████| 19/19 [00:04<00:00,  3.85it/s, Batch Loss=0.0045] \n",
      "Epoch 11/100 [Val]: 100%|██████████| 3/3 [00:00<00:00,  9.56it/s, Batch RMSE=0.083] \n",
      "Epoch 12/100 [Train]: 100%|██████████| 19/19 [00:04<00:00,  4.23it/s, Batch Loss=0.0045] \n",
      "Epoch 12/100 [Val]: 100%|██████████| 3/3 [00:00<00:00,  9.86it/s, Batch RMSE=0.0821]\n",
      "Epoch 13/100 [Train]: 100%|██████████| 19/19 [00:04<00:00,  4.20it/s, Batch Loss=0.00403]\n",
      "Epoch 13/100 [Val]: 100%|██████████| 3/3 [00:00<00:00,  9.89it/s, Batch RMSE=0.0818]\n",
      "Epoch 14/100 [Train]: 100%|██████████| 19/19 [00:04<00:00,  4.20it/s, Batch Loss=0.00397]\n",
      "Epoch 14/100 [Val]: 100%|██████████| 3/3 [00:00<00:00,  9.90it/s, Batch RMSE=0.0825]\n",
      "Epoch 15/100 [Train]: 100%|██████████| 19/19 [00:04<00:00,  4.27it/s, Batch Loss=0.00416]\n",
      "Epoch 15/100 [Val]: 100%|██████████| 3/3 [00:00<00:00,  9.77it/s, Batch RMSE=0.0866]\n",
      "Epoch 16/100 [Train]: 100%|██████████| 19/19 [00:04<00:00,  4.23it/s, Batch Loss=0.00431]\n",
      "Epoch 16/100 [Val]: 100%|██████████| 3/3 [00:00<00:00,  9.40it/s, Batch RMSE=0.0866]\n",
      "Epoch 17/100 [Train]: 100%|██████████| 19/19 [00:04<00:00,  3.87it/s, Batch Loss=0.00438]\n",
      "Epoch 17/100 [Val]: 100%|██████████| 3/3 [00:00<00:00,  9.95it/s, Batch RMSE=0.0873]\n",
      "Epoch 18/100 [Train]: 100%|██████████| 19/19 [00:04<00:00,  4.27it/s, Batch Loss=0.00423]\n",
      "Epoch 18/100 [Val]: 100%|██████████| 3/3 [00:00<00:00,  9.88it/s, Batch RMSE=0.086] \n"
     ]
    },
    {
     "name": "stdout",
     "output_type": "stream",
     "text": [
      "Early stopping triggered at epoch 19\n"
     ]
    },
    {
     "data": {
      "text/html": [
       "\n",
       "    <style>\n",
       "        .wandb-row {\n",
       "            display: flex;\n",
       "            flex-direction: row;\n",
       "            flex-wrap: wrap;\n",
       "            justify-content: flex-start;\n",
       "            width: 100%;\n",
       "        }\n",
       "        .wandb-col {\n",
       "            display: flex;\n",
       "            flex-direction: column;\n",
       "            flex-basis: 100%;\n",
       "            flex: 1;\n",
       "            padding: 10px;\n",
       "        }\n",
       "    </style>\n",
       "<div class=\"wandb-row\"><div class=\"wandb-col\"><h3>Run history:</h3><br/><table class=\"wandb\"><tr><td>best_val_rmse</td><td>█▇▄▃▃▂▂▂▂▂▂▂▁▁▁▁▁▁</td></tr><tr><td>epoch</td><td>▁▁▂▂▃▃▃▄▄▅▅▅▆▆▆▇▇██</td></tr><tr><td>epoch_train_loss</td><td>█▃▃▃▃▃▂▂▂▂▂▂▂▂▂▁▁▁▁</td></tr><tr><td>epoch_val_loss</td><td>█▇▄▃▄▂▃▂▂▂▂▃▁▁▂▅▅▅▅</td></tr><tr><td>epoch_val_rmse</td><td>█▇▄▃▄▂▃▂▂▃▂▃▁▁▂▄▅▄▅</td></tr><tr><td>lr</td><td>█████▇▇▇▇▆▆▅▅▄▄▃▂▂▁</td></tr><tr><td>train_loss</td><td>█▇▄▅▆▅▅▅▃▆▂▅▄▄▃▄▃▃▃▄▃▆▃▄▃▃▄▂▄▄▃▂▂▁▂▃▁▂▁▁</td></tr><tr><td>val_loss</td><td>█▅▇▇▅▃▄▅▃▅▄▅▂▂▅▄▂▄▂▁▂▂▅▂▁▃▂▅▁▁▁▅▃▅▅▄▃▆▅▅</td></tr><tr><td>val_rmse</td><td>█▅▇▇▅▆▄▅▃▅▄▅▂▅▄▂▂▄▁▅▂▅▂▁▅▂▅▁▄▂▅▂▂▅▄▅▅▅▆▅</td></tr></table><br/></div><div class=\"wandb-col\"><h3>Run summary:</h3><br/><table class=\"wandb\"><tr><td>best_val_rmse</td><td>0.0834</td></tr><tr><td>epoch</td><td>18</td></tr><tr><td>epoch_train_loss</td><td>0.00394</td></tr><tr><td>epoch_val_loss</td><td>0.00621</td></tr><tr><td>epoch_val_rmse</td><td>0.08653</td></tr><tr><td>lr</td><td>0.00181</td></tr><tr><td>train_loss</td><td>0.00423</td></tr><tr><td>val_loss</td><td>0.00615</td></tr><tr><td>val_rmse</td><td>0.08599</td></tr></table><br/></div></div>"
      ],
      "text/plain": [
       "<IPython.core.display.HTML object>"
      ]
     },
     "metadata": {},
     "output_type": "display_data"
    },
    {
     "data": {
      "text/html": [
       " View run <strong style=\"color:#cdcd00\">solar-sweep-5</strong> at: <a href='https://wandb.ai/ychnli-stanford-university/sea-ice-prediction/runs/wsa48dm3' target=\"_blank\">https://wandb.ai/ychnli-stanford-university/sea-ice-prediction/runs/wsa48dm3</a><br/> View project at: <a href='https://wandb.ai/ychnli-stanford-university/sea-ice-prediction' target=\"_blank\">https://wandb.ai/ychnli-stanford-university/sea-ice-prediction</a><br/>Synced 4 W&B file(s), 0 media file(s), 0 artifact file(s) and 0 other file(s)"
      ],
      "text/plain": [
       "<IPython.core.display.HTML object>"
      ]
     },
     "metadata": {},
     "output_type": "display_data"
    },
    {
     "data": {
      "text/html": [
       "Find logs at: <code>./wandb/run-20250531_231513-wsa48dm3/logs</code>"
      ],
      "text/plain": [
       "<IPython.core.display.HTML object>"
      ]
     },
     "metadata": {},
     "output_type": "display_data"
    },
    {
     "name": "stderr",
     "output_type": "stream",
     "text": [
      "\u001b[34m\u001b[1mwandb\u001b[0m: Agent Starting Run: k75xne8y with config:\n",
      "\u001b[34m\u001b[1mwandb\u001b[0m: \tbatch_size: 50\n",
      "\u001b[34m\u001b[1mwandb\u001b[0m: \tloss_function_args: 0\n",
      "\u001b[34m\u001b[1mwandb\u001b[0m: \tlr: 0.0008776297737610299\n",
      "\u001b[34m\u001b[1mwandb\u001b[0m: \tnum_epochs: 100\n",
      "\u001b[34m\u001b[1mwandb\u001b[0m: \tweight_decay: 7.837751332199954e-05\n"
     ]
    },
    {
     "data": {
      "text/html": [
       "Tracking run with wandb version 0.19.0"
      ],
      "text/plain": [
       "<IPython.core.display.HTML object>"
      ]
     },
     "metadata": {},
     "output_type": "display_data"
    },
    {
     "data": {
      "text/html": [
       "Run data is saved locally in <code>/home/users/yucli/sicpred/wandb/run-20250531_231655-k75xne8y</code>"
      ],
      "text/plain": [
       "<IPython.core.display.HTML object>"
      ]
     },
     "metadata": {},
     "output_type": "display_data"
    },
    {
     "data": {
      "text/html": [
       "Syncing run <strong><a href='https://wandb.ai/ychnli-stanford-university/sea-ice-prediction/runs/k75xne8y' target=\"_blank\">scarlet-sweep-6</a></strong> to <a href='https://wandb.ai/ychnli-stanford-university/sea-ice-prediction' target=\"_blank\">Weights & Biases</a> (<a href='https://wandb.me/developer-guide' target=\"_blank\">docs</a>)<br/>Sweep page: <a href='https://wandb.ai/ychnli-stanford-university/sea-ice-prediction/sweeps/70ww3ii3' target=\"_blank\">https://wandb.ai/ychnli-stanford-university/sea-ice-prediction/sweeps/70ww3ii3</a>"
      ],
      "text/plain": [
       "<IPython.core.display.HTML object>"
      ]
     },
     "metadata": {},
     "output_type": "display_data"
    },
    {
     "data": {
      "text/html": [
       " View project at <a href='https://wandb.ai/ychnli-stanford-university/sea-ice-prediction' target=\"_blank\">https://wandb.ai/ychnli-stanford-university/sea-ice-prediction</a>"
      ],
      "text/plain": [
       "<IPython.core.display.HTML object>"
      ]
     },
     "metadata": {},
     "output_type": "display_data"
    },
    {
     "data": {
      "text/html": [
       " View sweep at <a href='https://wandb.ai/ychnli-stanford-university/sea-ice-prediction/sweeps/70ww3ii3' target=\"_blank\">https://wandb.ai/ychnli-stanford-university/sea-ice-prediction/sweeps/70ww3ii3</a>"
      ],
      "text/plain": [
       "<IPython.core.display.HTML object>"
      ]
     },
     "metadata": {},
     "output_type": "display_data"
    },
    {
     "data": {
      "text/html": [
       " View run at <a href='https://wandb.ai/ychnli-stanford-university/sea-ice-prediction/runs/k75xne8y' target=\"_blank\">https://wandb.ai/ychnli-stanford-university/sea-ice-prediction/runs/k75xne8y</a>"
      ],
      "text/plain": [
       "<IPython.core.display.HTML object>"
      ]
     },
     "metadata": {},
     "output_type": "display_data"
    },
    {
     "name": "stderr",
     "output_type": "stream",
     "text": [
      "/home/groups/earlew/yuchen/miniconda3/envs/sicpred_env_conda/lib/python3.12/site-packages/torch/nn/utils/weight_norm.py:143: FutureWarning: `torch.nn.utils.weight_norm` is deprecated in favor of `torch.nn.utils.parametrizations.weight_norm`.\n",
      "  WeightNorm.apply(module, name, dim)\n",
      "Epoch 0/100 [Train]: 100%|██████████| 8/8 [00:02<00:00,  3.16it/s, Batch Loss=0.00641]\n",
      "Epoch 0/100 [Val]: 100%|██████████| 2/2 [00:00<00:00,  6.65it/s, Batch RMSE=0.124]\n",
      "Epoch 1/100 [Train]: 100%|██████████| 8/8 [00:02<00:00,  3.42it/s, Batch Loss=0.00519]\n",
      "Epoch 1/100 [Val]: 100%|██████████| 2/2 [00:00<00:00,  7.72it/s, Batch RMSE=0.103] \n",
      "Epoch 2/100 [Train]: 100%|██████████| 8/8 [00:02<00:00,  3.38it/s, Batch Loss=0.00516]\n",
      "Epoch 2/100 [Val]: 100%|██████████| 2/2 [00:00<00:00,  7.65it/s, Batch RMSE=0.0956]\n",
      "Epoch 3/100 [Train]: 100%|██████████| 8/8 [00:02<00:00,  3.41it/s, Batch Loss=0.00488]\n",
      "Epoch 3/100 [Val]: 100%|██████████| 2/2 [00:00<00:00,  7.83it/s, Batch RMSE=0.0934]\n",
      "Epoch 4/100 [Train]: 100%|██████████| 8/8 [00:02<00:00,  3.41it/s, Batch Loss=0.00486]\n",
      "Epoch 4/100 [Val]: 100%|██████████| 2/2 [00:00<00:00,  8.50it/s, Batch RMSE=0.0926]\n",
      "Epoch 5/100 [Train]: 100%|██████████| 8/8 [00:02<00:00,  2.86it/s, Batch Loss=0.00491]\n",
      "Epoch 5/100 [Val]: 100%|██████████| 2/2 [00:00<00:00,  7.93it/s, Batch RMSE=0.0924]\n",
      "Epoch 6/100 [Train]: 100%|██████████| 8/8 [00:02<00:00,  3.42it/s, Batch Loss=0.00493]\n",
      "Epoch 6/100 [Val]: 100%|██████████| 2/2 [00:00<00:00,  7.79it/s, Batch RMSE=0.0922]\n",
      "Epoch 7/100 [Train]: 100%|██████████| 8/8 [00:02<00:00,  3.42it/s, Batch Loss=0.00472]\n",
      "Epoch 7/100 [Val]: 100%|██████████| 2/2 [00:00<00:00,  8.29it/s, Batch RMSE=0.0908]\n",
      "Epoch 8/100 [Train]: 100%|██████████| 8/8 [00:02<00:00,  3.42it/s, Batch Loss=0.00457]\n",
      "Epoch 8/100 [Val]: 100%|██████████| 2/2 [00:00<00:00,  7.87it/s, Batch RMSE=0.0901]\n",
      "Epoch 9/100 [Train]: 100%|██████████| 8/8 [00:02<00:00,  3.44it/s, Batch Loss=0.00471]\n",
      "Epoch 9/100 [Val]: 100%|██████████| 2/2 [00:00<00:00,  7.61it/s, Batch RMSE=0.0904]\n",
      "Epoch 10/100 [Train]: 100%|██████████| 8/8 [00:02<00:00,  3.48it/s, Batch Loss=0.00484]\n",
      "Epoch 10/100 [Val]: 100%|██████████| 2/2 [00:00<00:00,  7.03it/s, Batch RMSE=0.0889]\n",
      "Epoch 11/100 [Train]: 100%|██████████| 8/8 [00:02<00:00,  3.48it/s, Batch Loss=0.00416]\n",
      "Epoch 11/100 [Val]: 100%|██████████| 2/2 [00:00<00:00,  7.67it/s, Batch RMSE=0.0873]\n",
      "Epoch 12/100 [Train]: 100%|██████████| 8/8 [00:02<00:00,  3.50it/s, Batch Loss=0.00433]\n",
      "Epoch 12/100 [Val]: 100%|██████████| 2/2 [00:00<00:00,  7.89it/s, Batch RMSE=0.0926]\n",
      "Epoch 13/100 [Train]: 100%|██████████| 8/8 [00:02<00:00,  3.42it/s, Batch Loss=0.00411]\n",
      "Epoch 13/100 [Val]: 100%|██████████| 2/2 [00:00<00:00,  7.82it/s, Batch RMSE=0.0931]\n",
      "Epoch 14/100 [Train]: 100%|██████████| 8/8 [00:02<00:00,  3.40it/s, Batch Loss=0.0043] \n",
      "Epoch 14/100 [Val]: 100%|██████████| 2/2 [00:00<00:00,  8.12it/s, Batch RMSE=0.0847]\n",
      "Epoch 15/100 [Train]: 100%|██████████| 8/8 [00:02<00:00,  3.44it/s, Batch Loss=0.00424]\n",
      "Epoch 15/100 [Val]: 100%|██████████| 2/2 [00:00<00:00,  8.30it/s, Batch RMSE=0.0903]\n",
      "Epoch 16/100 [Train]: 100%|██████████| 8/8 [00:02<00:00,  3.44it/s, Batch Loss=0.00402]\n",
      "Epoch 16/100 [Val]: 100%|██████████| 2/2 [00:00<00:00,  8.48it/s, Batch RMSE=0.0862]\n",
      "Epoch 17/100 [Train]: 100%|██████████| 8/8 [00:02<00:00,  3.50it/s, Batch Loss=0.0039] \n",
      "Epoch 17/100 [Val]: 100%|██████████| 2/2 [00:00<00:00,  8.70it/s, Batch RMSE=0.0844]\n",
      "Epoch 18/100 [Train]: 100%|██████████| 8/8 [00:02<00:00,  3.51it/s, Batch Loss=0.00403]\n",
      "Epoch 18/100 [Val]: 100%|██████████| 2/2 [00:00<00:00,  8.56it/s, Batch RMSE=0.0868]\n",
      "Epoch 19/100 [Train]: 100%|██████████| 8/8 [00:02<00:00,  3.54it/s, Batch Loss=0.00378]\n",
      "Epoch 19/100 [Val]: 100%|██████████| 2/2 [00:00<00:00,  7.97it/s, Batch RMSE=0.0835]\n",
      "Epoch 20/100 [Train]: 100%|██████████| 8/8 [00:02<00:00,  3.55it/s, Batch Loss=0.00382]\n",
      "Epoch 20/100 [Val]: 100%|██████████| 2/2 [00:00<00:00,  8.49it/s, Batch RMSE=0.0884]\n",
      "Epoch 21/100 [Train]: 100%|██████████| 8/8 [00:02<00:00,  3.50it/s, Batch Loss=0.00396]\n",
      "Epoch 21/100 [Val]: 100%|██████████| 2/2 [00:00<00:00,  8.39it/s, Batch RMSE=0.0858]\n",
      "Epoch 22/100 [Train]: 100%|██████████| 8/8 [00:02<00:00,  3.49it/s, Batch Loss=0.0036] \n",
      "Epoch 22/100 [Val]: 100%|██████████| 2/2 [00:00<00:00,  7.96it/s, Batch RMSE=0.0838]\n"
     ]
    },
    {
     "name": "stdout",
     "output_type": "stream",
     "text": [
      "Early stopping triggered at epoch 23\n"
     ]
    },
    {
     "data": {
      "text/html": [
       "\n",
       "    <style>\n",
       "        .wandb-row {\n",
       "            display: flex;\n",
       "            flex-direction: row;\n",
       "            flex-wrap: wrap;\n",
       "            justify-content: flex-start;\n",
       "            width: 100%;\n",
       "        }\n",
       "        .wandb-col {\n",
       "            display: flex;\n",
       "            flex-direction: column;\n",
       "            flex-basis: 100%;\n",
       "            flex: 1;\n",
       "            padding: 10px;\n",
       "        }\n",
       "    </style>\n",
       "<div class=\"wandb-row\"><div class=\"wandb-col\"><h3>Run history:</h3><br/><table class=\"wandb\"><tr><td>best_val_rmse</td><td>█▄▃▂▂▂▂▂▂▂▂▂▂▂▁▁▁▁▁▁▁▁</td></tr><tr><td>epoch</td><td>▁▁▂▂▂▃▃▃▄▄▄▅▅▅▅▆▆▆▇▇▇██</td></tr><tr><td>epoch_train_loss</td><td>█▂▂▂▂▂▂▂▂▂▂▂▁▁▁▁▁▁▁▁▁▁▁</td></tr><tr><td>epoch_val_loss</td><td>█▄▃▂▂▂▂▂▂▂▂▂▂▂▁▂▂▁▁▁▂▁▁</td></tr><tr><td>epoch_val_rmse</td><td>█▄▃▂▂▂▂▂▂▂▂▂▂▂▁▂▂▁▁▁▁▁▁</td></tr><tr><td>lr</td><td>██████▇▇▇▇▇▆▆▅▅▅▄▄▃▃▂▂▁</td></tr><tr><td>train_loss</td><td>█▅▃▂▂▁▁▁▁▁▁▁▁▁▁▁▁▁▁▁▁▁▁▁▁▁▁▁▁▁▁▁▁▁▁▁▁▁▁▁</td></tr><tr><td>val_loss</td><td>▇█▃▄▂▃▂▂▃▂▃▂▃▂▂▂▂▂▂▂▂▂▃▂▃▁▁▂▂▂▁▁▁▁▁▁▂▁▁▁</td></tr><tr><td>val_rmse</td><td>▇█▄▄▃▃▂▂▃▂▃▂▃▂▂▂▂▂▂▂▂▂▃▂▃▁▁▂▂▁▁▁▁▁▁▁▂▁▁▁</td></tr></table><br/></div><div class=\"wandb-col\"><h3>Run summary:</h3><br/><table class=\"wandb\"><tr><td>best_val_rmse</td><td>0.08356</td></tr><tr><td>epoch</td><td>22</td></tr><tr><td>epoch_train_loss</td><td>0.00376</td></tr><tr><td>epoch_val_loss</td><td>0.00593</td></tr><tr><td>epoch_val_rmse</td><td>0.08449</td></tr><tr><td>lr</td><td>0.00078</td></tr><tr><td>train_loss</td><td>0.0036</td></tr><tr><td>val_loss</td><td>0.00595</td></tr><tr><td>val_rmse</td><td>0.08376</td></tr></table><br/></div></div>"
      ],
      "text/plain": [
       "<IPython.core.display.HTML object>"
      ]
     },
     "metadata": {},
     "output_type": "display_data"
    },
    {
     "data": {
      "text/html": [
       " View run <strong style=\"color:#cdcd00\">scarlet-sweep-6</strong> at: <a href='https://wandb.ai/ychnli-stanford-university/sea-ice-prediction/runs/k75xne8y' target=\"_blank\">https://wandb.ai/ychnli-stanford-university/sea-ice-prediction/runs/k75xne8y</a><br/> View project at: <a href='https://wandb.ai/ychnli-stanford-university/sea-ice-prediction' target=\"_blank\">https://wandb.ai/ychnli-stanford-university/sea-ice-prediction</a><br/>Synced 4 W&B file(s), 0 media file(s), 0 artifact file(s) and 0 other file(s)"
      ],
      "text/plain": [
       "<IPython.core.display.HTML object>"
      ]
     },
     "metadata": {},
     "output_type": "display_data"
    },
    {
     "data": {
      "text/html": [
       "Find logs at: <code>./wandb/run-20250531_231655-k75xne8y/logs</code>"
      ],
      "text/plain": [
       "<IPython.core.display.HTML object>"
      ]
     },
     "metadata": {},
     "output_type": "display_data"
    },
    {
     "name": "stderr",
     "output_type": "stream",
     "text": [
      "\u001b[34m\u001b[1mwandb\u001b[0m: Agent Starting Run: uc3k1gee with config:\n",
      "\u001b[34m\u001b[1mwandb\u001b[0m: \tbatch_size: 50\n",
      "\u001b[34m\u001b[1mwandb\u001b[0m: \tloss_function_args: 0\n",
      "\u001b[34m\u001b[1mwandb\u001b[0m: \tlr: 0.000976767533135674\n",
      "\u001b[34m\u001b[1mwandb\u001b[0m: \tnum_epochs: 100\n",
      "\u001b[34m\u001b[1mwandb\u001b[0m: \tweight_decay: 9.587101386361672e-05\n"
     ]
    },
    {
     "data": {
      "text/html": [
       "Tracking run with wandb version 0.19.0"
      ],
      "text/plain": [
       "<IPython.core.display.HTML object>"
      ]
     },
     "metadata": {},
     "output_type": "display_data"
    },
    {
     "data": {
      "text/html": [
       "Run data is saved locally in <code>/home/users/yucli/sicpred/wandb/run-20250531_231806-uc3k1gee</code>"
      ],
      "text/plain": [
       "<IPython.core.display.HTML object>"
      ]
     },
     "metadata": {},
     "output_type": "display_data"
    },
    {
     "data": {
      "text/html": [
       "Syncing run <strong><a href='https://wandb.ai/ychnli-stanford-university/sea-ice-prediction/runs/uc3k1gee' target=\"_blank\">stellar-sweep-7</a></strong> to <a href='https://wandb.ai/ychnli-stanford-university/sea-ice-prediction' target=\"_blank\">Weights & Biases</a> (<a href='https://wandb.me/developer-guide' target=\"_blank\">docs</a>)<br/>Sweep page: <a href='https://wandb.ai/ychnli-stanford-university/sea-ice-prediction/sweeps/70ww3ii3' target=\"_blank\">https://wandb.ai/ychnli-stanford-university/sea-ice-prediction/sweeps/70ww3ii3</a>"
      ],
      "text/plain": [
       "<IPython.core.display.HTML object>"
      ]
     },
     "metadata": {},
     "output_type": "display_data"
    },
    {
     "data": {
      "text/html": [
       " View project at <a href='https://wandb.ai/ychnli-stanford-university/sea-ice-prediction' target=\"_blank\">https://wandb.ai/ychnli-stanford-university/sea-ice-prediction</a>"
      ],
      "text/plain": [
       "<IPython.core.display.HTML object>"
      ]
     },
     "metadata": {},
     "output_type": "display_data"
    },
    {
     "data": {
      "text/html": [
       " View sweep at <a href='https://wandb.ai/ychnli-stanford-university/sea-ice-prediction/sweeps/70ww3ii3' target=\"_blank\">https://wandb.ai/ychnli-stanford-university/sea-ice-prediction/sweeps/70ww3ii3</a>"
      ],
      "text/plain": [
       "<IPython.core.display.HTML object>"
      ]
     },
     "metadata": {},
     "output_type": "display_data"
    },
    {
     "data": {
      "text/html": [
       " View run at <a href='https://wandb.ai/ychnli-stanford-university/sea-ice-prediction/runs/uc3k1gee' target=\"_blank\">https://wandb.ai/ychnli-stanford-university/sea-ice-prediction/runs/uc3k1gee</a>"
      ],
      "text/plain": [
       "<IPython.core.display.HTML object>"
      ]
     },
     "metadata": {},
     "output_type": "display_data"
    },
    {
     "name": "stderr",
     "output_type": "stream",
     "text": [
      "/home/groups/earlew/yuchen/miniconda3/envs/sicpred_env_conda/lib/python3.12/site-packages/torch/nn/utils/weight_norm.py:143: FutureWarning: `torch.nn.utils.weight_norm` is deprecated in favor of `torch.nn.utils.parametrizations.weight_norm`.\n",
      "  WeightNorm.apply(module, name, dim)\n",
      "Epoch 0/100 [Train]: 100%|██████████| 8/8 [00:02<00:00,  3.26it/s, Batch Loss=0.00592]\n",
      "Epoch 0/100 [Val]: 100%|██████████| 2/2 [00:00<00:00,  6.77it/s, Batch RMSE=0.111]\n",
      "Epoch 1/100 [Train]: 100%|██████████| 8/8 [00:02<00:00,  3.51it/s, Batch Loss=0.00471]\n",
      "Epoch 1/100 [Val]: 100%|██████████| 2/2 [00:00<00:00,  8.23it/s, Batch RMSE=0.0988]\n",
      "Epoch 2/100 [Train]: 100%|██████████| 8/8 [00:02<00:00,  3.46it/s, Batch Loss=0.00486]\n",
      "Epoch 2/100 [Val]: 100%|██████████| 2/2 [00:00<00:00,  8.37it/s, Batch RMSE=0.0938]\n",
      "Epoch 3/100 [Train]: 100%|██████████| 8/8 [00:02<00:00,  3.47it/s, Batch Loss=0.00465]\n",
      "Epoch 3/100 [Val]: 100%|██████████| 2/2 [00:00<00:00,  8.54it/s, Batch RMSE=0.0918]\n",
      "Epoch 4/100 [Train]: 100%|██████████| 8/8 [00:02<00:00,  3.42it/s, Batch Loss=0.00459]\n",
      "Epoch 4/100 [Val]: 100%|██████████| 2/2 [00:00<00:00,  8.09it/s, Batch RMSE=0.091] \n",
      "Epoch 5/100 [Train]: 100%|██████████| 8/8 [00:02<00:00,  3.41it/s, Batch Loss=0.00459]\n",
      "Epoch 5/100 [Val]: 100%|██████████| 2/2 [00:00<00:00,  8.32it/s, Batch RMSE=0.0902]\n",
      "Epoch 6/100 [Train]: 100%|██████████| 8/8 [00:02<00:00,  3.37it/s, Batch Loss=0.00457]\n",
      "Epoch 6/100 [Val]: 100%|██████████| 2/2 [00:00<00:00,  8.45it/s, Batch RMSE=0.0892]\n",
      "Epoch 7/100 [Train]: 100%|██████████| 8/8 [00:02<00:00,  3.40it/s, Batch Loss=0.00469]\n",
      "Epoch 7/100 [Val]: 100%|██████████| 2/2 [00:00<00:00,  8.15it/s, Batch RMSE=0.0881]\n",
      "Epoch 8/100 [Train]: 100%|██████████| 8/8 [00:02<00:00,  3.46it/s, Batch Loss=0.00451]\n",
      "Epoch 8/100 [Val]: 100%|██████████| 2/2 [00:00<00:00,  8.36it/s, Batch RMSE=0.0893]\n",
      "Epoch 9/100 [Train]: 100%|██████████| 8/8 [00:02<00:00,  3.43it/s, Batch Loss=0.0043] \n",
      "Epoch 9/100 [Val]: 100%|██████████| 2/2 [00:00<00:00,  7.93it/s, Batch RMSE=0.0882]\n",
      "Epoch 10/100 [Train]: 100%|██████████| 8/8 [00:02<00:00,  3.48it/s, Batch Loss=0.00472]\n",
      "Epoch 10/100 [Val]: 100%|██████████| 2/2 [00:00<00:00,  8.13it/s, Batch RMSE=0.086] \n",
      "Epoch 11/100 [Train]: 100%|██████████| 8/8 [00:02<00:00,  3.46it/s, Batch Loss=0.00421]\n",
      "Epoch 11/100 [Val]: 100%|██████████| 2/2 [00:00<00:00,  8.21it/s, Batch RMSE=0.0862]\n",
      "Epoch 12/100 [Train]: 100%|██████████| 8/8 [00:02<00:00,  3.46it/s, Batch Loss=0.00478]\n",
      "Epoch 12/100 [Val]: 100%|██████████| 2/2 [00:00<00:00,  8.32it/s, Batch RMSE=0.0861]\n",
      "Epoch 13/100 [Train]: 100%|██████████| 8/8 [00:02<00:00,  3.26it/s, Batch Loss=0.00443]\n",
      "Epoch 13/100 [Val]: 100%|██████████| 2/2 [00:00<00:00,  8.32it/s, Batch RMSE=0.0874]\n",
      "Epoch 14/100 [Train]: 100%|██████████| 8/8 [00:02<00:00,  3.42it/s, Batch Loss=0.00429]\n",
      "Epoch 14/100 [Val]: 100%|██████████| 2/2 [00:00<00:00,  8.09it/s, Batch RMSE=0.0955]\n",
      "Epoch 15/100 [Train]: 100%|██████████| 8/8 [00:02<00:00,  3.49it/s, Batch Loss=0.00426]\n",
      "Epoch 15/100 [Val]: 100%|██████████| 2/2 [00:00<00:00,  8.58it/s, Batch RMSE=0.0887]\n"
     ]
    },
    {
     "name": "stdout",
     "output_type": "stream",
     "text": [
      "Early stopping triggered at epoch 16\n"
     ]
    },
    {
     "data": {
      "text/html": [
       "\n",
       "    <style>\n",
       "        .wandb-row {\n",
       "            display: flex;\n",
       "            flex-direction: row;\n",
       "            flex-wrap: wrap;\n",
       "            justify-content: flex-start;\n",
       "            width: 100%;\n",
       "        }\n",
       "        .wandb-col {\n",
       "            display: flex;\n",
       "            flex-direction: column;\n",
       "            flex-basis: 100%;\n",
       "            flex: 1;\n",
       "            padding: 10px;\n",
       "        }\n",
       "    </style>\n",
       "<div class=\"wandb-row\"><div class=\"wandb-col\"><h3>Run history:</h3><br/><table class=\"wandb\"><tr><td>best_val_rmse</td><td>█▄▃▂▂▂▂▁▁▁▁▁▁▁▁</td></tr><tr><td>epoch</td><td>▁▁▂▂▃▃▄▄▅▅▆▆▇▇██</td></tr><tr><td>epoch_train_loss</td><td>█▂▂▂▂▂▂▁▁▁▁▁▁▁▁▁</td></tr><tr><td>epoch_val_loss</td><td>█▄▃▃▂▂▂▂▂▂▁▁▁▁▃▂</td></tr><tr><td>epoch_val_rmse</td><td>█▄▃▂▂▂▂▁▂▁▁▁▁▂▃▂</td></tr><tr><td>lr</td><td>████▇▇▇▆▆▅▅▄▃▃▂▁</td></tr><tr><td>train_loss</td><td>█▂▁▁▁▁▁▁▁▁▁▁▁▁▁▁▁▁▁▁▁▁▁▁▁▁▁▁▁▁▁▁▁▁▁▁▁▁▁▁</td></tr><tr><td>val_loss</td><td>▇█▄▅▃▄▂▃▂▃▂▃▂▂▁▂▂▂▁▂▁▂▁▂▁▂▁▂▂▄▁▂</td></tr><tr><td>val_rmse</td><td>▇█▄▅▃▃▂▃▂▃▂▂▂▂▁▂▂▂▁▂▁▁▁▁▁▁▂▂▂▄▁▂</td></tr></table><br/></div><div class=\"wandb-col\"><h3>Run summary:</h3><br/><table class=\"wandb\"><tr><td>best_val_rmse</td><td>0.08474</td></tr><tr><td>epoch</td><td>15</td></tr><tr><td>epoch_train_loss</td><td>0.00427</td></tr><tr><td>epoch_val_loss</td><td>0.00645</td></tr><tr><td>epoch_val_rmse</td><td>0.08661</td></tr><tr><td>lr</td><td>0.00092</td></tr><tr><td>train_loss</td><td>0.00426</td></tr><tr><td>val_loss</td><td>0.00669</td></tr><tr><td>val_rmse</td><td>0.08874</td></tr></table><br/></div></div>"
      ],
      "text/plain": [
       "<IPython.core.display.HTML object>"
      ]
     },
     "metadata": {},
     "output_type": "display_data"
    },
    {
     "data": {
      "text/html": [
       " View run <strong style=\"color:#cdcd00\">stellar-sweep-7</strong> at: <a href='https://wandb.ai/ychnli-stanford-university/sea-ice-prediction/runs/uc3k1gee' target=\"_blank\">https://wandb.ai/ychnli-stanford-university/sea-ice-prediction/runs/uc3k1gee</a><br/> View project at: <a href='https://wandb.ai/ychnli-stanford-university/sea-ice-prediction' target=\"_blank\">https://wandb.ai/ychnli-stanford-university/sea-ice-prediction</a><br/>Synced 4 W&B file(s), 0 media file(s), 0 artifact file(s) and 0 other file(s)"
      ],
      "text/plain": [
       "<IPython.core.display.HTML object>"
      ]
     },
     "metadata": {},
     "output_type": "display_data"
    },
    {
     "data": {
      "text/html": [
       "Find logs at: <code>./wandb/run-20250531_231806-uc3k1gee/logs</code>"
      ],
      "text/plain": [
       "<IPython.core.display.HTML object>"
      ]
     },
     "metadata": {},
     "output_type": "display_data"
    },
    {
     "name": "stderr",
     "output_type": "stream",
     "text": [
      "\u001b[34m\u001b[1mwandb\u001b[0m: Agent Starting Run: 5jdxxiud with config:\n",
      "\u001b[34m\u001b[1mwandb\u001b[0m: \tbatch_size: 20\n",
      "\u001b[34m\u001b[1mwandb\u001b[0m: \tloss_function_args: 0\n",
      "\u001b[34m\u001b[1mwandb\u001b[0m: \tlr: 0.001130058198351044\n",
      "\u001b[34m\u001b[1mwandb\u001b[0m: \tnum_epochs: 100\n",
      "\u001b[34m\u001b[1mwandb\u001b[0m: \tweight_decay: 3.998605929070112e-05\n"
     ]
    },
    {
     "data": {
      "text/html": [
       "Tracking run with wandb version 0.19.0"
      ],
      "text/plain": [
       "<IPython.core.display.HTML object>"
      ]
     },
     "metadata": {},
     "output_type": "display_data"
    },
    {
     "data": {
      "text/html": [
       "Run data is saved locally in <code>/home/users/yucli/sicpred/wandb/run-20250531_231857-5jdxxiud</code>"
      ],
      "text/plain": [
       "<IPython.core.display.HTML object>"
      ]
     },
     "metadata": {},
     "output_type": "display_data"
    },
    {
     "data": {
      "text/html": [
       "Syncing run <strong><a href='https://wandb.ai/ychnli-stanford-university/sea-ice-prediction/runs/5jdxxiud' target=\"_blank\">feasible-sweep-8</a></strong> to <a href='https://wandb.ai/ychnli-stanford-university/sea-ice-prediction' target=\"_blank\">Weights & Biases</a> (<a href='https://wandb.me/developer-guide' target=\"_blank\">docs</a>)<br/>Sweep page: <a href='https://wandb.ai/ychnli-stanford-university/sea-ice-prediction/sweeps/70ww3ii3' target=\"_blank\">https://wandb.ai/ychnli-stanford-university/sea-ice-prediction/sweeps/70ww3ii3</a>"
      ],
      "text/plain": [
       "<IPython.core.display.HTML object>"
      ]
     },
     "metadata": {},
     "output_type": "display_data"
    },
    {
     "data": {
      "text/html": [
       " View project at <a href='https://wandb.ai/ychnli-stanford-university/sea-ice-prediction' target=\"_blank\">https://wandb.ai/ychnli-stanford-university/sea-ice-prediction</a>"
      ],
      "text/plain": [
       "<IPython.core.display.HTML object>"
      ]
     },
     "metadata": {},
     "output_type": "display_data"
    },
    {
     "data": {
      "text/html": [
       " View sweep at <a href='https://wandb.ai/ychnli-stanford-university/sea-ice-prediction/sweeps/70ww3ii3' target=\"_blank\">https://wandb.ai/ychnli-stanford-university/sea-ice-prediction/sweeps/70ww3ii3</a>"
      ],
      "text/plain": [
       "<IPython.core.display.HTML object>"
      ]
     },
     "metadata": {},
     "output_type": "display_data"
    },
    {
     "data": {
      "text/html": [
       " View run at <a href='https://wandb.ai/ychnli-stanford-university/sea-ice-prediction/runs/5jdxxiud' target=\"_blank\">https://wandb.ai/ychnli-stanford-university/sea-ice-prediction/runs/5jdxxiud</a>"
      ],
      "text/plain": [
       "<IPython.core.display.HTML object>"
      ]
     },
     "metadata": {},
     "output_type": "display_data"
    },
    {
     "name": "stderr",
     "output_type": "stream",
     "text": [
      "/home/groups/earlew/yuchen/miniconda3/envs/sicpred_env_conda/lib/python3.12/site-packages/torch/nn/utils/weight_norm.py:143: FutureWarning: `torch.nn.utils.weight_norm` is deprecated in favor of `torch.nn.utils.parametrizations.weight_norm`.\n",
      "  WeightNorm.apply(module, name, dim)\n",
      "Epoch 0/100 [Train]: 100%|██████████| 19/19 [00:04<00:00,  4.04it/s, Batch Loss=0.0052] \n",
      "Epoch 0/100 [Val]: 100%|██████████| 3/3 [00:00<00:00,  7.98it/s, Batch RMSE=0.0924]\n",
      "Epoch 1/100 [Train]: 100%|██████████| 19/19 [00:04<00:00,  4.17it/s, Batch Loss=0.00544]\n",
      "Epoch 1/100 [Val]: 100%|██████████| 3/3 [00:00<00:00,  9.75it/s, Batch RMSE=0.0899]\n",
      "Epoch 2/100 [Train]: 100%|██████████| 19/19 [00:04<00:00,  4.23it/s, Batch Loss=0.00499]\n",
      "Epoch 2/100 [Val]: 100%|██████████| 3/3 [00:00<00:00,  9.84it/s, Batch RMSE=0.0896]\n",
      "Epoch 3/100 [Train]: 100%|██████████| 19/19 [00:04<00:00,  4.23it/s, Batch Loss=0.0049] \n",
      "Epoch 3/100 [Val]: 100%|██████████| 3/3 [00:00<00:00,  9.59it/s, Batch RMSE=0.0891]\n",
      "Epoch 4/100 [Train]: 100%|██████████| 19/19 [00:04<00:00,  4.22it/s, Batch Loss=0.00481]\n",
      "Epoch 4/100 [Val]: 100%|██████████| 3/3 [00:00<00:00,  9.73it/s, Batch RMSE=0.0882]\n",
      "Epoch 5/100 [Train]: 100%|██████████| 19/19 [00:04<00:00,  4.18it/s, Batch Loss=0.00493]\n",
      "Epoch 5/100 [Val]: 100%|██████████| 3/3 [00:00<00:00,  9.94it/s, Batch RMSE=0.0864]\n",
      "Epoch 6/100 [Train]: 100%|██████████| 19/19 [00:04<00:00,  4.26it/s, Batch Loss=0.00493]\n",
      "Epoch 6/100 [Val]: 100%|██████████| 3/3 [00:00<00:00,  9.82it/s, Batch RMSE=0.085] \n",
      "Epoch 7/100 [Train]: 100%|██████████| 19/19 [00:04<00:00,  4.29it/s, Batch Loss=0.00475]\n",
      "Epoch 7/100 [Val]: 100%|██████████| 3/3 [00:00<00:00,  9.66it/s, Batch RMSE=0.0825]\n",
      "Epoch 8/100 [Train]: 100%|██████████| 19/19 [00:04<00:00,  4.27it/s, Batch Loss=0.00457]\n",
      "Epoch 8/100 [Val]: 100%|██████████| 3/3 [00:00<00:00,  9.94it/s, Batch RMSE=0.0826]\n",
      "Epoch 9/100 [Train]: 100%|██████████| 19/19 [00:04<00:00,  4.24it/s, Batch Loss=0.00491]\n",
      "Epoch 9/100 [Val]: 100%|██████████| 3/3 [00:00<00:00,  9.95it/s, Batch RMSE=0.0829]\n",
      "Epoch 10/100 [Train]: 100%|██████████| 19/19 [00:04<00:00,  3.92it/s, Batch Loss=0.00398]\n",
      "Epoch 10/100 [Val]: 100%|██████████| 3/3 [00:00<00:00,  9.98it/s, Batch RMSE=0.0835]\n",
      "Epoch 11/100 [Train]: 100%|██████████| 19/19 [00:04<00:00,  4.22it/s, Batch Loss=0.00414]\n",
      "Epoch 11/100 [Val]: 100%|██████████| 3/3 [00:00<00:00,  9.66it/s, Batch RMSE=0.0883]\n",
      "Epoch 12/100 [Train]: 100%|██████████| 19/19 [00:04<00:00,  4.25it/s, Batch Loss=0.00433]\n",
      "Epoch 12/100 [Val]: 100%|██████████| 3/3 [00:00<00:00,  9.78it/s, Batch RMSE=0.0861]\n",
      "Epoch 13/100 [Train]: 100%|██████████| 19/19 [00:04<00:00,  4.24it/s, Batch Loss=0.0046] \n",
      "Epoch 13/100 [Val]: 100%|██████████| 3/3 [00:00<00:00,  9.81it/s, Batch RMSE=0.0834]\n",
      "Epoch 14/100 [Train]: 100%|██████████| 19/19 [00:04<00:00,  4.25it/s, Batch Loss=0.00415]\n",
      "Epoch 14/100 [Val]: 100%|██████████| 3/3 [00:00<00:00,  9.82it/s, Batch RMSE=0.0825]\n",
      "Epoch 15/100 [Train]: 100%|██████████| 19/19 [00:04<00:00,  4.21it/s, Batch Loss=0.00421]\n",
      "Epoch 15/100 [Val]: 100%|██████████| 3/3 [00:00<00:00,  9.81it/s, Batch RMSE=0.083] \n",
      "Epoch 16/100 [Train]: 100%|██████████| 19/19 [00:04<00:00,  4.23it/s, Batch Loss=0.00412]\n",
      "Epoch 16/100 [Val]: 100%|██████████| 3/3 [00:00<00:00,  9.74it/s, Batch RMSE=0.0824]\n",
      "Epoch 17/100 [Train]: 100%|██████████| 19/19 [00:04<00:00,  4.14it/s, Batch Loss=0.00397]\n",
      "Epoch 17/100 [Val]: 100%|██████████| 3/3 [00:00<00:00,  9.76it/s, Batch RMSE=0.0834]\n",
      "Epoch 18/100 [Train]: 100%|██████████| 19/19 [00:04<00:00,  4.19it/s, Batch Loss=0.00388]\n",
      "Epoch 18/100 [Val]: 100%|██████████| 3/3 [00:00<00:00,  9.74it/s, Batch RMSE=0.0859]\n",
      "Epoch 19/100 [Train]: 100%|██████████| 19/19 [00:04<00:00,  3.81it/s, Batch Loss=0.00387]\n",
      "Epoch 19/100 [Val]: 100%|██████████| 3/3 [00:00<00:00,  9.83it/s, Batch RMSE=0.0801]\n",
      "Epoch 20/100 [Train]: 100%|██████████| 19/19 [00:04<00:00,  4.24it/s, Batch Loss=0.00548]\n",
      "Epoch 20/100 [Val]: 100%|██████████| 3/3 [00:00<00:00,  9.89it/s, Batch RMSE=0.09]  \n",
      "Epoch 21/100 [Train]: 100%|██████████| 19/19 [00:04<00:00,  4.18it/s, Batch Loss=0.00496]\n",
      "Epoch 21/100 [Val]: 100%|██████████| 3/3 [00:00<00:00,  9.79it/s, Batch RMSE=0.09]  \n",
      "Epoch 22/100 [Train]: 100%|██████████| 19/19 [00:04<00:00,  4.14it/s, Batch Loss=0.0044] \n",
      "Epoch 22/100 [Val]: 100%|██████████| 3/3 [00:00<00:00,  9.41it/s, Batch RMSE=0.09]  \n",
      "Epoch 23/100 [Train]: 100%|██████████| 19/19 [00:04<00:00,  4.15it/s, Batch Loss=0.00456]\n",
      "Epoch 23/100 [Val]: 100%|██████████| 3/3 [00:00<00:00,  9.92it/s, Batch RMSE=0.09]  \n",
      "Epoch 24/100 [Train]: 100%|██████████| 19/19 [00:04<00:00,  4.24it/s, Batch Loss=0.00575]\n",
      "Epoch 24/100 [Val]: 100%|██████████| 3/3 [00:00<00:00,  9.02it/s, Batch RMSE=0.09]  \n"
     ]
    },
    {
     "name": "stdout",
     "output_type": "stream",
     "text": [
      "Early stopping triggered at epoch 25\n"
     ]
    },
    {
     "data": {
      "text/html": [
       "\n",
       "    <style>\n",
       "        .wandb-row {\n",
       "            display: flex;\n",
       "            flex-direction: row;\n",
       "            flex-wrap: wrap;\n",
       "            justify-content: flex-start;\n",
       "            width: 100%;\n",
       "        }\n",
       "        .wandb-col {\n",
       "            display: flex;\n",
       "            flex-direction: column;\n",
       "            flex-basis: 100%;\n",
       "            flex: 1;\n",
       "            padding: 10px;\n",
       "        }\n",
       "    </style>\n",
       "<div class=\"wandb-row\"><div class=\"wandb-col\"><h3>Run history:</h3><br/><table class=\"wandb\"><tr><td>best_val_rmse</td><td>█▆▆▅▅▄▃▂▂▂▂▂▂▂▂▂▁▁▁▁▁▁▁▁</td></tr><tr><td>epoch</td><td>▁▁▂▂▂▂▃▃▃▄▄▄▅▅▅▅▆▆▆▇▇▇▇██</td></tr><tr><td>epoch_train_loss</td><td>█▂▂▂▂▂▂▂▂▂▂▁▁▁▁▁▁▁▁▁▁▂▂▂▂</td></tr><tr><td>epoch_val_loss</td><td>█▆▆▆▅▄▃▂▂▂▂▅▄▃▂▂▂▃▃▁▆▆▆▆▆</td></tr><tr><td>epoch_val_rmse</td><td>█▆▆▅▅▄▃▂▂▂▂▄▄▃▂▂▁▃▃▁▆▆▆▆▆</td></tr><tr><td>lr</td><td>███████▇▇▇▇▆▆▆▆▅▅▄▄▄▃▃▂▂▁</td></tr><tr><td>train_loss</td><td>██▆▅▄▅▃▄▅▆▄▄▃▃▃▄▃▂▃▄▃▃▄▃▃▃▃▁▂▃▃▁▁▁▂▃▆▅▅▃</td></tr><tr><td>val_loss</td><td>▇█▇▅▇▅▇▇▅▄▄▄▃▂▅▃▃▅▂▃▆▅▄▄▂▃▄▂▄▄▅▁▁▇▅▇▇▅▇▅</td></tr><tr><td>val_rmse</td><td>█▇▅▆▇▆▄▅▄▃▄▂▁▄▁▁▂▅▄▅▃▄▁▁▂▃▁▄▃▄▄▇▆▇▅▅▇▅▆▆</td></tr></table><br/></div><div class=\"wandb-col\"><h3>Run summary:</h3><br/><table class=\"wandb\"><tr><td>best_val_rmse</td><td>0.08273</td></tr><tr><td>epoch</td><td>24</td></tr><tr><td>epoch_train_loss</td><td>0.00511</td></tr><tr><td>epoch_val_loss</td><td>0.00664</td></tr><tr><td>epoch_val_rmse</td><td>0.08925</td></tr><tr><td>lr</td><td>0.00098</td></tr><tr><td>train_loss</td><td>0.00575</td></tr><tr><td>val_loss</td><td>0.00676</td></tr><tr><td>val_rmse</td><td>0.09002</td></tr></table><br/></div></div>"
      ],
      "text/plain": [
       "<IPython.core.display.HTML object>"
      ]
     },
     "metadata": {},
     "output_type": "display_data"
    },
    {
     "data": {
      "text/html": [
       " View run <strong style=\"color:#cdcd00\">feasible-sweep-8</strong> at: <a href='https://wandb.ai/ychnli-stanford-university/sea-ice-prediction/runs/5jdxxiud' target=\"_blank\">https://wandb.ai/ychnli-stanford-university/sea-ice-prediction/runs/5jdxxiud</a><br/> View project at: <a href='https://wandb.ai/ychnli-stanford-university/sea-ice-prediction' target=\"_blank\">https://wandb.ai/ychnli-stanford-university/sea-ice-prediction</a><br/>Synced 4 W&B file(s), 0 media file(s), 0 artifact file(s) and 0 other file(s)"
      ],
      "text/plain": [
       "<IPython.core.display.HTML object>"
      ]
     },
     "metadata": {},
     "output_type": "display_data"
    },
    {
     "data": {
      "text/html": [
       "Find logs at: <code>./wandb/run-20250531_231857-5jdxxiud/logs</code>"
      ],
      "text/plain": [
       "<IPython.core.display.HTML object>"
      ]
     },
     "metadata": {},
     "output_type": "display_data"
    },
    {
     "name": "stderr",
     "output_type": "stream",
     "text": [
      "\u001b[34m\u001b[1mwandb\u001b[0m: Agent Starting Run: n9c8hbph with config:\n",
      "\u001b[34m\u001b[1mwandb\u001b[0m: \tbatch_size: 32\n",
      "\u001b[34m\u001b[1mwandb\u001b[0m: \tloss_function_args: 0\n",
      "\u001b[34m\u001b[1mwandb\u001b[0m: \tlr: 0.0001535086936939664\n",
      "\u001b[34m\u001b[1mwandb\u001b[0m: \tnum_epochs: 100\n",
      "\u001b[34m\u001b[1mwandb\u001b[0m: \tweight_decay: 5.2882704580226675e-05\n"
     ]
    },
    {
     "data": {
      "text/html": [
       "Tracking run with wandb version 0.19.0"
      ],
      "text/plain": [
       "<IPython.core.display.HTML object>"
      ]
     },
     "metadata": {},
     "output_type": "display_data"
    },
    {
     "data": {
      "text/html": [
       "Run data is saved locally in <code>/home/users/yucli/sicpred/wandb/run-20250531_232108-n9c8hbph</code>"
      ],
      "text/plain": [
       "<IPython.core.display.HTML object>"
      ]
     },
     "metadata": {},
     "output_type": "display_data"
    },
    {
     "data": {
      "text/html": [
       "Syncing run <strong><a href='https://wandb.ai/ychnli-stanford-university/sea-ice-prediction/runs/n9c8hbph' target=\"_blank\">classic-sweep-9</a></strong> to <a href='https://wandb.ai/ychnli-stanford-university/sea-ice-prediction' target=\"_blank\">Weights & Biases</a> (<a href='https://wandb.me/developer-guide' target=\"_blank\">docs</a>)<br/>Sweep page: <a href='https://wandb.ai/ychnli-stanford-university/sea-ice-prediction/sweeps/70ww3ii3' target=\"_blank\">https://wandb.ai/ychnli-stanford-university/sea-ice-prediction/sweeps/70ww3ii3</a>"
      ],
      "text/plain": [
       "<IPython.core.display.HTML object>"
      ]
     },
     "metadata": {},
     "output_type": "display_data"
    },
    {
     "data": {
      "text/html": [
       " View project at <a href='https://wandb.ai/ychnli-stanford-university/sea-ice-prediction' target=\"_blank\">https://wandb.ai/ychnli-stanford-university/sea-ice-prediction</a>"
      ],
      "text/plain": [
       "<IPython.core.display.HTML object>"
      ]
     },
     "metadata": {},
     "output_type": "display_data"
    },
    {
     "data": {
      "text/html": [
       " View sweep at <a href='https://wandb.ai/ychnli-stanford-university/sea-ice-prediction/sweeps/70ww3ii3' target=\"_blank\">https://wandb.ai/ychnli-stanford-university/sea-ice-prediction/sweeps/70ww3ii3</a>"
      ],
      "text/plain": [
       "<IPython.core.display.HTML object>"
      ]
     },
     "metadata": {},
     "output_type": "display_data"
    },
    {
     "data": {
      "text/html": [
       " View run at <a href='https://wandb.ai/ychnli-stanford-university/sea-ice-prediction/runs/n9c8hbph' target=\"_blank\">https://wandb.ai/ychnli-stanford-university/sea-ice-prediction/runs/n9c8hbph</a>"
      ],
      "text/plain": [
       "<IPython.core.display.HTML object>"
      ]
     },
     "metadata": {},
     "output_type": "display_data"
    },
    {
     "name": "stderr",
     "output_type": "stream",
     "text": [
      "/home/groups/earlew/yuchen/miniconda3/envs/sicpred_env_conda/lib/python3.12/site-packages/torch/nn/utils/weight_norm.py:143: FutureWarning: `torch.nn.utils.weight_norm` is deprecated in favor of `torch.nn.utils.parametrizations.weight_norm`.\n",
      "  WeightNorm.apply(module, name, dim)\n",
      "Epoch 0/100 [Train]: 100%|██████████| 12/12 [00:03<00:00,  3.46it/s, Batch Loss=0.00582]\n",
      "Epoch 0/100 [Val]: 100%|██████████| 2/2 [00:00<00:00,  6.42it/s, Batch RMSE=0.101] \n",
      "Epoch 1/100 [Train]: 100%|██████████| 12/12 [00:03<00:00,  3.75it/s, Batch Loss=0.00522]\n",
      "Epoch 1/100 [Val]: 100%|██████████| 2/2 [00:00<00:00,  7.73it/s, Batch RMSE=0.0927]\n",
      "Epoch 2/100 [Train]: 100%|██████████| 12/12 [00:03<00:00,  3.77it/s, Batch Loss=0.00473]\n",
      "Epoch 2/100 [Val]: 100%|██████████| 2/2 [00:00<00:00,  8.23it/s, Batch RMSE=0.092] \n",
      "Epoch 3/100 [Train]: 100%|██████████| 12/12 [00:03<00:00,  3.75it/s, Batch Loss=0.00495]\n",
      "Epoch 3/100 [Val]: 100%|██████████| 2/2 [00:00<00:00,  8.00it/s, Batch RMSE=0.0914]\n",
      "Epoch 4/100 [Train]: 100%|██████████| 12/12 [00:03<00:00,  3.74it/s, Batch Loss=0.00488]\n",
      "Epoch 4/100 [Val]: 100%|██████████| 2/2 [00:00<00:00,  8.36it/s, Batch RMSE=0.0883]\n",
      "Epoch 5/100 [Train]: 100%|██████████| 12/12 [00:03<00:00,  3.80it/s, Batch Loss=0.00478]\n",
      "Epoch 5/100 [Val]: 100%|██████████| 2/2 [00:00<00:00,  8.29it/s, Batch RMSE=0.0873]\n",
      "Epoch 6/100 [Train]: 100%|██████████| 12/12 [00:03<00:00,  3.83it/s, Batch Loss=0.00432]\n",
      "Epoch 6/100 [Val]: 100%|██████████| 2/2 [00:00<00:00,  8.15it/s, Batch RMSE=0.0867]\n",
      "Epoch 7/100 [Train]: 100%|██████████| 12/12 [00:03<00:00,  3.82it/s, Batch Loss=0.00395]\n",
      "Epoch 7/100 [Val]: 100%|██████████| 2/2 [00:00<00:00,  8.06it/s, Batch RMSE=0.0881]\n",
      "Epoch 8/100 [Train]: 100%|██████████| 12/12 [00:03<00:00,  3.78it/s, Batch Loss=0.00401]\n",
      "Epoch 8/100 [Val]: 100%|██████████| 2/2 [00:00<00:00,  7.73it/s, Batch RMSE=0.085] \n",
      "Epoch 9/100 [Train]: 100%|██████████| 12/12 [00:03<00:00,  3.76it/s, Batch Loss=0.00384]\n",
      "Epoch 9/100 [Val]: 100%|██████████| 2/2 [00:00<00:00,  8.11it/s, Batch RMSE=0.0861]\n",
      "Epoch 10/100 [Train]: 100%|██████████| 12/12 [00:03<00:00,  3.33it/s, Batch Loss=0.00364]\n",
      "Epoch 10/100 [Val]: 100%|██████████| 2/2 [00:00<00:00,  8.31it/s, Batch RMSE=0.0879]\n",
      "Epoch 11/100 [Train]: 100%|██████████| 12/12 [00:03<00:00,  3.82it/s, Batch Loss=0.0036] \n",
      "Epoch 11/100 [Val]: 100%|██████████| 2/2 [00:00<00:00,  8.29it/s, Batch RMSE=0.0857]\n",
      "Epoch 12/100 [Train]: 100%|██████████| 12/12 [00:03<00:00,  3.81it/s, Batch Loss=0.00344]\n",
      "Epoch 12/100 [Val]: 100%|██████████| 2/2 [00:00<00:00,  6.76it/s, Batch RMSE=0.086] \n",
      "Epoch 13/100 [Train]: 100%|██████████| 12/12 [00:03<00:00,  3.79it/s, Batch Loss=0.00334]\n",
      "Epoch 13/100 [Val]: 100%|██████████| 2/2 [00:00<00:00,  8.19it/s, Batch RMSE=0.0841]\n",
      "Epoch 14/100 [Train]: 100%|██████████| 12/12 [00:03<00:00,  3.79it/s, Batch Loss=0.00306]\n",
      "Epoch 14/100 [Val]: 100%|██████████| 2/2 [00:00<00:00,  8.21it/s, Batch RMSE=0.087] \n",
      "Epoch 15/100 [Train]: 100%|██████████| 12/12 [00:03<00:00,  3.85it/s, Batch Loss=0.0031] \n",
      "Epoch 15/100 [Val]: 100%|██████████| 2/2 [00:00<00:00,  8.22it/s, Batch RMSE=0.0873]\n",
      "Epoch 16/100 [Train]: 100%|██████████| 12/12 [00:03<00:00,  3.83it/s, Batch Loss=0.00294]\n",
      "Epoch 16/100 [Val]: 100%|██████████| 2/2 [00:00<00:00,  8.30it/s, Batch RMSE=0.0864]\n",
      "Epoch 17/100 [Train]: 100%|██████████| 12/12 [00:03<00:00,  3.82it/s, Batch Loss=0.00304]\n",
      "Epoch 17/100 [Val]: 100%|██████████| 2/2 [00:00<00:00,  8.47it/s, Batch RMSE=0.0848]\n",
      "Epoch 18/100 [Train]: 100%|██████████| 12/12 [00:03<00:00,  3.85it/s, Batch Loss=0.00291]\n",
      "Epoch 18/100 [Val]: 100%|██████████| 2/2 [00:00<00:00,  7.79it/s, Batch RMSE=0.0842]\n",
      "Epoch 19/100 [Train]: 100%|██████████| 12/12 [00:03<00:00,  3.82it/s, Batch Loss=0.00259]\n",
      "Epoch 19/100 [Val]: 100%|██████████| 2/2 [00:00<00:00,  7.87it/s, Batch RMSE=0.0858]\n",
      "Epoch 20/100 [Train]: 100%|██████████| 12/12 [00:03<00:00,  3.79it/s, Batch Loss=0.00281]\n",
      "Epoch 20/100 [Val]: 100%|██████████| 2/2 [00:00<00:00,  7.87it/s, Batch RMSE=0.0829]\n",
      "Epoch 21/100 [Train]: 100%|██████████| 12/12 [00:03<00:00,  3.83it/s, Batch Loss=0.00261]\n",
      "Epoch 21/100 [Val]: 100%|██████████| 2/2 [00:00<00:00,  8.27it/s, Batch RMSE=0.0853]\n",
      "Epoch 22/100 [Train]: 100%|██████████| 12/12 [00:03<00:00,  3.87it/s, Batch Loss=0.00249]\n",
      "Epoch 22/100 [Val]: 100%|██████████| 2/2 [00:00<00:00,  8.37it/s, Batch RMSE=0.0857]\n",
      "Epoch 23/100 [Train]: 100%|██████████| 12/12 [00:03<00:00,  3.88it/s, Batch Loss=0.00228]\n",
      "Epoch 23/100 [Val]: 100%|██████████| 2/2 [00:00<00:00,  7.73it/s, Batch RMSE=0.0865]\n",
      "Epoch 24/100 [Train]: 100%|██████████| 12/12 [00:03<00:00,  3.86it/s, Batch Loss=0.00231]\n",
      "Epoch 24/100 [Val]: 100%|██████████| 2/2 [00:00<00:00,  8.23it/s, Batch RMSE=0.085] \n",
      "Epoch 25/100 [Train]: 100%|██████████| 12/12 [00:03<00:00,  3.91it/s, Batch Loss=0.0023] \n",
      "Epoch 25/100 [Val]: 100%|██████████| 2/2 [00:00<00:00,  8.11it/s, Batch RMSE=0.0854]\n"
     ]
    },
    {
     "name": "stdout",
     "output_type": "stream",
     "text": [
      "Early stopping triggered at epoch 26\n"
     ]
    },
    {
     "data": {
      "text/html": [
       "\n",
       "    <style>\n",
       "        .wandb-row {\n",
       "            display: flex;\n",
       "            flex-direction: row;\n",
       "            flex-wrap: wrap;\n",
       "            justify-content: flex-start;\n",
       "            width: 100%;\n",
       "        }\n",
       "        .wandb-col {\n",
       "            display: flex;\n",
       "            flex-direction: column;\n",
       "            flex-basis: 100%;\n",
       "            flex: 1;\n",
       "            padding: 10px;\n",
       "        }\n",
       "    </style>\n",
       "<div class=\"wandb-row\"><div class=\"wandb-col\"><h3>Run history:</h3><br/><table class=\"wandb\"><tr><td>best_val_rmse</td><td>█▄▄▄▃▃▂▂▂▂▂▂▂▂▂▂▂▂▁▁▁▁▁▁▁</td></tr><tr><td>epoch</td><td>▁▁▂▂▂▂▃▃▃▄▄▄▄▅▅▅▅▆▆▆▇▇▇▇██</td></tr><tr><td>epoch_train_loss</td><td>█▅▅▄▄▄▄▄▃▃▃▃▃▂▂▂▂▂▂▂▁▁▁▁▁▁</td></tr><tr><td>epoch_val_loss</td><td>█▄▄▄▃▃▂▃▂▂▃▂▂▂▂▂▂▂▁▂▁▂▂▂▂▂</td></tr><tr><td>epoch_val_rmse</td><td>█▄▄▄▃▃▂▃▂▂▃▂▂▂▂▂▂▂▁▂▁▂▂▂▂▂</td></tr><tr><td>lr</td><td>███████▇▇▇▇▇▆▆▆▅▅▅▄▄▃▃▃▂▂▁</td></tr><tr><td>train_loss</td><td>██▇▇▇▆▅▆▅▆▅▄▄▄▄▄▃▃▃▃▂▃▂▃▂▂▂▂▂▁▁▂▂▁▁▁▁▁▁▁</td></tr><tr><td>val_loss</td><td>▇█▄▅▃▃▄▃▃▂▂▂▃▃▂▂▂▂▃▂▂▂▁▂▂▂▂▁▁▁▂▁▂▁▂▂▂▂▁▂</td></tr><tr><td>val_rmse</td><td>▇█▄▅▃▃▄▃▃▃▂▃▃▂▂▃▃▂▂▂▂▁▂▃▂▂▂▂▁▂▁▁▂▂▂▂▂▂▂▂</td></tr></table><br/></div><div class=\"wandb-col\"><h3>Run summary:</h3><br/><table class=\"wandb\"><tr><td>best_val_rmse</td><td>0.08347</td></tr><tr><td>epoch</td><td>25</td></tr><tr><td>epoch_train_loss</td><td>0.00226</td></tr><tr><td>epoch_val_loss</td><td>0.00604</td></tr><tr><td>epoch_val_rmse</td><td>0.08533</td></tr><tr><td>lr</td><td>0.00013</td></tr><tr><td>train_loss</td><td>0.0023</td></tr><tr><td>val_loss</td><td>0.00603</td></tr><tr><td>val_rmse</td><td>0.08543</td></tr></table><br/></div></div>"
      ],
      "text/plain": [
       "<IPython.core.display.HTML object>"
      ]
     },
     "metadata": {},
     "output_type": "display_data"
    },
    {
     "data": {
      "text/html": [
       " View run <strong style=\"color:#cdcd00\">classic-sweep-9</strong> at: <a href='https://wandb.ai/ychnli-stanford-university/sea-ice-prediction/runs/n9c8hbph' target=\"_blank\">https://wandb.ai/ychnli-stanford-university/sea-ice-prediction/runs/n9c8hbph</a><br/> View project at: <a href='https://wandb.ai/ychnli-stanford-university/sea-ice-prediction' target=\"_blank\">https://wandb.ai/ychnli-stanford-university/sea-ice-prediction</a><br/>Synced 4 W&B file(s), 0 media file(s), 0 artifact file(s) and 0 other file(s)"
      ],
      "text/plain": [
       "<IPython.core.display.HTML object>"
      ]
     },
     "metadata": {},
     "output_type": "display_data"
    },
    {
     "data": {
      "text/html": [
       "Find logs at: <code>./wandb/run-20250531_232108-n9c8hbph/logs</code>"
      ],
      "text/plain": [
       "<IPython.core.display.HTML object>"
      ]
     },
     "metadata": {},
     "output_type": "display_data"
    },
    {
     "name": "stderr",
     "output_type": "stream",
     "text": [
      "\u001b[34m\u001b[1mwandb\u001b[0m: Agent Starting Run: bmm25s9n with config:\n",
      "\u001b[34m\u001b[1mwandb\u001b[0m: \tbatch_size: 20\n",
      "\u001b[34m\u001b[1mwandb\u001b[0m: \tloss_function_args: 0\n",
      "\u001b[34m\u001b[1mwandb\u001b[0m: \tlr: 0.0006619855198837095\n",
      "\u001b[34m\u001b[1mwandb\u001b[0m: \tnum_epochs: 100\n",
      "\u001b[34m\u001b[1mwandb\u001b[0m: \tweight_decay: 5.6786756683882e-07\n"
     ]
    },
    {
     "data": {
      "text/html": [
       "Tracking run with wandb version 0.19.0"
      ],
      "text/plain": [
       "<IPython.core.display.HTML object>"
      ]
     },
     "metadata": {},
     "output_type": "display_data"
    },
    {
     "data": {
      "text/html": [
       "Run data is saved locally in <code>/home/users/yucli/sicpred/wandb/run-20250531_232250-bmm25s9n</code>"
      ],
      "text/plain": [
       "<IPython.core.display.HTML object>"
      ]
     },
     "metadata": {},
     "output_type": "display_data"
    },
    {
     "data": {
      "text/html": [
       "Syncing run <strong><a href='https://wandb.ai/ychnli-stanford-university/sea-ice-prediction/runs/bmm25s9n' target=\"_blank\">toasty-sweep-10</a></strong> to <a href='https://wandb.ai/ychnli-stanford-university/sea-ice-prediction' target=\"_blank\">Weights & Biases</a> (<a href='https://wandb.me/developer-guide' target=\"_blank\">docs</a>)<br/>Sweep page: <a href='https://wandb.ai/ychnli-stanford-university/sea-ice-prediction/sweeps/70ww3ii3' target=\"_blank\">https://wandb.ai/ychnli-stanford-university/sea-ice-prediction/sweeps/70ww3ii3</a>"
      ],
      "text/plain": [
       "<IPython.core.display.HTML object>"
      ]
     },
     "metadata": {},
     "output_type": "display_data"
    },
    {
     "data": {
      "text/html": [
       " View project at <a href='https://wandb.ai/ychnli-stanford-university/sea-ice-prediction' target=\"_blank\">https://wandb.ai/ychnli-stanford-university/sea-ice-prediction</a>"
      ],
      "text/plain": [
       "<IPython.core.display.HTML object>"
      ]
     },
     "metadata": {},
     "output_type": "display_data"
    },
    {
     "data": {
      "text/html": [
       " View sweep at <a href='https://wandb.ai/ychnli-stanford-university/sea-ice-prediction/sweeps/70ww3ii3' target=\"_blank\">https://wandb.ai/ychnli-stanford-university/sea-ice-prediction/sweeps/70ww3ii3</a>"
      ],
      "text/plain": [
       "<IPython.core.display.HTML object>"
      ]
     },
     "metadata": {},
     "output_type": "display_data"
    },
    {
     "data": {
      "text/html": [
       " View run at <a href='https://wandb.ai/ychnli-stanford-university/sea-ice-prediction/runs/bmm25s9n' target=\"_blank\">https://wandb.ai/ychnli-stanford-university/sea-ice-prediction/runs/bmm25s9n</a>"
      ],
      "text/plain": [
       "<IPython.core.display.HTML object>"
      ]
     },
     "metadata": {},
     "output_type": "display_data"
    },
    {
     "name": "stderr",
     "output_type": "stream",
     "text": [
      "/home/groups/earlew/yuchen/miniconda3/envs/sicpred_env_conda/lib/python3.12/site-packages/torch/nn/utils/weight_norm.py:143: FutureWarning: `torch.nn.utils.weight_norm` is deprecated in favor of `torch.nn.utils.parametrizations.weight_norm`.\n",
      "  WeightNorm.apply(module, name, dim)\n",
      "Epoch 0/100 [Train]: 100%|██████████| 19/19 [00:04<00:00,  4.03it/s, Batch Loss=0.0055] \n",
      "Epoch 0/100 [Val]: 100%|██████████| 3/3 [00:00<00:00,  8.18it/s, Batch RMSE=0.0905]\n",
      "Epoch 1/100 [Train]: 100%|██████████| 19/19 [00:04<00:00,  4.19it/s, Batch Loss=0.00501]\n",
      "Epoch 1/100 [Val]: 100%|██████████| 3/3 [00:00<00:00,  9.89it/s, Batch RMSE=0.0891]\n",
      "Epoch 2/100 [Train]: 100%|██████████| 19/19 [00:04<00:00,  4.21it/s, Batch Loss=0.00474]\n",
      "Epoch 2/100 [Val]: 100%|██████████| 3/3 [00:00<00:00,  9.89it/s, Batch RMSE=0.0856]\n",
      "Epoch 3/100 [Train]: 100%|██████████| 19/19 [00:04<00:00,  4.23it/s, Batch Loss=0.00466]\n",
      "Epoch 3/100 [Val]: 100%|██████████| 3/3 [00:00<00:00,  9.81it/s, Batch RMSE=0.0826]\n",
      "Epoch 4/100 [Train]: 100%|██████████| 19/19 [00:04<00:00,  4.24it/s, Batch Loss=0.00489]\n",
      "Epoch 4/100 [Val]: 100%|██████████| 3/3 [00:00<00:00,  9.75it/s, Batch RMSE=0.0846]\n",
      "Epoch 5/100 [Train]: 100%|██████████| 19/19 [00:04<00:00,  4.20it/s, Batch Loss=0.00467]\n",
      "Epoch 5/100 [Val]: 100%|██████████| 3/3 [00:00<00:00,  9.65it/s, Batch RMSE=0.0821]\n",
      "Epoch 6/100 [Train]: 100%|██████████| 19/19 [00:04<00:00,  4.24it/s, Batch Loss=0.0047] \n",
      "Epoch 6/100 [Val]: 100%|██████████| 3/3 [00:00<00:00,  9.89it/s, Batch RMSE=0.0828]\n",
      "Epoch 7/100 [Train]: 100%|██████████| 19/19 [00:04<00:00,  4.21it/s, Batch Loss=0.0041] \n",
      "Epoch 7/100 [Val]: 100%|██████████| 3/3 [00:00<00:00,  9.86it/s, Batch RMSE=0.0852]\n",
      "Epoch 8/100 [Train]: 100%|██████████| 19/19 [00:04<00:00,  4.19it/s, Batch Loss=0.00431]\n",
      "Epoch 8/100 [Val]: 100%|██████████| 3/3 [00:00<00:00,  9.81it/s, Batch RMSE=0.0836]\n",
      "Epoch 9/100 [Train]: 100%|██████████| 19/19 [00:04<00:00,  3.81it/s, Batch Loss=0.00425]\n",
      "Epoch 9/100 [Val]: 100%|██████████| 3/3 [00:00<00:00,  9.70it/s, Batch RMSE=0.0828]\n",
      "Epoch 10/100 [Train]: 100%|██████████| 19/19 [00:04<00:00,  4.04it/s, Batch Loss=0.00364]\n",
      "Epoch 10/100 [Val]: 100%|██████████| 3/3 [00:00<00:00,  9.85it/s, Batch RMSE=0.082] \n",
      "Epoch 11/100 [Train]: 100%|██████████| 19/19 [00:04<00:00,  4.16it/s, Batch Loss=0.00395]\n",
      "Epoch 11/100 [Val]: 100%|██████████| 3/3 [00:00<00:00,  9.76it/s, Batch RMSE=0.0854]\n",
      "Epoch 12/100 [Train]: 100%|██████████| 19/19 [00:04<00:00,  4.16it/s, Batch Loss=0.00358]\n",
      "Epoch 12/100 [Val]: 100%|██████████| 3/3 [00:00<00:00,  9.73it/s, Batch RMSE=0.0809]\n",
      "Epoch 13/100 [Train]: 100%|██████████| 19/19 [00:04<00:00,  4.20it/s, Batch Loss=0.00328]\n",
      "Epoch 13/100 [Val]: 100%|██████████| 3/3 [00:00<00:00,  9.87it/s, Batch RMSE=0.0799]\n",
      "Epoch 14/100 [Train]: 100%|██████████| 19/19 [00:04<00:00,  4.20it/s, Batch Loss=0.00314]\n",
      "Epoch 14/100 [Val]: 100%|██████████| 3/3 [00:00<00:00,  9.72it/s, Batch RMSE=0.083] \n",
      "Epoch 15/100 [Train]: 100%|██████████| 19/19 [00:04<00:00,  4.17it/s, Batch Loss=0.00338]\n",
      "Epoch 15/100 [Val]: 100%|██████████| 3/3 [00:00<00:00,  9.82it/s, Batch RMSE=0.0797]\n",
      "Epoch 16/100 [Train]: 100%|██████████| 19/19 [00:04<00:00,  4.25it/s, Batch Loss=0.00302]\n",
      "Epoch 16/100 [Val]: 100%|██████████| 3/3 [00:00<00:00, 10.01it/s, Batch RMSE=0.0851]\n",
      "Epoch 17/100 [Train]: 100%|██████████| 19/19 [00:04<00:00,  4.27it/s, Batch Loss=0.00283]\n",
      "Epoch 17/100 [Val]: 100%|██████████| 3/3 [00:00<00:00, 10.04it/s, Batch RMSE=0.0822]\n",
      "Epoch 18/100 [Train]: 100%|██████████| 19/19 [00:04<00:00,  4.26it/s, Batch Loss=0.00281]\n",
      "Epoch 18/100 [Val]: 100%|██████████| 3/3 [00:00<00:00,  9.74it/s, Batch RMSE=0.0832]\n"
     ]
    },
    {
     "name": "stdout",
     "output_type": "stream",
     "text": [
      "Early stopping triggered at epoch 19\n"
     ]
    },
    {
     "data": {
      "text/html": [
       "\n",
       "    <style>\n",
       "        .wandb-row {\n",
       "            display: flex;\n",
       "            flex-direction: row;\n",
       "            flex-wrap: wrap;\n",
       "            justify-content: flex-start;\n",
       "            width: 100%;\n",
       "        }\n",
       "        .wandb-col {\n",
       "            display: flex;\n",
       "            flex-direction: column;\n",
       "            flex-basis: 100%;\n",
       "            flex: 1;\n",
       "            padding: 10px;\n",
       "        }\n",
       "    </style>\n",
       "<div class=\"wandb-row\"><div class=\"wandb-col\"><h3>Run history:</h3><br/><table class=\"wandb\"><tr><td>best_val_rmse</td><td>█▇▄▃▃▂▂▂▂▂▁▁▁▁▁▁▁▁</td></tr><tr><td>epoch</td><td>▁▁▂▂▃▃▃▄▄▅▅▅▆▆▆▇▇██</td></tr><tr><td>epoch_train_loss</td><td>█▄▄▄▄▄▄▃▃▃▃▂▂▂▂▂▁▁▁</td></tr><tr><td>epoch_val_loss</td><td>█▇▄▃▄▂▃▄▃▂▂▃▂▁▃▁▄▃▃</td></tr><tr><td>epoch_val_rmse</td><td>█▇▄▃▄▂▃▄▃▂▁▃▃▁▃▁▃▃▃</td></tr><tr><td>lr</td><td>█████▇▇▇▇▆▆▅▅▄▄▃▂▂▁</td></tr><tr><td>train_loss</td><td>█▅▃▃▃▃▃▃▃▃▃▃▃▃▂▂▂▂▃▂▂▂▂▁▂▂▂▂▂▁▁▁▁▁▁▁▁▁▁▁</td></tr><tr><td>val_loss</td><td>▇█▇▆▄▆▃▃▆▄▅▃▃▆▃▃▅▆▃▃▃▅▂▅▃▃▂▆▁▁▄▃▆▁▁▄▆▃▇▃</td></tr><tr><td>val_rmse</td><td>█▆█▇▅▆▄▅▅▃▆▄▄▅▃▆▃▃▃▆▃▅▂▃▅▂▃▄▆▃▁▁▆▃▁▃▅▃▂▃</td></tr></table><br/></div><div class=\"wandb-col\"><h3>Run summary:</h3><br/><table class=\"wandb\"><tr><td>best_val_rmse</td><td>0.08269</td></tr><tr><td>epoch</td><td>18</td></tr><tr><td>epoch_train_loss</td><td>0.00278</td></tr><tr><td>epoch_val_loss</td><td>0.00598</td></tr><tr><td>epoch_val_rmse</td><td>0.08506</td></tr><tr><td>lr</td><td>0.00061</td></tr><tr><td>train_loss</td><td>0.00281</td></tr><tr><td>val_loss</td><td>0.00577</td></tr><tr><td>val_rmse</td><td>0.08315</td></tr></table><br/></div></div>"
      ],
      "text/plain": [
       "<IPython.core.display.HTML object>"
      ]
     },
     "metadata": {},
     "output_type": "display_data"
    },
    {
     "data": {
      "text/html": [
       " View run <strong style=\"color:#cdcd00\">toasty-sweep-10</strong> at: <a href='https://wandb.ai/ychnli-stanford-university/sea-ice-prediction/runs/bmm25s9n' target=\"_blank\">https://wandb.ai/ychnli-stanford-university/sea-ice-prediction/runs/bmm25s9n</a><br/> View project at: <a href='https://wandb.ai/ychnli-stanford-university/sea-ice-prediction' target=\"_blank\">https://wandb.ai/ychnli-stanford-university/sea-ice-prediction</a><br/>Synced 4 W&B file(s), 0 media file(s), 0 artifact file(s) and 0 other file(s)"
      ],
      "text/plain": [
       "<IPython.core.display.HTML object>"
      ]
     },
     "metadata": {},
     "output_type": "display_data"
    },
    {
     "data": {
      "text/html": [
       "Find logs at: <code>./wandb/run-20250531_232250-bmm25s9n/logs</code>"
      ],
      "text/plain": [
       "<IPython.core.display.HTML object>"
      ]
     },
     "metadata": {},
     "output_type": "display_data"
    },
    {
     "name": "stderr",
     "output_type": "stream",
     "text": [
      "\u001b[34m\u001b[1mwandb\u001b[0m: Agent Starting Run: au2s0nse with config:\n",
      "\u001b[34m\u001b[1mwandb\u001b[0m: \tbatch_size: 20\n",
      "\u001b[34m\u001b[1mwandb\u001b[0m: \tloss_function_args: 0\n",
      "\u001b[34m\u001b[1mwandb\u001b[0m: \tlr: 0.001218962688683476\n",
      "\u001b[34m\u001b[1mwandb\u001b[0m: \tnum_epochs: 100\n",
      "\u001b[34m\u001b[1mwandb\u001b[0m: \tweight_decay: 3.666424647316865e-05\n"
     ]
    },
    {
     "data": {
      "text/html": [
       "Tracking run with wandb version 0.19.0"
      ],
      "text/plain": [
       "<IPython.core.display.HTML object>"
      ]
     },
     "metadata": {},
     "output_type": "display_data"
    },
    {
     "data": {
      "text/html": [
       "Run data is saved locally in <code>/home/users/yucli/sicpred/wandb/run-20250531_232431-au2s0nse</code>"
      ],
      "text/plain": [
       "<IPython.core.display.HTML object>"
      ]
     },
     "metadata": {},
     "output_type": "display_data"
    },
    {
     "data": {
      "text/html": [
       "Syncing run <strong><a href='https://wandb.ai/ychnli-stanford-university/sea-ice-prediction/runs/au2s0nse' target=\"_blank\">wild-sweep-11</a></strong> to <a href='https://wandb.ai/ychnli-stanford-university/sea-ice-prediction' target=\"_blank\">Weights & Biases</a> (<a href='https://wandb.me/developer-guide' target=\"_blank\">docs</a>)<br/>Sweep page: <a href='https://wandb.ai/ychnli-stanford-university/sea-ice-prediction/sweeps/70ww3ii3' target=\"_blank\">https://wandb.ai/ychnli-stanford-university/sea-ice-prediction/sweeps/70ww3ii3</a>"
      ],
      "text/plain": [
       "<IPython.core.display.HTML object>"
      ]
     },
     "metadata": {},
     "output_type": "display_data"
    },
    {
     "data": {
      "text/html": [
       " View project at <a href='https://wandb.ai/ychnli-stanford-university/sea-ice-prediction' target=\"_blank\">https://wandb.ai/ychnli-stanford-university/sea-ice-prediction</a>"
      ],
      "text/plain": [
       "<IPython.core.display.HTML object>"
      ]
     },
     "metadata": {},
     "output_type": "display_data"
    },
    {
     "data": {
      "text/html": [
       " View sweep at <a href='https://wandb.ai/ychnli-stanford-university/sea-ice-prediction/sweeps/70ww3ii3' target=\"_blank\">https://wandb.ai/ychnli-stanford-university/sea-ice-prediction/sweeps/70ww3ii3</a>"
      ],
      "text/plain": [
       "<IPython.core.display.HTML object>"
      ]
     },
     "metadata": {},
     "output_type": "display_data"
    },
    {
     "data": {
      "text/html": [
       " View run at <a href='https://wandb.ai/ychnli-stanford-university/sea-ice-prediction/runs/au2s0nse' target=\"_blank\">https://wandb.ai/ychnli-stanford-university/sea-ice-prediction/runs/au2s0nse</a>"
      ],
      "text/plain": [
       "<IPython.core.display.HTML object>"
      ]
     },
     "metadata": {},
     "output_type": "display_data"
    },
    {
     "name": "stderr",
     "output_type": "stream",
     "text": [
      "/home/groups/earlew/yuchen/miniconda3/envs/sicpred_env_conda/lib/python3.12/site-packages/torch/nn/utils/weight_norm.py:143: FutureWarning: `torch.nn.utils.weight_norm` is deprecated in favor of `torch.nn.utils.parametrizations.weight_norm`.\n",
      "  WeightNorm.apply(module, name, dim)\n",
      "Epoch 0/100 [Train]: 100%|██████████| 19/19 [00:04<00:00,  4.02it/s, Batch Loss=0.005]  \n",
      "Epoch 0/100 [Val]: 100%|██████████| 3/3 [00:00<00:00,  8.04it/s, Batch RMSE=0.0916]\n",
      "Epoch 1/100 [Train]: 100%|██████████| 19/19 [00:04<00:00,  4.20it/s, Batch Loss=0.00507]\n",
      "Epoch 1/100 [Val]: 100%|██████████| 3/3 [00:00<00:00, 10.00it/s, Batch RMSE=0.089] \n",
      "Epoch 2/100 [Train]: 100%|██████████| 19/19 [00:04<00:00,  4.10it/s, Batch Loss=0.00566]\n",
      "Epoch 2/100 [Val]: 100%|██████████| 3/3 [00:00<00:00,  9.73it/s, Batch RMSE=0.0874]\n",
      "Epoch 3/100 [Train]: 100%|██████████| 19/19 [00:04<00:00,  4.20it/s, Batch Loss=0.00518]\n",
      "Epoch 3/100 [Val]: 100%|██████████| 3/3 [00:00<00:00,  9.88it/s, Batch RMSE=0.0872]\n",
      "Epoch 4/100 [Train]: 100%|██████████| 19/19 [00:04<00:00,  4.13it/s, Batch Loss=0.005]  \n",
      "Epoch 4/100 [Val]: 100%|██████████| 3/3 [00:00<00:00,  9.88it/s, Batch RMSE=0.0853]\n",
      "Epoch 5/100 [Train]: 100%|██████████| 19/19 [00:04<00:00,  4.24it/s, Batch Loss=0.00469]\n",
      "Epoch 5/100 [Val]: 100%|██████████| 3/3 [00:00<00:00,  9.85it/s, Batch RMSE=0.0843]\n",
      "Epoch 6/100 [Train]: 100%|██████████| 19/19 [00:04<00:00,  4.23it/s, Batch Loss=0.0046] \n",
      "Epoch 6/100 [Val]: 100%|██████████| 3/3 [00:00<00:00,  9.86it/s, Batch RMSE=0.0845]\n",
      "Epoch 7/100 [Train]: 100%|██████████| 19/19 [00:04<00:00,  4.36it/s, Batch Loss=0.00463]\n",
      "Epoch 7/100 [Val]: 100%|██████████| 3/3 [00:00<00:00, 10.52it/s, Batch RMSE=0.0829]\n",
      "Epoch 8/100 [Train]: 100%|██████████| 19/19 [00:04<00:00,  4.62it/s, Batch Loss=0.00443]\n",
      "Epoch 8/100 [Val]: 100%|██████████| 3/3 [00:00<00:00, 10.90it/s, Batch RMSE=0.0825]\n",
      "Epoch 9/100 [Train]: 100%|██████████| 19/19 [00:03<00:00,  4.76it/s, Batch Loss=0.00446]\n",
      "Epoch 9/100 [Val]: 100%|██████████| 3/3 [00:00<00:00, 11.15it/s, Batch RMSE=0.0815]\n",
      "Epoch 10/100 [Train]: 100%|██████████| 19/19 [00:03<00:00,  4.77it/s, Batch Loss=0.0044] \n",
      "Epoch 10/100 [Val]: 100%|██████████| 3/3 [00:00<00:00, 11.17it/s, Batch RMSE=0.0829]\n",
      "Epoch 11/100 [Train]: 100%|██████████| 19/19 [00:04<00:00,  4.75it/s, Batch Loss=0.00399]\n",
      "Epoch 11/100 [Val]: 100%|██████████| 3/3 [00:00<00:00, 10.59it/s, Batch RMSE=0.0854]\n",
      "Epoch 12/100 [Train]: 100%|██████████| 19/19 [00:04<00:00,  4.55it/s, Batch Loss=0.00437]\n",
      "Epoch 12/100 [Val]: 100%|██████████| 3/3 [00:00<00:00, 10.17it/s, Batch RMSE=0.0852]\n"
     ]
    },
    {
     "name": "stdout",
     "output_type": "stream",
     "text": [
      "Early stopping triggered at epoch 13\n"
     ]
    },
    {
     "data": {
      "text/html": [
       "\n",
       "    <style>\n",
       "        .wandb-row {\n",
       "            display: flex;\n",
       "            flex-direction: row;\n",
       "            flex-wrap: wrap;\n",
       "            justify-content: flex-start;\n",
       "            width: 100%;\n",
       "        }\n",
       "        .wandb-col {\n",
       "            display: flex;\n",
       "            flex-direction: column;\n",
       "            flex-basis: 100%;\n",
       "            flex: 1;\n",
       "            padding: 10px;\n",
       "        }\n",
       "    </style>\n",
       "<div class=\"wandb-row\"><div class=\"wandb-col\"><h3>Run history:</h3><br/><table class=\"wandb\"><tr><td>best_val_rmse</td><td>█▅▃▃▂▂▂▁▁▁▁▁</td></tr><tr><td>epoch</td><td>▁▂▂▃▃▄▅▅▆▆▇▇█</td></tr><tr><td>epoch_train_loss</td><td>█▂▂▁▁▁▁▁▁▁▁▁▁</td></tr><tr><td>epoch_val_loss</td><td>█▅▄▃▂▂▂▁▁▁▁▃▅</td></tr><tr><td>epoch_val_rmse</td><td>█▅▃▃▂▂▂▁▁▁▁▄▅</td></tr><tr><td>lr</td><td>████▇▇▆▆▅▄▃▂▁</td></tr><tr><td>train_loss</td><td>█▂▂▁▁▁▁▁▁▁▁▁▁▁▁▁▁▁▁▁▁▁▁▁▁▁▁▁▁▁▁▁▁▁▁▁▁▁▁▁</td></tr><tr><td>val_loss</td><td>█▅▆▅▄▅▄▃▄▄▃▄▄▂▃▄▂▂▄▂▂▃▂▂▃▂▁▄▂▁▄▂▂▅▃▃▆▄▃</td></tr><tr><td>val_rmse</td><td>█▆▆▅▄▅▄▃▄▄▃▄▄▂▃▄▂▂▄▂▂▃▂▂▃▂▁▄▂▁▄▂▂▅▄▃▆▅▃</td></tr></table><br/></div><div class=\"wandb-col\"><h3>Run summary:</h3><br/><table class=\"wandb\"><tr><td>best_val_rmse</td><td>0.08423</td></tr><tr><td>epoch</td><td>12</td></tr><tr><td>epoch_train_loss</td><td>0.00432</td></tr><tr><td>epoch_val_loss</td><td>0.00651</td></tr><tr><td>epoch_val_rmse</td><td>0.08875</td></tr><tr><td>lr</td><td>0.00118</td></tr><tr><td>train_loss</td><td>0.00437</td></tr><tr><td>val_loss</td><td>0.00606</td></tr><tr><td>val_rmse</td><td>0.08522</td></tr></table><br/></div></div>"
      ],
      "text/plain": [
       "<IPython.core.display.HTML object>"
      ]
     },
     "metadata": {},
     "output_type": "display_data"
    },
    {
     "data": {
      "text/html": [
       " View run <strong style=\"color:#cdcd00\">wild-sweep-11</strong> at: <a href='https://wandb.ai/ychnli-stanford-university/sea-ice-prediction/runs/au2s0nse' target=\"_blank\">https://wandb.ai/ychnli-stanford-university/sea-ice-prediction/runs/au2s0nse</a><br/> View project at: <a href='https://wandb.ai/ychnli-stanford-university/sea-ice-prediction' target=\"_blank\">https://wandb.ai/ychnli-stanford-university/sea-ice-prediction</a><br/>Synced 4 W&B file(s), 0 media file(s), 0 artifact file(s) and 0 other file(s)"
      ],
      "text/plain": [
       "<IPython.core.display.HTML object>"
      ]
     },
     "metadata": {},
     "output_type": "display_data"
    },
    {
     "data": {
      "text/html": [
       "Find logs at: <code>./wandb/run-20250531_232431-au2s0nse/logs</code>"
      ],
      "text/plain": [
       "<IPython.core.display.HTML object>"
      ]
     },
     "metadata": {},
     "output_type": "display_data"
    },
    {
     "name": "stderr",
     "output_type": "stream",
     "text": [
      "\u001b[34m\u001b[1mwandb\u001b[0m: Agent Starting Run: hargyt2p with config:\n",
      "\u001b[34m\u001b[1mwandb\u001b[0m: \tbatch_size: 20\n",
      "\u001b[34m\u001b[1mwandb\u001b[0m: \tloss_function_args: 0\n",
      "\u001b[34m\u001b[1mwandb\u001b[0m: \tlr: 0.0004642586519211372\n",
      "\u001b[34m\u001b[1mwandb\u001b[0m: \tnum_epochs: 100\n",
      "\u001b[34m\u001b[1mwandb\u001b[0m: \tweight_decay: 1.628361677555299e-05\n"
     ]
    },
    {
     "data": {
      "text/html": [
       "Tracking run with wandb version 0.19.0"
      ],
      "text/plain": [
       "<IPython.core.display.HTML object>"
      ]
     },
     "metadata": {},
     "output_type": "display_data"
    },
    {
     "data": {
      "text/html": [
       "Run data is saved locally in <code>/home/users/yucli/sicpred/wandb/run-20250531_232542-hargyt2p</code>"
      ],
      "text/plain": [
       "<IPython.core.display.HTML object>"
      ]
     },
     "metadata": {},
     "output_type": "display_data"
    },
    {
     "data": {
      "text/html": [
       "Syncing run <strong><a href='https://wandb.ai/ychnli-stanford-university/sea-ice-prediction/runs/hargyt2p' target=\"_blank\">easy-sweep-12</a></strong> to <a href='https://wandb.ai/ychnli-stanford-university/sea-ice-prediction' target=\"_blank\">Weights & Biases</a> (<a href='https://wandb.me/developer-guide' target=\"_blank\">docs</a>)<br/>Sweep page: <a href='https://wandb.ai/ychnli-stanford-university/sea-ice-prediction/sweeps/70ww3ii3' target=\"_blank\">https://wandb.ai/ychnli-stanford-university/sea-ice-prediction/sweeps/70ww3ii3</a>"
      ],
      "text/plain": [
       "<IPython.core.display.HTML object>"
      ]
     },
     "metadata": {},
     "output_type": "display_data"
    },
    {
     "data": {
      "text/html": [
       " View project at <a href='https://wandb.ai/ychnli-stanford-university/sea-ice-prediction' target=\"_blank\">https://wandb.ai/ychnli-stanford-university/sea-ice-prediction</a>"
      ],
      "text/plain": [
       "<IPython.core.display.HTML object>"
      ]
     },
     "metadata": {},
     "output_type": "display_data"
    },
    {
     "data": {
      "text/html": [
       " View sweep at <a href='https://wandb.ai/ychnli-stanford-university/sea-ice-prediction/sweeps/70ww3ii3' target=\"_blank\">https://wandb.ai/ychnli-stanford-university/sea-ice-prediction/sweeps/70ww3ii3</a>"
      ],
      "text/plain": [
       "<IPython.core.display.HTML object>"
      ]
     },
     "metadata": {},
     "output_type": "display_data"
    },
    {
     "data": {
      "text/html": [
       " View run at <a href='https://wandb.ai/ychnli-stanford-university/sea-ice-prediction/runs/hargyt2p' target=\"_blank\">https://wandb.ai/ychnli-stanford-university/sea-ice-prediction/runs/hargyt2p</a>"
      ],
      "text/plain": [
       "<IPython.core.display.HTML object>"
      ]
     },
     "metadata": {},
     "output_type": "display_data"
    },
    {
     "name": "stderr",
     "output_type": "stream",
     "text": [
      "/home/groups/earlew/yuchen/miniconda3/envs/sicpred_env_conda/lib/python3.12/site-packages/torch/nn/utils/weight_norm.py:143: FutureWarning: `torch.nn.utils.weight_norm` is deprecated in favor of `torch.nn.utils.parametrizations.weight_norm`.\n",
      "  WeightNorm.apply(module, name, dim)\n",
      "Epoch 0/100 [Train]: 100%|██████████| 19/19 [00:04<00:00,  4.12it/s, Batch Loss=0.0057] \n",
      "Epoch 0/100 [Val]: 100%|██████████| 3/3 [00:00<00:00,  8.13it/s, Batch RMSE=0.0941]\n",
      "Epoch 1/100 [Train]: 100%|██████████| 19/19 [00:04<00:00,  4.28it/s, Batch Loss=0.00528]\n",
      "Epoch 1/100 [Val]: 100%|██████████| 3/3 [00:00<00:00,  9.92it/s, Batch RMSE=0.0898]\n",
      "Epoch 2/100 [Train]: 100%|██████████| 19/19 [00:04<00:00,  4.25it/s, Batch Loss=0.00511]\n",
      "Epoch 2/100 [Val]: 100%|██████████| 3/3 [00:00<00:00,  9.88it/s, Batch RMSE=0.0862]\n",
      "Epoch 3/100 [Train]: 100%|██████████| 19/19 [00:04<00:00,  4.27it/s, Batch Loss=0.00466]\n",
      "Epoch 3/100 [Val]: 100%|██████████| 3/3 [00:00<00:00,  9.94it/s, Batch RMSE=0.0829]\n",
      "Epoch 4/100 [Train]: 100%|██████████| 19/19 [00:04<00:00,  3.85it/s, Batch Loss=0.00457]\n",
      "Epoch 4/100 [Val]: 100%|██████████| 3/3 [00:00<00:00,  9.79it/s, Batch RMSE=0.0841]\n",
      "Epoch 5/100 [Train]: 100%|██████████| 19/19 [00:04<00:00,  4.23it/s, Batch Loss=0.00427]\n",
      "Epoch 5/100 [Val]: 100%|██████████| 3/3 [00:00<00:00,  9.41it/s, Batch RMSE=0.0834]\n",
      "Epoch 6/100 [Train]: 100%|██████████| 19/19 [00:04<00:00,  4.28it/s, Batch Loss=0.00465]\n",
      "Epoch 6/100 [Val]: 100%|██████████| 3/3 [00:00<00:00,  9.84it/s, Batch RMSE=0.085] \n",
      "Epoch 7/100 [Train]: 100%|██████████| 19/19 [00:04<00:00,  4.26it/s, Batch Loss=0.0044] \n",
      "Epoch 7/100 [Val]: 100%|██████████| 3/3 [00:00<00:00,  9.88it/s, Batch RMSE=0.0829]\n",
      "Epoch 8/100 [Train]: 100%|██████████| 19/19 [00:04<00:00,  4.18it/s, Batch Loss=0.00416]\n",
      "Epoch 8/100 [Val]: 100%|██████████| 3/3 [00:00<00:00, 10.00it/s, Batch RMSE=0.0838]\n",
      "Epoch 9/100 [Train]: 100%|██████████| 19/19 [00:04<00:00,  4.26it/s, Batch Loss=0.00417]\n",
      "Epoch 9/100 [Val]: 100%|██████████| 3/3 [00:00<00:00, 10.03it/s, Batch RMSE=0.0862]\n",
      "Epoch 10/100 [Train]: 100%|██████████| 19/19 [00:04<00:00,  4.28it/s, Batch Loss=0.00374]\n",
      "Epoch 10/100 [Val]: 100%|██████████| 3/3 [00:00<00:00, 10.06it/s, Batch RMSE=0.0822]\n",
      "Epoch 11/100 [Train]: 100%|██████████| 19/19 [00:04<00:00,  4.26it/s, Batch Loss=0.00345]\n",
      "Epoch 11/100 [Val]: 100%|██████████| 3/3 [00:00<00:00, 10.00it/s, Batch RMSE=0.0833]\n",
      "Epoch 12/100 [Train]: 100%|██████████| 19/19 [00:04<00:00,  4.13it/s, Batch Loss=0.00353]\n",
      "Epoch 12/100 [Val]: 100%|██████████| 3/3 [00:00<00:00,  9.84it/s, Batch RMSE=0.0879]\n",
      "Epoch 13/100 [Train]: 100%|██████████| 19/19 [00:04<00:00,  4.14it/s, Batch Loss=0.00334]\n",
      "Epoch 13/100 [Val]: 100%|██████████| 3/3 [00:00<00:00,  9.81it/s, Batch RMSE=0.0867]\n",
      "Epoch 14/100 [Train]: 100%|██████████| 19/19 [00:04<00:00,  4.17it/s, Batch Loss=0.00319]\n",
      "Epoch 14/100 [Val]: 100%|██████████| 3/3 [00:00<00:00,  9.72it/s, Batch RMSE=0.0864]\n",
      "Epoch 15/100 [Train]: 100%|██████████| 19/19 [00:04<00:00,  4.20it/s, Batch Loss=0.00306]\n",
      "Epoch 15/100 [Val]: 100%|██████████| 3/3 [00:00<00:00,  9.74it/s, Batch RMSE=0.0832]\n"
     ]
    },
    {
     "name": "stdout",
     "output_type": "stream",
     "text": [
      "Early stopping triggered at epoch 16\n"
     ]
    },
    {
     "data": {
      "text/html": [
       "\n",
       "    <style>\n",
       "        .wandb-row {\n",
       "            display: flex;\n",
       "            flex-direction: row;\n",
       "            flex-wrap: wrap;\n",
       "            justify-content: flex-start;\n",
       "            width: 100%;\n",
       "        }\n",
       "        .wandb-col {\n",
       "            display: flex;\n",
       "            flex-direction: column;\n",
       "            flex-basis: 100%;\n",
       "            flex: 1;\n",
       "            padding: 10px;\n",
       "        }\n",
       "    </style>\n",
       "<div class=\"wandb-row\"><div class=\"wandb-col\"><h3>Run history:</h3><br/><table class=\"wandb\"><tr><td>best_val_rmse</td><td>█▅▃▂▂▂▂▂▁▁▁▁▁▁▁</td></tr><tr><td>epoch</td><td>▁▁▂▂▃▃▄▄▅▅▆▆▇▇██</td></tr><tr><td>epoch_train_loss</td><td>█▄▃▃▃▃▃▃▂▂▂▂▂▁▁▁</td></tr><tr><td>epoch_val_loss</td><td>█▅▃▂▂▂▂▂▁▃▁▁▃▂▂▁</td></tr><tr><td>epoch_val_rmse</td><td>█▅▃▂▂▂▂▂▁▃▁▁▂▂▂▁</td></tr><tr><td>lr</td><td>████▇▇▇▆▆▅▅▄▃▃▂▁</td></tr><tr><td>train_loss</td><td>█▆▅▇▅▇▅▅▅▆▆▆▅▆▄▅▅▅▄▃▄▄▄▄▄▃▄▄▂▃▂▃▂▂▂▁▁▁▁▂</td></tr><tr><td>val_loss</td><td>█▆█▆▄▅▃▄▄▂▄▂▃▄▂▄▃▃▅▂▄▁▂▅▃▅▁▂▄▂▄▃▅▃▂▃▂▄▄▂</td></tr><tr><td>val_rmse</td><td>█▇█▆▄▅▃▄▄▂▄▂▃▄▂▄▃▃▅▂▄▁▂▅▃▄▁▁▃▂▃▃▅▃▂▃▂▄▄▂</td></tr></table><br/></div><div class=\"wandb-col\"><h3>Run summary:</h3><br/><table class=\"wandb\"><tr><td>best_val_rmse</td><td>0.08398</td></tr><tr><td>epoch</td><td>15</td></tr><tr><td>epoch_train_loss</td><td>0.00319</td></tr><tr><td>epoch_val_loss</td><td>0.00588</td></tr><tr><td>epoch_val_rmse</td><td>0.08421</td></tr><tr><td>lr</td><td>0.00044</td></tr><tr><td>train_loss</td><td>0.00306</td></tr><tr><td>val_loss</td><td>0.00577</td></tr><tr><td>val_rmse</td><td>0.08323</td></tr></table><br/></div></div>"
      ],
      "text/plain": [
       "<IPython.core.display.HTML object>"
      ]
     },
     "metadata": {},
     "output_type": "display_data"
    },
    {
     "data": {
      "text/html": [
       " View run <strong style=\"color:#cdcd00\">easy-sweep-12</strong> at: <a href='https://wandb.ai/ychnli-stanford-university/sea-ice-prediction/runs/hargyt2p' target=\"_blank\">https://wandb.ai/ychnli-stanford-university/sea-ice-prediction/runs/hargyt2p</a><br/> View project at: <a href='https://wandb.ai/ychnli-stanford-university/sea-ice-prediction' target=\"_blank\">https://wandb.ai/ychnli-stanford-university/sea-ice-prediction</a><br/>Synced 4 W&B file(s), 0 media file(s), 0 artifact file(s) and 0 other file(s)"
      ],
      "text/plain": [
       "<IPython.core.display.HTML object>"
      ]
     },
     "metadata": {},
     "output_type": "display_data"
    },
    {
     "data": {
      "text/html": [
       "Find logs at: <code>./wandb/run-20250531_232542-hargyt2p/logs</code>"
      ],
      "text/plain": [
       "<IPython.core.display.HTML object>"
      ]
     },
     "metadata": {},
     "output_type": "display_data"
    },
    {
     "name": "stderr",
     "output_type": "stream",
     "text": [
      "\u001b[34m\u001b[1mwandb\u001b[0m: Agent Starting Run: sxeukhgi with config:\n",
      "\u001b[34m\u001b[1mwandb\u001b[0m: \tbatch_size: 20\n",
      "\u001b[34m\u001b[1mwandb\u001b[0m: \tloss_function_args: 0\n",
      "\u001b[34m\u001b[1mwandb\u001b[0m: \tlr: 0.0014828461891750896\n",
      "\u001b[34m\u001b[1mwandb\u001b[0m: \tnum_epochs: 100\n",
      "\u001b[34m\u001b[1mwandb\u001b[0m: \tweight_decay: 2.186822068558828e-05\n"
     ]
    },
    {
     "data": {
      "text/html": [
       "Tracking run with wandb version 0.19.0"
      ],
      "text/plain": [
       "<IPython.core.display.HTML object>"
      ]
     },
     "metadata": {},
     "output_type": "display_data"
    },
    {
     "data": {
      "text/html": [
       "Run data is saved locally in <code>/home/users/yucli/sicpred/wandb/run-20250531_232709-sxeukhgi</code>"
      ],
      "text/plain": [
       "<IPython.core.display.HTML object>"
      ]
     },
     "metadata": {},
     "output_type": "display_data"
    },
    {
     "data": {
      "text/html": [
       "Syncing run <strong><a href='https://wandb.ai/ychnli-stanford-university/sea-ice-prediction/runs/sxeukhgi' target=\"_blank\">distinctive-sweep-13</a></strong> to <a href='https://wandb.ai/ychnli-stanford-university/sea-ice-prediction' target=\"_blank\">Weights & Biases</a> (<a href='https://wandb.me/developer-guide' target=\"_blank\">docs</a>)<br/>Sweep page: <a href='https://wandb.ai/ychnli-stanford-university/sea-ice-prediction/sweeps/70ww3ii3' target=\"_blank\">https://wandb.ai/ychnli-stanford-university/sea-ice-prediction/sweeps/70ww3ii3</a>"
      ],
      "text/plain": [
       "<IPython.core.display.HTML object>"
      ]
     },
     "metadata": {},
     "output_type": "display_data"
    },
    {
     "data": {
      "text/html": [
       " View project at <a href='https://wandb.ai/ychnli-stanford-university/sea-ice-prediction' target=\"_blank\">https://wandb.ai/ychnli-stanford-university/sea-ice-prediction</a>"
      ],
      "text/plain": [
       "<IPython.core.display.HTML object>"
      ]
     },
     "metadata": {},
     "output_type": "display_data"
    },
    {
     "data": {
      "text/html": [
       " View sweep at <a href='https://wandb.ai/ychnli-stanford-university/sea-ice-prediction/sweeps/70ww3ii3' target=\"_blank\">https://wandb.ai/ychnli-stanford-university/sea-ice-prediction/sweeps/70ww3ii3</a>"
      ],
      "text/plain": [
       "<IPython.core.display.HTML object>"
      ]
     },
     "metadata": {},
     "output_type": "display_data"
    },
    {
     "data": {
      "text/html": [
       " View run at <a href='https://wandb.ai/ychnli-stanford-university/sea-ice-prediction/runs/sxeukhgi' target=\"_blank\">https://wandb.ai/ychnli-stanford-university/sea-ice-prediction/runs/sxeukhgi</a>"
      ],
      "text/plain": [
       "<IPython.core.display.HTML object>"
      ]
     },
     "metadata": {},
     "output_type": "display_data"
    },
    {
     "name": "stderr",
     "output_type": "stream",
     "text": [
      "/home/groups/earlew/yuchen/miniconda3/envs/sicpred_env_conda/lib/python3.12/site-packages/torch/nn/utils/weight_norm.py:143: FutureWarning: `torch.nn.utils.weight_norm` is deprecated in favor of `torch.nn.utils.parametrizations.weight_norm`.\n",
      "  WeightNorm.apply(module, name, dim)\n",
      "Epoch 0/100 [Train]: 100%|██████████| 19/19 [00:05<00:00,  3.70it/s, Batch Loss=0.00483]\n",
      "Epoch 0/100 [Val]: 100%|██████████| 3/3 [00:00<00:00,  8.19it/s, Batch RMSE=0.0895]\n",
      "Epoch 1/100 [Train]: 100%|██████████| 19/19 [00:04<00:00,  4.19it/s, Batch Loss=0.00486]\n",
      "Epoch 1/100 [Val]: 100%|██████████| 3/3 [00:00<00:00,  9.74it/s, Batch RMSE=0.0875]\n",
      "Epoch 2/100 [Train]: 100%|██████████| 19/19 [00:04<00:00,  4.12it/s, Batch Loss=0.00494]\n",
      "Epoch 2/100 [Val]: 100%|██████████| 3/3 [00:00<00:00,  9.44it/s, Batch RMSE=0.0845]\n",
      "Epoch 3/100 [Train]: 100%|██████████| 19/19 [00:04<00:00,  4.18it/s, Batch Loss=0.00492]\n",
      "Epoch 3/100 [Val]: 100%|██████████| 3/3 [00:00<00:00,  9.90it/s, Batch RMSE=0.0827]\n",
      "Epoch 4/100 [Train]: 100%|██████████| 19/19 [00:04<00:00,  4.27it/s, Batch Loss=0.00426]\n",
      "Epoch 4/100 [Val]: 100%|██████████| 3/3 [00:00<00:00,  9.83it/s, Batch RMSE=0.0818]\n",
      "Epoch 5/100 [Train]: 100%|██████████| 19/19 [00:04<00:00,  4.26it/s, Batch Loss=0.00472]\n",
      "Epoch 5/100 [Val]: 100%|██████████| 3/3 [00:00<00:00,  9.92it/s, Batch RMSE=0.0815]\n",
      "Epoch 6/100 [Train]: 100%|██████████| 19/19 [00:05<00:00,  3.76it/s, Batch Loss=0.00419]\n",
      "Epoch 6/100 [Val]: 100%|██████████| 3/3 [00:00<00:00,  9.72it/s, Batch RMSE=0.0804]\n",
      "Epoch 7/100 [Train]: 100%|██████████| 19/19 [00:04<00:00,  4.10it/s, Batch Loss=0.00432]\n",
      "Epoch 7/100 [Val]: 100%|██████████| 3/3 [00:00<00:00,  9.60it/s, Batch RMSE=0.0812]\n",
      "Epoch 8/100 [Train]: 100%|██████████| 19/19 [00:04<00:00,  4.19it/s, Batch Loss=0.00432]\n",
      "Epoch 8/100 [Val]: 100%|██████████| 3/3 [00:00<00:00,  9.79it/s, Batch RMSE=0.0812]\n",
      "Epoch 9/100 [Train]: 100%|██████████| 19/19 [00:04<00:00,  4.17it/s, Batch Loss=0.00411]\n",
      "Epoch 9/100 [Val]: 100%|██████████| 3/3 [00:00<00:00,  9.88it/s, Batch RMSE=0.0789]\n",
      "Epoch 10/100 [Train]: 100%|██████████| 19/19 [00:04<00:00,  4.22it/s, Batch Loss=0.00411]\n",
      "Epoch 10/100 [Val]: 100%|██████████| 3/3 [00:00<00:00,  9.58it/s, Batch RMSE=0.0835]\n",
      "Epoch 11/100 [Train]: 100%|██████████| 19/19 [00:04<00:00,  4.17it/s, Batch Loss=0.00409]\n",
      "Epoch 11/100 [Val]: 100%|██████████| 3/3 [00:00<00:00,  9.60it/s, Batch RMSE=0.079] \n",
      "Epoch 12/100 [Train]: 100%|██████████| 19/19 [00:04<00:00,  4.30it/s, Batch Loss=0.00412]\n",
      "Epoch 12/100 [Val]: 100%|██████████| 3/3 [00:00<00:00,  9.87it/s, Batch RMSE=0.0819]\n",
      "Epoch 13/100 [Train]: 100%|██████████| 19/19 [00:04<00:00,  4.26it/s, Batch Loss=0.00393]\n",
      "Epoch 13/100 [Val]: 100%|██████████| 3/3 [00:00<00:00,  9.91it/s, Batch RMSE=0.08]  \n",
      "Epoch 14/100 [Train]: 100%|██████████| 19/19 [00:04<00:00,  4.21it/s, Batch Loss=0.004]  \n",
      "Epoch 14/100 [Val]: 100%|██████████| 3/3 [00:00<00:00,  9.78it/s, Batch RMSE=0.0822]\n",
      "Epoch 15/100 [Train]: 100%|██████████| 19/19 [00:05<00:00,  3.78it/s, Batch Loss=0.00416]\n",
      "Epoch 15/100 [Val]: 100%|██████████| 3/3 [00:00<00:00,  9.75it/s, Batch RMSE=0.0797]\n",
      "Epoch 16/100 [Train]: 100%|██████████| 19/19 [00:04<00:00,  4.14it/s, Batch Loss=0.00422]\n",
      "Epoch 16/100 [Val]: 100%|██████████| 3/3 [00:00<00:00,  9.47it/s, Batch RMSE=0.0799]\n"
     ]
    },
    {
     "name": "stdout",
     "output_type": "stream",
     "text": [
      "Early stopping triggered at epoch 17\n"
     ]
    },
    {
     "data": {
      "text/html": [
       "\n",
       "    <style>\n",
       "        .wandb-row {\n",
       "            display: flex;\n",
       "            flex-direction: row;\n",
       "            flex-wrap: wrap;\n",
       "            justify-content: flex-start;\n",
       "            width: 100%;\n",
       "        }\n",
       "        .wandb-col {\n",
       "            display: flex;\n",
       "            flex-direction: column;\n",
       "            flex-basis: 100%;\n",
       "            flex: 1;\n",
       "            padding: 10px;\n",
       "        }\n",
       "    </style>\n",
       "<div class=\"wandb-row\"><div class=\"wandb-col\"><h3>Run history:</h3><br/><table class=\"wandb\"><tr><td>best_val_rmse</td><td>█▆▄▃▂▂▂▂▂▂▂▁▁▁▁▁</td></tr><tr><td>epoch</td><td>▁▁▂▂▃▃▄▄▅▅▅▆▆▇▇██</td></tr><tr><td>epoch_train_loss</td><td>█▃▂▂▂▂▂▂▂▂▂▁▁▁▁▁▁</td></tr><tr><td>epoch_val_loss</td><td>█▆▄▃▂▂▂▂▂▁▆▁▃▂▂▂▂</td></tr><tr><td>epoch_val_rmse</td><td>█▆▄▃▂▂▂▂▂▂▆▁▃▂▁▂▂</td></tr><tr><td>lr</td><td>█████▇▇▇▆▆▅▅▄▃▃▂▁</td></tr><tr><td>train_loss</td><td>█▅▄▅▄▃▄▆▃▃▄▃▄▄▃▂▄▂▂▃▂▂▂▃▃▃▂▃▂▃▂▂▃▂▂▂▂▃▂▁</td></tr><tr><td>val_loss</td><td>▆▇▇▅▆▄▄▆▃▃▃▃▆▃▂▂▂▆▃▂▃▂▅▃█▄▂▁▆▄▆▃▂▄▂▆▂▁▄▂</td></tr><tr><td>val_rmse</td><td>█▆▇▇▅▆▄▄▆▃▆▃▃▃▆▆▃▂▆▃▆▃▁█▆▅▃▁▆▄▆▃▂▄▃▆▃▁▄▂</td></tr></table><br/></div><div class=\"wandb-col\"><h3>Run summary:</h3><br/><table class=\"wandb\"><tr><td>best_val_rmse</td><td>0.08263</td></tr><tr><td>epoch</td><td>16</td></tr><tr><td>epoch_train_loss</td><td>0.00401</td></tr><tr><td>epoch_val_loss</td><td>0.00571</td></tr><tr><td>epoch_val_rmse</td><td>0.08327</td></tr><tr><td>lr</td><td>0.00139</td></tr><tr><td>train_loss</td><td>0.00422</td></tr><tr><td>val_loss</td><td>0.00531</td></tr><tr><td>val_rmse</td><td>0.07991</td></tr></table><br/></div></div>"
      ],
      "text/plain": [
       "<IPython.core.display.HTML object>"
      ]
     },
     "metadata": {},
     "output_type": "display_data"
    },
    {
     "data": {
      "text/html": [
       " View run <strong style=\"color:#cdcd00\">distinctive-sweep-13</strong> at: <a href='https://wandb.ai/ychnli-stanford-university/sea-ice-prediction/runs/sxeukhgi' target=\"_blank\">https://wandb.ai/ychnli-stanford-university/sea-ice-prediction/runs/sxeukhgi</a><br/> View project at: <a href='https://wandb.ai/ychnli-stanford-university/sea-ice-prediction' target=\"_blank\">https://wandb.ai/ychnli-stanford-university/sea-ice-prediction</a><br/>Synced 4 W&B file(s), 0 media file(s), 0 artifact file(s) and 0 other file(s)"
      ],
      "text/plain": [
       "<IPython.core.display.HTML object>"
      ]
     },
     "metadata": {},
     "output_type": "display_data"
    },
    {
     "data": {
      "text/html": [
       "Find logs at: <code>./wandb/run-20250531_232709-sxeukhgi/logs</code>"
      ],
      "text/plain": [
       "<IPython.core.display.HTML object>"
      ]
     },
     "metadata": {},
     "output_type": "display_data"
    },
    {
     "name": "stderr",
     "output_type": "stream",
     "text": [
      "\u001b[34m\u001b[1mwandb\u001b[0m: Agent Starting Run: h9znd3x4 with config:\n",
      "\u001b[34m\u001b[1mwandb\u001b[0m: \tbatch_size: 64\n",
      "\u001b[34m\u001b[1mwandb\u001b[0m: \tloss_function_args: 0\n",
      "\u001b[34m\u001b[1mwandb\u001b[0m: \tlr: 0.0001448364354683722\n",
      "\u001b[34m\u001b[1mwandb\u001b[0m: \tnum_epochs: 100\n",
      "\u001b[34m\u001b[1mwandb\u001b[0m: \tweight_decay: 5.583579166064933e-05\n"
     ]
    },
    {
     "data": {
      "text/html": [
       "Tracking run with wandb version 0.19.0"
      ],
      "text/plain": [
       "<IPython.core.display.HTML object>"
      ]
     },
     "metadata": {},
     "output_type": "display_data"
    },
    {
     "data": {
      "text/html": [
       "Run data is saved locally in <code>/home/users/yucli/sicpred/wandb/run-20250531_232840-h9znd3x4</code>"
      ],
      "text/plain": [
       "<IPython.core.display.HTML object>"
      ]
     },
     "metadata": {},
     "output_type": "display_data"
    },
    {
     "data": {
      "text/html": [
       "Syncing run <strong><a href='https://wandb.ai/ychnli-stanford-university/sea-ice-prediction/runs/h9znd3x4' target=\"_blank\">confused-sweep-14</a></strong> to <a href='https://wandb.ai/ychnli-stanford-university/sea-ice-prediction' target=\"_blank\">Weights & Biases</a> (<a href='https://wandb.me/developer-guide' target=\"_blank\">docs</a>)<br/>Sweep page: <a href='https://wandb.ai/ychnli-stanford-university/sea-ice-prediction/sweeps/70ww3ii3' target=\"_blank\">https://wandb.ai/ychnli-stanford-university/sea-ice-prediction/sweeps/70ww3ii3</a>"
      ],
      "text/plain": [
       "<IPython.core.display.HTML object>"
      ]
     },
     "metadata": {},
     "output_type": "display_data"
    },
    {
     "data": {
      "text/html": [
       " View project at <a href='https://wandb.ai/ychnli-stanford-university/sea-ice-prediction' target=\"_blank\">https://wandb.ai/ychnli-stanford-university/sea-ice-prediction</a>"
      ],
      "text/plain": [
       "<IPython.core.display.HTML object>"
      ]
     },
     "metadata": {},
     "output_type": "display_data"
    },
    {
     "data": {
      "text/html": [
       " View sweep at <a href='https://wandb.ai/ychnli-stanford-university/sea-ice-prediction/sweeps/70ww3ii3' target=\"_blank\">https://wandb.ai/ychnli-stanford-university/sea-ice-prediction/sweeps/70ww3ii3</a>"
      ],
      "text/plain": [
       "<IPython.core.display.HTML object>"
      ]
     },
     "metadata": {},
     "output_type": "display_data"
    },
    {
     "data": {
      "text/html": [
       " View run at <a href='https://wandb.ai/ychnli-stanford-university/sea-ice-prediction/runs/h9znd3x4' target=\"_blank\">https://wandb.ai/ychnli-stanford-university/sea-ice-prediction/runs/h9znd3x4</a>"
      ],
      "text/plain": [
       "<IPython.core.display.HTML object>"
      ]
     },
     "metadata": {},
     "output_type": "display_data"
    },
    {
     "name": "stderr",
     "output_type": "stream",
     "text": [
      "/home/groups/earlew/yuchen/miniconda3/envs/sicpred_env_conda/lib/python3.12/site-packages/torch/nn/utils/weight_norm.py:143: FutureWarning: `torch.nn.utils.weight_norm` is deprecated in favor of `torch.nn.utils.parametrizations.weight_norm`.\n",
      "  WeightNorm.apply(module, name, dim)\n",
      "Epoch 0/100 [Train]: 100%|██████████| 6/6 [00:02<00:00,  2.67it/s, Batch Loss=0.00942]\n",
      "Epoch 0/100 [Val]: 100%|██████████| 1/1 [00:00<00:00,  3.93it/s, Batch RMSE=0.12]\n",
      "Epoch 1/100 [Train]: 100%|██████████| 6/6 [00:01<00:00,  3.07it/s, Batch Loss=0.0064] \n",
      "Epoch 1/100 [Val]: 100%|██████████| 1/1 [00:00<00:00,  5.96it/s, Batch RMSE=0.116]\n",
      "Epoch 2/100 [Train]: 100%|██████████| 6/6 [00:01<00:00,  3.03it/s, Batch Loss=0.00577]\n",
      "Epoch 2/100 [Val]: 100%|██████████| 1/1 [00:00<00:00,  5.45it/s, Batch RMSE=0.108]\n",
      "Epoch 3/100 [Train]: 100%|██████████| 6/6 [00:01<00:00,  3.05it/s, Batch Loss=0.00591]\n",
      "Epoch 3/100 [Val]: 100%|██████████| 1/1 [00:00<00:00,  6.09it/s, Batch RMSE=0.0991]\n",
      "Epoch 4/100 [Train]: 100%|██████████| 6/6 [00:01<00:00,  3.14it/s, Batch Loss=0.0053] \n",
      "Epoch 4/100 [Val]: 100%|██████████| 1/1 [00:00<00:00,  5.76it/s, Batch RMSE=0.0938]\n",
      "Epoch 5/100 [Train]: 100%|██████████| 6/6 [00:01<00:00,  3.07it/s, Batch Loss=0.00529]\n",
      "Epoch 5/100 [Val]: 100%|██████████| 1/1 [00:00<00:00,  5.22it/s, Batch RMSE=0.0913]\n",
      "Epoch 6/100 [Train]: 100%|██████████| 6/6 [00:02<00:00,  2.99it/s, Batch Loss=0.0051] \n",
      "Epoch 6/100 [Val]: 100%|██████████| 1/1 [00:00<00:00,  5.56it/s, Batch RMSE=0.0902]\n",
      "Epoch 7/100 [Train]: 100%|██████████| 6/6 [00:01<00:00,  3.09it/s, Batch Loss=0.00536]\n",
      "Epoch 7/100 [Val]: 100%|██████████| 1/1 [00:00<00:00,  5.23it/s, Batch RMSE=0.0897]\n",
      "Epoch 8/100 [Train]: 100%|██████████| 6/6 [00:01<00:00,  3.15it/s, Batch Loss=0.00518]\n",
      "Epoch 8/100 [Val]: 100%|██████████| 1/1 [00:00<00:00,  5.39it/s, Batch RMSE=0.0896]\n",
      "Epoch 9/100 [Train]: 100%|██████████| 6/6 [00:01<00:00,  3.10it/s, Batch Loss=0.0054] \n",
      "Epoch 9/100 [Val]: 100%|██████████| 1/1 [00:00<00:00,  5.18it/s, Batch RMSE=0.0897]\n",
      "Epoch 10/100 [Train]: 100%|██████████| 6/6 [00:01<00:00,  3.10it/s, Batch Loss=0.00502]\n",
      "Epoch 10/100 [Val]: 100%|██████████| 1/1 [00:00<00:00,  5.84it/s, Batch RMSE=0.0896]\n",
      "Epoch 11/100 [Train]: 100%|██████████| 6/6 [00:01<00:00,  3.11it/s, Batch Loss=0.00515]\n",
      "Epoch 11/100 [Val]: 100%|██████████| 1/1 [00:00<00:00,  5.86it/s, Batch RMSE=0.0894]\n",
      "Epoch 12/100 [Train]: 100%|██████████| 6/6 [00:01<00:00,  3.12it/s, Batch Loss=0.00524]\n",
      "Epoch 12/100 [Val]: 100%|██████████| 1/1 [00:00<00:00,  5.89it/s, Batch RMSE=0.0893]\n",
      "Epoch 13/100 [Train]: 100%|██████████| 6/6 [00:01<00:00,  3.16it/s, Batch Loss=0.00513]\n",
      "Epoch 13/100 [Val]: 100%|██████████| 1/1 [00:00<00:00,  5.23it/s, Batch RMSE=0.0893]\n",
      "Epoch 14/100 [Train]: 100%|██████████| 6/6 [00:01<00:00,  3.09it/s, Batch Loss=0.00488]\n",
      "Epoch 14/100 [Val]: 100%|██████████| 1/1 [00:00<00:00,  5.24it/s, Batch RMSE=0.0892]\n",
      "Epoch 15/100 [Train]: 100%|██████████| 6/6 [00:01<00:00,  3.04it/s, Batch Loss=0.00497]\n",
      "Epoch 15/100 [Val]: 100%|██████████| 1/1 [00:00<00:00,  5.03it/s, Batch RMSE=0.0891]\n",
      "Epoch 16/100 [Train]: 100%|██████████| 6/6 [00:01<00:00,  3.07it/s, Batch Loss=0.00498]\n",
      "Epoch 16/100 [Val]: 100%|██████████| 1/1 [00:00<00:00,  5.20it/s, Batch RMSE=0.089]\n",
      "Epoch 17/100 [Train]: 100%|██████████| 6/6 [00:01<00:00,  3.05it/s, Batch Loss=0.00506]\n",
      "Epoch 17/100 [Val]: 100%|██████████| 1/1 [00:00<00:00,  5.74it/s, Batch RMSE=0.0889]\n",
      "Epoch 18/100 [Train]: 100%|██████████| 6/6 [00:01<00:00,  3.04it/s, Batch Loss=0.0051] \n",
      "Epoch 18/100 [Val]: 100%|██████████| 1/1 [00:00<00:00,  5.14it/s, Batch RMSE=0.0888]\n",
      "Epoch 19/100 [Train]: 100%|██████████| 6/6 [00:01<00:00,  3.03it/s, Batch Loss=0.00486]\n",
      "Epoch 19/100 [Val]: 100%|██████████| 1/1 [00:00<00:00,  6.08it/s, Batch RMSE=0.0887]\n",
      "Epoch 20/100 [Train]: 100%|██████████| 6/6 [00:01<00:00,  3.10it/s, Batch Loss=0.00459]\n",
      "Epoch 20/100 [Val]: 100%|██████████| 1/1 [00:00<00:00,  5.55it/s, Batch RMSE=0.0888]\n",
      "Epoch 21/100 [Train]: 100%|██████████| 6/6 [00:01<00:00,  3.09it/s, Batch Loss=0.00476]\n",
      "Epoch 21/100 [Val]: 100%|██████████| 1/1 [00:00<00:00,  5.63it/s, Batch RMSE=0.0885]\n",
      "Epoch 22/100 [Train]: 100%|██████████| 6/6 [00:01<00:00,  3.16it/s, Batch Loss=0.00478]\n",
      "Epoch 22/100 [Val]: 100%|██████████| 1/1 [00:00<00:00,  4.97it/s, Batch RMSE=0.0886]\n",
      "Epoch 23/100 [Train]: 100%|██████████| 6/6 [00:01<00:00,  3.14it/s, Batch Loss=0.00446]\n",
      "Epoch 23/100 [Val]: 100%|██████████| 1/1 [00:00<00:00,  6.14it/s, Batch RMSE=0.0887]\n",
      "Epoch 24/100 [Train]: 100%|██████████| 6/6 [00:01<00:00,  3.12it/s, Batch Loss=0.0044] \n",
      "Epoch 24/100 [Val]: 100%|██████████| 1/1 [00:00<00:00,  6.00it/s, Batch RMSE=0.0883]\n",
      "Epoch 25/100 [Train]: 100%|██████████| 6/6 [00:01<00:00,  3.16it/s, Batch Loss=0.00415]\n",
      "Epoch 25/100 [Val]: 100%|██████████| 1/1 [00:00<00:00,  5.53it/s, Batch RMSE=0.0882]\n",
      "Epoch 26/100 [Train]: 100%|██████████| 6/6 [00:02<00:00,  2.91it/s, Batch Loss=0.00401]\n",
      "Epoch 26/100 [Val]: 100%|██████████| 1/1 [00:00<00:00,  5.42it/s, Batch RMSE=0.0882]\n",
      "Epoch 27/100 [Train]: 100%|██████████| 6/6 [00:01<00:00,  3.09it/s, Batch Loss=0.00412]\n",
      "Epoch 27/100 [Val]: 100%|██████████| 1/1 [00:00<00:00,  6.02it/s, Batch RMSE=0.0891]\n",
      "Epoch 28/100 [Train]: 100%|██████████| 6/6 [00:02<00:00,  2.55it/s, Batch Loss=0.004]  \n",
      "Epoch 28/100 [Val]: 100%|██████████| 1/1 [00:00<00:00,  5.79it/s, Batch RMSE=0.089]\n",
      "Epoch 29/100 [Train]: 100%|██████████| 6/6 [00:01<00:00,  3.06it/s, Batch Loss=0.00364]\n",
      "Epoch 29/100 [Val]: 100%|██████████| 1/1 [00:00<00:00,  6.06it/s, Batch RMSE=0.0886]\n",
      "Epoch 30/100 [Train]: 100%|██████████| 6/6 [00:01<00:00,  3.12it/s, Batch Loss=0.00357]\n",
      "Epoch 30/100 [Val]: 100%|██████████| 1/1 [00:00<00:00,  5.90it/s, Batch RMSE=0.0887]\n",
      "Epoch 31/100 [Train]: 100%|██████████| 6/6 [00:01<00:00,  3.10it/s, Batch Loss=0.00333]\n",
      "Epoch 31/100 [Val]: 100%|██████████| 1/1 [00:00<00:00,  5.58it/s, Batch RMSE=0.0882]\n"
     ]
    },
    {
     "name": "stdout",
     "output_type": "stream",
     "text": [
      "Early stopping triggered at epoch 32\n"
     ]
    },
    {
     "data": {
      "text/html": [
       "\n",
       "    <style>\n",
       "        .wandb-row {\n",
       "            display: flex;\n",
       "            flex-direction: row;\n",
       "            flex-wrap: wrap;\n",
       "            justify-content: flex-start;\n",
       "            width: 100%;\n",
       "        }\n",
       "        .wandb-col {\n",
       "            display: flex;\n",
       "            flex-direction: column;\n",
       "            flex-basis: 100%;\n",
       "            flex: 1;\n",
       "            padding: 10px;\n",
       "        }\n",
       "    </style>\n",
       "<div class=\"wandb-row\"><div class=\"wandb-col\"><h3>Run history:</h3><br/><table class=\"wandb\"><tr><td>best_val_rmse</td><td>█▇▅▃▂▂▁▁▁▁▁▁▁▁▁▁▁▁▁▁▁▁▁▁▁▁▁▁▁▁▁</td></tr><tr><td>epoch</td><td>▁▁▁▂▂▂▂▃▃▃▃▃▄▄▄▄▅▅▅▅▆▆▆▆▆▇▇▇▇███</td></tr><tr><td>epoch_train_loss</td><td>█▄▃▃▂▂▂▂▂▂▂▂▂▂▂▂▂▂▂▂▂▂▂▂▂▂▁▁▁▁▁▁</td></tr><tr><td>epoch_val_loss</td><td>█▇▅▃▂▂▁▁▁▁▁▁▁▁▁▁▁▁▁▁▁▁▁▁▁▁▁▁▁▁▁▁</td></tr><tr><td>epoch_val_rmse</td><td>█▇▅▃▂▂▁▁▁▁▁▁▁▁▁▁▁▁▁▁▁▁▁▁▁▁▁▁▁▁▁▁</td></tr><tr><td>lr</td><td>████████▇▇▇▇▇▇▆▆▆▆▆▅▅▅▄▄▄▃▃▃▂▂▁▁</td></tr><tr><td>train_loss</td><td>█▂▂▂▂▂▂▂▂▂▂▂▂▂▂▂▂▂▂▂▂▂▂▂▂▂▂▂▁▂▁▁▁▁▁▁▁▁▁▁</td></tr><tr><td>val_loss</td><td>█▇▅▃▂▂▁▁▁▁▁▁▁▁▁▁▁▁▁▁▁▁▁▁▁▁▁▁▁▁▁▁</td></tr><tr><td>val_rmse</td><td>█▇▅▃▂▂▁▁▁▁▁▁▁▁▁▁▁▁▁▁▁▁▁▁▁▁▁▁▁▁▁▁</td></tr></table><br/></div><div class=\"wandb-col\"><h3>Run summary:</h3><br/><table class=\"wandb\"><tr><td>best_val_rmse</td><td>0.08819</td></tr><tr><td>epoch</td><td>31</td></tr><tr><td>epoch_train_loss</td><td>0.00346</td></tr><tr><td>epoch_val_loss</td><td>0.00646</td></tr><tr><td>epoch_val_rmse</td><td>0.08824</td></tr><tr><td>lr</td><td>0.00011</td></tr><tr><td>train_loss</td><td>0.00333</td></tr><tr><td>val_loss</td><td>0.00646</td></tr><tr><td>val_rmse</td><td>0.08824</td></tr></table><br/></div></div>"
      ],
      "text/plain": [
       "<IPython.core.display.HTML object>"
      ]
     },
     "metadata": {},
     "output_type": "display_data"
    },
    {
     "data": {
      "text/html": [
       " View run <strong style=\"color:#cdcd00\">confused-sweep-14</strong> at: <a href='https://wandb.ai/ychnli-stanford-university/sea-ice-prediction/runs/h9znd3x4' target=\"_blank\">https://wandb.ai/ychnli-stanford-university/sea-ice-prediction/runs/h9znd3x4</a><br/> View project at: <a href='https://wandb.ai/ychnli-stanford-university/sea-ice-prediction' target=\"_blank\">https://wandb.ai/ychnli-stanford-university/sea-ice-prediction</a><br/>Synced 4 W&B file(s), 0 media file(s), 0 artifact file(s) and 0 other file(s)"
      ],
      "text/plain": [
       "<IPython.core.display.HTML object>"
      ]
     },
     "metadata": {},
     "output_type": "display_data"
    },
    {
     "data": {
      "text/html": [
       "Find logs at: <code>./wandb/run-20250531_232840-h9znd3x4/logs</code>"
      ],
      "text/plain": [
       "<IPython.core.display.HTML object>"
      ]
     },
     "metadata": {},
     "output_type": "display_data"
    },
    {
     "name": "stderr",
     "output_type": "stream",
     "text": [
      "\u001b[34m\u001b[1mwandb\u001b[0m: Agent Starting Run: hjhw4l85 with config:\n",
      "\u001b[34m\u001b[1mwandb\u001b[0m: \tbatch_size: 64\n",
      "\u001b[34m\u001b[1mwandb\u001b[0m: \tloss_function_args: 0\n",
      "\u001b[34m\u001b[1mwandb\u001b[0m: \tlr: 0.0006723504678832904\n",
      "\u001b[34m\u001b[1mwandb\u001b[0m: \tnum_epochs: 100\n",
      "\u001b[34m\u001b[1mwandb\u001b[0m: \tweight_decay: 3.0857185183009416e-05\n"
     ]
    },
    {
     "data": {
      "text/html": [
       "Tracking run with wandb version 0.19.0"
      ],
      "text/plain": [
       "<IPython.core.display.HTML object>"
      ]
     },
     "metadata": {},
     "output_type": "display_data"
    },
    {
     "data": {
      "text/html": [
       "Run data is saved locally in <code>/home/users/yucli/sicpred/wandb/run-20250531_233001-hjhw4l85</code>"
      ],
      "text/plain": [
       "<IPython.core.display.HTML object>"
      ]
     },
     "metadata": {},
     "output_type": "display_data"
    },
    {
     "data": {
      "text/html": [
       "Syncing run <strong><a href='https://wandb.ai/ychnli-stanford-university/sea-ice-prediction/runs/hjhw4l85' target=\"_blank\">pious-sweep-15</a></strong> to <a href='https://wandb.ai/ychnli-stanford-university/sea-ice-prediction' target=\"_blank\">Weights & Biases</a> (<a href='https://wandb.me/developer-guide' target=\"_blank\">docs</a>)<br/>Sweep page: <a href='https://wandb.ai/ychnli-stanford-university/sea-ice-prediction/sweeps/70ww3ii3' target=\"_blank\">https://wandb.ai/ychnli-stanford-university/sea-ice-prediction/sweeps/70ww3ii3</a>"
      ],
      "text/plain": [
       "<IPython.core.display.HTML object>"
      ]
     },
     "metadata": {},
     "output_type": "display_data"
    },
    {
     "data": {
      "text/html": [
       " View project at <a href='https://wandb.ai/ychnli-stanford-university/sea-ice-prediction' target=\"_blank\">https://wandb.ai/ychnli-stanford-university/sea-ice-prediction</a>"
      ],
      "text/plain": [
       "<IPython.core.display.HTML object>"
      ]
     },
     "metadata": {},
     "output_type": "display_data"
    },
    {
     "data": {
      "text/html": [
       " View sweep at <a href='https://wandb.ai/ychnli-stanford-university/sea-ice-prediction/sweeps/70ww3ii3' target=\"_blank\">https://wandb.ai/ychnli-stanford-university/sea-ice-prediction/sweeps/70ww3ii3</a>"
      ],
      "text/plain": [
       "<IPython.core.display.HTML object>"
      ]
     },
     "metadata": {},
     "output_type": "display_data"
    },
    {
     "data": {
      "text/html": [
       " View run at <a href='https://wandb.ai/ychnli-stanford-university/sea-ice-prediction/runs/hjhw4l85' target=\"_blank\">https://wandb.ai/ychnli-stanford-university/sea-ice-prediction/runs/hjhw4l85</a>"
      ],
      "text/plain": [
       "<IPython.core.display.HTML object>"
      ]
     },
     "metadata": {},
     "output_type": "display_data"
    },
    {
     "name": "stderr",
     "output_type": "stream",
     "text": [
      "/home/groups/earlew/yuchen/miniconda3/envs/sicpred_env_conda/lib/python3.12/site-packages/torch/nn/utils/weight_norm.py:143: FutureWarning: `torch.nn.utils.weight_norm` is deprecated in favor of `torch.nn.utils.parametrizations.weight_norm`.\n",
      "  WeightNorm.apply(module, name, dim)\n",
      "Epoch 0/100 [Train]: 100%|██████████| 6/6 [00:02<00:00,  2.84it/s, Batch Loss=0.00681]\n",
      "Epoch 0/100 [Val]: 100%|██████████| 1/1 [00:00<00:00,  4.30it/s, Batch RMSE=0.121]\n",
      "Epoch 1/100 [Train]: 100%|██████████| 6/6 [00:02<00:00,  2.98it/s, Batch Loss=0.00533]\n",
      "Epoch 1/100 [Val]: 100%|██████████| 1/1 [00:00<00:00,  4.99it/s, Batch RMSE=0.0998]\n",
      "Epoch 2/100 [Train]: 100%|██████████| 6/6 [00:01<00:00,  3.01it/s, Batch Loss=0.00506]\n",
      "Epoch 2/100 [Val]: 100%|██████████| 1/1 [00:00<00:00,  5.09it/s, Batch RMSE=0.0928]\n",
      "Epoch 3/100 [Train]: 100%|██████████| 6/6 [00:02<00:00,  2.97it/s, Batch Loss=0.0049] \n",
      "Epoch 3/100 [Val]: 100%|██████████| 1/1 [00:00<00:00,  5.18it/s, Batch RMSE=0.0912]\n",
      "Epoch 4/100 [Train]: 100%|██████████| 6/6 [00:01<00:00,  3.05it/s, Batch Loss=0.0047] \n",
      "Epoch 4/100 [Val]: 100%|██████████| 1/1 [00:00<00:00,  5.28it/s, Batch RMSE=0.0899]\n",
      "Epoch 5/100 [Train]: 100%|██████████| 6/6 [00:02<00:00,  2.47it/s, Batch Loss=0.00487]\n",
      "Epoch 5/100 [Val]: 100%|██████████| 1/1 [00:00<00:00,  5.23it/s, Batch RMSE=0.0897]\n",
      "Epoch 6/100 [Train]: 100%|██████████| 6/6 [00:01<00:00,  3.11it/s, Batch Loss=0.0047] \n",
      "Epoch 6/100 [Val]: 100%|██████████| 1/1 [00:00<00:00,  5.55it/s, Batch RMSE=0.0892]\n",
      "Epoch 7/100 [Train]: 100%|██████████| 6/6 [00:01<00:00,  3.10it/s, Batch Loss=0.00459]\n",
      "Epoch 7/100 [Val]: 100%|██████████| 1/1 [00:00<00:00,  5.52it/s, Batch RMSE=0.0885]\n",
      "Epoch 8/100 [Train]: 100%|██████████| 6/6 [00:01<00:00,  3.10it/s, Batch Loss=0.00457]\n",
      "Epoch 8/100 [Val]: 100%|██████████| 1/1 [00:00<00:00,  5.75it/s, Batch RMSE=0.0877]\n",
      "Epoch 9/100 [Train]: 100%|██████████| 6/6 [00:01<00:00,  3.06it/s, Batch Loss=0.00436]\n",
      "Epoch 9/100 [Val]: 100%|██████████| 1/1 [00:00<00:00,  6.05it/s, Batch RMSE=0.0868]\n",
      "Epoch 10/100 [Train]: 100%|██████████| 6/6 [00:01<00:00,  3.10it/s, Batch Loss=0.00453]\n",
      "Epoch 10/100 [Val]: 100%|██████████| 1/1 [00:00<00:00,  5.86it/s, Batch RMSE=0.0862]\n",
      "Epoch 11/100 [Train]: 100%|██████████| 6/6 [00:01<00:00,  3.07it/s, Batch Loss=0.00429]\n",
      "Epoch 11/100 [Val]: 100%|██████████| 1/1 [00:00<00:00,  5.96it/s, Batch RMSE=0.0867]\n",
      "Epoch 12/100 [Train]: 100%|██████████| 6/6 [00:01<00:00,  3.02it/s, Batch Loss=0.00414]\n",
      "Epoch 12/100 [Val]: 100%|██████████| 1/1 [00:00<00:00,  5.20it/s, Batch RMSE=0.0857]\n",
      "Epoch 13/100 [Train]: 100%|██████████| 6/6 [00:01<00:00,  3.03it/s, Batch Loss=0.00419]\n",
      "Epoch 13/100 [Val]: 100%|██████████| 1/1 [00:00<00:00,  5.47it/s, Batch RMSE=0.0854]\n",
      "Epoch 14/100 [Train]: 100%|██████████| 6/6 [00:01<00:00,  3.00it/s, Batch Loss=0.00386]\n",
      "Epoch 14/100 [Val]: 100%|██████████| 1/1 [00:00<00:00,  5.18it/s, Batch RMSE=0.087]\n",
      "Epoch 15/100 [Train]: 100%|██████████| 6/6 [00:01<00:00,  3.03it/s, Batch Loss=0.00393]\n",
      "Epoch 15/100 [Val]: 100%|██████████| 1/1 [00:00<00:00,  4.87it/s, Batch RMSE=0.0847]\n",
      "Epoch 16/100 [Train]: 100%|██████████| 6/6 [00:01<00:00,  3.11it/s, Batch Loss=0.00386]\n",
      "Epoch 16/100 [Val]: 100%|██████████| 1/1 [00:00<00:00,  5.68it/s, Batch RMSE=0.0854]\n",
      "Epoch 17/100 [Train]: 100%|██████████| 6/6 [00:01<00:00,  3.07it/s, Batch Loss=0.00374]\n",
      "Epoch 17/100 [Val]: 100%|██████████| 1/1 [00:00<00:00,  5.22it/s, Batch RMSE=0.0858]\n",
      "Epoch 18/100 [Train]: 100%|██████████| 6/6 [00:01<00:00,  3.12it/s, Batch Loss=0.00355]\n",
      "Epoch 18/100 [Val]: 100%|██████████| 1/1 [00:00<00:00,  5.64it/s, Batch RMSE=0.0867]\n",
      "Epoch 19/100 [Train]: 100%|██████████| 6/6 [00:01<00:00,  3.11it/s, Batch Loss=0.00349]\n",
      "Epoch 19/100 [Val]: 100%|██████████| 1/1 [00:00<00:00,  5.65it/s, Batch RMSE=0.0855]\n",
      "Epoch 20/100 [Train]: 100%|██████████| 6/6 [00:01<00:00,  3.03it/s, Batch Loss=0.00345]\n",
      "Epoch 20/100 [Val]: 100%|██████████| 1/1 [00:00<00:00,  5.52it/s, Batch RMSE=0.0851]\n"
     ]
    },
    {
     "name": "stdout",
     "output_type": "stream",
     "text": [
      "Early stopping triggered at epoch 21\n"
     ]
    },
    {
     "data": {
      "text/html": [
       "\n",
       "    <style>\n",
       "        .wandb-row {\n",
       "            display: flex;\n",
       "            flex-direction: row;\n",
       "            flex-wrap: wrap;\n",
       "            justify-content: flex-start;\n",
       "            width: 100%;\n",
       "        }\n",
       "        .wandb-col {\n",
       "            display: flex;\n",
       "            flex-direction: column;\n",
       "            flex-basis: 100%;\n",
       "            flex: 1;\n",
       "            padding: 10px;\n",
       "        }\n",
       "    </style>\n",
       "<div class=\"wandb-row\"><div class=\"wandb-col\"><h3>Run history:</h3><br/><table class=\"wandb\"><tr><td>best_val_rmse</td><td>█▄▃▂▂▂▂▂▂▁▁▁▁▁▁▁▁▁▁▁</td></tr><tr><td>epoch</td><td>▁▁▂▂▂▃▃▃▄▄▅▅▅▆▆▆▇▇▇██</td></tr><tr><td>epoch_train_loss</td><td>█▃▂▂▂▂▂▂▂▂▂▂▂▂▂▁▁▁▁▁▁</td></tr><tr><td>epoch_val_loss</td><td>█▄▂▂▂▂▂▂▂▁▁▁▁▁▁▁▁▁▁▁▁</td></tr><tr><td>epoch_val_rmse</td><td>█▄▃▂▂▂▂▂▂▁▁▁▁▁▁▁▁▁▁▁▁</td></tr><tr><td>lr</td><td>██████▇▇▇▇▆▆▅▅▅▄▃▃▂▂▁</td></tr><tr><td>train_loss</td><td>█▂▂▂▂▂▁▂▂▁▁▁▂▁▁▁▁▁▁▁▁▁▁▁▁▁▁▁▁▁▁▁▁▁▁▁▁▁▁▁</td></tr><tr><td>val_loss</td><td>█▄▂▂▂▂▂▂▂▁▁▁▁▁▁▁▁▁▁▁▁</td></tr><tr><td>val_rmse</td><td>█▄▃▂▂▂▂▂▂▁▁▁▁▁▁▁▁▁▁▁▁</td></tr></table><br/></div><div class=\"wandb-col\"><h3>Run summary:</h3><br/><table class=\"wandb\"><tr><td>best_val_rmse</td><td>0.08474</td></tr><tr><td>epoch</td><td>20</td></tr><tr><td>epoch_train_loss</td><td>0.00345</td></tr><tr><td>epoch_val_loss</td><td>0.00602</td></tr><tr><td>epoch_val_rmse</td><td>0.08507</td></tr><tr><td>lr</td><td>0.00061</td></tr><tr><td>train_loss</td><td>0.00345</td></tr><tr><td>val_loss</td><td>0.00602</td></tr><tr><td>val_rmse</td><td>0.08507</td></tr></table><br/></div></div>"
      ],
      "text/plain": [
       "<IPython.core.display.HTML object>"
      ]
     },
     "metadata": {},
     "output_type": "display_data"
    },
    {
     "data": {
      "text/html": [
       " View run <strong style=\"color:#cdcd00\">pious-sweep-15</strong> at: <a href='https://wandb.ai/ychnli-stanford-university/sea-ice-prediction/runs/hjhw4l85' target=\"_blank\">https://wandb.ai/ychnli-stanford-university/sea-ice-prediction/runs/hjhw4l85</a><br/> View project at: <a href='https://wandb.ai/ychnli-stanford-university/sea-ice-prediction' target=\"_blank\">https://wandb.ai/ychnli-stanford-university/sea-ice-prediction</a><br/>Synced 4 W&B file(s), 0 media file(s), 0 artifact file(s) and 0 other file(s)"
      ],
      "text/plain": [
       "<IPython.core.display.HTML object>"
      ]
     },
     "metadata": {},
     "output_type": "display_data"
    },
    {
     "data": {
      "text/html": [
       "Find logs at: <code>./wandb/run-20250531_233001-hjhw4l85/logs</code>"
      ],
      "text/plain": [
       "<IPython.core.display.HTML object>"
      ]
     },
     "metadata": {},
     "output_type": "display_data"
    },
    {
     "name": "stderr",
     "output_type": "stream",
     "text": [
      "\u001b[34m\u001b[1mwandb\u001b[0m: Agent Starting Run: kycfzyw4 with config:\n",
      "\u001b[34m\u001b[1mwandb\u001b[0m: \tbatch_size: 20\n",
      "\u001b[34m\u001b[1mwandb\u001b[0m: \tloss_function_args: 0\n",
      "\u001b[34m\u001b[1mwandb\u001b[0m: \tlr: 0.000979474435902012\n",
      "\u001b[34m\u001b[1mwandb\u001b[0m: \tnum_epochs: 100\n",
      "\u001b[34m\u001b[1mwandb\u001b[0m: \tweight_decay: 2.327356026912608e-05\n"
     ]
    },
    {
     "data": {
      "text/html": [
       "Tracking run with wandb version 0.19.0"
      ],
      "text/plain": [
       "<IPython.core.display.HTML object>"
      ]
     },
     "metadata": {},
     "output_type": "display_data"
    },
    {
     "data": {
      "text/html": [
       "Run data is saved locally in <code>/home/users/yucli/sicpred/wandb/run-20250531_233057-kycfzyw4</code>"
      ],
      "text/plain": [
       "<IPython.core.display.HTML object>"
      ]
     },
     "metadata": {},
     "output_type": "display_data"
    },
    {
     "data": {
      "text/html": [
       "Syncing run <strong><a href='https://wandb.ai/ychnli-stanford-university/sea-ice-prediction/runs/kycfzyw4' target=\"_blank\">usual-sweep-16</a></strong> to <a href='https://wandb.ai/ychnli-stanford-university/sea-ice-prediction' target=\"_blank\">Weights & Biases</a> (<a href='https://wandb.me/developer-guide' target=\"_blank\">docs</a>)<br/>Sweep page: <a href='https://wandb.ai/ychnli-stanford-university/sea-ice-prediction/sweeps/70ww3ii3' target=\"_blank\">https://wandb.ai/ychnli-stanford-university/sea-ice-prediction/sweeps/70ww3ii3</a>"
      ],
      "text/plain": [
       "<IPython.core.display.HTML object>"
      ]
     },
     "metadata": {},
     "output_type": "display_data"
    },
    {
     "data": {
      "text/html": [
       " View project at <a href='https://wandb.ai/ychnli-stanford-university/sea-ice-prediction' target=\"_blank\">https://wandb.ai/ychnli-stanford-university/sea-ice-prediction</a>"
      ],
      "text/plain": [
       "<IPython.core.display.HTML object>"
      ]
     },
     "metadata": {},
     "output_type": "display_data"
    },
    {
     "data": {
      "text/html": [
       " View sweep at <a href='https://wandb.ai/ychnli-stanford-university/sea-ice-prediction/sweeps/70ww3ii3' target=\"_blank\">https://wandb.ai/ychnli-stanford-university/sea-ice-prediction/sweeps/70ww3ii3</a>"
      ],
      "text/plain": [
       "<IPython.core.display.HTML object>"
      ]
     },
     "metadata": {},
     "output_type": "display_data"
    },
    {
     "data": {
      "text/html": [
       " View run at <a href='https://wandb.ai/ychnli-stanford-university/sea-ice-prediction/runs/kycfzyw4' target=\"_blank\">https://wandb.ai/ychnli-stanford-university/sea-ice-prediction/runs/kycfzyw4</a>"
      ],
      "text/plain": [
       "<IPython.core.display.HTML object>"
      ]
     },
     "metadata": {},
     "output_type": "display_data"
    },
    {
     "name": "stderr",
     "output_type": "stream",
     "text": [
      "/home/groups/earlew/yuchen/miniconda3/envs/sicpred_env_conda/lib/python3.12/site-packages/torch/nn/utils/weight_norm.py:143: FutureWarning: `torch.nn.utils.weight_norm` is deprecated in favor of `torch.nn.utils.parametrizations.weight_norm`.\n",
      "  WeightNorm.apply(module, name, dim)\n",
      "Epoch 0/100 [Train]: 100%|██████████| 19/19 [00:04<00:00,  4.03it/s, Batch Loss=0.00491]\n",
      "Epoch 0/100 [Val]: 100%|██████████| 3/3 [00:00<00:00,  8.02it/s, Batch RMSE=0.0918]\n",
      "Epoch 1/100 [Train]: 100%|██████████| 19/19 [00:04<00:00,  4.15it/s, Batch Loss=0.00442]\n",
      "Epoch 1/100 [Val]: 100%|██████████| 3/3 [00:00<00:00,  9.87it/s, Batch RMSE=0.0889]\n",
      "Epoch 2/100 [Train]: 100%|██████████| 19/19 [00:04<00:00,  4.23it/s, Batch Loss=0.0047] \n",
      "Epoch 2/100 [Val]: 100%|██████████| 3/3 [00:00<00:00,  9.88it/s, Batch RMSE=0.0859]\n",
      "Epoch 3/100 [Train]: 100%|██████████| 19/19 [00:04<00:00,  3.89it/s, Batch Loss=0.00512]\n",
      "Epoch 3/100 [Val]: 100%|██████████| 3/3 [00:00<00:00,  9.63it/s, Batch RMSE=0.084] \n",
      "Epoch 4/100 [Train]: 100%|██████████| 19/19 [00:04<00:00,  4.21it/s, Batch Loss=0.00399]\n",
      "Epoch 4/100 [Val]: 100%|██████████| 3/3 [00:00<00:00,  9.82it/s, Batch RMSE=0.0829]\n",
      "Epoch 5/100 [Train]: 100%|██████████| 19/19 [00:04<00:00,  4.18it/s, Batch Loss=0.00501]\n",
      "Epoch 5/100 [Val]: 100%|██████████| 3/3 [00:00<00:00,  9.80it/s, Batch RMSE=0.0836]\n",
      "Epoch 6/100 [Train]: 100%|██████████| 19/19 [00:04<00:00,  4.25it/s, Batch Loss=0.00447]\n",
      "Epoch 6/100 [Val]: 100%|██████████| 3/3 [00:00<00:00,  9.84it/s, Batch RMSE=0.0882]\n",
      "Epoch 7/100 [Train]: 100%|██████████| 19/19 [00:04<00:00,  4.25it/s, Batch Loss=0.00439]\n",
      "Epoch 7/100 [Val]: 100%|██████████| 3/3 [00:00<00:00,  9.63it/s, Batch RMSE=0.0816]\n",
      "Epoch 8/100 [Train]: 100%|██████████| 19/19 [00:04<00:00,  4.25it/s, Batch Loss=0.00415]\n",
      "Epoch 8/100 [Val]: 100%|██████████| 3/3 [00:00<00:00,  9.94it/s, Batch RMSE=0.0853]\n",
      "Epoch 9/100 [Train]: 100%|██████████| 19/19 [00:04<00:00,  4.03it/s, Batch Loss=0.00438]\n",
      "Epoch 9/100 [Val]: 100%|██████████| 3/3 [00:00<00:00,  9.66it/s, Batch RMSE=0.0834]\n",
      "Epoch 10/100 [Train]: 100%|██████████| 19/19 [00:04<00:00,  3.87it/s, Batch Loss=0.00426]\n",
      "Epoch 10/100 [Val]: 100%|██████████| 3/3 [00:00<00:00,  9.98it/s, Batch RMSE=0.0832]\n",
      "Epoch 11/100 [Train]: 100%|██████████| 19/19 [00:04<00:00,  4.23it/s, Batch Loss=0.00443]\n",
      "Epoch 11/100 [Val]: 100%|██████████| 3/3 [00:00<00:00,  9.59it/s, Batch RMSE=0.0828]\n",
      "Epoch 12/100 [Train]: 100%|██████████| 19/19 [00:04<00:00,  4.17it/s, Batch Loss=0.00387]\n",
      "Epoch 12/100 [Val]: 100%|██████████| 3/3 [00:00<00:00,  9.86it/s, Batch RMSE=0.0814]\n",
      "Epoch 13/100 [Train]: 100%|██████████| 19/19 [00:04<00:00,  4.24it/s, Batch Loss=0.00418]\n",
      "Epoch 13/100 [Val]: 100%|██████████| 3/3 [00:00<00:00,  9.86it/s, Batch RMSE=0.0815]\n",
      "Epoch 14/100 [Train]: 100%|██████████| 19/19 [00:04<00:00,  3.97it/s, Batch Loss=0.00375]\n",
      "Epoch 14/100 [Val]: 100%|██████████| 3/3 [00:00<00:00,  9.68it/s, Batch RMSE=0.0798]\n",
      "Epoch 15/100 [Train]: 100%|██████████| 19/19 [00:04<00:00,  4.17it/s, Batch Loss=0.00372]\n",
      "Epoch 15/100 [Val]: 100%|██████████| 3/3 [00:00<00:00,  9.90it/s, Batch RMSE=0.085] \n",
      "Epoch 16/100 [Train]: 100%|██████████| 19/19 [00:04<00:00,  4.18it/s, Batch Loss=0.00364]\n",
      "Epoch 16/100 [Val]: 100%|██████████| 3/3 [00:00<00:00,  9.77it/s, Batch RMSE=0.0832]\n",
      "Epoch 17/100 [Train]: 100%|██████████| 19/19 [00:04<00:00,  4.17it/s, Batch Loss=0.00384]\n",
      "Epoch 17/100 [Val]: 100%|██████████| 3/3 [00:00<00:00,  9.92it/s, Batch RMSE=0.0806]\n",
      "Epoch 18/100 [Train]: 100%|██████████| 19/19 [00:04<00:00,  4.19it/s, Batch Loss=0.00474]\n",
      "Epoch 18/100 [Val]: 100%|██████████| 3/3 [00:00<00:00,  9.38it/s, Batch RMSE=0.09]  \n",
      "Epoch 19/100 [Train]: 100%|██████████| 19/19 [00:04<00:00,  4.18it/s, Batch Loss=0.0051] \n",
      "Epoch 19/100 [Val]: 100%|██████████| 3/3 [00:00<00:00,  9.60it/s, Batch RMSE=0.09]  \n",
      "Epoch 20/100 [Train]: 100%|██████████| 19/19 [00:04<00:00,  4.20it/s, Batch Loss=0.00482]\n",
      "Epoch 20/100 [Val]: 100%|██████████| 3/3 [00:00<00:00,  9.98it/s, Batch RMSE=0.09]  \n",
      "Epoch 21/100 [Train]: 100%|██████████| 19/19 [00:04<00:00,  4.21it/s, Batch Loss=0.00513]\n",
      "Epoch 21/100 [Val]: 100%|██████████| 3/3 [00:00<00:00,  9.89it/s, Batch RMSE=0.09]  \n",
      "Epoch 22/100 [Train]: 100%|██████████| 19/19 [00:04<00:00,  4.23it/s, Batch Loss=0.00507]\n",
      "Epoch 22/100 [Val]: 100%|██████████| 3/3 [00:00<00:00,  9.88it/s, Batch RMSE=0.09]  \n"
     ]
    },
    {
     "name": "stdout",
     "output_type": "stream",
     "text": [
      "Early stopping triggered at epoch 23\n"
     ]
    },
    {
     "data": {
      "text/html": [
       "\n",
       "    <style>\n",
       "        .wandb-row {\n",
       "            display: flex;\n",
       "            flex-direction: row;\n",
       "            flex-wrap: wrap;\n",
       "            justify-content: flex-start;\n",
       "            width: 100%;\n",
       "        }\n",
       "        .wandb-col {\n",
       "            display: flex;\n",
       "            flex-direction: column;\n",
       "            flex-basis: 100%;\n",
       "            flex: 1;\n",
       "            padding: 10px;\n",
       "        }\n",
       "    </style>\n",
       "<div class=\"wandb-row\"><div class=\"wandb-col\"><h3>Run history:</h3><br/><table class=\"wandb\"><tr><td>best_val_rmse</td><td>█▆▄▃▃▃▃▂▂▂▂▂▂▂▂▂▂▁▁▁▁▁</td></tr><tr><td>epoch</td><td>▁▁▂▂▂▃▃▃▄▄▄▅▅▅▅▆▆▆▇▇▇██</td></tr><tr><td>epoch_train_loss</td><td>█▄▃▃▃▃▃▃▂▂▂▂▂▂▂▁▁▁▂▄▄▄▄</td></tr><tr><td>epoch_val_loss</td><td>█▆▄▃▃▃▆▂▄▃▂▃▂▂▂▃▃▁▇▇▇▇▇</td></tr><tr><td>epoch_val_rmse</td><td>█▆▄▃▃▃▅▂▄▃▃▃▂▂▂▃▃▁▇▇▇▇▇</td></tr><tr><td>lr</td><td>██████▇▇▇▇▇▆▆▅▅▅▄▄▃▃▂▂▁</td></tr><tr><td>train_loss</td><td>▇▇▆▆▆▆▄▅▄▅▃▃▃▄▅▃▃▄▃▂▃▂▂▂▂▂▁▂▃▂▁▇▇█▇▅▆█▆▇</td></tr><tr><td>val_loss</td><td>█▆▆▆▅▅▃▅▃▅▃▆▅▅▂▃▄▂▂▃▃▂▄▂▅▁▃▃▄▂▇▅▇▅▇▇▅▇▇▇</td></tr><tr><td>val_rmse</td><td>█▇█▅▆▃▅▃▅▄▅▅▂▅▃▅▃▄▃▅▃▅▂▂▂▁▃▃▄▅▇▆▇▇▆▇▆▆▇▇</td></tr></table><br/></div><div class=\"wandb-col\"><h3>Run summary:</h3><br/><table class=\"wandb\"><tr><td>best_val_rmse</td><td>0.08165</td></tr><tr><td>epoch</td><td>22</td></tr><tr><td>epoch_train_loss</td><td>0.00511</td></tr><tr><td>epoch_val_loss</td><td>0.00664</td></tr><tr><td>epoch_val_rmse</td><td>0.08925</td></tr><tr><td>lr</td><td>0.00087</td></tr><tr><td>train_loss</td><td>0.00507</td></tr><tr><td>val_loss</td><td>0.00676</td></tr><tr><td>val_rmse</td><td>0.09002</td></tr></table><br/></div></div>"
      ],
      "text/plain": [
       "<IPython.core.display.HTML object>"
      ]
     },
     "metadata": {},
     "output_type": "display_data"
    },
    {
     "data": {
      "text/html": [
       " View run <strong style=\"color:#cdcd00\">usual-sweep-16</strong> at: <a href='https://wandb.ai/ychnli-stanford-university/sea-ice-prediction/runs/kycfzyw4' target=\"_blank\">https://wandb.ai/ychnli-stanford-university/sea-ice-prediction/runs/kycfzyw4</a><br/> View project at: <a href='https://wandb.ai/ychnli-stanford-university/sea-ice-prediction' target=\"_blank\">https://wandb.ai/ychnli-stanford-university/sea-ice-prediction</a><br/>Synced 4 W&B file(s), 0 media file(s), 0 artifact file(s) and 0 other file(s)"
      ],
      "text/plain": [
       "<IPython.core.display.HTML object>"
      ]
     },
     "metadata": {},
     "output_type": "display_data"
    },
    {
     "data": {
      "text/html": [
       "Find logs at: <code>./wandb/run-20250531_233057-kycfzyw4/logs</code>"
      ],
      "text/plain": [
       "<IPython.core.display.HTML object>"
      ]
     },
     "metadata": {},
     "output_type": "display_data"
    },
    {
     "name": "stderr",
     "output_type": "stream",
     "text": [
      "\u001b[34m\u001b[1mwandb\u001b[0m: Agent Starting Run: xc8miott with config:\n",
      "\u001b[34m\u001b[1mwandb\u001b[0m: \tbatch_size: 64\n",
      "\u001b[34m\u001b[1mwandb\u001b[0m: \tloss_function_args: 0\n",
      "\u001b[34m\u001b[1mwandb\u001b[0m: \tlr: 0.001545448859008439\n",
      "\u001b[34m\u001b[1mwandb\u001b[0m: \tnum_epochs: 100\n",
      "\u001b[34m\u001b[1mwandb\u001b[0m: \tweight_decay: 6.316019745325809e-05\n"
     ]
    },
    {
     "data": {
      "text/html": [
       "Tracking run with wandb version 0.19.0"
      ],
      "text/plain": [
       "<IPython.core.display.HTML object>"
      ]
     },
     "metadata": {},
     "output_type": "display_data"
    },
    {
     "data": {
      "text/html": [
       "Run data is saved locally in <code>/home/users/yucli/sicpred/wandb/run-20250531_233259-xc8miott</code>"
      ],
      "text/plain": [
       "<IPython.core.display.HTML object>"
      ]
     },
     "metadata": {},
     "output_type": "display_data"
    },
    {
     "data": {
      "text/html": [
       "Syncing run <strong><a href='https://wandb.ai/ychnli-stanford-university/sea-ice-prediction/runs/xc8miott' target=\"_blank\">clean-sweep-17</a></strong> to <a href='https://wandb.ai/ychnli-stanford-university/sea-ice-prediction' target=\"_blank\">Weights & Biases</a> (<a href='https://wandb.me/developer-guide' target=\"_blank\">docs</a>)<br/>Sweep page: <a href='https://wandb.ai/ychnli-stanford-university/sea-ice-prediction/sweeps/70ww3ii3' target=\"_blank\">https://wandb.ai/ychnli-stanford-university/sea-ice-prediction/sweeps/70ww3ii3</a>"
      ],
      "text/plain": [
       "<IPython.core.display.HTML object>"
      ]
     },
     "metadata": {},
     "output_type": "display_data"
    },
    {
     "data": {
      "text/html": [
       " View project at <a href='https://wandb.ai/ychnli-stanford-university/sea-ice-prediction' target=\"_blank\">https://wandb.ai/ychnli-stanford-university/sea-ice-prediction</a>"
      ],
      "text/plain": [
       "<IPython.core.display.HTML object>"
      ]
     },
     "metadata": {},
     "output_type": "display_data"
    },
    {
     "data": {
      "text/html": [
       " View sweep at <a href='https://wandb.ai/ychnli-stanford-university/sea-ice-prediction/sweeps/70ww3ii3' target=\"_blank\">https://wandb.ai/ychnli-stanford-university/sea-ice-prediction/sweeps/70ww3ii3</a>"
      ],
      "text/plain": [
       "<IPython.core.display.HTML object>"
      ]
     },
     "metadata": {},
     "output_type": "display_data"
    },
    {
     "data": {
      "text/html": [
       " View run at <a href='https://wandb.ai/ychnli-stanford-university/sea-ice-prediction/runs/xc8miott' target=\"_blank\">https://wandb.ai/ychnli-stanford-university/sea-ice-prediction/runs/xc8miott</a>"
      ],
      "text/plain": [
       "<IPython.core.display.HTML object>"
      ]
     },
     "metadata": {},
     "output_type": "display_data"
    },
    {
     "name": "stderr",
     "output_type": "stream",
     "text": [
      "/home/groups/earlew/yuchen/miniconda3/envs/sicpred_env_conda/lib/python3.12/site-packages/torch/nn/utils/weight_norm.py:143: FutureWarning: `torch.nn.utils.weight_norm` is deprecated in favor of `torch.nn.utils.parametrizations.weight_norm`.\n",
      "  WeightNorm.apply(module, name, dim)\n",
      "Epoch 0/100 [Train]: 100%|██████████| 6/6 [00:02<00:00,  2.87it/s, Batch Loss=0.00538]\n",
      "Epoch 0/100 [Val]: 100%|██████████| 1/1 [00:00<00:00,  4.22it/s, Batch RMSE=0.101]\n",
      "Epoch 1/100 [Train]: 100%|██████████| 6/6 [00:01<00:00,  3.15it/s, Batch Loss=0.00515]\n",
      "Epoch 1/100 [Val]: 100%|██████████| 1/1 [00:00<00:00,  6.00it/s, Batch RMSE=0.0912]\n",
      "Epoch 2/100 [Train]: 100%|██████████| 6/6 [00:01<00:00,  3.19it/s, Batch Loss=0.00544]\n",
      "Epoch 2/100 [Val]: 100%|██████████| 1/1 [00:00<00:00,  6.05it/s, Batch RMSE=0.0891]\n",
      "Epoch 3/100 [Train]: 100%|██████████| 6/6 [00:01<00:00,  3.14it/s, Batch Loss=0.00483]\n",
      "Epoch 3/100 [Val]: 100%|██████████| 1/1 [00:00<00:00,  5.93it/s, Batch RMSE=0.0889]\n",
      "Epoch 4/100 [Train]: 100%|██████████| 6/6 [00:01<00:00,  3.17it/s, Batch Loss=0.00499]\n",
      "Epoch 4/100 [Val]: 100%|██████████| 1/1 [00:00<00:00,  5.95it/s, Batch RMSE=0.0884]\n",
      "Epoch 5/100 [Train]: 100%|██████████| 6/6 [00:01<00:00,  3.10it/s, Batch Loss=0.0046] \n",
      "Epoch 5/100 [Val]: 100%|██████████| 1/1 [00:00<00:00,  5.95it/s, Batch RMSE=0.0875]\n",
      "Epoch 6/100 [Train]: 100%|██████████| 6/6 [00:01<00:00,  3.14it/s, Batch Loss=0.00444]\n",
      "Epoch 6/100 [Val]: 100%|██████████| 1/1 [00:00<00:00,  5.36it/s, Batch RMSE=0.0865]\n",
      "Epoch 7/100 [Train]: 100%|██████████| 6/6 [00:01<00:00,  3.10it/s, Batch Loss=0.00459]\n",
      "Epoch 7/100 [Val]: 100%|██████████| 1/1 [00:00<00:00,  5.44it/s, Batch RMSE=0.0862]\n",
      "Epoch 8/100 [Train]: 100%|██████████| 6/6 [00:01<00:00,  3.08it/s, Batch Loss=0.00475]\n",
      "Epoch 8/100 [Val]: 100%|██████████| 1/1 [00:00<00:00,  5.67it/s, Batch RMSE=0.0857]\n",
      "Epoch 9/100 [Train]: 100%|██████████| 6/6 [00:01<00:00,  3.13it/s, Batch Loss=0.00459]\n",
      "Epoch 9/100 [Val]: 100%|██████████| 1/1 [00:00<00:00,  5.73it/s, Batch RMSE=0.0852]\n",
      "Epoch 10/100 [Train]: 100%|██████████| 6/6 [00:01<00:00,  3.08it/s, Batch Loss=0.00445]\n",
      "Epoch 10/100 [Val]: 100%|██████████| 1/1 [00:00<00:00,  5.53it/s, Batch RMSE=0.0854]\n",
      "Epoch 11/100 [Train]: 100%|██████████| 6/6 [00:01<00:00,  3.02it/s, Batch Loss=0.00451]\n",
      "Epoch 11/100 [Val]: 100%|██████████| 1/1 [00:00<00:00,  5.68it/s, Batch RMSE=0.0845]\n",
      "Epoch 12/100 [Train]: 100%|██████████| 6/6 [00:02<00:00,  2.50it/s, Batch Loss=0.00449]\n",
      "Epoch 12/100 [Val]: 100%|██████████| 1/1 [00:00<00:00,  5.51it/s, Batch RMSE=0.0851]\n",
      "Epoch 13/100 [Train]: 100%|██████████| 6/6 [00:01<00:00,  3.07it/s, Batch Loss=0.00433]\n",
      "Epoch 13/100 [Val]: 100%|██████████| 1/1 [00:00<00:00,  5.82it/s, Batch RMSE=0.0857]\n",
      "Epoch 14/100 [Train]: 100%|██████████| 6/6 [00:01<00:00,  3.10it/s, Batch Loss=0.0043] \n",
      "Epoch 14/100 [Val]: 100%|██████████| 1/1 [00:00<00:00,  5.90it/s, Batch RMSE=0.0848]\n",
      "Epoch 15/100 [Train]: 100%|██████████| 6/6 [00:01<00:00,  3.11it/s, Batch Loss=0.00445]\n",
      "Epoch 15/100 [Val]: 100%|██████████| 1/1 [00:00<00:00,  5.92it/s, Batch RMSE=0.0846]\n",
      "Epoch 16/100 [Train]: 100%|██████████| 6/6 [00:01<00:00,  3.10it/s, Batch Loss=0.00457]\n",
      "Epoch 16/100 [Val]: 100%|██████████| 1/1 [00:00<00:00,  5.72it/s, Batch RMSE=0.0849]\n"
     ]
    },
    {
     "name": "stdout",
     "output_type": "stream",
     "text": [
      "Early stopping triggered at epoch 17\n"
     ]
    },
    {
     "data": {
      "text/html": [
       "\n",
       "    <style>\n",
       "        .wandb-row {\n",
       "            display: flex;\n",
       "            flex-direction: row;\n",
       "            flex-wrap: wrap;\n",
       "            justify-content: flex-start;\n",
       "            width: 100%;\n",
       "        }\n",
       "        .wandb-col {\n",
       "            display: flex;\n",
       "            flex-direction: column;\n",
       "            flex-basis: 100%;\n",
       "            flex: 1;\n",
       "            padding: 10px;\n",
       "        }\n",
       "    </style>\n",
       "<div class=\"wandb-row\"><div class=\"wandb-col\"><h3>Run history:</h3><br/><table class=\"wandb\"><tr><td>best_val_rmse</td><td>█▄▃▃▃▂▂▂▂▁▁▁▁▁▁▁</td></tr><tr><td>epoch</td><td>▁▁▂▂▃▃▄▄▅▅▅▆▆▇▇██</td></tr><tr><td>epoch_train_loss</td><td>█▂▂▂▂▂▂▁▁▁▁▁▁▁▁▁▁</td></tr><tr><td>epoch_val_loss</td><td>█▄▃▃▃▂▂▂▂▁▁▁▁▂▁▁▁</td></tr><tr><td>epoch_val_rmse</td><td>█▄▃▃▃▂▂▂▂▁▁▁▁▂▁▁▁</td></tr><tr><td>lr</td><td>█████▇▇▇▆▆▅▅▄▃▃▂▁</td></tr><tr><td>train_loss</td><td>█▄▂▂▂▁▁▁▁▁▁▁▁▁▁▁▁▁▁▁▁▁▁▁▁▁▁▁▁▁▁▁▁▁▁▁▁▁▁▁</td></tr><tr><td>val_loss</td><td>█▄▃▃▃▂▂▂▂▁▁▁▁▂▁▁▁</td></tr><tr><td>val_rmse</td><td>█▄▃▃▃▂▂▂▂▁▁▁▁▂▁▁▁</td></tr></table><br/></div><div class=\"wandb-col\"><h3>Run summary:</h3><br/><table class=\"wandb\"><tr><td>best_val_rmse</td><td>0.08446</td></tr><tr><td>epoch</td><td>16</td></tr><tr><td>epoch_train_loss</td><td>0.00439</td></tr><tr><td>epoch_val_loss</td><td>0.00599</td></tr><tr><td>epoch_val_rmse</td><td>0.08485</td></tr><tr><td>lr</td><td>0.00145</td></tr><tr><td>train_loss</td><td>0.00457</td></tr><tr><td>val_loss</td><td>0.00599</td></tr><tr><td>val_rmse</td><td>0.08485</td></tr></table><br/></div></div>"
      ],
      "text/plain": [
       "<IPython.core.display.HTML object>"
      ]
     },
     "metadata": {},
     "output_type": "display_data"
    },
    {
     "data": {
      "text/html": [
       " View run <strong style=\"color:#cdcd00\">clean-sweep-17</strong> at: <a href='https://wandb.ai/ychnli-stanford-university/sea-ice-prediction/runs/xc8miott' target=\"_blank\">https://wandb.ai/ychnli-stanford-university/sea-ice-prediction/runs/xc8miott</a><br/> View project at: <a href='https://wandb.ai/ychnli-stanford-university/sea-ice-prediction' target=\"_blank\">https://wandb.ai/ychnli-stanford-university/sea-ice-prediction</a><br/>Synced 4 W&B file(s), 0 media file(s), 0 artifact file(s) and 0 other file(s)"
      ],
      "text/plain": [
       "<IPython.core.display.HTML object>"
      ]
     },
     "metadata": {},
     "output_type": "display_data"
    },
    {
     "data": {
      "text/html": [
       "Find logs at: <code>./wandb/run-20250531_233259-xc8miott/logs</code>"
      ],
      "text/plain": [
       "<IPython.core.display.HTML object>"
      ]
     },
     "metadata": {},
     "output_type": "display_data"
    },
    {
     "name": "stderr",
     "output_type": "stream",
     "text": [
      "\u001b[34m\u001b[1mwandb\u001b[0m: Agent Starting Run: 0xrqvij0 with config:\n",
      "\u001b[34m\u001b[1mwandb\u001b[0m: \tbatch_size: 64\n",
      "\u001b[34m\u001b[1mwandb\u001b[0m: \tloss_function_args: 0\n",
      "\u001b[34m\u001b[1mwandb\u001b[0m: \tlr: 0.0017500073771496152\n",
      "\u001b[34m\u001b[1mwandb\u001b[0m: \tnum_epochs: 100\n",
      "\u001b[34m\u001b[1mwandb\u001b[0m: \tweight_decay: 5.849813155105339e-05\n"
     ]
    },
    {
     "data": {
      "text/html": [
       "Tracking run with wandb version 0.19.0"
      ],
      "text/plain": [
       "<IPython.core.display.HTML object>"
      ]
     },
     "metadata": {},
     "output_type": "display_data"
    },
    {
     "data": {
      "text/html": [
       "Run data is saved locally in <code>/home/users/yucli/sicpred/wandb/run-20250531_233345-0xrqvij0</code>"
      ],
      "text/plain": [
       "<IPython.core.display.HTML object>"
      ]
     },
     "metadata": {},
     "output_type": "display_data"
    },
    {
     "data": {
      "text/html": [
       "Syncing run <strong><a href='https://wandb.ai/ychnli-stanford-university/sea-ice-prediction/runs/0xrqvij0' target=\"_blank\">astral-sweep-18</a></strong> to <a href='https://wandb.ai/ychnli-stanford-university/sea-ice-prediction' target=\"_blank\">Weights & Biases</a> (<a href='https://wandb.me/developer-guide' target=\"_blank\">docs</a>)<br/>Sweep page: <a href='https://wandb.ai/ychnli-stanford-university/sea-ice-prediction/sweeps/70ww3ii3' target=\"_blank\">https://wandb.ai/ychnli-stanford-university/sea-ice-prediction/sweeps/70ww3ii3</a>"
      ],
      "text/plain": [
       "<IPython.core.display.HTML object>"
      ]
     },
     "metadata": {},
     "output_type": "display_data"
    },
    {
     "data": {
      "text/html": [
       " View project at <a href='https://wandb.ai/ychnli-stanford-university/sea-ice-prediction' target=\"_blank\">https://wandb.ai/ychnli-stanford-university/sea-ice-prediction</a>"
      ],
      "text/plain": [
       "<IPython.core.display.HTML object>"
      ]
     },
     "metadata": {},
     "output_type": "display_data"
    },
    {
     "data": {
      "text/html": [
       " View sweep at <a href='https://wandb.ai/ychnli-stanford-university/sea-ice-prediction/sweeps/70ww3ii3' target=\"_blank\">https://wandb.ai/ychnli-stanford-university/sea-ice-prediction/sweeps/70ww3ii3</a>"
      ],
      "text/plain": [
       "<IPython.core.display.HTML object>"
      ]
     },
     "metadata": {},
     "output_type": "display_data"
    },
    {
     "data": {
      "text/html": [
       " View run at <a href='https://wandb.ai/ychnli-stanford-university/sea-ice-prediction/runs/0xrqvij0' target=\"_blank\">https://wandb.ai/ychnli-stanford-university/sea-ice-prediction/runs/0xrqvij0</a>"
      ],
      "text/plain": [
       "<IPython.core.display.HTML object>"
      ]
     },
     "metadata": {},
     "output_type": "display_data"
    },
    {
     "name": "stderr",
     "output_type": "stream",
     "text": [
      "/home/groups/earlew/yuchen/miniconda3/envs/sicpred_env_conda/lib/python3.12/site-packages/torch/nn/utils/weight_norm.py:143: FutureWarning: `torch.nn.utils.weight_norm` is deprecated in favor of `torch.nn.utils.parametrizations.weight_norm`.\n",
      "  WeightNorm.apply(module, name, dim)\n",
      "Epoch 0/100 [Train]: 100%|██████████| 6/6 [00:02<00:00,  2.74it/s, Batch Loss=0.00588]\n",
      "Epoch 0/100 [Val]: 100%|██████████| 1/1 [00:00<00:00,  4.42it/s, Batch RMSE=0.107]\n",
      "Epoch 1/100 [Train]: 100%|██████████| 6/6 [00:01<00:00,  3.12it/s, Batch Loss=0.00509]\n",
      "Epoch 1/100 [Val]: 100%|██████████| 1/1 [00:00<00:00,  5.88it/s, Batch RMSE=0.0941]\n",
      "Epoch 2/100 [Train]: 100%|██████████| 6/6 [00:01<00:00,  3.11it/s, Batch Loss=0.00501]\n",
      "Epoch 2/100 [Val]: 100%|██████████| 1/1 [00:00<00:00,  5.83it/s, Batch RMSE=0.0894]\n",
      "Epoch 3/100 [Train]: 100%|██████████| 6/6 [00:01<00:00,  3.02it/s, Batch Loss=0.00475]\n",
      "Epoch 3/100 [Val]: 100%|██████████| 1/1 [00:00<00:00,  5.79it/s, Batch RMSE=0.0885]\n",
      "Epoch 4/100 [Train]: 100%|██████████| 6/6 [00:01<00:00,  3.10it/s, Batch Loss=0.00512]\n",
      "Epoch 4/100 [Val]: 100%|██████████| 1/1 [00:00<00:00,  5.67it/s, Batch RMSE=0.088]\n",
      "Epoch 5/100 [Train]: 100%|██████████| 6/6 [00:01<00:00,  3.14it/s, Batch Loss=0.00502]\n",
      "Epoch 5/100 [Val]: 100%|██████████| 1/1 [00:00<00:00,  5.81it/s, Batch RMSE=0.0876]\n",
      "Epoch 6/100 [Train]: 100%|██████████| 6/6 [00:01<00:00,  3.16it/s, Batch Loss=0.0048] \n",
      "Epoch 6/100 [Val]: 100%|██████████| 1/1 [00:00<00:00,  6.08it/s, Batch RMSE=0.0872]\n",
      "Epoch 7/100 [Train]: 100%|██████████| 6/6 [00:01<00:00,  3.20it/s, Batch Loss=0.0051] \n",
      "Epoch 7/100 [Val]: 100%|██████████| 1/1 [00:00<00:00,  6.17it/s, Batch RMSE=0.0869]\n",
      "Epoch 8/100 [Train]: 100%|██████████| 6/6 [00:01<00:00,  3.16it/s, Batch Loss=0.00487]\n",
      "Epoch 8/100 [Val]: 100%|██████████| 1/1 [00:00<00:00,  6.02it/s, Batch RMSE=0.0863]\n",
      "Epoch 9/100 [Train]: 100%|██████████| 6/6 [00:01<00:00,  3.21it/s, Batch Loss=0.0049] \n",
      "Epoch 9/100 [Val]: 100%|██████████| 1/1 [00:00<00:00,  5.93it/s, Batch RMSE=0.0857]\n",
      "Epoch 10/100 [Train]: 100%|██████████| 6/6 [00:01<00:00,  3.16it/s, Batch Loss=0.0048] \n",
      "Epoch 10/100 [Val]: 100%|██████████| 1/1 [00:00<00:00,  5.73it/s, Batch RMSE=0.0854]\n",
      "Epoch 11/100 [Train]: 100%|██████████| 6/6 [00:01<00:00,  3.15it/s, Batch Loss=0.00495]\n",
      "Epoch 11/100 [Val]: 100%|██████████| 1/1 [00:00<00:00,  5.85it/s, Batch RMSE=0.0849]\n",
      "Epoch 12/100 [Train]: 100%|██████████| 6/6 [00:01<00:00,  3.15it/s, Batch Loss=0.00468]\n",
      "Epoch 12/100 [Val]: 100%|██████████| 1/1 [00:00<00:00,  5.81it/s, Batch RMSE=0.0847]\n",
      "Epoch 13/100 [Train]: 100%|██████████| 6/6 [00:01<00:00,  3.15it/s, Batch Loss=0.00456]\n",
      "Epoch 13/100 [Val]: 100%|██████████| 1/1 [00:00<00:00,  5.98it/s, Batch RMSE=0.0851]\n",
      "Epoch 14/100 [Train]: 100%|██████████| 6/6 [00:01<00:00,  3.13it/s, Batch Loss=0.00457]\n",
      "Epoch 14/100 [Val]: 100%|██████████| 1/1 [00:00<00:00,  6.01it/s, Batch RMSE=0.0843]\n",
      "Epoch 15/100 [Train]: 100%|██████████| 6/6 [00:01<00:00,  3.13it/s, Batch Loss=0.0045] \n",
      "Epoch 15/100 [Val]: 100%|██████████| 1/1 [00:00<00:00,  5.99it/s, Batch RMSE=0.0844]\n",
      "Epoch 16/100 [Train]: 100%|██████████| 6/6 [00:01<00:00,  3.14it/s, Batch Loss=0.00458]\n",
      "Epoch 16/100 [Val]: 100%|██████████| 1/1 [00:00<00:00,  5.99it/s, Batch RMSE=0.0841]\n",
      "Epoch 17/100 [Train]: 100%|██████████| 6/6 [00:01<00:00,  3.16it/s, Batch Loss=0.00451]\n",
      "Epoch 17/100 [Val]: 100%|██████████| 1/1 [00:00<00:00,  5.56it/s, Batch RMSE=0.0842]\n",
      "Epoch 18/100 [Train]: 100%|██████████| 6/6 [00:01<00:00,  3.13it/s, Batch Loss=0.00459]\n",
      "Epoch 18/100 [Val]: 100%|██████████| 1/1 [00:00<00:00,  5.70it/s, Batch RMSE=0.0855]\n",
      "Epoch 19/100 [Train]: 100%|██████████| 6/6 [00:01<00:00,  3.14it/s, Batch Loss=0.00444]\n",
      "Epoch 19/100 [Val]: 100%|██████████| 1/1 [00:00<00:00,  6.03it/s, Batch RMSE=0.0847]\n",
      "Epoch 20/100 [Train]: 100%|██████████| 6/6 [00:01<00:00,  3.13it/s, Batch Loss=0.00438]\n",
      "Epoch 20/100 [Val]: 100%|██████████| 1/1 [00:00<00:00,  5.82it/s, Batch RMSE=0.0835]\n",
      "Epoch 21/100 [Train]: 100%|██████████| 6/6 [00:02<00:00,  2.92it/s, Batch Loss=0.00428]\n",
      "Epoch 21/100 [Val]: 100%|██████████| 1/1 [00:00<00:00,  5.90it/s, Batch RMSE=0.118]\n",
      "Epoch 22/100 [Train]: 100%|██████████| 6/6 [00:01<00:00,  3.11it/s, Batch Loss=0.00429]\n",
      "Epoch 22/100 [Val]: 100%|██████████| 1/1 [00:00<00:00,  5.84it/s, Batch RMSE=0.0847]\n",
      "Epoch 23/100 [Train]: 100%|██████████| 6/6 [00:01<00:00,  3.11it/s, Batch Loss=0.00427]\n",
      "Epoch 23/100 [Val]: 100%|██████████| 1/1 [00:00<00:00,  5.86it/s, Batch RMSE=0.0836]\n",
      "Epoch 24/100 [Train]: 100%|██████████| 6/6 [00:01<00:00,  3.12it/s, Batch Loss=0.00402]\n",
      "Epoch 24/100 [Val]: 100%|██████████| 1/1 [00:00<00:00,  5.80it/s, Batch RMSE=0.0847]\n",
      "Epoch 25/100 [Train]: 100%|██████████| 6/6 [00:01<00:00,  3.02it/s, Batch Loss=0.00428]\n",
      "Epoch 25/100 [Val]: 100%|██████████| 1/1 [00:00<00:00,  5.91it/s, Batch RMSE=0.085]\n"
     ]
    },
    {
     "name": "stdout",
     "output_type": "stream",
     "text": [
      "Early stopping triggered at epoch 26\n"
     ]
    },
    {
     "data": {
      "text/html": [
       "\n",
       "    <style>\n",
       "        .wandb-row {\n",
       "            display: flex;\n",
       "            flex-direction: row;\n",
       "            flex-wrap: wrap;\n",
       "            justify-content: flex-start;\n",
       "            width: 100%;\n",
       "        }\n",
       "        .wandb-col {\n",
       "            display: flex;\n",
       "            flex-direction: column;\n",
       "            flex-basis: 100%;\n",
       "            flex: 1;\n",
       "            padding: 10px;\n",
       "        }\n",
       "    </style>\n",
       "<div class=\"wandb-row\"><div class=\"wandb-col\"><h3>Run history:</h3><br/><table class=\"wandb\"><tr><td>best_val_rmse</td><td>█▄▃▃▂▂▂▂▂▂▂▁▁▁▁▁▁▁▁▁▁▁▁▁▁</td></tr><tr><td>epoch</td><td>▁▁▂▂▂▂▃▃▃▄▄▄▄▅▅▅▅▆▆▆▇▇▇▇██</td></tr><tr><td>epoch_train_loss</td><td>█▂▂▂▂▂▂▂▁▁▁▁▁▁▁▁▁▁▁▁▁▁▁▁▁▁</td></tr><tr><td>epoch_val_loss</td><td>▅▃▂▂▂▂▂▂▁▁▁▁▁▁▁▁▁▁▁▁▁█▁▁▁▁</td></tr><tr><td>epoch_val_rmse</td><td>▆▃▂▂▂▂▂▂▂▁▁▁▁▁▁▁▁▁▁▁▁█▁▁▁▁</td></tr><tr><td>lr</td><td>███████▇▇▇▇▇▆▆▆▅▅▅▄▄▃▃▃▂▂▁</td></tr><tr><td>train_loss</td><td>█▄▃▃▂▂▂▂▂▂▂▂▂▂▂▂▂▂▂▂▂▂▁▂▂▁▂▁▂▁▁▁▁▁▁▁▁▁▁▁</td></tr><tr><td>val_loss</td><td>▅▃▂▂▂▂▂▂▁▁▁▁▁▁▁▁▁▁▁▁▁█▁▁▁▁</td></tr><tr><td>val_rmse</td><td>▆▃▂▂▂▂▂▂▂▁▁▁▁▁▁▁▁▁▁▁▁█▁▁▁▁</td></tr></table><br/></div><div class=\"wandb-col\"><h3>Run summary:</h3><br/><table class=\"wandb\"><tr><td>best_val_rmse</td><td>0.08346</td></tr><tr><td>epoch</td><td>25</td></tr><tr><td>epoch_train_loss</td><td>0.00417</td></tr><tr><td>epoch_val_loss</td><td>0.006</td></tr><tr><td>epoch_val_rmse</td><td>0.08501</td></tr><tr><td>lr</td><td>0.00149</td></tr><tr><td>train_loss</td><td>0.00428</td></tr><tr><td>val_loss</td><td>0.006</td></tr><tr><td>val_rmse</td><td>0.08501</td></tr></table><br/></div></div>"
      ],
      "text/plain": [
       "<IPython.core.display.HTML object>"
      ]
     },
     "metadata": {},
     "output_type": "display_data"
    },
    {
     "data": {
      "text/html": [
       " View run <strong style=\"color:#cdcd00\">astral-sweep-18</strong> at: <a href='https://wandb.ai/ychnli-stanford-university/sea-ice-prediction/runs/0xrqvij0' target=\"_blank\">https://wandb.ai/ychnli-stanford-university/sea-ice-prediction/runs/0xrqvij0</a><br/> View project at: <a href='https://wandb.ai/ychnli-stanford-university/sea-ice-prediction' target=\"_blank\">https://wandb.ai/ychnli-stanford-university/sea-ice-prediction</a><br/>Synced 4 W&B file(s), 0 media file(s), 0 artifact file(s) and 0 other file(s)"
      ],
      "text/plain": [
       "<IPython.core.display.HTML object>"
      ]
     },
     "metadata": {},
     "output_type": "display_data"
    },
    {
     "data": {
      "text/html": [
       "Find logs at: <code>./wandb/run-20250531_233345-0xrqvij0/logs</code>"
      ],
      "text/plain": [
       "<IPython.core.display.HTML object>"
      ]
     },
     "metadata": {},
     "output_type": "display_data"
    },
    {
     "name": "stderr",
     "output_type": "stream",
     "text": [
      "\u001b[34m\u001b[1mwandb\u001b[0m: Agent Starting Run: lgk1iyry with config:\n",
      "\u001b[34m\u001b[1mwandb\u001b[0m: \tbatch_size: 50\n",
      "\u001b[34m\u001b[1mwandb\u001b[0m: \tloss_function_args: 0\n",
      "\u001b[34m\u001b[1mwandb\u001b[0m: \tlr: 0.0013249610163274216\n",
      "\u001b[34m\u001b[1mwandb\u001b[0m: \tnum_epochs: 100\n",
      "\u001b[34m\u001b[1mwandb\u001b[0m: \tweight_decay: 2.9609071473011084e-05\n"
     ]
    },
    {
     "data": {
      "text/html": [
       "Tracking run with wandb version 0.19.0"
      ],
      "text/plain": [
       "<IPython.core.display.HTML object>"
      ]
     },
     "metadata": {},
     "output_type": "display_data"
    },
    {
     "data": {
      "text/html": [
       "Run data is saved locally in <code>/home/users/yucli/sicpred/wandb/run-20250531_233451-lgk1iyry</code>"
      ],
      "text/plain": [
       "<IPython.core.display.HTML object>"
      ]
     },
     "metadata": {},
     "output_type": "display_data"
    },
    {
     "data": {
      "text/html": [
       "Syncing run <strong><a href='https://wandb.ai/ychnli-stanford-university/sea-ice-prediction/runs/lgk1iyry' target=\"_blank\">colorful-sweep-19</a></strong> to <a href='https://wandb.ai/ychnli-stanford-university/sea-ice-prediction' target=\"_blank\">Weights & Biases</a> (<a href='https://wandb.me/developer-guide' target=\"_blank\">docs</a>)<br/>Sweep page: <a href='https://wandb.ai/ychnli-stanford-university/sea-ice-prediction/sweeps/70ww3ii3' target=\"_blank\">https://wandb.ai/ychnli-stanford-university/sea-ice-prediction/sweeps/70ww3ii3</a>"
      ],
      "text/plain": [
       "<IPython.core.display.HTML object>"
      ]
     },
     "metadata": {},
     "output_type": "display_data"
    },
    {
     "data": {
      "text/html": [
       " View project at <a href='https://wandb.ai/ychnli-stanford-university/sea-ice-prediction' target=\"_blank\">https://wandb.ai/ychnli-stanford-university/sea-ice-prediction</a>"
      ],
      "text/plain": [
       "<IPython.core.display.HTML object>"
      ]
     },
     "metadata": {},
     "output_type": "display_data"
    },
    {
     "data": {
      "text/html": [
       " View sweep at <a href='https://wandb.ai/ychnli-stanford-university/sea-ice-prediction/sweeps/70ww3ii3' target=\"_blank\">https://wandb.ai/ychnli-stanford-university/sea-ice-prediction/sweeps/70ww3ii3</a>"
      ],
      "text/plain": [
       "<IPython.core.display.HTML object>"
      ]
     },
     "metadata": {},
     "output_type": "display_data"
    },
    {
     "data": {
      "text/html": [
       " View run at <a href='https://wandb.ai/ychnli-stanford-university/sea-ice-prediction/runs/lgk1iyry' target=\"_blank\">https://wandb.ai/ychnli-stanford-university/sea-ice-prediction/runs/lgk1iyry</a>"
      ],
      "text/plain": [
       "<IPython.core.display.HTML object>"
      ]
     },
     "metadata": {},
     "output_type": "display_data"
    },
    {
     "name": "stderr",
     "output_type": "stream",
     "text": [
      "/home/groups/earlew/yuchen/miniconda3/envs/sicpred_env_conda/lib/python3.12/site-packages/torch/nn/utils/weight_norm.py:143: FutureWarning: `torch.nn.utils.weight_norm` is deprecated in favor of `torch.nn.utils.parametrizations.weight_norm`.\n",
      "  WeightNorm.apply(module, name, dim)\n",
      "Epoch 0/100 [Train]: 100%|██████████| 8/8 [00:02<00:00,  3.18it/s, Batch Loss=0.00654]\n",
      "Epoch 0/100 [Val]: 100%|██████████| 2/2 [00:00<00:00,  6.54it/s, Batch RMSE=0.107]\n",
      "Epoch 1/100 [Train]: 100%|██████████| 8/8 [00:02<00:00,  3.45it/s, Batch Loss=0.00519]\n",
      "Epoch 1/100 [Val]: 100%|██████████| 2/2 [00:00<00:00,  8.35it/s, Batch RMSE=0.0918]\n",
      "Epoch 2/100 [Train]: 100%|██████████| 8/8 [00:02<00:00,  3.47it/s, Batch Loss=0.00479]\n",
      "Epoch 2/100 [Val]: 100%|██████████| 2/2 [00:00<00:00,  8.42it/s, Batch RMSE=0.0915]\n",
      "Epoch 3/100 [Train]: 100%|██████████| 8/8 [00:02<00:00,  3.46it/s, Batch Loss=0.00511]\n",
      "Epoch 3/100 [Val]: 100%|██████████| 2/2 [00:00<00:00,  8.32it/s, Batch RMSE=0.0913]\n",
      "Epoch 4/100 [Train]: 100%|██████████| 8/8 [00:02<00:00,  3.48it/s, Batch Loss=0.00476]\n",
      "Epoch 4/100 [Val]: 100%|██████████| 2/2 [00:00<00:00,  8.16it/s, Batch RMSE=0.0902]\n",
      "Epoch 5/100 [Train]: 100%|██████████| 8/8 [00:02<00:00,  3.48it/s, Batch Loss=0.00446]\n",
      "Epoch 5/100 [Val]: 100%|██████████| 2/2 [00:00<00:00,  8.52it/s, Batch RMSE=0.0884]\n",
      "Epoch 6/100 [Train]: 100%|██████████| 8/8 [00:02<00:00,  3.45it/s, Batch Loss=0.00473]\n",
      "Epoch 6/100 [Val]: 100%|██████████| 2/2 [00:00<00:00,  8.51it/s, Batch RMSE=0.0872]\n",
      "Epoch 7/100 [Train]: 100%|██████████| 8/8 [00:02<00:00,  3.47it/s, Batch Loss=0.00475]\n",
      "Epoch 7/100 [Val]: 100%|██████████| 2/2 [00:00<00:00,  8.25it/s, Batch RMSE=0.0856]\n",
      "Epoch 8/100 [Train]: 100%|██████████| 8/8 [00:02<00:00,  3.43it/s, Batch Loss=0.0049] \n",
      "Epoch 8/100 [Val]: 100%|██████████| 2/2 [00:00<00:00,  8.49it/s, Batch RMSE=0.0849]\n",
      "Epoch 9/100 [Train]: 100%|██████████| 8/8 [00:02<00:00,  3.44it/s, Batch Loss=0.00481]\n",
      "Epoch 9/100 [Val]: 100%|██████████| 2/2 [00:00<00:00,  8.38it/s, Batch RMSE=0.0843]\n",
      "Epoch 10/100 [Train]: 100%|██████████| 8/8 [00:02<00:00,  3.48it/s, Batch Loss=0.00459]\n",
      "Epoch 10/100 [Val]: 100%|██████████| 2/2 [00:00<00:00,  8.51it/s, Batch RMSE=0.0838]\n",
      "Epoch 11/100 [Train]: 100%|██████████| 8/8 [00:02<00:00,  3.47it/s, Batch Loss=0.0047] \n",
      "Epoch 11/100 [Val]: 100%|██████████| 2/2 [00:00<00:00,  8.49it/s, Batch RMSE=0.0837]\n",
      "Epoch 12/100 [Train]: 100%|██████████| 8/8 [00:02<00:00,  3.53it/s, Batch Loss=0.00459]\n",
      "Epoch 12/100 [Val]: 100%|██████████| 2/2 [00:00<00:00,  8.32it/s, Batch RMSE=0.083]\n",
      "Epoch 13/100 [Train]: 100%|██████████| 8/8 [00:02<00:00,  3.43it/s, Batch Loss=0.00442]\n",
      "Epoch 13/100 [Val]: 100%|██████████| 2/2 [00:00<00:00,  8.36it/s, Batch RMSE=0.0834]\n",
      "Epoch 14/100 [Train]: 100%|██████████| 8/8 [00:02<00:00,  3.47it/s, Batch Loss=0.00462]\n",
      "Epoch 14/100 [Val]: 100%|██████████| 2/2 [00:00<00:00,  8.42it/s, Batch RMSE=0.0841]\n",
      "Epoch 15/100 [Train]: 100%|██████████| 8/8 [00:02<00:00,  3.49it/s, Batch Loss=0.00458]\n",
      "Epoch 15/100 [Val]: 100%|██████████| 2/2 [00:00<00:00,  8.42it/s, Batch RMSE=0.0864]\n"
     ]
    },
    {
     "name": "stdout",
     "output_type": "stream",
     "text": [
      "Early stopping triggered at epoch 16\n"
     ]
    },
    {
     "data": {
      "text/html": [
       "\n",
       "    <style>\n",
       "        .wandb-row {\n",
       "            display: flex;\n",
       "            flex-direction: row;\n",
       "            flex-wrap: wrap;\n",
       "            justify-content: flex-start;\n",
       "            width: 100%;\n",
       "        }\n",
       "        .wandb-col {\n",
       "            display: flex;\n",
       "            flex-direction: column;\n",
       "            flex-basis: 100%;\n",
       "            flex: 1;\n",
       "            padding: 10px;\n",
       "        }\n",
       "    </style>\n",
       "<div class=\"wandb-row\"><div class=\"wandb-col\"><h3>Run history:</h3><br/><table class=\"wandb\"><tr><td>best_val_rmse</td><td>█▃▃▃▂▂▂▁▁▁▁▁▁▁▁</td></tr><tr><td>epoch</td><td>▁▁▂▂▃▃▄▄▅▅▆▆▇▇██</td></tr><tr><td>epoch_train_loss</td><td>█▂▁▁▁▁▁▁▁▁▁▁▁▁▁▁</td></tr><tr><td>epoch_val_loss</td><td>█▃▃▃▃▂▂▂▁▁▁▁▁▁▁▂</td></tr><tr><td>epoch_val_rmse</td><td>█▃▃▃▂▂▂▁▁▁▁▁▁▁▁▂</td></tr><tr><td>lr</td><td>████▇▇▇▆▆▅▅▄▃▃▂▁</td></tr><tr><td>train_loss</td><td>█▂▂▁▁▁▁▁▁▁▁▁▁▁▁▁▁▁▁▁▁▁▁▁▁▁▁▁▁▁▁▁▁▁▁▁▁▁▁▁</td></tr><tr><td>val_loss</td><td>▇█▃▄▂▃▂▃▂▃▂▃▂▂▁▂▁▂▁▁▁▁▁▁▁▁▁▁▁▁▂▂</td></tr><tr><td>val_rmse</td><td>▇█▃▄▃▃▃▃▂▃▂▃▂▂▂▂▁▂▁▁▁▁▁▁▁▁▁▁▁▁▂▂</td></tr></table><br/></div><div class=\"wandb-col\"><h3>Run summary:</h3><br/><table class=\"wandb\"><tr><td>best_val_rmse</td><td>0.08382</td></tr><tr><td>epoch</td><td>15</td></tr><tr><td>epoch_train_loss</td><td>0.00446</td></tr><tr><td>epoch_val_loss</td><td>0.00624</td></tr><tr><td>epoch_val_rmse</td><td>0.08595</td></tr><tr><td>lr</td><td>0.00125</td></tr><tr><td>train_loss</td><td>0.00458</td></tr><tr><td>val_loss</td><td>0.00636</td></tr><tr><td>val_rmse</td><td>0.08638</td></tr></table><br/></div></div>"
      ],
      "text/plain": [
       "<IPython.core.display.HTML object>"
      ]
     },
     "metadata": {},
     "output_type": "display_data"
    },
    {
     "data": {
      "text/html": [
       " View run <strong style=\"color:#cdcd00\">colorful-sweep-19</strong> at: <a href='https://wandb.ai/ychnli-stanford-university/sea-ice-prediction/runs/lgk1iyry' target=\"_blank\">https://wandb.ai/ychnli-stanford-university/sea-ice-prediction/runs/lgk1iyry</a><br/> View project at: <a href='https://wandb.ai/ychnli-stanford-university/sea-ice-prediction' target=\"_blank\">https://wandb.ai/ychnli-stanford-university/sea-ice-prediction</a><br/>Synced 4 W&B file(s), 0 media file(s), 0 artifact file(s) and 0 other file(s)"
      ],
      "text/plain": [
       "<IPython.core.display.HTML object>"
      ]
     },
     "metadata": {},
     "output_type": "display_data"
    },
    {
     "data": {
      "text/html": [
       "Find logs at: <code>./wandb/run-20250531_233451-lgk1iyry/logs</code>"
      ],
      "text/plain": [
       "<IPython.core.display.HTML object>"
      ]
     },
     "metadata": {},
     "output_type": "display_data"
    },
    {
     "name": "stderr",
     "output_type": "stream",
     "text": [
      "\u001b[34m\u001b[1mwandb\u001b[0m: Agent Starting Run: zq8hdeix with config:\n",
      "\u001b[34m\u001b[1mwandb\u001b[0m: \tbatch_size: 32\n",
      "\u001b[34m\u001b[1mwandb\u001b[0m: \tloss_function_args: 0\n",
      "\u001b[34m\u001b[1mwandb\u001b[0m: \tlr: 0.0003643349349549063\n",
      "\u001b[34m\u001b[1mwandb\u001b[0m: \tnum_epochs: 100\n",
      "\u001b[34m\u001b[1mwandb\u001b[0m: \tweight_decay: 6.914135566573248e-05\n"
     ]
    },
    {
     "data": {
      "text/html": [
       "Tracking run with wandb version 0.19.0"
      ],
      "text/plain": [
       "<IPython.core.display.HTML object>"
      ]
     },
     "metadata": {},
     "output_type": "display_data"
    },
    {
     "data": {
      "text/html": [
       "Run data is saved locally in <code>/home/users/yucli/sicpred/wandb/run-20250531_233542-zq8hdeix</code>"
      ],
      "text/plain": [
       "<IPython.core.display.HTML object>"
      ]
     },
     "metadata": {},
     "output_type": "display_data"
    },
    {
     "data": {
      "text/html": [
       "Syncing run <strong><a href='https://wandb.ai/ychnli-stanford-university/sea-ice-prediction/runs/zq8hdeix' target=\"_blank\">lemon-sweep-20</a></strong> to <a href='https://wandb.ai/ychnli-stanford-university/sea-ice-prediction' target=\"_blank\">Weights & Biases</a> (<a href='https://wandb.me/developer-guide' target=\"_blank\">docs</a>)<br/>Sweep page: <a href='https://wandb.ai/ychnli-stanford-university/sea-ice-prediction/sweeps/70ww3ii3' target=\"_blank\">https://wandb.ai/ychnli-stanford-university/sea-ice-prediction/sweeps/70ww3ii3</a>"
      ],
      "text/plain": [
       "<IPython.core.display.HTML object>"
      ]
     },
     "metadata": {},
     "output_type": "display_data"
    },
    {
     "data": {
      "text/html": [
       " View project at <a href='https://wandb.ai/ychnli-stanford-university/sea-ice-prediction' target=\"_blank\">https://wandb.ai/ychnli-stanford-university/sea-ice-prediction</a>"
      ],
      "text/plain": [
       "<IPython.core.display.HTML object>"
      ]
     },
     "metadata": {},
     "output_type": "display_data"
    },
    {
     "data": {
      "text/html": [
       " View sweep at <a href='https://wandb.ai/ychnli-stanford-university/sea-ice-prediction/sweeps/70ww3ii3' target=\"_blank\">https://wandb.ai/ychnli-stanford-university/sea-ice-prediction/sweeps/70ww3ii3</a>"
      ],
      "text/plain": [
       "<IPython.core.display.HTML object>"
      ]
     },
     "metadata": {},
     "output_type": "display_data"
    },
    {
     "data": {
      "text/html": [
       " View run at <a href='https://wandb.ai/ychnli-stanford-university/sea-ice-prediction/runs/zq8hdeix' target=\"_blank\">https://wandb.ai/ychnli-stanford-university/sea-ice-prediction/runs/zq8hdeix</a>"
      ],
      "text/plain": [
       "<IPython.core.display.HTML object>"
      ]
     },
     "metadata": {},
     "output_type": "display_data"
    },
    {
     "name": "stderr",
     "output_type": "stream",
     "text": [
      "/home/groups/earlew/yuchen/miniconda3/envs/sicpred_env_conda/lib/python3.12/site-packages/torch/nn/utils/weight_norm.py:143: FutureWarning: `torch.nn.utils.weight_norm` is deprecated in favor of `torch.nn.utils.parametrizations.weight_norm`.\n",
      "  WeightNorm.apply(module, name, dim)\n",
      "Epoch 0/100 [Train]: 100%|██████████| 12/12 [00:03<00:00,  3.19it/s, Batch Loss=0.00612]\n",
      "Epoch 0/100 [Val]: 100%|██████████| 2/2 [00:00<00:00,  5.57it/s, Batch RMSE=0.103] \n",
      "Epoch 1/100 [Train]: 100%|██████████| 12/12 [00:03<00:00,  3.83it/s, Batch Loss=0.00555]\n",
      "Epoch 1/100 [Val]: 100%|██████████| 2/2 [00:00<00:00,  8.02it/s, Batch RMSE=0.09]  \n",
      "Epoch 2/100 [Train]: 100%|██████████| 12/12 [00:03<00:00,  3.83it/s, Batch Loss=0.00469]\n",
      "Epoch 2/100 [Val]: 100%|██████████| 2/2 [00:00<00:00,  7.71it/s, Batch RMSE=0.0889]\n",
      "Epoch 3/100 [Train]: 100%|██████████| 12/12 [00:03<00:00,  3.79it/s, Batch Loss=0.0048] \n",
      "Epoch 3/100 [Val]: 100%|██████████| 2/2 [00:00<00:00,  8.47it/s, Batch RMSE=0.089]\n",
      "Epoch 4/100 [Train]: 100%|██████████| 12/12 [00:02<00:00,  4.01it/s, Batch Loss=0.00484]\n",
      "Epoch 4/100 [Val]: 100%|██████████| 2/2 [00:00<00:00,  9.12it/s, Batch RMSE=0.0887]\n",
      "Epoch 5/100 [Train]: 100%|██████████| 12/12 [00:02<00:00,  4.17it/s, Batch Loss=0.00462]\n",
      "Epoch 5/100 [Val]: 100%|██████████| 2/2 [00:00<00:00,  9.16it/s, Batch RMSE=0.088]\n",
      "Epoch 6/100 [Train]: 100%|██████████| 12/12 [00:02<00:00,  4.26it/s, Batch Loss=0.00472]\n",
      "Epoch 6/100 [Val]: 100%|██████████| 2/2 [00:00<00:00,  9.04it/s, Batch RMSE=0.0884]\n",
      "Epoch 7/100 [Train]: 100%|██████████| 12/12 [00:02<00:00,  4.33it/s, Batch Loss=0.00437]\n",
      "Epoch 7/100 [Val]: 100%|██████████| 2/2 [00:00<00:00,  9.60it/s, Batch RMSE=0.088] \n",
      "Epoch 8/100 [Train]: 100%|██████████| 12/12 [00:02<00:00,  4.36it/s, Batch Loss=0.00441]\n",
      "Epoch 8/100 [Val]: 100%|██████████| 2/2 [00:00<00:00,  9.48it/s, Batch RMSE=0.089] \n",
      "Epoch 9/100 [Train]: 100%|██████████| 12/12 [00:02<00:00,  4.38it/s, Batch Loss=0.00426]\n",
      "Epoch 9/100 [Val]: 100%|██████████| 2/2 [00:00<00:00,  9.61it/s, Batch RMSE=0.0902]\n",
      "Epoch 10/100 [Train]: 100%|██████████| 12/12 [00:02<00:00,  4.39it/s, Batch Loss=0.00416]\n",
      "Epoch 10/100 [Val]: 100%|██████████| 2/2 [00:00<00:00,  9.32it/s, Batch RMSE=0.0878]\n",
      "Epoch 11/100 [Train]: 100%|██████████| 12/12 [00:02<00:00,  4.28it/s, Batch Loss=0.00378]\n",
      "Epoch 11/100 [Val]: 100%|██████████| 2/2 [00:00<00:00,  9.14it/s, Batch RMSE=0.0898]\n",
      "Epoch 12/100 [Train]: 100%|██████████| 12/12 [00:02<00:00,  4.07it/s, Batch Loss=0.00361]\n",
      "Epoch 12/100 [Val]: 100%|██████████| 2/2 [00:00<00:00,  8.46it/s, Batch RMSE=0.0891]\n",
      "Epoch 13/100 [Train]: 100%|██████████| 12/12 [00:03<00:00,  3.92it/s, Batch Loss=0.00372]\n",
      "Epoch 13/100 [Val]: 100%|██████████| 2/2 [00:00<00:00,  8.34it/s, Batch RMSE=0.0897]\n",
      "Epoch 14/100 [Train]: 100%|██████████| 12/12 [00:03<00:00,  3.93it/s, Batch Loss=0.00326]\n",
      "Epoch 14/100 [Val]: 100%|██████████| 2/2 [00:00<00:00,  8.33it/s, Batch RMSE=0.086] \n",
      "Epoch 15/100 [Train]: 100%|██████████| 12/12 [00:03<00:00,  3.89it/s, Batch Loss=0.00336]\n",
      "Epoch 15/100 [Val]: 100%|██████████| 2/2 [00:00<00:00,  8.47it/s, Batch RMSE=0.091] \n",
      "Epoch 16/100 [Train]: 100%|██████████| 12/12 [00:03<00:00,  3.90it/s, Batch Loss=0.00326]\n",
      "Epoch 16/100 [Val]: 100%|██████████| 2/2 [00:00<00:00,  8.35it/s, Batch RMSE=0.0884]\n",
      "Epoch 17/100 [Train]: 100%|██████████| 12/12 [00:03<00:00,  3.85it/s, Batch Loss=0.00318]\n",
      "Epoch 17/100 [Val]: 100%|██████████| 2/2 [00:00<00:00,  8.49it/s, Batch RMSE=0.0887]\n",
      "Epoch 18/100 [Train]: 100%|██████████| 12/12 [00:03<00:00,  3.82it/s, Batch Loss=0.00327]\n",
      "Epoch 18/100 [Val]: 100%|██████████| 2/2 [00:00<00:00,  7.97it/s, Batch RMSE=0.0841]\n",
      "Epoch 19/100 [Train]: 100%|██████████| 12/12 [00:03<00:00,  3.87it/s, Batch Loss=0.00321]\n",
      "Epoch 19/100 [Val]: 100%|██████████| 2/2 [00:00<00:00,  8.24it/s, Batch RMSE=0.0893]\n",
      "Epoch 20/100 [Train]: 100%|██████████| 12/12 [00:03<00:00,  3.89it/s, Batch Loss=0.00281]\n",
      "Epoch 20/100 [Val]: 100%|██████████| 2/2 [00:00<00:00,  8.07it/s, Batch RMSE=0.0877]\n",
      "Epoch 21/100 [Train]: 100%|██████████| 12/12 [00:03<00:00,  3.41it/s, Batch Loss=0.00303]\n",
      "Epoch 21/100 [Val]: 100%|██████████| 2/2 [00:00<00:00,  8.16it/s, Batch RMSE=0.0872]\n",
      "Epoch 22/100 [Train]: 100%|██████████| 12/12 [00:03<00:00,  3.94it/s, Batch Loss=0.00264]\n",
      "Epoch 22/100 [Val]: 100%|██████████| 2/2 [00:00<00:00,  8.05it/s, Batch RMSE=0.0865]\n",
      "Epoch 23/100 [Train]: 100%|██████████| 12/12 [00:03<00:00,  3.89it/s, Batch Loss=0.00267]\n",
      "Epoch 23/100 [Val]: 100%|██████████| 2/2 [00:00<00:00,  7.79it/s, Batch RMSE=0.086] \n"
     ]
    },
    {
     "name": "stdout",
     "output_type": "stream",
     "text": [
      "Early stopping triggered at epoch 24\n"
     ]
    },
    {
     "data": {
      "text/html": [
       "\n",
       "    <style>\n",
       "        .wandb-row {\n",
       "            display: flex;\n",
       "            flex-direction: row;\n",
       "            flex-wrap: wrap;\n",
       "            justify-content: flex-start;\n",
       "            width: 100%;\n",
       "        }\n",
       "        .wandb-col {\n",
       "            display: flex;\n",
       "            flex-direction: column;\n",
       "            flex-basis: 100%;\n",
       "            flex: 1;\n",
       "            padding: 10px;\n",
       "        }\n",
       "    </style>\n",
       "<div class=\"wandb-row\"><div class=\"wandb-col\"><h3>Run history:</h3><br/><table class=\"wandb\"><tr><td>best_val_rmse</td><td>█▃▃▃▃▂▂▂▂▂▂▂▂▂▁▁▁▁▁▁▁▁▁</td></tr><tr><td>epoch</td><td>▁▁▂▂▂▃▃▃▃▄▄▄▅▅▅▆▆▆▆▇▇▇██</td></tr><tr><td>epoch_train_loss</td><td>█▄▃▃▃▃▃▃▂▂▂▂▂▂▂▂▂▁▁▁▁▁▁▁</td></tr><tr><td>epoch_val_loss</td><td>█▃▃▃▃▂▃▂▃▃▂▃▂▃▂▃▂▂▁▃▂▂▂▁</td></tr><tr><td>epoch_val_rmse</td><td>█▃▃▃▃▂▂▂▂▃▂▃▂▃▁▃▂▂▁▃▂▂▂▁</td></tr><tr><td>lr</td><td>███████▇▇▇▇▆▆▆▅▅▅▄▄▃▃▂▂▁</td></tr><tr><td>train_loss</td><td>█▃▂▂▂▂▂▂▂▂▂▂▂▂▂▂▂▂▂▁▂▁▁▁▁▁▁▁▁▁▁▁▁▁▁▁▁▁▁▁</td></tr><tr><td>val_loss</td><td>▇█▃▃▃▃▃▂▃▂▂▃▂▂▂▂▃▂▂▂▂▃▂▃▁▂▄▁▃▂▁▁▂▃▁▁▂▂▂▂</td></tr><tr><td>val_rmse</td><td>▇█▃▃▃▂▃▂▃▂▂▃▂▂▂▂▃▂▂▂▁▃▂▃▁▂▄▁▃▂▁▁▂▃▁▁▂▂▂▂</td></tr></table><br/></div><div class=\"wandb-col\"><h3>Run summary:</h3><br/><table class=\"wandb\"><tr><td>best_val_rmse</td><td>0.08404</td></tr><tr><td>epoch</td><td>23</td></tr><tr><td>epoch_train_loss</td><td>0.00271</td></tr><tr><td>epoch_val_loss</td><td>0.00604</td></tr><tr><td>epoch_val_rmse</td><td>0.08515</td></tr><tr><td>lr</td><td>0.00032</td></tr><tr><td>train_loss</td><td>0.00267</td></tr><tr><td>val_loss</td><td>0.00612</td></tr><tr><td>val_rmse</td><td>0.08605</td></tr></table><br/></div></div>"
      ],
      "text/plain": [
       "<IPython.core.display.HTML object>"
      ]
     },
     "metadata": {},
     "output_type": "display_data"
    },
    {
     "data": {
      "text/html": [
       " View run <strong style=\"color:#cdcd00\">lemon-sweep-20</strong> at: <a href='https://wandb.ai/ychnli-stanford-university/sea-ice-prediction/runs/zq8hdeix' target=\"_blank\">https://wandb.ai/ychnli-stanford-university/sea-ice-prediction/runs/zq8hdeix</a><br/> View project at: <a href='https://wandb.ai/ychnli-stanford-university/sea-ice-prediction' target=\"_blank\">https://wandb.ai/ychnli-stanford-university/sea-ice-prediction</a><br/>Synced 4 W&B file(s), 0 media file(s), 0 artifact file(s) and 0 other file(s)"
      ],
      "text/plain": [
       "<IPython.core.display.HTML object>"
      ]
     },
     "metadata": {},
     "output_type": "display_data"
    },
    {
     "data": {
      "text/html": [
       "Find logs at: <code>./wandb/run-20250531_233542-zq8hdeix/logs</code>"
      ],
      "text/plain": [
       "<IPython.core.display.HTML object>"
      ]
     },
     "metadata": {},
     "output_type": "display_data"
    },
    {
     "name": "stderr",
     "output_type": "stream",
     "text": [
      "\u001b[34m\u001b[1mwandb\u001b[0m: Sweep Agent: Waiting for job.\n",
      "\u001b[34m\u001b[1mwandb\u001b[0m: Job received.\n",
      "\u001b[34m\u001b[1mwandb\u001b[0m: Agent Starting Run: vttsbs7t with config:\n",
      "\u001b[34m\u001b[1mwandb\u001b[0m: \tbatch_size: 20\n",
      "\u001b[34m\u001b[1mwandb\u001b[0m: \tloss_function_args: 0\n",
      "\u001b[34m\u001b[1mwandb\u001b[0m: \tlr: 0.0003330770195885647\n",
      "\u001b[34m\u001b[1mwandb\u001b[0m: \tnum_epochs: 100\n",
      "\u001b[34m\u001b[1mwandb\u001b[0m: \tweight_decay: 9.44017165099495e-05\n"
     ]
    },
    {
     "data": {
      "text/html": [
       "Tracking run with wandb version 0.19.0"
      ],
      "text/plain": [
       "<IPython.core.display.HTML object>"
      ]
     },
     "metadata": {},
     "output_type": "display_data"
    },
    {
     "data": {
      "text/html": [
       "Run data is saved locally in <code>/home/users/yucli/sicpred/wandb/run-20250531_233717-vttsbs7t</code>"
      ],
      "text/plain": [
       "<IPython.core.display.HTML object>"
      ]
     },
     "metadata": {},
     "output_type": "display_data"
    },
    {
     "data": {
      "text/html": [
       "Syncing run <strong><a href='https://wandb.ai/ychnli-stanford-university/sea-ice-prediction/runs/vttsbs7t' target=\"_blank\">feasible-sweep-21</a></strong> to <a href='https://wandb.ai/ychnli-stanford-university/sea-ice-prediction' target=\"_blank\">Weights & Biases</a> (<a href='https://wandb.me/developer-guide' target=\"_blank\">docs</a>)<br/>Sweep page: <a href='https://wandb.ai/ychnli-stanford-university/sea-ice-prediction/sweeps/70ww3ii3' target=\"_blank\">https://wandb.ai/ychnli-stanford-university/sea-ice-prediction/sweeps/70ww3ii3</a>"
      ],
      "text/plain": [
       "<IPython.core.display.HTML object>"
      ]
     },
     "metadata": {},
     "output_type": "display_data"
    },
    {
     "data": {
      "text/html": [
       " View project at <a href='https://wandb.ai/ychnli-stanford-university/sea-ice-prediction' target=\"_blank\">https://wandb.ai/ychnli-stanford-university/sea-ice-prediction</a>"
      ],
      "text/plain": [
       "<IPython.core.display.HTML object>"
      ]
     },
     "metadata": {},
     "output_type": "display_data"
    },
    {
     "data": {
      "text/html": [
       " View sweep at <a href='https://wandb.ai/ychnli-stanford-university/sea-ice-prediction/sweeps/70ww3ii3' target=\"_blank\">https://wandb.ai/ychnli-stanford-university/sea-ice-prediction/sweeps/70ww3ii3</a>"
      ],
      "text/plain": [
       "<IPython.core.display.HTML object>"
      ]
     },
     "metadata": {},
     "output_type": "display_data"
    },
    {
     "data": {
      "text/html": [
       " View run at <a href='https://wandb.ai/ychnli-stanford-university/sea-ice-prediction/runs/vttsbs7t' target=\"_blank\">https://wandb.ai/ychnli-stanford-university/sea-ice-prediction/runs/vttsbs7t</a>"
      ],
      "text/plain": [
       "<IPython.core.display.HTML object>"
      ]
     },
     "metadata": {},
     "output_type": "display_data"
    },
    {
     "name": "stderr",
     "output_type": "stream",
     "text": [
      "/home/groups/earlew/yuchen/miniconda3/envs/sicpred_env_conda/lib/python3.12/site-packages/torch/nn/utils/weight_norm.py:143: FutureWarning: `torch.nn.utils.weight_norm` is deprecated in favor of `torch.nn.utils.parametrizations.weight_norm`.\n",
      "  WeightNorm.apply(module, name, dim)\n",
      "Epoch 0/100 [Train]: 100%|██████████| 19/19 [00:04<00:00,  4.08it/s, Batch Loss=0.00529]\n",
      "Epoch 0/100 [Val]: 100%|██████████| 3/3 [00:00<00:00,  8.06it/s, Batch RMSE=0.0947]\n",
      "Epoch 1/100 [Train]: 100%|██████████| 19/19 [00:04<00:00,  4.14it/s, Batch Loss=0.00529]\n",
      "Epoch 1/100 [Val]: 100%|██████████| 3/3 [00:00<00:00,  9.86it/s, Batch RMSE=0.0903]\n",
      "Epoch 2/100 [Train]: 100%|██████████| 19/19 [00:04<00:00,  4.16it/s, Batch Loss=0.00469]\n",
      "Epoch 2/100 [Val]: 100%|██████████| 3/3 [00:00<00:00,  9.92it/s, Batch RMSE=0.0874]\n",
      "Epoch 3/100 [Train]: 100%|██████████| 19/19 [00:05<00:00,  3.80it/s, Batch Loss=0.00514]\n",
      "Epoch 3/100 [Val]: 100%|██████████| 3/3 [00:00<00:00,  9.90it/s, Batch RMSE=0.086] \n",
      "Epoch 4/100 [Train]: 100%|██████████| 19/19 [00:04<00:00,  4.18it/s, Batch Loss=0.00473]\n",
      "Epoch 4/100 [Val]: 100%|██████████| 3/3 [00:00<00:00,  9.87it/s, Batch RMSE=0.0859]\n",
      "Epoch 5/100 [Train]:   5%|▌         | 1/19 [00:00<00:04,  4.29it/s, Batch Loss=0.00428]"
     ]
    }
   ],
   "source": [
    "import src.experiment_configs.tests.input2 as config2\n",
    "data_config = config2\n",
    "\n",
    "sweep_config = {\n",
    "    'method': 'random', \n",
    "    'metric': {\n",
    "        'name': 'best_val_rmse',\n",
    "        'goal': 'minimize'\n",
    "    },\n",
    "    'parameters': {\n",
    "        'lr': {\n",
    "            'min': 1e-5,\n",
    "            'max': 2e-3 \n",
    "        },\n",
    "        'weight_decay': {\n",
    "            'min': 0.0,\n",
    "            'max': 1e-4\n",
    "        },\n",
    "        'batch_size': {\n",
    "            'values': [20, 32, 50, 64] \n",
    "        },\n",
    "        'num_epochs': {\n",
    "            'value': 100\n",
    "        },\n",
    "        'loss_function_args': {\n",
    "            'value': 0\n",
    "        }\n",
    "    }\n",
    "}\n",
    "\n",
    "sweep_id = wandb.sweep(sweep_config, project=\"sea-ice-prediction\")\n",
    "\n",
    "save_path = \"/scratch/users/yucli/sicpred_models/exp3_obs_tsam_hypsweep\"\n",
    "os.makedirs(save_path, exist_ok=True)\n",
    "\n",
    "wandb.agent(sweep_id, function=lambda: train(data_config, save_path=save_path, architecture=\"SICNet_TSAM\"), count=25)\n"
   ]
  },
  {
   "cell_type": "markdown",
   "metadata": {},
   "source": [
    "## Evaluate the best models from the sweep"
   ]
  },
  {
   "cell_type": "code",
   "execution_count": 7,
   "metadata": {},
   "outputs": [],
   "source": [
    "import src.experiment_configs.exp1_inputs.input2 as config2\n",
    "device = torch.device(\"cuda\" if torch.cuda.is_available() else \"cpu\")\n",
    "\n",
    "# dataloaders\n",
    "train_dataset = Obs_Dataset(\"train\", config2.DATA_CONFIG_NAME, data_split_settings)\n",
    "train_dataloader = DataLoader(train_dataset, batch_size=1, shuffle=False, num_workers=0)\n",
    "\n",
    "val_dataset = Obs_Dataset(\"val\", config2.DATA_CONFIG_NAME, data_split_settings)\n",
    "val_dataloader = DataLoader(val_dataset, batch_size=1, shuffle=False, num_workers=0)\n",
    "\n",
    "test_dataset = Obs_Dataset(\"test\", config2.DATA_CONFIG_NAME, data_split_settings)\n",
    "test_dataloader = DataLoader(test_dataset, batch_size=1, shuffle=False, num_workers=0)\n",
    "\n",
    "# model (best = jbns1cqy)\n",
    "run_id = 'jbns1cqy'\n",
    "checkpoint_path = f\"/scratch/users/yucli/sicpred_models/exp3_obs_hypsweep/seaice_plus_auxiliary_{run_id}_best.pt\"\n",
    "checkpoint = torch.load(checkpoint_path, map_location=device, weights_only=True)\n",
    "\n",
    "in_channels = util_cesm.get_num_input_channels(config2.INPUT_CONFIG)\n",
    "out_channels = util_cesm.get_num_output_channels(config2.MAX_LEAD_MONTHS, config2.TARGET_CONFIG)\n",
    "model = UNetRes3(in_channels=in_channels, \n",
    "                out_channels=out_channels, \n",
    "                predict_anomalies=config2.TARGET_CONFIG[\"predict_anom\"]).to(device)\n",
    "\n",
    "model.load_state_dict(checkpoint)\n",
    "\n",
    "# evaluate on test \n",
    "ds_pred_train, ds_truth_train = evaluate(model, train_dataloader)\n",
    "ds_pred_val, ds_truth_val = evaluate(model, val_dataloader)\n",
    "ds_pred_test, ds_truth_test = evaluate(model, test_dataloader)\n",
    "\n",
    "test_acc = calculate_acc(ds_pred_test.icefrac, ds_truth_test.icefrac, dim=(\"x\",\"y\"), aggregate=True)\n",
    "val_acc = calculate_acc(ds_pred_val.icefrac, ds_truth_val.icefrac, dim=(\"x\",\"y\"), aggregate=True)\n",
    "train_acc = calculate_acc(ds_pred_train.icefrac, ds_truth_train.icefrac, dim=(\"x\",\"y\"), aggregate=True)"
   ]
  },
  {
   "cell_type": "code",
   "execution_count": 8,
   "metadata": {},
   "outputs": [],
   "source": [
    "# model (best = p704qlo1)\n",
    "run_id = 'p704qlo1'\n",
    "checkpoint_path = f\"/scratch/users/yucli/sicpred_models/exp3_obs_finetune_sweep/seaice_plus_auxiliary_{run_id}_best.pt\"\n",
    "checkpoint = torch.load(checkpoint_path, map_location=device, weights_only=True)\n",
    "\n",
    "in_channels = util_cesm.get_num_input_channels(config2.INPUT_CONFIG)\n",
    "out_channels = util_cesm.get_num_output_channels(config2.MAX_LEAD_MONTHS, config2.TARGET_CONFIG)\n",
    "model = UNetRes3(in_channels=in_channels, \n",
    "                out_channels=out_channels, \n",
    "                predict_anomalies=config2.TARGET_CONFIG[\"predict_anom\"]).to(device)\n",
    "\n",
    "model.load_state_dict(checkpoint)\n",
    "\n",
    "# evaluate on test \n",
    "ds_pred_train_ft, _ = evaluate(model, train_dataloader)\n",
    "ds_pred_val_ft, _ = evaluate(model, val_dataloader)\n",
    "ds_pred_test_ft, _ = evaluate(model, test_dataloader)\n",
    "\n",
    "test_acc_ft = calculate_acc(ds_pred_test_ft.icefrac, ds_truth_test.icefrac, dim=(\"x\",\"y\"), aggregate=True)\n",
    "val_acc_ft = calculate_acc(ds_pred_val_ft.icefrac, ds_truth_val.icefrac, dim=(\"x\",\"y\"), aggregate=True)\n",
    "train_acc_ft = calculate_acc(ds_pred_train_ft.icefrac, ds_truth_train.icefrac, dim=(\"x\",\"y\"), aggregate=True)"
   ]
  },
  {
   "cell_type": "markdown",
   "metadata": {},
   "source": [
    "### Zero shot model"
   ]
  },
  {
   "cell_type": "code",
   "execution_count": 9,
   "metadata": {},
   "outputs": [],
   "source": [
    "checkpoint_path = f\"/scratch/users/yucli/sicpred_models/exp2_vol4_dt/UNetRes3_exp2_vol4_dt_member_0_epoch_10.pth\"\n",
    "checkpoint = torch.load(checkpoint_path, map_location=device, weights_only=True)\n",
    "\n",
    "in_channels = util_cesm.get_num_input_channels(config2.INPUT_CONFIG)\n",
    "out_channels = util_cesm.get_num_output_channels(config2.MAX_LEAD_MONTHS, config2.TARGET_CONFIG)\n",
    "model = UNetRes3(in_channels=in_channels, \n",
    "                out_channels=out_channels, \n",
    "                predict_anomalies=config2.TARGET_CONFIG[\"predict_anom\"]).to(device)\n",
    "\n",
    "model.load_state_dict(checkpoint[\"model_state_dict\"])\n",
    "\n",
    "# evaluate on test \n",
    "ds_pred_train_zs, _ = evaluate(model, train_dataloader)\n",
    "ds_pred_val_zs, _ = evaluate(model, val_dataloader)\n",
    "ds_pred_test_zs, _ = evaluate(model, test_dataloader)\n",
    "\n",
    "test_acc_zs = calculate_acc(ds_pred_test_zs.icefrac, ds_truth_test.icefrac, dim=(\"x\",\"y\"), aggregate=True)\n",
    "val_acc_zs = calculate_acc(ds_pred_val_zs.icefrac, ds_truth_val.icefrac, dim=(\"x\",\"y\"), aggregate=True)\n",
    "train_acc_zs = calculate_acc(ds_pred_train_zs.icefrac, ds_truth_train.icefrac, dim=(\"x\",\"y\"), aggregate=True)"
   ]
  },
  {
   "cell_type": "code",
   "execution_count": 89,
   "metadata": {},
   "outputs": [
    {
     "data": {
      "image/png": "[encoded data removed]",
      "text/plain": [
       "<Figure size 900x600 with 10 Axes>"
      ]
     },
     "metadata": {},
     "output_type": "display_data"
    }
   ],
   "source": [
    "fig, axs = plt.subplots(figsize=(9,6), nrows=3, ncols=3, sharey=True, sharex=True)\n",
    "x = np.arange(13)\n",
    "y = np.arange(7)\n",
    "x_centers = (x[:-1] + x[1:]) / 2\n",
    "y_centers = (y[:-1] + y[1:]) / 2\n",
    "\n",
    "cax = axs[0,0].pcolormesh(x, y, test_acc, cmap=\"Spectral\", shading='flat', vmin=0, vmax=1)\n",
    "axs[1,0].pcolormesh(x, y, test_acc_zs, cmap=\"Spectral\", shading='flat', vmin=0, vmax=1)\n",
    "axs[2,0].pcolormesh(x, y, test_acc_ft, cmap=\"Spectral\", shading='flat', vmin=0, vmax=1)\n",
    "\n",
    "axs[0,1].pcolormesh(x, y, val_acc, cmap=\"Spectral\", shading='flat', vmin=0, vmax=1)\n",
    "axs[1,1].pcolormesh(x, y, val_acc_zs, cmap=\"Spectral\", shading='flat', vmin=0, vmax=1)\n",
    "axs[2,1].pcolormesh(x, y, val_acc_ft, cmap=\"Spectral\", shading='flat', vmin=0, vmax=1)\n",
    "\n",
    "axs[0,2].pcolormesh(x, y, train_acc, cmap=\"Spectral\", shading='flat', vmin=0, vmax=1)\n",
    "axs[1,2].pcolormesh(x, y, train_acc_zs, cmap=\"Spectral\", shading='flat', vmin=0, vmax=1)\n",
    "axs[2,2].pcolormesh(x, y, train_acc_ft, cmap=\"Spectral\", shading='flat', vmin=0, vmax=1)\n",
    "\n",
    "\n",
    "label = [\"Baseline\", \"Zero-shot\", \"Finetuned\"]\n",
    "for i in range(3):\n",
    "    axs[2,i].set_xticks(x_centers, labels=[\"J\",\"F\",\"M\",\"A\",\"M\",\"J\",\"J\",\"A\",\"S\",\"O\",\"N\",\"D\"])\n",
    "    axs[i,0].set_yticks(y_centers, labels=np.arange(1, 7, 1))\n",
    "    axs[i,0].set_ylabel(f\"{label[i]}\", fontsize=14)\n",
    "\n",
    "axs[0,0].set_title(r\"Test ACC ($n=9$)\")\n",
    "axs[0,1].set_title(r\"Val ACC ($n=4$)\")\n",
    "axs[0,2].set_title(r\"Train ACC ($n=32$)\")\n",
    "\n",
    "cbar_ax = fig.add_axes([0.95, 0.2, 0.02, 0.6]) \n",
    "\n",
    "fig.colorbar(cax, cax=cbar_ax, orientation='vertical', label='ACC')\n",
    "plt.savefig(\"figures/cesm/exp3_finetune_acc.jpg\", dpi=300, bbox_inches='tight')\n"
   ]
  },
  {
   "cell_type": "code",
   "execution_count": 21,
   "metadata": {},
   "outputs": [
    {
     "data": {
      "image/png": "[encoded data removed]",
      "text/plain": [
       "<Figure size 900x600 with 11 Axes>"
      ]
     },
     "metadata": {},
     "output_type": "display_data"
    }
   ],
   "source": [
    "fig, axs = plt.subplots(figsize=(9,6), nrows=3, ncols=3, sharey=True, sharex=True)\n",
    "x = np.arange(13)\n",
    "y = np.arange(7)\n",
    "x_centers = (x[:-1] + x[1:]) / 2\n",
    "y_centers = (y[:-1] + y[1:]) / 2\n",
    "\n",
    "cax2 = axs[0,0].pcolormesh(x, y, test_acc, cmap=\"Spectral\", shading='flat', vmin=0, vmax=1)\n",
    "cax = axs[1,0].pcolormesh(x, y, test_acc_zs - test_acc, cmap=\"RdBu\", shading='flat', vmin=-0.4, vmax=0.4)\n",
    "axs[2,0].pcolormesh(x, y, test_acc_ft - test_acc, cmap=\"RdBu\", shading='flat', vmin=-0.4, vmax=0.4)\n",
    "\n",
    "axs[0,1].pcolormesh(x, y, val_acc, cmap=\"Spectral\", shading='flat', vmin=0, vmax=1)\n",
    "axs[1,1].pcolormesh(x, y, val_acc_zs - val_acc, cmap=\"RdBu\", shading='flat', vmin=-0.4, vmax=0.4)\n",
    "axs[2,1].pcolormesh(x, y, val_acc_ft - val_acc, cmap=\"RdBu\", shading='flat', vmin=-0.4, vmax=0.4)\n",
    "\n",
    "axs[0,2].pcolormesh(x, y, train_acc, cmap=\"Spectral\", shading='flat', vmin=0, vmax=1)\n",
    "axs[1,2].pcolormesh(x, y, train_acc_zs - train_acc, cmap=\"RdBu\", shading='flat', vmin=-0.4, vmax=0.4)\n",
    "axs[2,2].pcolormesh(x, y, train_acc_ft - train_acc, cmap=\"RdBu\", shading='flat', vmin=-0.4, vmax=0.4)\n",
    "\n",
    "\n",
    "label = [\"Baseline\", \"Zero-shot\", \"Finetuned\"]\n",
    "for i in range(3):\n",
    "    axs[2,i].set_xticks(x_centers, labels=[\"J\",\"F\",\"M\",\"A\",\"M\",\"J\",\"J\",\"A\",\"S\",\"O\",\"N\",\"D\"])\n",
    "    axs[i,0].set_yticks(y_centers, labels=np.arange(1, 7, 1))\n",
    "    axs[i,0].set_ylabel(f\"{label[i]}\", fontsize=14)\n",
    "\n",
    "axs[0,0].set_title(r\"Test ACC ($n=9$)\")\n",
    "axs[0,1].set_title(r\"Val ACC ($n=4$)\")\n",
    "axs[0,2].set_title(r\"Train ACC ($n=32$)\")\n",
    "\n",
    "cbar_ax = fig.add_axes([0.93, 0.12, 0.02, 0.48]) \n",
    "cbar_ax2 = fig.add_axes([0.93, 0.65, 0.02, 0.22]) \n",
    "\n",
    "fig.colorbar(cax, cax=cbar_ax, orientation='vertical', label=r'$\\Delta$ACC')\n",
    "fig.colorbar(cax2, cax=cbar_ax2, orientation='vertical', extend='min', label=r'ACC')\n",
    "\n",
    "plt.savefig(\"figures/cesm/exp3_finetune_acc_change.jpg\", dpi=300, bbox_inches='tight')\n"
   ]
  },
  {
   "cell_type": "code",
   "execution_count": 71,
   "metadata": {},
   "outputs": [],
   "source": [
    "def calculate_rmse(predictions, targets):\n",
    "    max_lead_months = len(predictions.lead_time)\n",
    "    \n",
    "    rmse_da = xr.DataArray(\n",
    "        np.empty((max_lead_months, 12)),\n",
    "        dims = (\"lead_time\", \"month\")\n",
    "    )\n",
    "\n",
    "    for lead in range(max_lead_months):\n",
    "        squared_residuals = (targets.isel(lead_time=lead) - predictions.isel(lead_time=lead)) ** 2\n",
    "\n",
    "        mse = squared_residuals.groupby(\"start_prediction_month.month\").mean((\"start_prediction_month\", \"x\", \"y\"))\n",
    "        rmse = np.sqrt(mse)\n",
    "\n",
    "        rmse_da[lead, :] = np.roll(rmse, lead) \n",
    "        \n",
    "    return rmse_da\n",
    "\n",
    "test_rmse = calculate_rmse(ds_pred_test.icefrac, ds_truth_test.icefrac)\n",
    "val_rmse = calculate_rmse(ds_pred_val.icefrac, ds_truth_val.icefrac)\n",
    "train_rmse = calculate_rmse(ds_pred_train.icefrac, ds_truth_train.icefrac)\n",
    "\n",
    "test_rmse_ft = calculate_rmse(ds_pred_test_ft.icefrac, ds_truth_test.icefrac)\n",
    "val_rmse_ft = calculate_rmse(ds_pred_val_ft.icefrac, ds_truth_val.icefrac)\n",
    "train_rmse_ft = calculate_rmse(ds_pred_train_ft.icefrac, ds_truth_train.icefrac)\n",
    "\n",
    "test_rmse_zs = calculate_rmse(ds_pred_test_zs.icefrac, ds_truth_test.icefrac)\n",
    "val_rmse_zs = calculate_rmse(ds_pred_val_zs.icefrac, ds_truth_val.icefrac)\n",
    "train_rmse_zs = calculate_rmse(ds_pred_train_zs.icefrac, ds_truth_train.icefrac)"
   ]
  },
  {
   "cell_type": "code",
   "execution_count": 91,
   "metadata": {},
   "outputs": [
    {
     "data": {
      "image/png": "[encoded data removed]",
      "text/plain": [
       "<Figure size 900x600 with 10 Axes>"
      ]
     },
     "metadata": {},
     "output_type": "display_data"
    }
   ],
   "source": [
    "fig, axs = plt.subplots(figsize=(9,6), nrows=3, ncols=3, sharey=True, sharex=True)\n",
    "x = np.arange(13)\n",
    "y = np.arange(7)\n",
    "x_centers = (x[:-1] + x[1:]) / 2\n",
    "y_centers = (y[:-1] + y[1:]) / 2\n",
    "\n",
    "axs[0,0].pcolormesh(x, y, test_rmse, cmap=\"Spectral_r\", shading='flat', vmin=0.03, vmax=0.1)\n",
    "cax = axs[1,0].pcolormesh(x, y, test_rmse_zs - test_rmse, cmap=\"RdBu_r\", shading='flat', vmin=-0.01, vmax=0.01)\n",
    "axs[2,0].pcolormesh(x, y, test_rmse_ft - test_rmse, cmap=\"RdBu_r\", shading='flat', vmin=-0.01, vmax=0.01)\n",
    "\n",
    "axs[0,1].pcolormesh(x, y, val_rmse, cmap=\"Spectral_r\", shading='flat', vmin=0.03, vmax=0.1)\n",
    "axs[1,1].pcolormesh(x, y, val_rmse_zs - val_rmse, cmap=\"RdBu_r\", shading='flat', vmin=-0.01, vmax=0.01)\n",
    "axs[2,1].pcolormesh(x, y, val_rmse_ft - val_rmse, cmap=\"RdBu_r\", shading='flat', vmin=-0.01, vmax=0.01)\n",
    "\n",
    "axs[0,2].pcolormesh(x, y, train_rmse, cmap=\"Spectral_r\", shading='flat', vmin=0.03, vmax=0.1)\n",
    "axs[1,2].pcolormesh(x, y, train_rmse_zs - train_rmse, cmap=\"RdBu_r\", shading='flat', vmin=-0.01, vmax=0.01)\n",
    "axs[2,2].pcolormesh(x, y, train_rmse_ft - train_rmse, cmap=\"RdBu_r\", shading='flat', vmin=-0.01, vmax=0.01)\n",
    "\n",
    "\n",
    "label = [\"Baseline\", \"Zero-shot\", \"Finetuned\"]\n",
    "for i in range(3):\n",
    "    axs[2,i].set_xticks(x_centers, labels=[\"J\",\"F\",\"M\",\"A\",\"M\",\"J\",\"J\",\"A\",\"S\",\"O\",\"N\",\"D\"])\n",
    "    axs[i,0].set_yticks(y_centers, labels=np.arange(1, 7, 1))\n",
    "    axs[i,0].set_ylabel(f\"{label[i]}\", fontsize=14)\n",
    "\n",
    "axs[0,0].set_title(r\"Test RMSE ($n=9$)\")\n",
    "axs[0,1].set_title(r\"Val RMSE ($n=4$)\")\n",
    "axs[0,2].set_title(r\"Train RMSE ($n=32$)\")\n",
    "\n",
    "cbar_ax = fig.add_axes([0.95, 0.2, 0.02, 0.6]) \n",
    "\n",
    "fig.colorbar(cax, cax=cbar_ax, orientation='vertical', label=r'$\\Delta$RMSE')\n",
    "plt.savefig(\"figures/cesm/exp3_finetune_rmse_change.jpg\", dpi=300, bbox_inches='tight')\n"
   ]
  },
  {
   "cell_type": "code",
   "execution_count": null,
   "metadata": {},
   "outputs": [],
   "source": [
    "def plot_pred_example(da_pred1, da_pred2, da_truth, start_prediction_month, savepath=None):\n",
    "    import cartopy.crs as ccrs\n",
    "    months = ['Jan', 'Feb', 'Mar', 'Apr', 'May', 'Jun', \n",
    "            'Jul', 'Aug', 'Sep', 'Oct', 'Nov', 'Dec']\n",
    "    lon = reference_grid.lon.data\n",
    "    lat = reference_grid.lat.data\n",
    "\n",
    "    fig, axs = plt.subplots(figsize=(12, 6), nrows=3, ncols=6, sharex=True, sharey=True, \n",
    "                            subplot_kw={'projection': ccrs.SouthPolarStereo()})\n",
    "\n",
    "    for i in range(6):\n",
    "        pred1 = da_pred1.isel(start_prediction_month=start_prediction_month, lead_time=i)\n",
    "        pred2 = da_pred2.isel(start_prediction_month=start_prediction_month, lead_time=i)\n",
    "        truth = da_truth.isel(start_prediction_month=start_prediction_month, lead_time=i)\n",
    "\n",
    "        axs[0,i].pcolormesh(lon, lat, pred1, transform=ccrs.PlateCarree(), vmin=-0.5, vmax=0.5, cmap=\"RdBu_r\")\n",
    "        axs[1,i].pcolormesh(lon, lat, pred2, transform=ccrs.PlateCarree(), vmin=-0.5, vmax=0.5, cmap=\"RdBu_r\")\n",
    "        axs[2,i].pcolormesh(lon, lat, truth, transform=ccrs.PlateCarree(), vmin=-0.5, vmax=0.5, cmap=\"RdBu_r\")\n",
    "\n",
    "        # print acc \n",
    "        acc_1 =  np.corrcoef(pred1.to_numpy().flatten(), truth.to_numpy().flatten()).round(2)[0,1]\n",
    "        acc_2 =  np.corrcoef(pred2.to_numpy().flatten(), truth.to_numpy().flatten()).round(2)[0,1]\n",
    "        axs[0,i].text(25, -60, acc_1, transform=ccrs.PlateCarree())\n",
    "        axs[1,i].text(25, -60, acc_2, transform=ccrs.PlateCarree())\n",
    "        axs[0,i].set_title(f\"Lead {i+1} ({months[(start_prediction_month + i + 1) % 12]})\")\n",
    "        for j in range(3):\n",
    "            axs[j,i].coastlines()\n",
    "            axs[j,0].yaxis.set_visible(True) \n",
    "            axs[j,0].set_yticks([])\n",
    "    axs[0,0].set_ylabel(\"Finetuned UNet\")\n",
    "    axs[1,0].set_ylabel(\"Baseline UNet\")\n",
    "    axs[2,0].set_ylabel(\"Truth\")\n",
    "\n",
    "    start_pred_mon = da_truth.start_prediction_month.isel(start_prediction_month=start_prediction_month)\n",
    "    plt.suptitle(f\"Init month: {start_pred_mon.values.astype('datetime64[M]')}\")\n",
    "    if savepath is not None:\n",
    "        plt.savefig(savepath, dpi=250, bbox_inches='tight')\n",
    "    plt.show()\n",
    "\n",
    "for i in range(len(ds_pred_test_ft.start_prediction_month)):\n",
    "    plot_pred_example(ds_pred_test_ft.icefrac, ds_pred_test.icefrac, ds_truth_test.icefrac, i,\n",
    "                    savepath=f\"figures/cesm/sample_predictions/exp3_finetune_test_{i}.jpg\")\n",
    "\n",
    "# plot_pred_example(ds_pred_test, ds_truth_test, 65)"
   ]
  },
  {
   "cell_type": "markdown",
   "metadata": {},
   "source": [
    "## Plot results for model finetuned on CESM climatology\n",
    "Date: 5/28"
   ]
  },
  {
   "cell_type": "markdown",
   "metadata": {},
   "source": [
    "### Finetuned model 1 (predict anom relative to cesm)"
   ]
  },
  {
   "cell_type": "code",
   "execution_count": 88,
   "metadata": {},
   "outputs": [],
   "source": [
    "import src.experiment_configs.exp1_inputs.input2 as config2\n",
    "device = torch.device(\"cuda\" if torch.cuda.is_available() else \"cpu\")\n",
    "\n",
    "config2.DATA_CONFIG_NAME = \"seaice_plus_auxiliary_cesmclim\"\n",
    "\n",
    "# dataloaders\n",
    "train_dataset = Obs_Dataset(\"train\", config2.DATA_CONFIG_NAME, data_split_settings)\n",
    "train_dataloader = DataLoader(train_dataset, batch_size=1, shuffle=False, num_workers=0)\n",
    "val_dataset = Obs_Dataset(\"val\", config2.DATA_CONFIG_NAME, data_split_settings)\n",
    "val_dataloader = DataLoader(val_dataset, batch_size=1, shuffle=False, num_workers=0)\n",
    "test_dataset = Obs_Dataset(\"test\", config2.DATA_CONFIG_NAME, data_split_settings)\n",
    "test_dataloader = DataLoader(test_dataset, batch_size=1, shuffle=False, num_workers=0)\n",
    "\n",
    "run_id = 'k5qgn2q3'\n",
    "checkpoint_path = f\"/scratch/users/yucli/sicpred_models/exp3_obs_finetune_sweep/seaice_plus_auxiliary_cesmclim_{run_id}_best.pt\"\n",
    "checkpoint = torch.load(checkpoint_path, map_location=device, weights_only=True)\n",
    "\n",
    "in_channels = util_cesm.get_num_input_channels(config2.INPUT_CONFIG)\n",
    "out_channels = util_cesm.get_num_output_channels(config2.MAX_LEAD_MONTHS, config2.TARGET_CONFIG)\n",
    "model = UNetRes3(in_channels=in_channels, \n",
    "                out_channels=out_channels, \n",
    "                predict_anomalies=config2.TARGET_CONFIG[\"predict_anom\"]).to(device)\n",
    "\n",
    "model.load_state_dict(checkpoint)\n",
    "\n",
    "# evaluate on test \n",
    "# note that these predictions are anomalies relative to CESM climatology, so we'll want to transform them back\n",
    "ds_pred_train_ft_1, ds_truth_train_ft_1 = evaluate(model, train_dataloader)\n",
    "ds_pred_val_ft_1, ds_truth_val_ft_1 = evaluate(model, val_dataloader)\n",
    "ds_pred_test_ft_1, ds_truth_test_ft_1 = evaluate(model, test_dataloader)"
   ]
  },
  {
   "cell_type": "code",
   "execution_count": 90,
   "metadata": {},
   "outputs": [],
   "source": [
    "# Now, we want to convert the CESM anomalies to obs anomalies\n",
    "cesm_clim_dir = \"/scratch/users/yucli/cesm_data_processed/normalized_inputs/seaice_plus_auxiliary_vol4_dt\"\n",
    "\n",
    "icefrac_obs = xr.open_dataset(os.path.join(config_cesm.DATA_DIRECTORY, f\"ERA5/cesm_format/icefrac_obs.nc\")).icefrac \n",
    "icefrac_train_subset = icefrac_obs[np.concatenate((np.arange(12, dtype=int), train_subset + int(12)))]\n",
    "clim_obs = icefrac_train_subset.groupby(\"time.month\").mean(\"time\")\n",
    "clim_cesm = xr.open_dataset(os.path.join(cesm_clim_dir, \"icefrac_mean.nc\")).icefrac\n",
    "\n",
    "cesm_results = [ds_pred_train_ft_1, ds_truth_train_ft_1, ds_pred_val_ft_1, ds_truth_val_ft_1, ds_pred_test_ft_1, ds_truth_test_ft_1]\n",
    "delta_clim = clim_cesm - clim_obs\n",
    "\n",
    "for i in range(len(cesm_results)):\n",
    "    anomalies = cesm_results[i]\n",
    "    start_month = anomalies[\"start_prediction_month\"].dt.month  \n",
    "    lead_time = anomalies[\"lead_time\"] \n",
    "    target_month = ((start_month + lead_time - 2) % 12) + 1 \n",
    "\n",
    "    correction = delta_clim.sel(month = target_month)\n",
    "    cesm_results[i] = anomalies + correction\n",
    "\n",
    "ds_pred_train_ft_1, ds_truth_train_ft_1, ds_pred_val_ft_1, ds_truth_val_ft_1, ds_pred_test_ft_1, ds_truth_test_ft_1 = cesm_results"
   ]
  },
  {
   "cell_type": "code",
   "execution_count": 93,
   "metadata": {},
   "outputs": [],
   "source": [
    "test_acc_ft_1 = calculate_acc(ds_pred_test_ft_1.icefrac, ds_truth_test_ft_1.icefrac, dim=(\"x\",\"y\"), aggregate=True)\n",
    "val_acc_ft_1 = calculate_acc(ds_pred_val_ft_1.icefrac, ds_truth_val_ft_1.icefrac, dim=(\"x\",\"y\"), aggregate=True)\n",
    "train_acc_ft_1 = calculate_acc(ds_pred_train_ft_1.icefrac, ds_truth_train_ft_1.icefrac, dim=(\"x\",\"y\"), aggregate=True)"
   ]
  },
  {
   "cell_type": "markdown",
   "metadata": {},
   "source": [
    "### finetuned model 2 (predict anomalies relative to obs)"
   ]
  },
  {
   "cell_type": "code",
   "execution_count": 94,
   "metadata": {},
   "outputs": [],
   "source": [
    "# model (best = p704qlo1)\n",
    "run_id = 'p704qlo1'\n",
    "checkpoint_path = f\"/scratch/users/yucli/sicpred_models/exp3_obs_finetune_sweep/seaice_plus_auxiliary_{run_id}_best.pt\"\n",
    "checkpoint = torch.load(checkpoint_path, map_location=device, weights_only=True)\n",
    "\n",
    "config2.DATA_CONFIG_NAME = \"seaice_plus_auxiliary\"\n",
    "\n",
    "train_dataset = Obs_Dataset(\"train\", config2.DATA_CONFIG_NAME, data_split_settings)\n",
    "train_dataloader = DataLoader(train_dataset, batch_size=1, shuffle=False, num_workers=0)\n",
    "val_dataset = Obs_Dataset(\"val\", config2.DATA_CONFIG_NAME, data_split_settings)\n",
    "val_dataloader = DataLoader(val_dataset, batch_size=1, shuffle=False, num_workers=0)\n",
    "test_dataset = Obs_Dataset(\"test\", config2.DATA_CONFIG_NAME, data_split_settings)\n",
    "test_dataloader = DataLoader(test_dataset, batch_size=1, shuffle=False, num_workers=0)\n",
    "\n",
    "in_channels = util_cesm.get_num_input_channels(config2.INPUT_CONFIG)\n",
    "out_channels = util_cesm.get_num_output_channels(config2.MAX_LEAD_MONTHS, config2.TARGET_CONFIG)\n",
    "model = UNetRes3(in_channels=in_channels, \n",
    "                out_channels=out_channels, \n",
    "                predict_anomalies=config2.TARGET_CONFIG[\"predict_anom\"]).to(device)\n",
    "\n",
    "model.load_state_dict(checkpoint)\n",
    "\n",
    "# evaluate on test \n",
    "ds_pred_train_ft_2, truth_train = evaluate(model, train_dataloader)\n",
    "ds_pred_val_ft_2, truth_val = evaluate(model, val_dataloader)\n",
    "ds_pred_test_ft_2, truth_test = evaluate(model, test_dataloader)\n",
    "\n",
    "test_acc_ft_2 = calculate_acc(ds_pred_test_ft_2.icefrac, truth_test.icefrac, dim=(\"x\",\"y\"), aggregate=True)\n",
    "val_acc_ft_2 = calculate_acc(ds_pred_val_ft_2.icefrac, truth_val.icefrac, dim=(\"x\",\"y\"), aggregate=True)\n",
    "train_acc_ft_2 = calculate_acc(ds_pred_train_ft_2.icefrac, truth_train.icefrac, dim=(\"x\",\"y\"), aggregate=True)"
   ]
  },
  {
   "cell_type": "markdown",
   "metadata": {},
   "source": [
    "### baseline model"
   ]
  },
  {
   "cell_type": "code",
   "execution_count": 95,
   "metadata": {},
   "outputs": [],
   "source": [
    "run_id = 'jbns1cqy'\n",
    "checkpoint_path = f\"/scratch/users/yucli/sicpred_models/exp3_obs_hypsweep/seaice_plus_auxiliary_{run_id}_best.pt\"\n",
    "checkpoint = torch.load(checkpoint_path, map_location=device, weights_only=True)\n",
    "\n",
    "in_channels = util_cesm.get_num_input_channels(config2.INPUT_CONFIG)\n",
    "out_channels = util_cesm.get_num_output_channels(config2.MAX_LEAD_MONTHS, config2.TARGET_CONFIG)\n",
    "model = UNetRes3(in_channels=in_channels, \n",
    "                out_channels=out_channels, \n",
    "                predict_anomalies=config2.TARGET_CONFIG[\"predict_anom\"]).to(device)\n",
    "\n",
    "model.load_state_dict(checkpoint)\n",
    "\n",
    "# evaluate on test \n",
    "ds_pred_train, ds_truth_train = evaluate(model, train_dataloader)\n",
    "ds_pred_val, ds_truth_val = evaluate(model, val_dataloader)\n",
    "ds_pred_test, ds_truth_test = evaluate(model, test_dataloader)\n",
    "\n",
    "test_acc = calculate_acc(ds_pred_test.icefrac, ds_truth_test.icefrac, dim=(\"x\",\"y\"), aggregate=True)\n",
    "val_acc = calculate_acc(ds_pred_val.icefrac, ds_truth_val.icefrac, dim=(\"x\",\"y\"), aggregate=True)\n",
    "train_acc = calculate_acc(ds_pred_train.icefrac, ds_truth_train.icefrac, dim=(\"x\",\"y\"), aggregate=True)"
   ]
  },
  {
   "cell_type": "code",
   "execution_count": 106,
   "metadata": {},
   "outputs": [
    {
     "data": {
      "image/png": "[encoded data removed]",
      "text/plain": [
       "<Figure size 900x600 with 10 Axes>"
      ]
     },
     "metadata": {},
     "output_type": "display_data"
    }
   ],
   "source": [
    "fig, axs = plt.subplots(figsize=(9,6), nrows=3, ncols=3, sharey=True, sharex=True)\n",
    "x = np.arange(13)\n",
    "y = np.arange(7)\n",
    "x_centers = (x[:-1] + x[1:]) / 2\n",
    "y_centers = (y[:-1] + y[1:]) / 2\n",
    "\n",
    "axs[0,0].pcolormesh(x, y, test_acc, cmap=\"Spectral\", shading='flat', vmin=0, vmax=1)\n",
    "cax = axs[1,0].pcolormesh(x, y, test_acc_ft_1 - test_acc, cmap=\"RdBu\", shading='flat', vmin=-0.4, vmax=0.4)\n",
    "axs[2,0].pcolormesh(x, y, test_acc_ft_2 - test_acc, cmap=\"RdBu\", shading='flat', vmin=-0.4, vmax=0.4)\n",
    "\n",
    "axs[0,1].pcolormesh(x, y, val_acc, cmap=\"Spectral\", shading='flat', vmin=0, vmax=1)\n",
    "axs[1,1].pcolormesh(x, y, val_acc_ft_1 - val_acc, cmap=\"RdBu\", shading='flat', vmin=-0.4, vmax=0.4)\n",
    "axs[2,1].pcolormesh(x, y, val_acc_ft_2 - val_acc, cmap=\"RdBu\", shading='flat', vmin=-0.4, vmax=0.4)\n",
    "\n",
    "axs[0,2].pcolormesh(x, y, train_acc, cmap=\"Spectral\", shading='flat', vmin=0, vmax=1)\n",
    "axs[1,2].pcolormesh(x, y, train_acc_ft_1 - train_acc, cmap=\"RdBu\", shading='flat', vmin=-0.4, vmax=0.4)\n",
    "axs[2,2].pcolormesh(x, y, train_acc_ft_2 - train_acc, cmap=\"RdBu\", shading='flat', vmin=-0.4, vmax=0.4)\n",
    "\n",
    "\n",
    "label = [\"Baseline\", \"Finetuned 1\", \"Finetuned 2\"]\n",
    "for i in range(3):\n",
    "    axs[2,i].set_xticks(x_centers, labels=[\"J\",\"F\",\"M\",\"A\",\"M\",\"J\",\"J\",\"A\",\"S\",\"O\",\"N\",\"D\"])\n",
    "    axs[i,0].set_yticks(y_centers, labels=np.arange(1, 7, 1))\n",
    "    axs[i,0].set_ylabel(f\"{label[i]}\", fontsize=14)\n",
    "\n",
    "axs[0,0].set_title(r\"Test ACC ($n=9$)\")\n",
    "axs[0,1].set_title(r\"Val ACC ($n=4$)\")\n",
    "axs[0,2].set_title(r\"Train ACC ($n=32$)\")\n",
    "\n",
    "cbar_ax = fig.add_axes([0.95, 0.2, 0.02, 0.6]) \n",
    "\n",
    "fig.colorbar(cax, cax=cbar_ax, orientation='vertical', label=r'$\\Delta$ACC')\n",
    "plt.savefig(\"figures/cesm/exp3_finetune_acc_change_2.jpg\", dpi=300, bbox_inches='tight')\n"
   ]
  },
  {
   "cell_type": "code",
   "execution_count": 103,
   "metadata": {},
   "outputs": [],
   "source": [
    "def calculate_rmse(predictions, targets):\n",
    "    max_lead_months = len(predictions.lead_time)\n",
    "    \n",
    "    rmse_da = xr.DataArray(\n",
    "        np.empty((max_lead_months, 12)),\n",
    "        dims = (\"lead_time\", \"month\")\n",
    "    )\n",
    "\n",
    "    for lead in range(max_lead_months):\n",
    "        squared_residuals = (targets.isel(lead_time=lead) - predictions.isel(lead_time=lead)) ** 2\n",
    "\n",
    "        mse = squared_residuals.groupby(\"start_prediction_month.month\").mean((\"start_prediction_month\", \"x\", \"y\"))\n",
    "        rmse = np.sqrt(mse)\n",
    "\n",
    "        rmse_da[lead, :] = np.roll(rmse, lead) \n",
    "        \n",
    "    return rmse_da\n",
    "\n",
    "test_rmse = calculate_rmse(ds_pred_test.icefrac, ds_truth_test.icefrac)\n",
    "val_rmse = calculate_rmse(ds_pred_val.icefrac, ds_truth_val.icefrac)\n",
    "train_rmse = calculate_rmse(ds_pred_train.icefrac, ds_truth_train.icefrac)\n",
    "\n",
    "test_rmse_ft_1 = calculate_rmse(ds_pred_test_ft_1.icefrac, ds_truth_test_ft_1.icefrac)\n",
    "val_rmse_ft_1 = calculate_rmse(ds_pred_val_ft_1.icefrac, ds_truth_val_ft_1.icefrac)\n",
    "train_rmse_ft_1 = calculate_rmse(ds_pred_train_ft_1.icefrac, ds_truth_train_ft_1.icefrac)\n",
    "\n",
    "test_rmse_ft_2 = calculate_rmse(ds_pred_test_ft_2.icefrac, ds_truth_test_ft_1.icefrac)\n",
    "val_rmse_ft_2 = calculate_rmse(ds_pred_val_ft_2.icefrac, ds_truth_val_ft_1.icefrac)\n",
    "train_rmse_ft_2 = calculate_rmse(ds_pred_train_ft_2.icefrac, ds_truth_train_ft_1.icefrac)"
   ]
  },
  {
   "cell_type": "code",
   "execution_count": 105,
   "metadata": {},
   "outputs": [
    {
     "data": {
      "text/plain": [
       "<matplotlib.colorbar.Colorbar at 0x7f74300f13a0>"
      ]
     },
     "execution_count": 105,
     "metadata": {},
     "output_type": "execute_result"
    },
    {
     "data": {
      "image/png": "[encoded data removed]",
      "text/plain": [
       "<Figure size 900x600 with 10 Axes>"
      ]
     },
     "metadata": {},
     "output_type": "display_data"
    }
   ],
   "source": [
    "fig, axs = plt.subplots(figsize=(9,6), nrows=3, ncols=3, sharey=True, sharex=True)\n",
    "x = np.arange(13)\n",
    "y = np.arange(7)\n",
    "x_centers = (x[:-1] + x[1:]) / 2\n",
    "y_centers = (y[:-1] + y[1:]) / 2\n",
    "\n",
    "axs[0,0].pcolormesh(x, y, test_rmse, cmap=\"Spectral_r\", shading='flat', vmin=0.03, vmax=0.1)\n",
    "cax = axs[1,0].pcolormesh(x, y, test_rmse_ft_1 - test_rmse, cmap=\"RdBu_r\", shading='flat', vmin=-0.01, vmax=0.01)\n",
    "axs[2,0].pcolormesh(x, y, test_rmse_ft_2 - test_rmse, cmap=\"RdBu_r\", shading='flat', vmin=-0.01, vmax=0.01)\n",
    "\n",
    "axs[0,1].pcolormesh(x, y, val_rmse, cmap=\"Spectral_r\", shading='flat', vmin=0.03, vmax=0.1)\n",
    "axs[1,1].pcolormesh(x, y, val_rmse_ft_1 - val_rmse, cmap=\"RdBu_r\", shading='flat', vmin=-0.01, vmax=0.01)\n",
    "axs[2,1].pcolormesh(x, y, val_rmse_ft_2 - val_rmse, cmap=\"RdBu_r\", shading='flat', vmin=-0.01, vmax=0.01)\n",
    "\n",
    "axs[0,2].pcolormesh(x, y, train_rmse, cmap=\"Spectral_r\", shading='flat', vmin=0.03, vmax=0.1)\n",
    "axs[1,2].pcolormesh(x, y, train_rmse_ft_1 - train_rmse, cmap=\"RdBu_r\", shading='flat', vmin=-0.01, vmax=0.01)\n",
    "axs[2,2].pcolormesh(x, y, train_rmse_ft_2 - train_rmse, cmap=\"RdBu_r\", shading='flat', vmin=-0.01, vmax=0.01)\n",
    "\n",
    "\n",
    "label = [\"Baseline\", \"Finetuned 1\", \"Finetuned 2\"]\n",
    "for i in range(3):\n",
    "    axs[2,i].set_xticks(x_centers, labels=[\"J\",\"F\",\"M\",\"A\",\"M\",\"J\",\"J\",\"A\",\"S\",\"O\",\"N\",\"D\"])\n",
    "    axs[i,0].set_yticks(y_centers, labels=np.arange(1, 7, 1))\n",
    "    axs[i,0].set_ylabel(f\"{label[i]}\", fontsize=14)\n",
    "\n",
    "axs[0,0].set_title(r\"Test RMSE ($n=9$)\")\n",
    "axs[0,1].set_title(r\"Val RMSE ($n=4$)\")\n",
    "axs[0,2].set_title(r\"Train RMSE ($n=32$)\")\n",
    "\n",
    "cbar_ax = fig.add_axes([0.95, 0.2, 0.02, 0.6]) \n",
    "\n",
    "fig.colorbar(cax, cax=cbar_ax, orientation='vertical', label=r'$\\Delta$RMSE')\n",
    "#plt.savefig(\"figures/cesm/exp3_finetune_rmse_change.jpg\", dpi=300, bbox_inches='tight')\n"
   ]
  },
  {
   "cell_type": "markdown",
   "metadata": {},
   "source": [
    "## Sweep 3 (input4)"
   ]
  },
  {
   "cell_type": "code",
   "execution_count": null,
   "metadata": {},
   "outputs": [],
   "source": [
    "import src.experiment_configs.exp1_inputs.input4 as config4\n",
    "import src.experiment_configs.exp1_inputs.input2 as config2\n",
    "\n",
    "data_config = config4\n",
    "\n",
    "sweep_config = {\n",
    "    'method': 'random', \n",
    "    'metric': {\n",
    "        'name': 'best_val_rmse',\n",
    "        'goal': 'minimize'\n",
    "    },\n",
    "    'parameters': {\n",
    "        'lr': {\n",
    "            'min': 1e-5,\n",
    "            'max': 2e-3 \n",
    "        },\n",
    "        'weight_decay': {\n",
    "            'min': 0.0,\n",
    "            'max': 1e-4\n",
    "        },\n",
    "        'batch_size': {\n",
    "            'values': [20, 32, 50, 64] \n",
    "        },\n",
    "        'n_channels_factor': {\n",
    "            'values': [0.5, 0.75, 1]\n",
    "        },\n",
    "        'num_epochs': {\n",
    "            'value': 100\n",
    "        },\n",
    "        'loss_function_args': {\n",
    "            'value': 1\n",
    "        }\n",
    "    }\n",
    "}\n",
    "\n",
    "sweep_id = wandb.sweep(sweep_config, project=\"sea-ice-prediction\")\n",
    "\n",
    "save_path = \"/scratch/users/yucli/sicpred_models/exp3_obs_hypsweep\"\n",
    "wandb.agent(sweep_id, function=lambda: train(data_config, save_path=save_path), count=50)\n"
   ]
  },
  {
   "cell_type": "markdown",
   "metadata": {},
   "source": [
    "## Finetune "
   ]
  },
  {
   "cell_type": "code",
   "execution_count": 48,
   "metadata": {},
   "outputs": [
    {
     "name": "stderr",
     "output_type": "stream",
     "text": [
      "\u001b[34m\u001b[1mwandb\u001b[0m: Using wandb-core as the SDK backend.  Please refer to https://wandb.me/wandb-core for more information.\n"
     ]
    },
    {
     "name": "stdout",
     "output_type": "stream",
     "text": [
      "Create sweep with ID: ig2sril5\n",
      "Sweep URL: https://wandb.ai/ychnli-stanford-university/sea-ice-prediction/sweeps/ig2sril5\n"
     ]
    },
    {
     "name": "stderr",
     "output_type": "stream",
     "text": [
      "\u001b[34m\u001b[1mwandb\u001b[0m: Agent Starting Run: j5az2cd7 with config:\n",
      "\u001b[34m\u001b[1mwandb\u001b[0m: \tbatch_size: 50\n",
      "\u001b[34m\u001b[1mwandb\u001b[0m: \tloss_function_args: 1\n",
      "\u001b[34m\u001b[1mwandb\u001b[0m: \tlr: 0.0004849810617328947\n",
      "\u001b[34m\u001b[1mwandb\u001b[0m: \tnum_epochs: 100\n",
      "\u001b[34m\u001b[1mwandb\u001b[0m: \tweight_decay: 0\n",
      "\u001b[34m\u001b[1mwandb\u001b[0m: Currently logged in as: \u001b[33mychnli\u001b[0m (\u001b[33mychnli-stanford-university\u001b[0m). Use \u001b[1m`wandb login --relogin`\u001b[0m to force relogin\n"
     ]
    },
    {
     "data": {
      "text/html": [
       "Tracking run with wandb version 0.19.0"
      ],
      "text/plain": [
       "<IPython.core.display.HTML object>"
      ]
     },
     "metadata": {},
     "output_type": "display_data"
    },
    {
     "data": {
      "text/html": [
       "Run data is saved locally in <code>/home/users/yucli/sicpred/wandb/run-20250525_200006-j5az2cd7</code>"
      ],
      "text/plain": [
       "<IPython.core.display.HTML object>"
      ]
     },
     "metadata": {},
     "output_type": "display_data"
    },
    {
     "data": {
      "text/html": [
       "Syncing run <strong><a href='https://wandb.ai/ychnli-stanford-university/sea-ice-prediction/runs/j5az2cd7' target=\"_blank\">comic-sweep-1</a></strong> to <a href='https://wandb.ai/ychnli-stanford-university/sea-ice-prediction' target=\"_blank\">Weights & Biases</a> (<a href='https://wandb.me/developer-guide' target=\"_blank\">docs</a>)<br/>Sweep page: <a href='https://wandb.ai/ychnli-stanford-university/sea-ice-prediction/sweeps/ig2sril5' target=\"_blank\">https://wandb.ai/ychnli-stanford-university/sea-ice-prediction/sweeps/ig2sril5</a>"
      ],
      "text/plain": [
       "<IPython.core.display.HTML object>"
      ]
     },
     "metadata": {},
     "output_type": "display_data"
    },
    {
     "data": {
      "text/html": [
       " View project at <a href='https://wandb.ai/ychnli-stanford-university/sea-ice-prediction' target=\"_blank\">https://wandb.ai/ychnli-stanford-university/sea-ice-prediction</a>"
      ],
      "text/plain": [
       "<IPython.core.display.HTML object>"
      ]
     },
     "metadata": {},
     "output_type": "display_data"
    },
    {
     "data": {
      "text/html": [
       " View sweep at <a href='https://wandb.ai/ychnli-stanford-university/sea-ice-prediction/sweeps/ig2sril5' target=\"_blank\">https://wandb.ai/ychnli-stanford-university/sea-ice-prediction/sweeps/ig2sril5</a>"
      ],
      "text/plain": [
       "<IPython.core.display.HTML object>"
      ]
     },
     "metadata": {},
     "output_type": "display_data"
    },
    {
     "data": {
      "text/html": [
       " View run at <a href='https://wandb.ai/ychnli-stanford-university/sea-ice-prediction/runs/j5az2cd7' target=\"_blank\">https://wandb.ai/ychnli-stanford-university/sea-ice-prediction/runs/j5az2cd7</a>"
      ],
      "text/plain": [
       "<IPython.core.display.HTML object>"
      ]
     },
     "metadata": {},
     "output_type": "display_data"
    },
    {
     "name": "stderr",
     "output_type": "stream",
     "text": [
      "Epoch 0/100 [Train]: 100%|██████████| 8/8 [00:13<00:00,  1.67s/it, Batch Loss=0.0139]\n",
      "Epoch 0/100 [Val]: 100%|██████████| 2/2 [00:00<00:00,  3.63it/s, Batch RMSE=0.096] \n",
      "Epoch 1/100 [Train]: 100%|██████████| 8/8 [00:02<00:00,  3.76it/s, Batch Loss=0.0116]\n",
      "Epoch 1/100 [Val]: 100%|██████████| 2/2 [00:00<00:00,  9.80it/s, Batch RMSE=0.089] \n",
      "Epoch 2/100 [Train]: 100%|██████████| 8/8 [00:02<00:00,  3.83it/s, Batch Loss=0.0092]\n",
      "Epoch 2/100 [Val]: 100%|██████████| 2/2 [00:00<00:00,  9.59it/s, Batch RMSE=0.0863]\n",
      "Epoch 3/100 [Train]: 100%|██████████| 8/8 [00:02<00:00,  3.24it/s, Batch Loss=0.00982]\n",
      "Epoch 3/100 [Val]: 100%|██████████| 2/2 [00:00<00:00,  9.34it/s, Batch RMSE=0.0835]\n",
      "Epoch 4/100 [Train]: 100%|██████████| 8/8 [00:02<00:00,  3.52it/s, Batch Loss=0.00943]\n",
      "Epoch 4/100 [Val]: 100%|██████████| 2/2 [00:00<00:00,  7.24it/s, Batch RMSE=0.0832]\n",
      "Epoch 5/100 [Train]: 100%|██████████| 8/8 [00:02<00:00,  3.86it/s, Batch Loss=0.00864]\n",
      "Epoch 5/100 [Val]: 100%|██████████| 2/2 [00:00<00:00,  9.97it/s, Batch RMSE=0.0826]\n",
      "Epoch 6/100 [Train]: 100%|██████████| 8/8 [00:02<00:00,  3.88it/s, Batch Loss=0.00852]\n",
      "Epoch 6/100 [Val]: 100%|██████████| 2/2 [00:00<00:00,  9.15it/s, Batch RMSE=0.0828]\n",
      "Epoch 7/100 [Train]: 100%|██████████| 8/8 [00:02<00:00,  3.85it/s, Batch Loss=0.00784]\n",
      "Epoch 7/100 [Val]: 100%|██████████| 2/2 [00:00<00:00,  9.66it/s, Batch RMSE=0.0833]\n",
      "Epoch 8/100 [Train]: 100%|██████████| 8/8 [00:02<00:00,  3.87it/s, Batch Loss=0.00719]\n",
      "Epoch 8/100 [Val]: 100%|██████████| 2/2 [00:00<00:00,  9.61it/s, Batch RMSE=0.083] \n",
      "Epoch 9/100 [Train]: 100%|██████████| 8/8 [00:02<00:00,  3.89it/s, Batch Loss=0.00741]\n",
      "Epoch 9/100 [Val]: 100%|██████████| 2/2 [00:00<00:00,  9.34it/s, Batch RMSE=0.0847]\n",
      "Epoch 10/100 [Train]: 100%|██████████| 8/8 [00:02<00:00,  3.87it/s, Batch Loss=0.00738]\n",
      "Epoch 10/100 [Val]: 100%|██████████| 2/2 [00:00<00:00,  9.59it/s, Batch RMSE=0.0849]\n",
      "Epoch 11/100 [Train]: 100%|██████████| 8/8 [00:02<00:00,  3.84it/s, Batch Loss=0.00714]\n",
      "Epoch 11/100 [Val]: 100%|██████████| 2/2 [00:00<00:00,  9.55it/s, Batch RMSE=0.0847]\n",
      "Epoch 12/100 [Train]: 100%|██████████| 8/8 [00:02<00:00,  3.81it/s, Batch Loss=0.00685]\n",
      "Epoch 12/100 [Val]: 100%|██████████| 2/2 [00:00<00:00,  9.62it/s, Batch RMSE=0.0852]\n",
      "Epoch 13/100 [Train]: 100%|██████████| 8/8 [00:02<00:00,  3.86it/s, Batch Loss=0.00634]\n",
      "Epoch 13/100 [Val]: 100%|██████████| 2/2 [00:00<00:00,  8.74it/s, Batch RMSE=0.0875]\n"
     ]
    },
    {
     "name": "stdout",
     "output_type": "stream",
     "text": [
      "Early stopping triggered at epoch 14\n"
     ]
    },
    {
     "data": {
      "text/html": [
       "\n",
       "    <style>\n",
       "        .wandb-row {\n",
       "            display: flex;\n",
       "            flex-direction: row;\n",
       "            flex-wrap: wrap;\n",
       "            justify-content: flex-start;\n",
       "            width: 100%;\n",
       "        }\n",
       "        .wandb-col {\n",
       "            display: flex;\n",
       "            flex-direction: column;\n",
       "            flex-basis: 100%;\n",
       "            flex: 1;\n",
       "            padding: 10px;\n",
       "        }\n",
       "    </style>\n",
       "<div class=\"wandb-row\"><div class=\"wandb-col\"><h3>Run history:</h3><br/><table class=\"wandb\"><tr><td>best_val_rmse</td><td>█▅▃▂▂▁▁▁▁▁▁▁▁</td></tr><tr><td>epoch</td><td>▁▂▂▃▃▄▄▅▅▆▆▇▇█</td></tr><tr><td>epoch_train_loss</td><td>█▅▄▄▃▃▃▂▂▂▂▁▁▁</td></tr><tr><td>epoch_val_loss</td><td>█▄▃▂▁▁▁▁▁▁▂▂▂▂</td></tr><tr><td>epoch_val_rmse</td><td>█▅▃▂▂▁▁▁▁▁▁▁▁▁</td></tr><tr><td>lr</td><td>████▇▇▆▆▅▅▄▃▂▁</td></tr><tr><td>train_loss</td><td>██▆▅▆▅▄▄▄▄▄▃▃▃▃▃▃▃▃▃▃▃▂▂▂▂▂▂▂▂▂▂▂▂▁▁▁▁▁▁</td></tr><tr><td>val_loss</td><td>▄█▃▆▂▅▂▄▁▄▁▃▁▃▁▄▁▄▁▄▁▄▁▄▁▄▁▅</td></tr><tr><td>val_rmse</td><td>█▇▆▄▄▃▃▁▃▁▂▁▂▁▂▁▂▁▂▂▂▂▂▂▂▂▂▃</td></tr></table><br/></div><div class=\"wandb-col\"><h3>Run summary:</h3><br/><table class=\"wandb\"><tr><td>best_val_rmse</td><td>0.0842</td></tr><tr><td>epoch</td><td>13</td></tr><tr><td>epoch_train_loss</td><td>0.00644</td></tr><tr><td>epoch_val_loss</td><td>0.01292</td></tr><tr><td>epoch_val_rmse</td><td>0.08517</td></tr><tr><td>lr</td><td>0.00047</td></tr><tr><td>train_loss</td><td>0.00634</td></tr><tr><td>val_loss</td><td>0.01506</td></tr><tr><td>val_rmse</td><td>0.0875</td></tr></table><br/></div></div>"
      ],
      "text/plain": [
       "<IPython.core.display.HTML object>"
      ]
     },
     "metadata": {},
     "output_type": "display_data"
    },
    {
     "data": {
      "text/html": [
       " View run <strong style=\"color:#cdcd00\">comic-sweep-1</strong> at: <a href='https://wandb.ai/ychnli-stanford-university/sea-ice-prediction/runs/j5az2cd7' target=\"_blank\">https://wandb.ai/ychnli-stanford-university/sea-ice-prediction/runs/j5az2cd7</a><br/> View project at: <a href='https://wandb.ai/ychnli-stanford-university/sea-ice-prediction' target=\"_blank\">https://wandb.ai/ychnli-stanford-university/sea-ice-prediction</a><br/>Synced 4 W&B file(s), 0 media file(s), 0 artifact file(s) and 0 other file(s)"
      ],
      "text/plain": [
       "<IPython.core.display.HTML object>"
      ]
     },
     "metadata": {},
     "output_type": "display_data"
    },
    {
     "data": {
      "text/html": [
       "Find logs at: <code>./wandb/run-20250525_200006-j5az2cd7/logs</code>"
      ],
      "text/plain": [
       "<IPython.core.display.HTML object>"
      ]
     },
     "metadata": {},
     "output_type": "display_data"
    },
    {
     "name": "stderr",
     "output_type": "stream",
     "text": [
      "\u001b[34m\u001b[1mwandb\u001b[0m: Agent Starting Run: k5qgn2q3 with config:\n",
      "\u001b[34m\u001b[1mwandb\u001b[0m: \tbatch_size: 50\n",
      "\u001b[34m\u001b[1mwandb\u001b[0m: \tloss_function_args: 1\n",
      "\u001b[34m\u001b[1mwandb\u001b[0m: \tlr: 0.0031805629906012218\n",
      "\u001b[34m\u001b[1mwandb\u001b[0m: \tnum_epochs: 100\n",
      "\u001b[34m\u001b[1mwandb\u001b[0m: \tweight_decay: 0\n"
     ]
    },
    {
     "data": {
      "text/html": [
       "Tracking run with wandb version 0.19.0"
      ],
      "text/plain": [
       "<IPython.core.display.HTML object>"
      ]
     },
     "metadata": {},
     "output_type": "display_data"
    },
    {
     "data": {
      "text/html": [
       "Run data is saved locally in <code>/home/users/yucli/sicpred/wandb/run-20250525_200122-k5qgn2q3</code>"
      ],
      "text/plain": [
       "<IPython.core.display.HTML object>"
      ]
     },
     "metadata": {},
     "output_type": "display_data"
    },
    {
     "data": {
      "text/html": [
       "Syncing run <strong><a href='https://wandb.ai/ychnli-stanford-university/sea-ice-prediction/runs/k5qgn2q3' target=\"_blank\">olive-sweep-2</a></strong> to <a href='https://wandb.ai/ychnli-stanford-university/sea-ice-prediction' target=\"_blank\">Weights & Biases</a> (<a href='https://wandb.me/developer-guide' target=\"_blank\">docs</a>)<br/>Sweep page: <a href='https://wandb.ai/ychnli-stanford-university/sea-ice-prediction/sweeps/ig2sril5' target=\"_blank\">https://wandb.ai/ychnli-stanford-university/sea-ice-prediction/sweeps/ig2sril5</a>"
      ],
      "text/plain": [
       "<IPython.core.display.HTML object>"
      ]
     },
     "metadata": {},
     "output_type": "display_data"
    },
    {
     "data": {
      "text/html": [
       " View project at <a href='https://wandb.ai/ychnli-stanford-university/sea-ice-prediction' target=\"_blank\">https://wandb.ai/ychnli-stanford-university/sea-ice-prediction</a>"
      ],
      "text/plain": [
       "<IPython.core.display.HTML object>"
      ]
     },
     "metadata": {},
     "output_type": "display_data"
    },
    {
     "data": {
      "text/html": [
       " View sweep at <a href='https://wandb.ai/ychnli-stanford-university/sea-ice-prediction/sweeps/ig2sril5' target=\"_blank\">https://wandb.ai/ychnli-stanford-university/sea-ice-prediction/sweeps/ig2sril5</a>"
      ],
      "text/plain": [
       "<IPython.core.display.HTML object>"
      ]
     },
     "metadata": {},
     "output_type": "display_data"
    },
    {
     "data": {
      "text/html": [
       " View run at <a href='https://wandb.ai/ychnli-stanford-university/sea-ice-prediction/runs/k5qgn2q3' target=\"_blank\">https://wandb.ai/ychnli-stanford-university/sea-ice-prediction/runs/k5qgn2q3</a>"
      ],
      "text/plain": [
       "<IPython.core.display.HTML object>"
      ]
     },
     "metadata": {},
     "output_type": "display_data"
    },
    {
     "name": "stderr",
     "output_type": "stream",
     "text": [
      "Epoch 0/100 [Train]: 100%|██████████| 8/8 [00:02<00:00,  3.29it/s, Batch Loss=0.0119]\n",
      "Epoch 0/100 [Val]: 100%|██████████| 2/2 [00:00<00:00,  8.34it/s, Batch RMSE=0.0896]\n",
      "Epoch 1/100 [Train]: 100%|██████████| 8/8 [00:01<00:00,  4.28it/s, Batch Loss=0.00981]\n",
      "Epoch 1/100 [Val]: 100%|██████████| 2/2 [00:00<00:00,  5.91it/s, Batch RMSE=0.0862]\n",
      "Epoch 2/100 [Train]: 100%|██████████| 8/8 [00:02<00:00,  3.20it/s, Batch Loss=0.00848]\n",
      "Epoch 2/100 [Val]: 100%|██████████| 2/2 [00:00<00:00,  8.05it/s, Batch RMSE=0.085]\n",
      "Epoch 3/100 [Train]: 100%|██████████| 8/8 [00:02<00:00,  3.00it/s, Batch Loss=0.00739]\n",
      "Epoch 3/100 [Val]: 100%|██████████| 2/2 [00:00<00:00,  9.65it/s, Batch RMSE=0.0852]\n",
      "Epoch 4/100 [Train]: 100%|██████████| 8/8 [00:02<00:00,  3.78it/s, Batch Loss=0.00751]\n",
      "Epoch 4/100 [Val]: 100%|██████████| 2/2 [00:00<00:00,  9.93it/s, Batch RMSE=0.0854]\n",
      "Epoch 5/100 [Train]: 100%|██████████| 8/8 [00:02<00:00,  3.86it/s, Batch Loss=0.00716]\n",
      "Epoch 5/100 [Val]: 100%|██████████| 2/2 [00:00<00:00,  9.00it/s, Batch RMSE=0.0857]\n",
      "Epoch 6/100 [Train]: 100%|██████████| 8/8 [00:02<00:00,  3.77it/s, Batch Loss=0.00644]\n",
      "Epoch 6/100 [Val]: 100%|██████████| 2/2 [00:00<00:00,  9.76it/s, Batch RMSE=0.0885]\n",
      "Epoch 7/100 [Train]: 100%|██████████| 8/8 [00:02<00:00,  3.78it/s, Batch Loss=0.00596]\n",
      "Epoch 7/100 [Val]: 100%|██████████| 2/2 [00:00<00:00,  9.43it/s, Batch RMSE=0.0878]\n",
      "Epoch 8/100 [Train]: 100%|██████████| 8/8 [00:02<00:00,  3.78it/s, Batch Loss=0.00543]\n",
      "Epoch 8/100 [Val]: 100%|██████████| 2/2 [00:00<00:00,  9.43it/s, Batch RMSE=0.0881]\n",
      "Epoch 9/100 [Train]: 100%|██████████| 8/8 [00:02<00:00,  3.73it/s, Batch Loss=0.00587]\n",
      "Epoch 9/100 [Val]: 100%|██████████| 2/2 [00:00<00:00,  8.96it/s, Batch RMSE=0.0875]\n"
     ]
    },
    {
     "name": "stdout",
     "output_type": "stream",
     "text": [
      "Early stopping triggered at epoch 10\n"
     ]
    },
    {
     "data": {
      "text/html": [
       "\n",
       "    <style>\n",
       "        .wandb-row {\n",
       "            display: flex;\n",
       "            flex-direction: row;\n",
       "            flex-wrap: wrap;\n",
       "            justify-content: flex-start;\n",
       "            width: 100%;\n",
       "        }\n",
       "        .wandb-col {\n",
       "            display: flex;\n",
       "            flex-direction: column;\n",
       "            flex-basis: 100%;\n",
       "            flex: 1;\n",
       "            padding: 10px;\n",
       "        }\n",
       "    </style>\n",
       "<div class=\"wandb-row\"><div class=\"wandb-col\"><h3>Run history:</h3><br/><table class=\"wandb\"><tr><td>best_val_rmse</td><td>█▄▂▂▁▁▁▁▁</td></tr><tr><td>epoch</td><td>▁▂▃▃▄▅▆▆▇█</td></tr><tr><td>epoch_train_loss</td><td>█▅▄▃▃▂▂▁▁▁</td></tr><tr><td>epoch_val_loss</td><td>█▄▁▁▁▁▄▃▃▄</td></tr><tr><td>epoch_val_rmse</td><td>█▄▂▂▁▁▂▁▂▂</td></tr><tr><td>lr</td><td>███▇▇▆▅▄▂▁</td></tr><tr><td>train_loss</td><td>█▆▆▆▅▅▄▄▅▄▄▄▄▃▃▃▃▂▂▃▂▂▂▂▂▂▂▂▂▂▁▂▁▁▁▁▁▁▁▁</td></tr><tr><td>val_loss</td><td>▄█▂▇▂▆▁▆▁▆▁▆▁█▁▇▁▇▂▇</td></tr><tr><td>val_rmse</td><td>█▅▄▃▂▂▂▃▁▃▁▃▂▅▁▄▂▄▂▄</td></tr></table><br/></div><div class=\"wandb-col\"><h3>Run summary:</h3><br/><table class=\"wandb\"><tr><td>best_val_rmse</td><td>0.08298</td></tr><tr><td>epoch</td><td>9</td></tr><tr><td>epoch_train_loss</td><td>0.00559</td></tr><tr><td>epoch_val_loss</td><td>0.01295</td></tr><tr><td>epoch_val_rmse</td><td>0.08432</td></tr><tr><td>lr</td><td>0.00312</td></tr><tr><td>train_loss</td><td>0.00587</td></tr><tr><td>val_loss</td><td>0.0152</td></tr><tr><td>val_rmse</td><td>0.08755</td></tr></table><br/></div></div>"
      ],
      "text/plain": [
       "<IPython.core.display.HTML object>"
      ]
     },
     "metadata": {},
     "output_type": "display_data"
    },
    {
     "data": {
      "text/html": [
       " View run <strong style=\"color:#cdcd00\">olive-sweep-2</strong> at: <a href='https://wandb.ai/ychnli-stanford-university/sea-ice-prediction/runs/k5qgn2q3' target=\"_blank\">https://wandb.ai/ychnli-stanford-university/sea-ice-prediction/runs/k5qgn2q3</a><br/> View project at: <a href='https://wandb.ai/ychnli-stanford-university/sea-ice-prediction' target=\"_blank\">https://wandb.ai/ychnli-stanford-university/sea-ice-prediction</a><br/>Synced 4 W&B file(s), 0 media file(s), 0 artifact file(s) and 0 other file(s)"
      ],
      "text/plain": [
       "<IPython.core.display.HTML object>"
      ]
     },
     "metadata": {},
     "output_type": "display_data"
    },
    {
     "data": {
      "text/html": [
       "Find logs at: <code>./wandb/run-20250525_200122-k5qgn2q3/logs</code>"
      ],
      "text/plain": [
       "<IPython.core.display.HTML object>"
      ]
     },
     "metadata": {},
     "output_type": "display_data"
    },
    {
     "name": "stderr",
     "output_type": "stream",
     "text": [
      "\u001b[34m\u001b[1mwandb\u001b[0m: Agent Starting Run: ymgvvfce with config:\n",
      "\u001b[34m\u001b[1mwandb\u001b[0m: \tbatch_size: 50\n",
      "\u001b[34m\u001b[1mwandb\u001b[0m: \tloss_function_args: 1\n",
      "\u001b[34m\u001b[1mwandb\u001b[0m: \tlr: 0.004934435818680432\n",
      "\u001b[34m\u001b[1mwandb\u001b[0m: \tnum_epochs: 100\n",
      "\u001b[34m\u001b[1mwandb\u001b[0m: \tweight_decay: 0\n"
     ]
    },
    {
     "data": {
      "text/html": [
       "Tracking run with wandb version 0.19.0"
      ],
      "text/plain": [
       "<IPython.core.display.HTML object>"
      ]
     },
     "metadata": {},
     "output_type": "display_data"
    },
    {
     "data": {
      "text/html": [
       "Run data is saved locally in <code>/home/users/yucli/sicpred/wandb/run-20250525_200158-ymgvvfce</code>"
      ],
      "text/plain": [
       "<IPython.core.display.HTML object>"
      ]
     },
     "metadata": {},
     "output_type": "display_data"
    },
    {
     "data": {
      "text/html": [
       "Syncing run <strong><a href='https://wandb.ai/ychnli-stanford-university/sea-ice-prediction/runs/ymgvvfce' target=\"_blank\">dazzling-sweep-3</a></strong> to <a href='https://wandb.ai/ychnli-stanford-university/sea-ice-prediction' target=\"_blank\">Weights & Biases</a> (<a href='https://wandb.me/developer-guide' target=\"_blank\">docs</a>)<br/>Sweep page: <a href='https://wandb.ai/ychnli-stanford-university/sea-ice-prediction/sweeps/ig2sril5' target=\"_blank\">https://wandb.ai/ychnli-stanford-university/sea-ice-prediction/sweeps/ig2sril5</a>"
      ],
      "text/plain": [
       "<IPython.core.display.HTML object>"
      ]
     },
     "metadata": {},
     "output_type": "display_data"
    },
    {
     "data": {
      "text/html": [
       " View project at <a href='https://wandb.ai/ychnli-stanford-university/sea-ice-prediction' target=\"_blank\">https://wandb.ai/ychnli-stanford-university/sea-ice-prediction</a>"
      ],
      "text/plain": [
       "<IPython.core.display.HTML object>"
      ]
     },
     "metadata": {},
     "output_type": "display_data"
    },
    {
     "data": {
      "text/html": [
       " View sweep at <a href='https://wandb.ai/ychnli-stanford-university/sea-ice-prediction/sweeps/ig2sril5' target=\"_blank\">https://wandb.ai/ychnli-stanford-university/sea-ice-prediction/sweeps/ig2sril5</a>"
      ],
      "text/plain": [
       "<IPython.core.display.HTML object>"
      ]
     },
     "metadata": {},
     "output_type": "display_data"
    },
    {
     "data": {
      "text/html": [
       " View run at <a href='https://wandb.ai/ychnli-stanford-university/sea-ice-prediction/runs/ymgvvfce' target=\"_blank\">https://wandb.ai/ychnli-stanford-university/sea-ice-prediction/runs/ymgvvfce</a>"
      ],
      "text/plain": [
       "<IPython.core.display.HTML object>"
      ]
     },
     "metadata": {},
     "output_type": "display_data"
    },
    {
     "name": "stderr",
     "output_type": "stream",
     "text": [
      "Epoch 0/100 [Train]: 100%|██████████| 8/8 [00:01<00:00,  4.67it/s, Batch Loss=0.0134]\n",
      "Epoch 0/100 [Val]: 100%|██████████| 2/2 [00:00<00:00, 11.06it/s, Batch RMSE=0.093] \n",
      "Epoch 1/100 [Train]: 100%|██████████| 8/8 [00:01<00:00,  4.87it/s, Batch Loss=0.0105]\n",
      "Epoch 1/100 [Val]: 100%|██████████| 2/2 [00:00<00:00, 11.79it/s, Batch RMSE=0.0925]\n",
      "Epoch 2/100 [Train]: 100%|██████████| 8/8 [00:02<00:00,  3.70it/s, Batch Loss=0.00955]\n",
      "Epoch 2/100 [Val]: 100%|██████████| 2/2 [00:00<00:00,  9.73it/s, Batch RMSE=0.0895]\n",
      "Epoch 3/100 [Train]: 100%|██████████| 8/8 [00:02<00:00,  3.99it/s, Batch Loss=0.00886]\n",
      "Epoch 3/100 [Val]: 100%|██████████| 2/2 [00:00<00:00, 11.07it/s, Batch RMSE=0.0869]\n",
      "Epoch 4/100 [Train]: 100%|██████████| 8/8 [00:02<00:00,  3.88it/s, Batch Loss=0.00786]\n",
      "Epoch 4/100 [Val]: 100%|██████████| 2/2 [00:00<00:00,  9.68it/s, Batch RMSE=0.0888]\n",
      "Epoch 5/100 [Train]: 100%|██████████| 8/8 [00:02<00:00,  3.85it/s, Batch Loss=0.007]  \n",
      "Epoch 5/100 [Val]: 100%|██████████| 2/2 [00:00<00:00,  9.98it/s, Batch RMSE=0.0961]\n",
      "Epoch 6/100 [Train]: 100%|██████████| 8/8 [00:02<00:00,  3.91it/s, Batch Loss=0.00697]\n",
      "Epoch 6/100 [Val]: 100%|██████████| 2/2 [00:00<00:00,  9.61it/s, Batch RMSE=0.0859]\n",
      "Epoch 7/100 [Train]: 100%|██████████| 8/8 [00:02<00:00,  3.51it/s, Batch Loss=0.00704]\n",
      "Epoch 7/100 [Val]: 100%|██████████| 2/2 [00:00<00:00,  8.14it/s, Batch RMSE=0.0867]\n",
      "Epoch 8/100 [Train]: 100%|██████████| 8/8 [00:02<00:00,  3.68it/s, Batch Loss=0.00661]\n",
      "Epoch 8/100 [Val]: 100%|██████████| 2/2 [00:00<00:00,  9.83it/s, Batch RMSE=0.0882]\n",
      "Epoch 9/100 [Train]: 100%|██████████| 8/8 [00:02<00:00,  3.75it/s, Batch Loss=0.00671]\n",
      "Epoch 9/100 [Val]: 100%|██████████| 2/2 [00:00<00:00,  8.68it/s, Batch RMSE=0.0834]\n",
      "Epoch 10/100 [Train]: 100%|██████████| 8/8 [00:02<00:00,  3.82it/s, Batch Loss=0.00551]\n",
      "Epoch 10/100 [Val]: 100%|██████████| 2/2 [00:00<00:00,  9.48it/s, Batch RMSE=0.0851]\n",
      "Epoch 11/100 [Train]: 100%|██████████| 8/8 [00:01<00:00,  4.24it/s, Batch Loss=0.0056] \n",
      "Epoch 11/100 [Val]: 100%|██████████| 2/2 [00:00<00:00,  9.91it/s, Batch RMSE=0.0871]\n",
      "Epoch 12/100 [Train]: 100%|██████████| 8/8 [00:02<00:00,  2.97it/s, Batch Loss=0.00554]\n",
      "Epoch 12/100 [Val]: 100%|██████████| 2/2 [00:00<00:00, 11.15it/s, Batch RMSE=0.0853]\n",
      "Epoch 13/100 [Train]: 100%|██████████| 8/8 [00:02<00:00,  3.36it/s, Batch Loss=0.00498]\n",
      "Epoch 13/100 [Val]: 100%|██████████| 2/2 [00:00<00:00,  9.37it/s, Batch RMSE=0.0861]\n",
      "Epoch 14/100 [Train]: 100%|██████████| 8/8 [00:02<00:00,  3.67it/s, Batch Loss=0.00501]\n",
      "Epoch 14/100 [Val]: 100%|██████████| 2/2 [00:00<00:00,  9.87it/s, Batch RMSE=0.0852]\n"
     ]
    },
    {
     "name": "stdout",
     "output_type": "stream",
     "text": [
      "Early stopping triggered at epoch 15\n"
     ]
    },
    {
     "data": {
      "text/html": [
       "\n",
       "    <style>\n",
       "        .wandb-row {\n",
       "            display: flex;\n",
       "            flex-direction: row;\n",
       "            flex-wrap: wrap;\n",
       "            justify-content: flex-start;\n",
       "            width: 100%;\n",
       "        }\n",
       "        .wandb-col {\n",
       "            display: flex;\n",
       "            flex-direction: column;\n",
       "            flex-basis: 100%;\n",
       "            flex: 1;\n",
       "            padding: 10px;\n",
       "        }\n",
       "    </style>\n",
       "<div class=\"wandb-row\"><div class=\"wandb-col\"><h3>Run history:</h3><br/><table class=\"wandb\"><tr><td>best_val_rmse</td><td>█▆▃▂▂▂▂▂▂▁▁▁▁▁</td></tr><tr><td>epoch</td><td>▁▁▂▃▃▃▄▅▅▅▆▇▇▇█</td></tr><tr><td>epoch_train_loss</td><td>█▅▄▄▃▃▂▂▂▂▂▁▁▁▁</td></tr><tr><td>epoch_val_loss</td><td>██▄▃▄▆▃▃▄▁▂▃▂▂▂</td></tr><tr><td>epoch_val_rmse</td><td>█▆▃▂▂▃▂▃▂▁▂▂▂▁▂</td></tr><tr><td>lr</td><td>████▇▇▇▆▆▅▄▄▃▂▁</td></tr><tr><td>train_loss</td><td>█▇▇▅▅▅▄▄▄▄▄▃▃▃▃▃▂▂▂▂▂▂▂▂▂▂▂▂▂▂▂▁▂▁▁▁▁▁▁▁</td></tr><tr><td>val_loss</td><td>▄▇▃█▂▆▂▅▁▆▂█▁▅▂▅▁▆▁▄▁▅▁▅▁▅▁▅▂▅</td></tr><tr><td>val_rmse</td><td>█▆▆▆▄▄▃▃▂▄▃█▂▂▄▃▂▄▁▁▂▂▂▃▂▂▁▃▂▂</td></tr></table><br/></div><div class=\"wandb-col\"><h3>Run summary:</h3><br/><table class=\"wandb\"><tr><td>best_val_rmse</td><td>0.08401</td></tr><tr><td>epoch</td><td>14</td></tr><tr><td>epoch_train_loss</td><td>0.00485</td></tr><tr><td>epoch_val_loss</td><td>0.01246</td></tr><tr><td>epoch_val_rmse</td><td>0.08516</td></tr><tr><td>lr</td><td>0.0047</td></tr><tr><td>train_loss</td><td>0.00501</td></tr><tr><td>val_loss</td><td>0.01394</td></tr><tr><td>val_rmse</td><td>0.08519</td></tr></table><br/></div></div>"
      ],
      "text/plain": [
       "<IPython.core.display.HTML object>"
      ]
     },
     "metadata": {},
     "output_type": "display_data"
    },
    {
     "data": {
      "text/html": [
       " View run <strong style=\"color:#cdcd00\">dazzling-sweep-3</strong> at: <a href='https://wandb.ai/ychnli-stanford-university/sea-ice-prediction/runs/ymgvvfce' target=\"_blank\">https://wandb.ai/ychnli-stanford-university/sea-ice-prediction/runs/ymgvvfce</a><br/> View project at: <a href='https://wandb.ai/ychnli-stanford-university/sea-ice-prediction' target=\"_blank\">https://wandb.ai/ychnli-stanford-university/sea-ice-prediction</a><br/>Synced 4 W&B file(s), 0 media file(s), 0 artifact file(s) and 0 other file(s)"
      ],
      "text/plain": [
       "<IPython.core.display.HTML object>"
      ]
     },
     "metadata": {},
     "output_type": "display_data"
    },
    {
     "data": {
      "text/html": [
       "Find logs at: <code>./wandb/run-20250525_200158-ymgvvfce/logs</code>"
      ],
      "text/plain": [
       "<IPython.core.display.HTML object>"
      ]
     },
     "metadata": {},
     "output_type": "display_data"
    },
    {
     "name": "stderr",
     "output_type": "stream",
     "text": [
      "\u001b[34m\u001b[1mwandb\u001b[0m: Agent Starting Run: ipmfb7s8 with config:\n",
      "\u001b[34m\u001b[1mwandb\u001b[0m: \tbatch_size: 50\n",
      "\u001b[34m\u001b[1mwandb\u001b[0m: \tloss_function_args: 1\n",
      "\u001b[34m\u001b[1mwandb\u001b[0m: \tlr: 0.002537022582424797\n",
      "\u001b[34m\u001b[1mwandb\u001b[0m: \tnum_epochs: 100\n",
      "\u001b[34m\u001b[1mwandb\u001b[0m: \tweight_decay: 0\n"
     ]
    },
    {
     "data": {
      "text/html": [
       "Tracking run with wandb version 0.19.0"
      ],
      "text/plain": [
       "<IPython.core.display.HTML object>"
      ]
     },
     "metadata": {},
     "output_type": "display_data"
    },
    {
     "data": {
      "text/html": [
       "Run data is saved locally in <code>/home/users/yucli/sicpred/wandb/run-20250525_200244-ipmfb7s8</code>"
      ],
      "text/plain": [
       "<IPython.core.display.HTML object>"
      ]
     },
     "metadata": {},
     "output_type": "display_data"
    },
    {
     "data": {
      "text/html": [
       "Syncing run <strong><a href='https://wandb.ai/ychnli-stanford-university/sea-ice-prediction/runs/ipmfb7s8' target=\"_blank\">curious-sweep-4</a></strong> to <a href='https://wandb.ai/ychnli-stanford-university/sea-ice-prediction' target=\"_blank\">Weights & Biases</a> (<a href='https://wandb.me/developer-guide' target=\"_blank\">docs</a>)<br/>Sweep page: <a href='https://wandb.ai/ychnli-stanford-university/sea-ice-prediction/sweeps/ig2sril5' target=\"_blank\">https://wandb.ai/ychnli-stanford-university/sea-ice-prediction/sweeps/ig2sril5</a>"
      ],
      "text/plain": [
       "<IPython.core.display.HTML object>"
      ]
     },
     "metadata": {},
     "output_type": "display_data"
    },
    {
     "data": {
      "text/html": [
       " View project at <a href='https://wandb.ai/ychnli-stanford-university/sea-ice-prediction' target=\"_blank\">https://wandb.ai/ychnli-stanford-university/sea-ice-prediction</a>"
      ],
      "text/plain": [
       "<IPython.core.display.HTML object>"
      ]
     },
     "metadata": {},
     "output_type": "display_data"
    },
    {
     "data": {
      "text/html": [
       " View sweep at <a href='https://wandb.ai/ychnli-stanford-university/sea-ice-prediction/sweeps/ig2sril5' target=\"_blank\">https://wandb.ai/ychnli-stanford-university/sea-ice-prediction/sweeps/ig2sril5</a>"
      ],
      "text/plain": [
       "<IPython.core.display.HTML object>"
      ]
     },
     "metadata": {},
     "output_type": "display_data"
    },
    {
     "data": {
      "text/html": [
       " View run at <a href='https://wandb.ai/ychnli-stanford-university/sea-ice-prediction/runs/ipmfb7s8' target=\"_blank\">https://wandb.ai/ychnli-stanford-university/sea-ice-prediction/runs/ipmfb7s8</a>"
      ],
      "text/plain": [
       "<IPython.core.display.HTML object>"
      ]
     },
     "metadata": {},
     "output_type": "display_data"
    },
    {
     "name": "stderr",
     "output_type": "stream",
     "text": [
      "Epoch 0/100 [Train]: 100%|██████████| 8/8 [00:02<00:00,  3.70it/s, Batch Loss=0.0114]\n",
      "Epoch 0/100 [Val]: 100%|██████████| 2/2 [00:00<00:00,  8.59it/s, Batch RMSE=0.0872]\n",
      "Epoch 1/100 [Train]: 100%|██████████| 8/8 [00:02<00:00,  3.74it/s, Batch Loss=0.00861]\n",
      "Epoch 1/100 [Val]: 100%|██████████| 2/2 [00:00<00:00,  9.30it/s, Batch RMSE=0.0853]\n",
      "Epoch 2/100 [Train]: 100%|██████████| 8/8 [00:02<00:00,  3.75it/s, Batch Loss=0.00812]\n",
      "Epoch 2/100 [Val]: 100%|██████████| 2/2 [00:00<00:00,  9.85it/s, Batch RMSE=0.084] \n",
      "Epoch 3/100 [Train]: 100%|██████████| 8/8 [00:02<00:00,  3.84it/s, Batch Loss=0.00837]\n",
      "Epoch 3/100 [Val]: 100%|██████████| 2/2 [00:00<00:00,  9.38it/s, Batch RMSE=0.0826]\n",
      "Epoch 4/100 [Train]: 100%|██████████| 8/8 [00:02<00:00,  3.53it/s, Batch Loss=0.00788]\n",
      "Epoch 4/100 [Val]: 100%|██████████| 2/2 [00:00<00:00,  9.29it/s, Batch RMSE=0.087] \n",
      "Epoch 5/100 [Train]: 100%|██████████| 8/8 [00:02<00:00,  3.84it/s, Batch Loss=0.00671]\n",
      "Epoch 5/100 [Val]: 100%|██████████| 2/2 [00:00<00:00,  9.64it/s, Batch RMSE=0.0847]\n",
      "Epoch 6/100 [Train]: 100%|██████████| 8/8 [00:02<00:00,  3.87it/s, Batch Loss=0.0066] \n",
      "Epoch 6/100 [Val]: 100%|██████████| 2/2 [00:00<00:00,  9.70it/s, Batch RMSE=0.0862]\n",
      "Epoch 7/100 [Train]: 100%|██████████| 8/8 [00:02<00:00,  3.85it/s, Batch Loss=0.00613]\n",
      "Epoch 7/100 [Val]: 100%|██████████| 2/2 [00:00<00:00,  9.39it/s, Batch RMSE=0.0853]\n",
      "Epoch 8/100 [Train]: 100%|██████████| 8/8 [00:02<00:00,  3.88it/s, Batch Loss=0.00586]\n",
      "Epoch 8/100 [Val]: 100%|██████████| 2/2 [00:00<00:00,  9.37it/s, Batch RMSE=0.0855]\n",
      "Epoch 9/100 [Train]: 100%|██████████| 8/8 [00:02<00:00,  3.83it/s, Batch Loss=0.00539]\n",
      "Epoch 9/100 [Val]: 100%|██████████| 2/2 [00:00<00:00,  8.55it/s, Batch RMSE=0.0852]\n",
      "Epoch 10/100 [Train]: 100%|██████████| 8/8 [00:02<00:00,  3.88it/s, Batch Loss=0.00512]\n",
      "Epoch 10/100 [Val]: 100%|██████████| 2/2 [00:00<00:00,  9.93it/s, Batch RMSE=0.0859]\n",
      "Epoch 11/100 [Train]: 100%|██████████| 8/8 [00:02<00:00,  3.80it/s, Batch Loss=0.00523]\n",
      "Epoch 11/100 [Val]: 100%|██████████| 2/2 [00:00<00:00,  9.64it/s, Batch RMSE=0.0867]\n",
      "Epoch 12/100 [Train]: 100%|██████████| 8/8 [00:02<00:00,  3.83it/s, Batch Loss=0.00472]\n",
      "Epoch 12/100 [Val]: 100%|██████████| 2/2 [00:00<00:00,  9.82it/s, Batch RMSE=0.09]  \n"
     ]
    },
    {
     "name": "stdout",
     "output_type": "stream",
     "text": [
      "Early stopping triggered at epoch 13\n"
     ]
    },
    {
     "data": {
      "text/html": [
       "\n",
       "    <style>\n",
       "        .wandb-row {\n",
       "            display: flex;\n",
       "            flex-direction: row;\n",
       "            flex-wrap: wrap;\n",
       "            justify-content: flex-start;\n",
       "            width: 100%;\n",
       "        }\n",
       "        .wandb-col {\n",
       "            display: flex;\n",
       "            flex-direction: column;\n",
       "            flex-basis: 100%;\n",
       "            flex: 1;\n",
       "            padding: 10px;\n",
       "        }\n",
       "    </style>\n",
       "<div class=\"wandb-row\"><div class=\"wandb-col\"><h3>Run history:</h3><br/><table class=\"wandb\"><tr><td>best_val_rmse</td><td>█▄▂▁▁▁▁▁▁▁▁▁</td></tr><tr><td>epoch</td><td>▁▂▂▃▃▄▅▅▆▆▇▇█</td></tr><tr><td>epoch_train_loss</td><td>█▆▄▄▃▃▂▂▂▂▁▁▁</td></tr><tr><td>epoch_val_loss</td><td>█▄▂▁▅▂▄▃▃▂▃▄█</td></tr><tr><td>epoch_val_rmse</td><td>█▄▂▁▂▁▂▁▂▂▂▂▄</td></tr><tr><td>lr</td><td>████▇▇▆▆▅▄▃▂▁</td></tr><tr><td>train_loss</td><td>█▆▆▄▄▃▃▃▃▃▂▂▂▂▂▂▂▂▂▂▁▂▁▂▂▂▁▁▁▁▁▁▁▁▁▁▁▁▁▁</td></tr><tr><td>val_loss</td><td>▃▇▂▆▁▅▁▅▁▇▁▆▁▇▁▆▁▆▁▆▁▆▁▆▂█</td></tr><tr><td>val_rmse</td><td>█▅▅▃▃▂▂▁▃▅▂▃▂▄▂▃▂▄▂▃▂▄▃▄▄▇</td></tr></table><br/></div><div class=\"wandb-col\"><h3>Run summary:</h3><br/><table class=\"wandb\"><tr><td>best_val_rmse</td><td>0.08352</td></tr><tr><td>epoch</td><td>12</td></tr><tr><td>epoch_train_loss</td><td>0.00487</td></tr><tr><td>epoch_val_loss</td><td>0.01368</td></tr><tr><td>epoch_val_rmse</td><td>0.08692</td></tr><tr><td>lr</td><td>0.00245</td></tr><tr><td>train_loss</td><td>0.00472</td></tr><tr><td>val_loss</td><td>0.0159</td></tr><tr><td>val_rmse</td><td>0.09003</td></tr></table><br/></div></div>"
      ],
      "text/plain": [
       "<IPython.core.display.HTML object>"
      ]
     },
     "metadata": {},
     "output_type": "display_data"
    },
    {
     "data": {
      "text/html": [
       " View run <strong style=\"color:#cdcd00\">curious-sweep-4</strong> at: <a href='https://wandb.ai/ychnli-stanford-university/sea-ice-prediction/runs/ipmfb7s8' target=\"_blank\">https://wandb.ai/ychnli-stanford-university/sea-ice-prediction/runs/ipmfb7s8</a><br/> View project at: <a href='https://wandb.ai/ychnli-stanford-university/sea-ice-prediction' target=\"_blank\">https://wandb.ai/ychnli-stanford-university/sea-ice-prediction</a><br/>Synced 4 W&B file(s), 0 media file(s), 0 artifact file(s) and 0 other file(s)"
      ],
      "text/plain": [
       "<IPython.core.display.HTML object>"
      ]
     },
     "metadata": {},
     "output_type": "display_data"
    },
    {
     "data": {
      "text/html": [
       "Find logs at: <code>./wandb/run-20250525_200244-ipmfb7s8/logs</code>"
      ],
      "text/plain": [
       "<IPython.core.display.HTML object>"
      ]
     },
     "metadata": {},
     "output_type": "display_data"
    },
    {
     "name": "stderr",
     "output_type": "stream",
     "text": [
      "\u001b[34m\u001b[1mwandb\u001b[0m: Agent Starting Run: hn2x8jqq with config:\n",
      "\u001b[34m\u001b[1mwandb\u001b[0m: \tbatch_size: 20\n",
      "\u001b[34m\u001b[1mwandb\u001b[0m: \tloss_function_args: 1\n",
      "\u001b[34m\u001b[1mwandb\u001b[0m: \tlr: 0.0031188575455158973\n",
      "\u001b[34m\u001b[1mwandb\u001b[0m: \tnum_epochs: 100\n",
      "\u001b[34m\u001b[1mwandb\u001b[0m: \tweight_decay: 0\n"
     ]
    },
    {
     "data": {
      "text/html": [
       "Tracking run with wandb version 0.19.0"
      ],
      "text/plain": [
       "<IPython.core.display.HTML object>"
      ]
     },
     "metadata": {},
     "output_type": "display_data"
    },
    {
     "data": {
      "text/html": [
       "Run data is saved locally in <code>/home/users/yucli/sicpred/wandb/run-20250525_200320-hn2x8jqq</code>"
      ],
      "text/plain": [
       "<IPython.core.display.HTML object>"
      ]
     },
     "metadata": {},
     "output_type": "display_data"
    },
    {
     "data": {
      "text/html": [
       "Syncing run <strong><a href='https://wandb.ai/ychnli-stanford-university/sea-ice-prediction/runs/hn2x8jqq' target=\"_blank\">gallant-sweep-5</a></strong> to <a href='https://wandb.ai/ychnli-stanford-university/sea-ice-prediction' target=\"_blank\">Weights & Biases</a> (<a href='https://wandb.me/developer-guide' target=\"_blank\">docs</a>)<br/>Sweep page: <a href='https://wandb.ai/ychnli-stanford-university/sea-ice-prediction/sweeps/ig2sril5' target=\"_blank\">https://wandb.ai/ychnli-stanford-university/sea-ice-prediction/sweeps/ig2sril5</a>"
      ],
      "text/plain": [
       "<IPython.core.display.HTML object>"
      ]
     },
     "metadata": {},
     "output_type": "display_data"
    },
    {
     "data": {
      "text/html": [
       " View project at <a href='https://wandb.ai/ychnli-stanford-university/sea-ice-prediction' target=\"_blank\">https://wandb.ai/ychnli-stanford-university/sea-ice-prediction</a>"
      ],
      "text/plain": [
       "<IPython.core.display.HTML object>"
      ]
     },
     "metadata": {},
     "output_type": "display_data"
    },
    {
     "data": {
      "text/html": [
       " View sweep at <a href='https://wandb.ai/ychnli-stanford-university/sea-ice-prediction/sweeps/ig2sril5' target=\"_blank\">https://wandb.ai/ychnli-stanford-university/sea-ice-prediction/sweeps/ig2sril5</a>"
      ],
      "text/plain": [
       "<IPython.core.display.HTML object>"
      ]
     },
     "metadata": {},
     "output_type": "display_data"
    },
    {
     "data": {
      "text/html": [
       " View run at <a href='https://wandb.ai/ychnli-stanford-university/sea-ice-prediction/runs/hn2x8jqq' target=\"_blank\">https://wandb.ai/ychnli-stanford-university/sea-ice-prediction/runs/hn2x8jqq</a>"
      ],
      "text/plain": [
       "<IPython.core.display.HTML object>"
      ]
     },
     "metadata": {},
     "output_type": "display_data"
    },
    {
     "name": "stderr",
     "output_type": "stream",
     "text": [
      "Epoch 0/100 [Train]: 100%|██████████| 19/19 [00:02<00:00,  8.46it/s, Batch Loss=0.0107] \n",
      "Epoch 0/100 [Val]: 100%|██████████| 3/3 [00:00<00:00,  7.53it/s, Batch RMSE=0.0847]\n",
      "Epoch 1/100 [Train]: 100%|██████████| 19/19 [00:02<00:00,  7.34it/s, Batch Loss=0.00895]\n",
      "Epoch 1/100 [Val]: 100%|██████████| 3/3 [00:00<00:00, 13.77it/s, Batch RMSE=0.0813]\n",
      "Epoch 2/100 [Train]: 100%|██████████| 19/19 [00:02<00:00,  7.60it/s, Batch Loss=0.00706]\n",
      "Epoch 2/100 [Val]: 100%|██████████| 3/3 [00:00<00:00, 13.78it/s, Batch RMSE=0.0823]\n",
      "Epoch 3/100 [Train]: 100%|██████████| 19/19 [00:02<00:00,  7.55it/s, Batch Loss=0.00758]\n",
      "Epoch 3/100 [Val]: 100%|██████████| 3/3 [00:00<00:00, 13.77it/s, Batch RMSE=0.0822]\n",
      "Epoch 4/100 [Train]: 100%|██████████| 19/19 [00:02<00:00,  7.42it/s, Batch Loss=0.00742]\n",
      "Epoch 4/100 [Val]: 100%|██████████| 3/3 [00:00<00:00, 12.98it/s, Batch RMSE=0.082] \n",
      "Epoch 5/100 [Train]: 100%|██████████| 19/19 [00:02<00:00,  8.54it/s, Batch Loss=0.00631]\n",
      "Epoch 5/100 [Val]: 100%|██████████| 3/3 [00:00<00:00,  8.41it/s, Batch RMSE=0.0834]\n",
      "Epoch 6/100 [Train]: 100%|██████████| 19/19 [00:02<00:00,  8.41it/s, Batch Loss=0.00551]\n",
      "Epoch 6/100 [Val]: 100%|██████████| 3/3 [00:00<00:00, 13.18it/s, Batch RMSE=0.0797]\n",
      "Epoch 7/100 [Train]: 100%|██████████| 19/19 [00:02<00:00,  8.74it/s, Batch Loss=0.00556]\n",
      "Epoch 7/100 [Val]: 100%|██████████| 3/3 [00:00<00:00, 13.73it/s, Batch RMSE=0.0821]\n",
      "Epoch 8/100 [Train]: 100%|██████████| 19/19 [00:02<00:00,  8.53it/s, Batch Loss=0.00536]\n",
      "Epoch 8/100 [Val]: 100%|██████████| 3/3 [00:00<00:00, 14.19it/s, Batch RMSE=0.0816]\n",
      "Epoch 9/100 [Train]: 100%|██████████| 19/19 [00:02<00:00,  8.72it/s, Batch Loss=0.00547]\n",
      "Epoch 9/100 [Val]: 100%|██████████| 3/3 [00:00<00:00, 14.23it/s, Batch RMSE=0.0807]\n",
      "Epoch 10/100 [Train]: 100%|██████████| 19/19 [00:02<00:00,  8.14it/s, Batch Loss=0.0046] \n",
      "Epoch 10/100 [Val]: 100%|██████████| 3/3 [00:00<00:00, 13.92it/s, Batch RMSE=0.0825]\n",
      "Epoch 11/100 [Train]: 100%|██████████| 19/19 [00:02<00:00,  8.67it/s, Batch Loss=0.00464]\n",
      "Epoch 11/100 [Val]: 100%|██████████| 3/3 [00:00<00:00, 14.07it/s, Batch RMSE=0.0845]\n"
     ]
    },
    {
     "name": "stdout",
     "output_type": "stream",
     "text": [
      "Early stopping triggered at epoch 12\n"
     ]
    },
    {
     "data": {
      "text/html": [
       "\n",
       "    <style>\n",
       "        .wandb-row {\n",
       "            display: flex;\n",
       "            flex-direction: row;\n",
       "            flex-wrap: wrap;\n",
       "            justify-content: flex-start;\n",
       "            width: 100%;\n",
       "        }\n",
       "        .wandb-col {\n",
       "            display: flex;\n",
       "            flex-direction: column;\n",
       "            flex-basis: 100%;\n",
       "            flex: 1;\n",
       "            padding: 10px;\n",
       "        }\n",
       "    </style>\n",
       "<div class=\"wandb-row\"><div class=\"wandb-col\"><h3>Run history:</h3><br/><table class=\"wandb\"><tr><td>best_val_rmse</td><td>█▃▂▁▁▁▁▁▁▁▁</td></tr><tr><td>epoch</td><td>▁▂▂▃▄▄▅▅▆▇▇█</td></tr><tr><td>epoch_train_loss</td><td>█▅▄▄▃▃▂▂▂▁▁▁</td></tr><tr><td>epoch_val_loss</td><td>█▂▁▂▃▆▁▃▃▂▄▅</td></tr><tr><td>epoch_val_rmse</td><td>█▃▂▁▂▄▁▃▃▂▃▅</td></tr><tr><td>lr</td><td>███▇▇▇▆▅▄▃▂▁</td></tr><tr><td>train_loss</td><td>█▆▄▄▃▄▃▃▃▃▃▃▃▄▃▃▂▂▂▂▂▂▂▂▂▂▂▂▂▂▁▁▁▁▁▁▁▁▁▁</td></tr><tr><td>val_loss</td><td>▇▄▅▅▃▃▅▁▃▅▂▃▆▃▃█▂▄▇▁▂▆▂▃▇▂▃▆▂▂▇▂▃▇▂▄</td></tr><tr><td>val_rmse</td><td>█▇▄▆▅▂▆▃▃▆▃▃▆▄▂█▃▃▇▃▁▇▄▃▇▃▂▇▄▂▇▄▃▇▄▄</td></tr></table><br/></div><div class=\"wandb-col\"><h3>Run summary:</h3><br/><table class=\"wandb\"><tr><td>best_val_rmse</td><td>0.08411</td></tr><tr><td>epoch</td><td>11</td></tr><tr><td>epoch_train_loss</td><td>0.00463</td></tr><tr><td>epoch_val_loss</td><td>0.01148</td></tr><tr><td>epoch_val_rmse</td><td>0.08661</td></tr><tr><td>lr</td><td>0.00303</td></tr><tr><td>train_loss</td><td>0.00464</td></tr><tr><td>val_loss</td><td>0.01123</td></tr><tr><td>val_rmse</td><td>0.08455</td></tr></table><br/></div></div>"
      ],
      "text/plain": [
       "<IPython.core.display.HTML object>"
      ]
     },
     "metadata": {},
     "output_type": "display_data"
    },
    {
     "data": {
      "text/html": [
       " View run <strong style=\"color:#cdcd00\">gallant-sweep-5</strong> at: <a href='https://wandb.ai/ychnli-stanford-university/sea-ice-prediction/runs/hn2x8jqq' target=\"_blank\">https://wandb.ai/ychnli-stanford-university/sea-ice-prediction/runs/hn2x8jqq</a><br/> View project at: <a href='https://wandb.ai/ychnli-stanford-university/sea-ice-prediction' target=\"_blank\">https://wandb.ai/ychnli-stanford-university/sea-ice-prediction</a><br/>Synced 4 W&B file(s), 0 media file(s), 0 artifact file(s) and 0 other file(s)"
      ],
      "text/plain": [
       "<IPython.core.display.HTML object>"
      ]
     },
     "metadata": {},
     "output_type": "display_data"
    },
    {
     "data": {
      "text/html": [
       "Find logs at: <code>./wandb/run-20250525_200320-hn2x8jqq/logs</code>"
      ],
      "text/plain": [
       "<IPython.core.display.HTML object>"
      ]
     },
     "metadata": {},
     "output_type": "display_data"
    },
    {
     "name": "stderr",
     "output_type": "stream",
     "text": [
      "\u001b[34m\u001b[1mwandb\u001b[0m: Agent Starting Run: 84gf7rl7 with config:\n",
      "\u001b[34m\u001b[1mwandb\u001b[0m: \tbatch_size: 20\n",
      "\u001b[34m\u001b[1mwandb\u001b[0m: \tloss_function_args: 1\n",
      "\u001b[34m\u001b[1mwandb\u001b[0m: \tlr: 0.0004054230010205445\n",
      "\u001b[34m\u001b[1mwandb\u001b[0m: \tnum_epochs: 100\n",
      "\u001b[34m\u001b[1mwandb\u001b[0m: \tweight_decay: 0\n"
     ]
    },
    {
     "data": {
      "text/html": [
       "Tracking run with wandb version 0.19.0"
      ],
      "text/plain": [
       "<IPython.core.display.HTML object>"
      ]
     },
     "metadata": {},
     "output_type": "display_data"
    },
    {
     "data": {
      "text/html": [
       "Run data is saved locally in <code>/home/users/yucli/sicpred/wandb/run-20250525_200400-84gf7rl7</code>"
      ],
      "text/plain": [
       "<IPython.core.display.HTML object>"
      ]
     },
     "metadata": {},
     "output_type": "display_data"
    },
    {
     "data": {
      "text/html": [
       "Syncing run <strong><a href='https://wandb.ai/ychnli-stanford-university/sea-ice-prediction/runs/84gf7rl7' target=\"_blank\">dashing-sweep-6</a></strong> to <a href='https://wandb.ai/ychnli-stanford-university/sea-ice-prediction' target=\"_blank\">Weights & Biases</a> (<a href='https://wandb.me/developer-guide' target=\"_blank\">docs</a>)<br/>Sweep page: <a href='https://wandb.ai/ychnli-stanford-university/sea-ice-prediction/sweeps/ig2sril5' target=\"_blank\">https://wandb.ai/ychnli-stanford-university/sea-ice-prediction/sweeps/ig2sril5</a>"
      ],
      "text/plain": [
       "<IPython.core.display.HTML object>"
      ]
     },
     "metadata": {},
     "output_type": "display_data"
    },
    {
     "data": {
      "text/html": [
       " View project at <a href='https://wandb.ai/ychnli-stanford-university/sea-ice-prediction' target=\"_blank\">https://wandb.ai/ychnli-stanford-university/sea-ice-prediction</a>"
      ],
      "text/plain": [
       "<IPython.core.display.HTML object>"
      ]
     },
     "metadata": {},
     "output_type": "display_data"
    },
    {
     "data": {
      "text/html": [
       " View sweep at <a href='https://wandb.ai/ychnli-stanford-university/sea-ice-prediction/sweeps/ig2sril5' target=\"_blank\">https://wandb.ai/ychnli-stanford-university/sea-ice-prediction/sweeps/ig2sril5</a>"
      ],
      "text/plain": [
       "<IPython.core.display.HTML object>"
      ]
     },
     "metadata": {},
     "output_type": "display_data"
    },
    {
     "data": {
      "text/html": [
       " View run at <a href='https://wandb.ai/ychnli-stanford-university/sea-ice-prediction/runs/84gf7rl7' target=\"_blank\">https://wandb.ai/ychnli-stanford-university/sea-ice-prediction/runs/84gf7rl7</a>"
      ],
      "text/plain": [
       "<IPython.core.display.HTML object>"
      ]
     },
     "metadata": {},
     "output_type": "display_data"
    },
    {
     "name": "stderr",
     "output_type": "stream",
     "text": [
      "Epoch 0/100 [Train]: 100%|██████████| 19/19 [00:02<00:00,  8.46it/s, Batch Loss=0.0104]\n",
      "Epoch 0/100 [Val]: 100%|██████████| 3/3 [00:00<00:00, 12.29it/s, Batch RMSE=0.0875]\n",
      "Epoch 1/100 [Train]: 100%|██████████| 19/19 [00:02<00:00,  8.43it/s, Batch Loss=0.0103] \n",
      "Epoch 1/100 [Val]: 100%|██████████| 3/3 [00:00<00:00, 13.45it/s, Batch RMSE=0.0832]\n",
      "Epoch 2/100 [Train]: 100%|██████████| 19/19 [00:02<00:00,  8.63it/s, Batch Loss=0.00776]\n",
      "Epoch 2/100 [Val]: 100%|██████████| 3/3 [00:00<00:00, 13.42it/s, Batch RMSE=0.0818]\n",
      "Epoch 3/100 [Train]: 100%|██████████| 19/19 [00:02<00:00,  9.15it/s, Batch Loss=0.00953]\n",
      "Epoch 3/100 [Val]: 100%|██████████| 3/3 [00:00<00:00, 13.34it/s, Batch RMSE=0.0815]\n",
      "Epoch 4/100 [Train]: 100%|██████████| 19/19 [00:02<00:00,  8.88it/s, Batch Loss=0.00792]\n",
      "Epoch 4/100 [Val]: 100%|██████████| 3/3 [00:00<00:00, 13.87it/s, Batch RMSE=0.0809]\n",
      "Epoch 5/100 [Train]: 100%|██████████| 19/19 [00:01<00:00,  9.70it/s, Batch Loss=0.00835]\n",
      "Epoch 5/100 [Val]: 100%|██████████| 3/3 [00:00<00:00, 14.63it/s, Batch RMSE=0.0821]\n",
      "Epoch 6/100 [Train]: 100%|██████████| 19/19 [00:02<00:00,  8.98it/s, Batch Loss=0.00822]\n",
      "Epoch 6/100 [Val]: 100%|██████████| 3/3 [00:00<00:00, 11.78it/s, Batch RMSE=0.0837]\n",
      "Epoch 7/100 [Train]: 100%|██████████| 19/19 [00:02<00:00,  9.28it/s, Batch Loss=0.00731]\n",
      "Epoch 7/100 [Val]: 100%|██████████| 3/3 [00:00<00:00, 13.66it/s, Batch RMSE=0.0833]\n",
      "Epoch 8/100 [Train]: 100%|██████████| 19/19 [00:02<00:00,  8.82it/s, Batch Loss=0.00684]\n",
      "Epoch 8/100 [Val]: 100%|██████████| 3/3 [00:00<00:00, 13.41it/s, Batch RMSE=0.0831]\n",
      "Epoch 9/100 [Train]: 100%|██████████| 19/19 [00:02<00:00,  9.21it/s, Batch Loss=0.00586]\n",
      "Epoch 9/100 [Val]: 100%|██████████| 3/3 [00:00<00:00, 13.01it/s, Batch RMSE=0.0822]\n"
     ]
    },
    {
     "name": "stdout",
     "output_type": "stream",
     "text": [
      "Early stopping triggered at epoch 10\n"
     ]
    },
    {
     "data": {
      "text/html": [
       "\n",
       "    <style>\n",
       "        .wandb-row {\n",
       "            display: flex;\n",
       "            flex-direction: row;\n",
       "            flex-wrap: wrap;\n",
       "            justify-content: flex-start;\n",
       "            width: 100%;\n",
       "        }\n",
       "        .wandb-col {\n",
       "            display: flex;\n",
       "            flex-direction: column;\n",
       "            flex-basis: 100%;\n",
       "            flex: 1;\n",
       "            padding: 10px;\n",
       "        }\n",
       "    </style>\n",
       "<div class=\"wandb-row\"><div class=\"wandb-col\"><h3>Run history:</h3><br/><table class=\"wandb\"><tr><td>best_val_rmse</td><td>█▄▂▁▁▁▁▁▁</td></tr><tr><td>epoch</td><td>▁▂▃▃▄▅▆▆▇█</td></tr><tr><td>epoch_train_loss</td><td>█▅▄▃▃▂▂▂▁▁</td></tr><tr><td>epoch_val_loss</td><td>█▄▂▁▁▁▂▂▂▂</td></tr><tr><td>epoch_val_rmse</td><td>█▄▂▁▁▁▂▂▂▂</td></tr><tr><td>lr</td><td>███▇▇▆▅▄▂▁</td></tr><tr><td>train_loss</td><td>█▆▅▅▅▄▃▄▄▄▂▃▃▃▂▂▂▂▂▂▂▂▁▂▂▂▁▂▁▂▁▂▂▁▁▁▁▁▁▁</td></tr><tr><td>val_loss</td><td>█▆▆▆▃▃▄▂▂▄▁▂▄▁▂▃▂▂▄▂▃▄▂▃▃▂▃▃▂▃</td></tr><tr><td>val_rmse</td><td>█▇▄▆▄▂▅▃▁▄▃▁▄▂▁▃▃▂▃▃▂▃▃▂▃▄▂▃▃▂</td></tr></table><br/></div><div class=\"wandb-col\"><h3>Run summary:</h3><br/><table class=\"wandb\"><tr><td>best_val_rmse</td><td>0.08375</td></tr><tr><td>epoch</td><td>9</td></tr><tr><td>epoch_train_loss</td><td>0.00633</td></tr><tr><td>epoch_val_loss</td><td>0.01096</td></tr><tr><td>epoch_val_rmse</td><td>0.08444</td></tr><tr><td>lr</td><td>0.0004</td></tr><tr><td>train_loss</td><td>0.00586</td></tr><tr><td>val_loss</td><td>0.0109</td></tr><tr><td>val_rmse</td><td>0.08222</td></tr></table><br/></div></div>"
      ],
      "text/plain": [
       "<IPython.core.display.HTML object>"
      ]
     },
     "metadata": {},
     "output_type": "display_data"
    },
    {
     "data": {
      "text/html": [
       " View run <strong style=\"color:#cdcd00\">dashing-sweep-6</strong> at: <a href='https://wandb.ai/ychnli-stanford-university/sea-ice-prediction/runs/84gf7rl7' target=\"_blank\">https://wandb.ai/ychnli-stanford-university/sea-ice-prediction/runs/84gf7rl7</a><br/> View project at: <a href='https://wandb.ai/ychnli-stanford-university/sea-ice-prediction' target=\"_blank\">https://wandb.ai/ychnli-stanford-university/sea-ice-prediction</a><br/>Synced 4 W&B file(s), 0 media file(s), 0 artifact file(s) and 0 other file(s)"
      ],
      "text/plain": [
       "<IPython.core.display.HTML object>"
      ]
     },
     "metadata": {},
     "output_type": "display_data"
    },
    {
     "data": {
      "text/html": [
       "Find logs at: <code>./wandb/run-20250525_200400-84gf7rl7/logs</code>"
      ],
      "text/plain": [
       "<IPython.core.display.HTML object>"
      ]
     },
     "metadata": {},
     "output_type": "display_data"
    },
    {
     "name": "stderr",
     "output_type": "stream",
     "text": [
      "\u001b[34m\u001b[1mwandb\u001b[0m: Agent Starting Run: 7jnlt0kl with config:\n",
      "\u001b[34m\u001b[1mwandb\u001b[0m: \tbatch_size: 50\n",
      "\u001b[34m\u001b[1mwandb\u001b[0m: \tloss_function_args: 1\n",
      "\u001b[34m\u001b[1mwandb\u001b[0m: \tlr: 0.002337736464171848\n",
      "\u001b[34m\u001b[1mwandb\u001b[0m: \tnum_epochs: 100\n",
      "\u001b[34m\u001b[1mwandb\u001b[0m: \tweight_decay: 0\n"
     ]
    },
    {
     "data": {
      "text/html": [
       "Tracking run with wandb version 0.19.0"
      ],
      "text/plain": [
       "<IPython.core.display.HTML object>"
      ]
     },
     "metadata": {},
     "output_type": "display_data"
    },
    {
     "data": {
      "text/html": [
       "Run data is saved locally in <code>/home/users/yucli/sicpred/wandb/run-20250525_200431-7jnlt0kl</code>"
      ],
      "text/plain": [
       "<IPython.core.display.HTML object>"
      ]
     },
     "metadata": {},
     "output_type": "display_data"
    },
    {
     "data": {
      "text/html": [
       "Syncing run <strong><a href='https://wandb.ai/ychnli-stanford-university/sea-ice-prediction/runs/7jnlt0kl' target=\"_blank\">vital-sweep-7</a></strong> to <a href='https://wandb.ai/ychnli-stanford-university/sea-ice-prediction' target=\"_blank\">Weights & Biases</a> (<a href='https://wandb.me/developer-guide' target=\"_blank\">docs</a>)<br/>Sweep page: <a href='https://wandb.ai/ychnli-stanford-university/sea-ice-prediction/sweeps/ig2sril5' target=\"_blank\">https://wandb.ai/ychnli-stanford-university/sea-ice-prediction/sweeps/ig2sril5</a>"
      ],
      "text/plain": [
       "<IPython.core.display.HTML object>"
      ]
     },
     "metadata": {},
     "output_type": "display_data"
    },
    {
     "data": {
      "text/html": [
       " View project at <a href='https://wandb.ai/ychnli-stanford-university/sea-ice-prediction' target=\"_blank\">https://wandb.ai/ychnli-stanford-university/sea-ice-prediction</a>"
      ],
      "text/plain": [
       "<IPython.core.display.HTML object>"
      ]
     },
     "metadata": {},
     "output_type": "display_data"
    },
    {
     "data": {
      "text/html": [
       " View sweep at <a href='https://wandb.ai/ychnli-stanford-university/sea-ice-prediction/sweeps/ig2sril5' target=\"_blank\">https://wandb.ai/ychnli-stanford-university/sea-ice-prediction/sweeps/ig2sril5</a>"
      ],
      "text/plain": [
       "<IPython.core.display.HTML object>"
      ]
     },
     "metadata": {},
     "output_type": "display_data"
    },
    {
     "data": {
      "text/html": [
       " View run at <a href='https://wandb.ai/ychnli-stanford-university/sea-ice-prediction/runs/7jnlt0kl' target=\"_blank\">https://wandb.ai/ychnli-stanford-university/sea-ice-prediction/runs/7jnlt0kl</a>"
      ],
      "text/plain": [
       "<IPython.core.display.HTML object>"
      ]
     },
     "metadata": {},
     "output_type": "display_data"
    },
    {
     "name": "stderr",
     "output_type": "stream",
     "text": [
      "Epoch 0/100 [Train]: 100%|██████████| 8/8 [00:02<00:00,  3.66it/s, Batch Loss=0.0106]\n",
      "Epoch 0/100 [Val]: 100%|██████████| 2/2 [00:00<00:00,  8.83it/s, Batch RMSE=0.087] \n",
      "Epoch 1/100 [Train]: 100%|██████████| 8/8 [00:02<00:00,  3.78it/s, Batch Loss=0.00961]\n",
      "Epoch 1/100 [Val]: 100%|██████████| 2/2 [00:00<00:00,  9.68it/s, Batch RMSE=0.0836]\n",
      "Epoch 2/100 [Train]: 100%|██████████| 8/8 [00:02<00:00,  3.74it/s, Batch Loss=0.00932]\n",
      "Epoch 2/100 [Val]: 100%|██████████| 2/2 [00:00<00:00,  9.38it/s, Batch RMSE=0.082] \n",
      "Epoch 3/100 [Train]: 100%|██████████| 8/8 [00:02<00:00,  3.79it/s, Batch Loss=0.00805]\n",
      "Epoch 3/100 [Val]: 100%|██████████| 2/2 [00:00<00:00, 10.22it/s, Batch RMSE=0.0836]\n",
      "Epoch 4/100 [Train]: 100%|██████████| 8/8 [00:02<00:00,  3.83it/s, Batch Loss=0.00713]\n",
      "Epoch 4/100 [Val]: 100%|██████████| 2/2 [00:00<00:00, 10.25it/s, Batch RMSE=0.0845]\n",
      "Epoch 5/100 [Train]: 100%|██████████| 8/8 [00:02<00:00,  3.80it/s, Batch Loss=0.00667]\n",
      "Epoch 5/100 [Val]: 100%|██████████| 2/2 [00:00<00:00,  9.56it/s, Batch RMSE=0.0848]\n",
      "Epoch 6/100 [Train]: 100%|██████████| 8/8 [00:02<00:00,  3.81it/s, Batch Loss=0.00641]\n",
      "Epoch 6/100 [Val]: 100%|██████████| 2/2 [00:00<00:00,  9.41it/s, Batch RMSE=0.0848]\n",
      "Epoch 7/100 [Train]: 100%|██████████| 8/8 [00:02<00:00,  3.82it/s, Batch Loss=0.00572]\n",
      "Epoch 7/100 [Val]: 100%|██████████| 2/2 [00:00<00:00,  9.46it/s, Batch RMSE=0.0856]\n",
      "Epoch 8/100 [Train]: 100%|██████████| 8/8 [00:02<00:00,  3.81it/s, Batch Loss=0.0058] \n",
      "Epoch 8/100 [Val]: 100%|██████████| 2/2 [00:00<00:00, 10.00it/s, Batch RMSE=0.0877]\n",
      "Epoch 9/100 [Train]: 100%|██████████| 8/8 [00:02<00:00,  3.81it/s, Batch Loss=0.00573]\n",
      "Epoch 9/100 [Val]: 100%|██████████| 2/2 [00:00<00:00,  9.59it/s, Batch RMSE=0.0876]\n",
      "Epoch 10/100 [Train]: 100%|██████████| 8/8 [00:02<00:00,  3.70it/s, Batch Loss=0.00515]\n",
      "Epoch 10/100 [Val]: 100%|██████████| 2/2 [00:00<00:00,  9.85it/s, Batch RMSE=0.0847]\n",
      "Epoch 11/100 [Train]: 100%|██████████| 8/8 [00:02<00:00,  3.90it/s, Batch Loss=0.00515]\n",
      "Epoch 11/100 [Val]: 100%|██████████| 2/2 [00:00<00:00,  9.42it/s, Batch RMSE=0.0837]\n"
     ]
    },
    {
     "name": "stdout",
     "output_type": "stream",
     "text": [
      "Early stopping triggered at epoch 12\n"
     ]
    },
    {
     "data": {
      "text/html": [
       "\n",
       "    <style>\n",
       "        .wandb-row {\n",
       "            display: flex;\n",
       "            flex-direction: row;\n",
       "            flex-wrap: wrap;\n",
       "            justify-content: flex-start;\n",
       "            width: 100%;\n",
       "        }\n",
       "        .wandb-col {\n",
       "            display: flex;\n",
       "            flex-direction: column;\n",
       "            flex-basis: 100%;\n",
       "            flex: 1;\n",
       "            padding: 10px;\n",
       "        }\n",
       "    </style>\n",
       "<div class=\"wandb-row\"><div class=\"wandb-col\"><h3>Run history:</h3><br/><table class=\"wandb\"><tr><td>best_val_rmse</td><td>█▄▂▁▁▁▁▁▁▁▁</td></tr><tr><td>epoch</td><td>▁▂▂▃▄▄▅▅▆▇▇█</td></tr><tr><td>epoch_train_loss</td><td>█▅▄▄▃▃▂▂▂▁▁▁</td></tr><tr><td>epoch_val_loss</td><td>█▃▁▂▂▃▃▄▄▅▁▂</td></tr><tr><td>epoch_val_rmse</td><td>█▄▂▁▁▁▁▂▂▄▂▂</td></tr><tr><td>lr</td><td>███▇▇▇▆▅▄▃▂▁</td></tr><tr><td>train_loss</td><td>█▇▆▅▅▄▄▄▃▄▃▃▃▃▃▂▂▂▂▂▂▂▂▂▂▂▂▂▂▂▁▁▁▁▁▁▁▁▁▁</td></tr><tr><td>val_loss</td><td>▄█▂▆▁▅▁▆▁▆▁▇▁▇▂▇▁█▂█▁▆▁▆</td></tr><tr><td>val_rmse</td><td>█▅▄▂▃▁▂▂▃▃▂▃▂▃▃▄▃▅▄▅▃▃▃▂</td></tr></table><br/></div><div class=\"wandb-col\"><h3>Run summary:</h3><br/><table class=\"wandb\"><tr><td>best_val_rmse</td><td>0.08358</td></tr><tr><td>epoch</td><td>11</td></tr><tr><td>epoch_train_loss</td><td>0.0051</td></tr><tr><td>epoch_val_loss</td><td>0.01219</td></tr><tr><td>epoch_val_rmse</td><td>0.08484</td></tr><tr><td>lr</td><td>0.00227</td></tr><tr><td>train_loss</td><td>0.00515</td></tr><tr><td>val_loss</td><td>0.01357</td></tr><tr><td>val_rmse</td><td>0.08365</td></tr></table><br/></div></div>"
      ],
      "text/plain": [
       "<IPython.core.display.HTML object>"
      ]
     },
     "metadata": {},
     "output_type": "display_data"
    },
    {
     "data": {
      "text/html": [
       " View run <strong style=\"color:#cdcd00\">vital-sweep-7</strong> at: <a href='https://wandb.ai/ychnli-stanford-university/sea-ice-prediction/runs/7jnlt0kl' target=\"_blank\">https://wandb.ai/ychnli-stanford-university/sea-ice-prediction/runs/7jnlt0kl</a><br/> View project at: <a href='https://wandb.ai/ychnli-stanford-university/sea-ice-prediction' target=\"_blank\">https://wandb.ai/ychnli-stanford-university/sea-ice-prediction</a><br/>Synced 4 W&B file(s), 0 media file(s), 0 artifact file(s) and 0 other file(s)"
      ],
      "text/plain": [
       "<IPython.core.display.HTML object>"
      ]
     },
     "metadata": {},
     "output_type": "display_data"
    },
    {
     "data": {
      "text/html": [
       "Find logs at: <code>./wandb/run-20250525_200431-7jnlt0kl/logs</code>"
      ],
      "text/plain": [
       "<IPython.core.display.HTML object>"
      ]
     },
     "metadata": {},
     "output_type": "display_data"
    },
    {
     "name": "stderr",
     "output_type": "stream",
     "text": [
      "\u001b[34m\u001b[1mwandb\u001b[0m: Agent Starting Run: eyvnqeas with config:\n",
      "\u001b[34m\u001b[1mwandb\u001b[0m: \tbatch_size: 20\n",
      "\u001b[34m\u001b[1mwandb\u001b[0m: \tloss_function_args: 1\n",
      "\u001b[34m\u001b[1mwandb\u001b[0m: \tlr: 0.004781692553789131\n",
      "\u001b[34m\u001b[1mwandb\u001b[0m: \tnum_epochs: 100\n",
      "\u001b[34m\u001b[1mwandb\u001b[0m: \tweight_decay: 0\n"
     ]
    },
    {
     "data": {
      "text/html": [
       "Tracking run with wandb version 0.19.0"
      ],
      "text/plain": [
       "<IPython.core.display.HTML object>"
      ]
     },
     "metadata": {},
     "output_type": "display_data"
    },
    {
     "data": {
      "text/html": [
       "Run data is saved locally in <code>/home/users/yucli/sicpred/wandb/run-20250525_200507-eyvnqeas</code>"
      ],
      "text/plain": [
       "<IPython.core.display.HTML object>"
      ]
     },
     "metadata": {},
     "output_type": "display_data"
    },
    {
     "data": {
      "text/html": [
       "Syncing run <strong><a href='https://wandb.ai/ychnli-stanford-university/sea-ice-prediction/runs/eyvnqeas' target=\"_blank\">dulcet-sweep-8</a></strong> to <a href='https://wandb.ai/ychnli-stanford-university/sea-ice-prediction' target=\"_blank\">Weights & Biases</a> (<a href='https://wandb.me/developer-guide' target=\"_blank\">docs</a>)<br/>Sweep page: <a href='https://wandb.ai/ychnli-stanford-university/sea-ice-prediction/sweeps/ig2sril5' target=\"_blank\">https://wandb.ai/ychnli-stanford-university/sea-ice-prediction/sweeps/ig2sril5</a>"
      ],
      "text/plain": [
       "<IPython.core.display.HTML object>"
      ]
     },
     "metadata": {},
     "output_type": "display_data"
    },
    {
     "data": {
      "text/html": [
       " View project at <a href='https://wandb.ai/ychnli-stanford-university/sea-ice-prediction' target=\"_blank\">https://wandb.ai/ychnli-stanford-university/sea-ice-prediction</a>"
      ],
      "text/plain": [
       "<IPython.core.display.HTML object>"
      ]
     },
     "metadata": {},
     "output_type": "display_data"
    },
    {
     "data": {
      "text/html": [
       " View sweep at <a href='https://wandb.ai/ychnli-stanford-university/sea-ice-prediction/sweeps/ig2sril5' target=\"_blank\">https://wandb.ai/ychnli-stanford-university/sea-ice-prediction/sweeps/ig2sril5</a>"
      ],
      "text/plain": [
       "<IPython.core.display.HTML object>"
      ]
     },
     "metadata": {},
     "output_type": "display_data"
    },
    {
     "data": {
      "text/html": [
       " View run at <a href='https://wandb.ai/ychnli-stanford-university/sea-ice-prediction/runs/eyvnqeas' target=\"_blank\">https://wandb.ai/ychnli-stanford-university/sea-ice-prediction/runs/eyvnqeas</a>"
      ],
      "text/plain": [
       "<IPython.core.display.HTML object>"
      ]
     },
     "metadata": {},
     "output_type": "display_data"
    },
    {
     "name": "stderr",
     "output_type": "stream",
     "text": [
      "Epoch 0/100 [Train]: 100%|██████████| 19/19 [00:02<00:00,  9.38it/s, Batch Loss=0.0103]\n",
      "Epoch 0/100 [Val]: 100%|██████████| 3/3 [00:00<00:00, 13.41it/s, Batch RMSE=0.088]\n",
      "Epoch 1/100 [Train]: 100%|██████████| 19/19 [00:02<00:00,  8.87it/s, Batch Loss=0.00824]\n",
      "Epoch 1/100 [Val]: 100%|██████████| 3/3 [00:00<00:00, 12.45it/s, Batch RMSE=0.0847]\n",
      "Epoch 2/100 [Train]: 100%|██████████| 19/19 [00:02<00:00,  8.50it/s, Batch Loss=0.00889]\n",
      "Epoch 2/100 [Val]: 100%|██████████| 3/3 [00:00<00:00, 13.96it/s, Batch RMSE=0.082] \n",
      "Epoch 3/100 [Train]: 100%|██████████| 19/19 [00:02<00:00,  8.51it/s, Batch Loss=0.00801]\n",
      "Epoch 3/100 [Val]: 100%|██████████| 3/3 [00:00<00:00, 13.93it/s, Batch RMSE=0.0866]\n",
      "Epoch 4/100 [Train]: 100%|██████████| 19/19 [00:02<00:00,  8.73it/s, Batch Loss=0.00786]\n",
      "Epoch 4/100 [Val]: 100%|██████████| 3/3 [00:00<00:00, 14.06it/s, Batch RMSE=0.0839]\n",
      "Epoch 5/100 [Train]: 100%|██████████| 19/19 [00:02<00:00,  8.60it/s, Batch Loss=0.00691]\n",
      "Epoch 5/100 [Val]: 100%|██████████| 3/3 [00:00<00:00, 13.67it/s, Batch RMSE=0.0824]\n",
      "Epoch 6/100 [Train]: 100%|██████████| 19/19 [00:02<00:00,  8.73it/s, Batch Loss=0.00671]\n",
      "Epoch 6/100 [Val]: 100%|██████████| 3/3 [00:00<00:00, 12.68it/s, Batch RMSE=0.0857]\n",
      "Epoch 7/100 [Train]: 100%|██████████| 19/19 [00:02<00:00,  8.46it/s, Batch Loss=0.00667]\n",
      "Epoch 7/100 [Val]: 100%|██████████| 3/3 [00:00<00:00, 13.66it/s, Batch RMSE=0.0845]\n",
      "Epoch 8/100 [Train]: 100%|██████████| 19/19 [00:02<00:00,  8.63it/s, Batch Loss=0.00624]\n",
      "Epoch 8/100 [Val]: 100%|██████████| 3/3 [00:00<00:00, 14.05it/s, Batch RMSE=0.0829]\n",
      "Epoch 9/100 [Train]: 100%|██████████| 19/19 [00:02<00:00,  8.64it/s, Batch Loss=0.00585]\n",
      "Epoch 9/100 [Val]: 100%|██████████| 3/3 [00:00<00:00, 13.88it/s, Batch RMSE=0.0824]\n",
      "Epoch 10/100 [Train]: 100%|██████████| 19/19 [00:02<00:00,  8.66it/s, Batch Loss=0.00589]\n",
      "Epoch 10/100 [Val]: 100%|██████████| 3/3 [00:00<00:00, 13.15it/s, Batch RMSE=0.083] \n"
     ]
    },
    {
     "name": "stdout",
     "output_type": "stream",
     "text": [
      "Early stopping triggered at epoch 11\n"
     ]
    },
    {
     "data": {
      "text/html": [
       "\n",
       "    <style>\n",
       "        .wandb-row {\n",
       "            display: flex;\n",
       "            flex-direction: row;\n",
       "            flex-wrap: wrap;\n",
       "            justify-content: flex-start;\n",
       "            width: 100%;\n",
       "        }\n",
       "        .wandb-col {\n",
       "            display: flex;\n",
       "            flex-direction: column;\n",
       "            flex-basis: 100%;\n",
       "            flex: 1;\n",
       "            padding: 10px;\n",
       "        }\n",
       "    </style>\n",
       "<div class=\"wandb-row\"><div class=\"wandb-col\"><h3>Run history:</h3><br/><table class=\"wandb\"><tr><td>best_val_rmse</td><td>█▄▂▂▂▁▁▁▁▁</td></tr><tr><td>epoch</td><td>▁▂▂▃▄▅▅▆▇▇█</td></tr><tr><td>epoch_train_loss</td><td>█▅▄▃▃▂▂▂▁▁▁</td></tr><tr><td>epoch_val_loss</td><td>█▄▁▄▄▁▃▂▂▂▂</td></tr><tr><td>epoch_val_rmse</td><td>█▄▂▄▃▁▃▂▃▂▂</td></tr><tr><td>lr</td><td>███▇▇▆▅▅▄▂▁</td></tr><tr><td>train_loss</td><td>█▅▅▅▄▃▃▃▃▃▃▂▃▃▃▃▃▂▂▃▂▂▂▂▂▂▂▂▂▁▂▂▁▂▁▁▁▁▁▁</td></tr><tr><td>val_loss</td><td>█▅▆▆▂▃▄▂▂▅▃▅▇▂▄▅▁▂▆▁▄▅▂▃▅▂▃▅▂▂▆▂▂</td></tr><tr><td>val_rmse</td><td>█▇▄▆▄▃▄▄▁▅▅▄▆▃▂▄▃▁▆▃▃▄▃▂▅▄▂▄▃▁▅▄▂</td></tr></table><br/></div><div class=\"wandb-col\"><h3>Run summary:</h3><br/><table class=\"wandb\"><tr><td>best_val_rmse</td><td>0.08495</td></tr><tr><td>epoch</td><td>10</td></tr><tr><td>epoch_train_loss</td><td>0.00529</td></tr><tr><td>epoch_val_loss</td><td>0.01137</td></tr><tr><td>epoch_val_rmse</td><td>0.08648</td></tr><tr><td>lr</td><td>0.00466</td></tr><tr><td>train_loss</td><td>0.00589</td></tr><tr><td>val_loss</td><td>0.01076</td></tr><tr><td>val_rmse</td><td>0.08299</td></tr></table><br/></div></div>"
      ],
      "text/plain": [
       "<IPython.core.display.HTML object>"
      ]
     },
     "metadata": {},
     "output_type": "display_data"
    },
    {
     "data": {
      "text/html": [
       " View run <strong style=\"color:#cdcd00\">dulcet-sweep-8</strong> at: <a href='https://wandb.ai/ychnli-stanford-university/sea-ice-prediction/runs/eyvnqeas' target=\"_blank\">https://wandb.ai/ychnli-stanford-university/sea-ice-prediction/runs/eyvnqeas</a><br/> View project at: <a href='https://wandb.ai/ychnli-stanford-university/sea-ice-prediction' target=\"_blank\">https://wandb.ai/ychnli-stanford-university/sea-ice-prediction</a><br/>Synced 4 W&B file(s), 0 media file(s), 0 artifact file(s) and 0 other file(s)"
      ],
      "text/plain": [
       "<IPython.core.display.HTML object>"
      ]
     },
     "metadata": {},
     "output_type": "display_data"
    },
    {
     "data": {
      "text/html": [
       "Find logs at: <code>./wandb/run-20250525_200507-eyvnqeas/logs</code>"
      ],
      "text/plain": [
       "<IPython.core.display.HTML object>"
      ]
     },
     "metadata": {},
     "output_type": "display_data"
    },
    {
     "name": "stderr",
     "output_type": "stream",
     "text": [
      "\u001b[34m\u001b[1mwandb\u001b[0m: Agent Starting Run: hs36ctdn with config:\n",
      "\u001b[34m\u001b[1mwandb\u001b[0m: \tbatch_size: 32\n",
      "\u001b[34m\u001b[1mwandb\u001b[0m: \tloss_function_args: 1\n",
      "\u001b[34m\u001b[1mwandb\u001b[0m: \tlr: 0.0035138000264707332\n",
      "\u001b[34m\u001b[1mwandb\u001b[0m: \tnum_epochs: 100\n",
      "\u001b[34m\u001b[1mwandb\u001b[0m: \tweight_decay: 0\n"
     ]
    },
    {
     "data": {
      "text/html": [
       "Tracking run with wandb version 0.19.0"
      ],
      "text/plain": [
       "<IPython.core.display.HTML object>"
      ]
     },
     "metadata": {},
     "output_type": "display_data"
    },
    {
     "data": {
      "text/html": [
       "Run data is saved locally in <code>/home/users/yucli/sicpred/wandb/run-20250525_200542-hs36ctdn</code>"
      ],
      "text/plain": [
       "<IPython.core.display.HTML object>"
      ]
     },
     "metadata": {},
     "output_type": "display_data"
    },
    {
     "data": {
      "text/html": [
       "Syncing run <strong><a href='https://wandb.ai/ychnli-stanford-university/sea-ice-prediction/runs/hs36ctdn' target=\"_blank\">eager-sweep-9</a></strong> to <a href='https://wandb.ai/ychnli-stanford-university/sea-ice-prediction' target=\"_blank\">Weights & Biases</a> (<a href='https://wandb.me/developer-guide' target=\"_blank\">docs</a>)<br/>Sweep page: <a href='https://wandb.ai/ychnli-stanford-university/sea-ice-prediction/sweeps/ig2sril5' target=\"_blank\">https://wandb.ai/ychnli-stanford-university/sea-ice-prediction/sweeps/ig2sril5</a>"
      ],
      "text/plain": [
       "<IPython.core.display.HTML object>"
      ]
     },
     "metadata": {},
     "output_type": "display_data"
    },
    {
     "data": {
      "text/html": [
       " View project at <a href='https://wandb.ai/ychnli-stanford-university/sea-ice-prediction' target=\"_blank\">https://wandb.ai/ychnli-stanford-university/sea-ice-prediction</a>"
      ],
      "text/plain": [
       "<IPython.core.display.HTML object>"
      ]
     },
     "metadata": {},
     "output_type": "display_data"
    },
    {
     "data": {
      "text/html": [
       " View sweep at <a href='https://wandb.ai/ychnli-stanford-university/sea-ice-prediction/sweeps/ig2sril5' target=\"_blank\">https://wandb.ai/ychnli-stanford-university/sea-ice-prediction/sweeps/ig2sril5</a>"
      ],
      "text/plain": [
       "<IPython.core.display.HTML object>"
      ]
     },
     "metadata": {},
     "output_type": "display_data"
    },
    {
     "data": {
      "text/html": [
       " View run at <a href='https://wandb.ai/ychnli-stanford-university/sea-ice-prediction/runs/hs36ctdn' target=\"_blank\">https://wandb.ai/ychnli-stanford-university/sea-ice-prediction/runs/hs36ctdn</a>"
      ],
      "text/plain": [
       "<IPython.core.display.HTML object>"
      ]
     },
     "metadata": {},
     "output_type": "display_data"
    },
    {
     "name": "stderr",
     "output_type": "stream",
     "text": [
      "Epoch 0/100 [Train]: 100%|██████████| 12/12 [00:02<00:00,  5.65it/s, Batch Loss=0.0112]\n",
      "Epoch 0/100 [Val]: 100%|██████████| 2/2 [00:00<00:00,  8.97it/s, Batch RMSE=0.0891]\n",
      "Epoch 1/100 [Train]: 100%|██████████| 12/12 [00:02<00:00,  5.82it/s, Batch Loss=0.00885]\n",
      "Epoch 1/100 [Val]: 100%|██████████| 2/2 [00:00<00:00,  8.82it/s, Batch RMSE=0.0836]\n",
      "Epoch 2/100 [Train]: 100%|██████████| 12/12 [00:02<00:00,  5.61it/s, Batch Loss=0.00795]\n",
      "Epoch 2/100 [Val]: 100%|██████████| 2/2 [00:00<00:00,  9.67it/s, Batch RMSE=0.0838]\n",
      "Epoch 3/100 [Train]: 100%|██████████| 12/12 [00:02<00:00,  5.74it/s, Batch Loss=0.0078] \n",
      "Epoch 3/100 [Val]: 100%|██████████| 2/2 [00:00<00:00,  9.34it/s, Batch RMSE=0.0833]\n",
      "Epoch 4/100 [Train]: 100%|██████████| 12/12 [00:02<00:00,  5.78it/s, Batch Loss=0.00676]\n",
      "Epoch 4/100 [Val]: 100%|██████████| 2/2 [00:00<00:00,  9.75it/s, Batch RMSE=0.0858]\n",
      "Epoch 5/100 [Train]: 100%|██████████| 12/12 [00:02<00:00,  5.67it/s, Batch Loss=0.00651]\n",
      "Epoch 5/100 [Val]: 100%|██████████| 2/2 [00:00<00:00,  9.66it/s, Batch RMSE=0.0832]\n",
      "Epoch 6/100 [Train]: 100%|██████████| 12/12 [00:02<00:00,  5.75it/s, Batch Loss=0.0064] \n",
      "Epoch 6/100 [Val]: 100%|██████████| 2/2 [00:00<00:00,  9.49it/s, Batch RMSE=0.0842]\n",
      "Epoch 7/100 [Train]: 100%|██████████| 12/12 [00:02<00:00,  5.86it/s, Batch Loss=0.00566]\n",
      "Epoch 7/100 [Val]: 100%|██████████| 2/2 [00:00<00:00,  9.16it/s, Batch RMSE=0.0846]\n",
      "Epoch 8/100 [Train]: 100%|██████████| 12/12 [00:02<00:00,  5.80it/s, Batch Loss=0.00542]\n",
      "Epoch 8/100 [Val]: 100%|██████████| 2/2 [00:00<00:00,  9.62it/s, Batch RMSE=0.0838]\n",
      "Epoch 9/100 [Train]: 100%|██████████| 12/12 [00:02<00:00,  5.93it/s, Batch Loss=0.00518]\n",
      "Epoch 9/100 [Val]: 100%|██████████| 2/2 [00:00<00:00,  9.75it/s, Batch RMSE=0.0887]\n",
      "Epoch 10/100 [Train]: 100%|██████████| 12/12 [00:02<00:00,  5.88it/s, Batch Loss=0.00506]\n",
      "Epoch 10/100 [Val]: 100%|██████████| 2/2 [00:00<00:00,  9.71it/s, Batch RMSE=0.0849]\n"
     ]
    },
    {
     "name": "stdout",
     "output_type": "stream",
     "text": [
      "Early stopping triggered at epoch 11\n"
     ]
    },
    {
     "data": {
      "text/html": [
       "\n",
       "    <style>\n",
       "        .wandb-row {\n",
       "            display: flex;\n",
       "            flex-direction: row;\n",
       "            flex-wrap: wrap;\n",
       "            justify-content: flex-start;\n",
       "            width: 100%;\n",
       "        }\n",
       "        .wandb-col {\n",
       "            display: flex;\n",
       "            flex-direction: column;\n",
       "            flex-basis: 100%;\n",
       "            flex: 1;\n",
       "            padding: 10px;\n",
       "        }\n",
       "    </style>\n",
       "<div class=\"wandb-row\"><div class=\"wandb-col\"><h3>Run history:</h3><br/><table class=\"wandb\"><tr><td>best_val_rmse</td><td>█▂▁▁▁▁▁▁▁▁</td></tr><tr><td>epoch</td><td>▁▂▂▃▄▅▅▆▇▇█</td></tr><tr><td>epoch_train_loss</td><td>█▅▄▃▃▂▂▂▁▁▁</td></tr><tr><td>epoch_val_loss</td><td>█▂▁▂▃▂▂▂▃▆▄</td></tr><tr><td>epoch_val_rmse</td><td>█▂▁▂▃▁▂▂▂▄▃</td></tr><tr><td>lr</td><td>███▇▇▆▅▅▄▂▁</td></tr><tr><td>train_loss</td><td>█▆▆▅▄▄▃▃▃▃▂▃▂▂▂▂▂▂▂▂▂▂▂▂▁▁▁▁▁▂▁▁▁▁▁▁▁▁▁▁</td></tr><tr><td>val_loss</td><td>█▄▄▁▃▁▄▁▄▃▄▁▄▁▄▁▅▂▅▄▅▂</td></tr><tr><td>val_rmse</td><td>█▅▄▁▂▁▃▁▃▃▂▁▃▂▃▂▃▁▄▅▄▂</td></tr></table><br/></div><div class=\"wandb-col\"><h3>Run summary:</h3><br/><table class=\"wandb\"><tr><td>best_val_rmse</td><td>0.08444</td></tr><tr><td>epoch</td><td>10</td></tr><tr><td>epoch_train_loss</td><td>0.00504</td></tr><tr><td>epoch_val_loss</td><td>0.01143</td></tr><tr><td>epoch_val_rmse</td><td>0.08617</td></tr><tr><td>lr</td><td>0.00343</td></tr><tr><td>train_loss</td><td>0.00506</td></tr><tr><td>val_loss</td><td>0.01084</td></tr><tr><td>val_rmse</td><td>0.08492</td></tr></table><br/></div></div>"
      ],
      "text/plain": [
       "<IPython.core.display.HTML object>"
      ]
     },
     "metadata": {},
     "output_type": "display_data"
    },
    {
     "data": {
      "text/html": [
       " View run <strong style=\"color:#cdcd00\">eager-sweep-9</strong> at: <a href='https://wandb.ai/ychnli-stanford-university/sea-ice-prediction/runs/hs36ctdn' target=\"_blank\">https://wandb.ai/ychnli-stanford-university/sea-ice-prediction/runs/hs36ctdn</a><br/> View project at: <a href='https://wandb.ai/ychnli-stanford-university/sea-ice-prediction' target=\"_blank\">https://wandb.ai/ychnli-stanford-university/sea-ice-prediction</a><br/>Synced 4 W&B file(s), 0 media file(s), 0 artifact file(s) and 0 other file(s)"
      ],
      "text/plain": [
       "<IPython.core.display.HTML object>"
      ]
     },
     "metadata": {},
     "output_type": "display_data"
    },
    {
     "data": {
      "text/html": [
       "Find logs at: <code>./wandb/run-20250525_200542-hs36ctdn/logs</code>"
      ],
      "text/plain": [
       "<IPython.core.display.HTML object>"
      ]
     },
     "metadata": {},
     "output_type": "display_data"
    },
    {
     "name": "stderr",
     "output_type": "stream",
     "text": [
      "\u001b[34m\u001b[1mwandb\u001b[0m: Agent Starting Run: xczlgyq3 with config:\n",
      "\u001b[34m\u001b[1mwandb\u001b[0m: \tbatch_size: 32\n",
      "\u001b[34m\u001b[1mwandb\u001b[0m: \tloss_function_args: 1\n",
      "\u001b[34m\u001b[1mwandb\u001b[0m: \tlr: 0.0023443701589014876\n",
      "\u001b[34m\u001b[1mwandb\u001b[0m: \tnum_epochs: 100\n",
      "\u001b[34m\u001b[1mwandb\u001b[0m: \tweight_decay: 0\n"
     ]
    },
    {
     "data": {
      "text/html": [
       "Tracking run with wandb version 0.19.0"
      ],
      "text/plain": [
       "<IPython.core.display.HTML object>"
      ]
     },
     "metadata": {},
     "output_type": "display_data"
    },
    {
     "data": {
      "text/html": [
       "Run data is saved locally in <code>/home/users/yucli/sicpred/wandb/run-20250525_200613-xczlgyq3</code>"
      ],
      "text/plain": [
       "<IPython.core.display.HTML object>"
      ]
     },
     "metadata": {},
     "output_type": "display_data"
    },
    {
     "data": {
      "text/html": [
       "Syncing run <strong><a href='https://wandb.ai/ychnli-stanford-university/sea-ice-prediction/runs/xczlgyq3' target=\"_blank\">zany-sweep-10</a></strong> to <a href='https://wandb.ai/ychnli-stanford-university/sea-ice-prediction' target=\"_blank\">Weights & Biases</a> (<a href='https://wandb.me/developer-guide' target=\"_blank\">docs</a>)<br/>Sweep page: <a href='https://wandb.ai/ychnli-stanford-university/sea-ice-prediction/sweeps/ig2sril5' target=\"_blank\">https://wandb.ai/ychnli-stanford-university/sea-ice-prediction/sweeps/ig2sril5</a>"
      ],
      "text/plain": [
       "<IPython.core.display.HTML object>"
      ]
     },
     "metadata": {},
     "output_type": "display_data"
    },
    {
     "data": {
      "text/html": [
       " View project at <a href='https://wandb.ai/ychnli-stanford-university/sea-ice-prediction' target=\"_blank\">https://wandb.ai/ychnli-stanford-university/sea-ice-prediction</a>"
      ],
      "text/plain": [
       "<IPython.core.display.HTML object>"
      ]
     },
     "metadata": {},
     "output_type": "display_data"
    },
    {
     "data": {
      "text/html": [
       " View sweep at <a href='https://wandb.ai/ychnli-stanford-university/sea-ice-prediction/sweeps/ig2sril5' target=\"_blank\">https://wandb.ai/ychnli-stanford-university/sea-ice-prediction/sweeps/ig2sril5</a>"
      ],
      "text/plain": [
       "<IPython.core.display.HTML object>"
      ]
     },
     "metadata": {},
     "output_type": "display_data"
    },
    {
     "data": {
      "text/html": [
       " View run at <a href='https://wandb.ai/ychnli-stanford-university/sea-ice-prediction/runs/xczlgyq3' target=\"_blank\">https://wandb.ai/ychnli-stanford-university/sea-ice-prediction/runs/xczlgyq3</a>"
      ],
      "text/plain": [
       "<IPython.core.display.HTML object>"
      ]
     },
     "metadata": {},
     "output_type": "display_data"
    },
    {
     "name": "stderr",
     "output_type": "stream",
     "text": [
      "Epoch 0/100 [Train]: 100%|██████████| 12/12 [00:02<00:00,  6.00it/s, Batch Loss=0.0117]\n",
      "Epoch 0/100 [Val]: 100%|██████████| 2/2 [00:00<00:00,  8.89it/s, Batch RMSE=0.0872]\n",
      "Epoch 1/100 [Train]: 100%|██████████| 12/12 [00:01<00:00,  7.02it/s, Batch Loss=0.00876]\n",
      "Epoch 1/100 [Val]: 100%|██████████| 2/2 [00:00<00:00, 15.65it/s, Batch RMSE=0.0836]\n",
      "Epoch 2/100 [Train]: 100%|██████████| 12/12 [00:01<00:00,  8.33it/s, Batch Loss=0.00773]\n",
      "Epoch 2/100 [Val]: 100%|██████████| 2/2 [00:00<00:00, 15.66it/s, Batch RMSE=0.0833]\n",
      "Epoch 3/100 [Train]: 100%|██████████| 12/12 [00:01<00:00,  8.37it/s, Batch Loss=0.00719]\n",
      "Epoch 3/100 [Val]: 100%|██████████| 2/2 [00:00<00:00, 15.80it/s, Batch RMSE=0.0843]\n",
      "Epoch 4/100 [Train]: 100%|██████████| 12/12 [00:01<00:00,  8.10it/s, Batch Loss=0.0075] \n",
      "Epoch 4/100 [Val]: 100%|██████████| 2/2 [00:00<00:00, 15.18it/s, Batch RMSE=0.0833]\n",
      "Epoch 5/100 [Train]: 100%|██████████| 12/12 [00:01<00:00,  8.03it/s, Batch Loss=0.00637]\n",
      "Epoch 5/100 [Val]: 100%|██████████| 2/2 [00:00<00:00, 15.42it/s, Batch RMSE=0.0861]\n",
      "Epoch 6/100 [Train]: 100%|██████████| 12/12 [00:01<00:00,  7.93it/s, Batch Loss=0.00605]\n",
      "Epoch 6/100 [Val]: 100%|██████████| 2/2 [00:00<00:00, 14.91it/s, Batch RMSE=0.0849]\n",
      "Epoch 7/100 [Train]: 100%|██████████| 12/12 [00:01<00:00,  8.22it/s, Batch Loss=0.00608]\n",
      "Epoch 7/100 [Val]: 100%|██████████| 2/2 [00:00<00:00, 15.27it/s, Batch RMSE=0.0823]\n",
      "Epoch 8/100 [Train]: 100%|██████████| 12/12 [00:01<00:00,  8.48it/s, Batch Loss=0.00568]\n",
      "Epoch 8/100 [Val]: 100%|██████████| 2/2 [00:00<00:00, 16.13it/s, Batch RMSE=0.0839]\n",
      "Epoch 9/100 [Train]: 100%|██████████| 12/12 [00:01<00:00,  8.46it/s, Batch Loss=0.00541]\n",
      "Epoch 9/100 [Val]: 100%|██████████| 2/2 [00:00<00:00, 16.01it/s, Batch RMSE=0.0829]\n"
     ]
    },
    {
     "name": "stdout",
     "output_type": "stream",
     "text": [
      "Early stopping triggered at epoch 10\n"
     ]
    },
    {
     "data": {
      "text/html": [
       "\n",
       "    <style>\n",
       "        .wandb-row {\n",
       "            display: flex;\n",
       "            flex-direction: row;\n",
       "            flex-wrap: wrap;\n",
       "            justify-content: flex-start;\n",
       "            width: 100%;\n",
       "        }\n",
       "        .wandb-col {\n",
       "            display: flex;\n",
       "            flex-direction: column;\n",
       "            flex-basis: 100%;\n",
       "            flex: 1;\n",
       "            padding: 10px;\n",
       "        }\n",
       "    </style>\n",
       "<div class=\"wandb-row\"><div class=\"wandb-col\"><h3>Run history:</h3><br/><table class=\"wandb\"><tr><td>best_val_rmse</td><td>█▃▂▂▁▁▁▁▁</td></tr><tr><td>epoch</td><td>▁▂▃▃▄▅▆▆▇█</td></tr><tr><td>epoch_train_loss</td><td>█▅▄▃▃▂▂▂▁▁</td></tr><tr><td>epoch_val_loss</td><td>█▂▂▁▁▄▃▁▂▂</td></tr><tr><td>epoch_val_rmse</td><td>█▃▂▂▁▃▃▂▂▂</td></tr><tr><td>lr</td><td>███▇▇▆▅▄▂▁</td></tr><tr><td>train_loss</td><td>█▇▇▆▄▄▄▄▃▄▄▃▃▃▄▃▃▂▂▂▂▂▃▂▂▂▂▂▂▂▂▁▂▂▂▁▁▁▁▁</td></tr><tr><td>val_loss</td><td>█▄▄▂▄▂▃▂▄▂▄▄▅▂▅▁▅▂▅▁</td></tr><tr><td>val_rmse</td><td>█▅▄▂▃▂▂▃▂▂▃▄▃▃▃▁▃▂▃▂</td></tr></table><br/></div><div class=\"wandb-col\"><h3>Run summary:</h3><br/><table class=\"wandb\"><tr><td>best_val_rmse</td><td>0.08341</td></tr><tr><td>epoch</td><td>9</td></tr><tr><td>epoch_train_loss</td><td>0.00529</td></tr><tr><td>epoch_val_loss</td><td>0.01078</td></tr><tr><td>epoch_val_rmse</td><td>0.08413</td></tr><tr><td>lr</td><td>0.0023</td></tr><tr><td>train_loss</td><td>0.00541</td></tr><tr><td>val_loss</td><td>0.01017</td></tr><tr><td>val_rmse</td><td>0.08293</td></tr></table><br/></div></div>"
      ],
      "text/plain": [
       "<IPython.core.display.HTML object>"
      ]
     },
     "metadata": {},
     "output_type": "display_data"
    },
    {
     "data": {
      "text/html": [
       " View run <strong style=\"color:#cdcd00\">zany-sweep-10</strong> at: <a href='https://wandb.ai/ychnli-stanford-university/sea-ice-prediction/runs/xczlgyq3' target=\"_blank\">https://wandb.ai/ychnli-stanford-university/sea-ice-prediction/runs/xczlgyq3</a><br/> View project at: <a href='https://wandb.ai/ychnli-stanford-university/sea-ice-prediction' target=\"_blank\">https://wandb.ai/ychnli-stanford-university/sea-ice-prediction</a><br/>Synced 4 W&B file(s), 0 media file(s), 0 artifact file(s) and 0 other file(s)"
      ],
      "text/plain": [
       "<IPython.core.display.HTML object>"
      ]
     },
     "metadata": {},
     "output_type": "display_data"
    },
    {
     "data": {
      "text/html": [
       "Find logs at: <code>./wandb/run-20250525_200613-xczlgyq3/logs</code>"
      ],
      "text/plain": [
       "<IPython.core.display.HTML object>"
      ]
     },
     "metadata": {},
     "output_type": "display_data"
    },
    {
     "name": "stderr",
     "output_type": "stream",
     "text": [
      "\u001b[34m\u001b[1mwandb\u001b[0m: Agent Starting Run: wwle78t5 with config:\n",
      "\u001b[34m\u001b[1mwandb\u001b[0m: \tbatch_size: 20\n",
      "\u001b[34m\u001b[1mwandb\u001b[0m: \tloss_function_args: 1\n",
      "\u001b[34m\u001b[1mwandb\u001b[0m: \tlr: 0.0018420184587053224\n",
      "\u001b[34m\u001b[1mwandb\u001b[0m: \tnum_epochs: 100\n",
      "\u001b[34m\u001b[1mwandb\u001b[0m: \tweight_decay: 0\n"
     ]
    },
    {
     "data": {
      "text/html": [
       "Tracking run with wandb version 0.19.0"
      ],
      "text/plain": [
       "<IPython.core.display.HTML object>"
      ]
     },
     "metadata": {},
     "output_type": "display_data"
    },
    {
     "data": {
      "text/html": [
       "Run data is saved locally in <code>/home/users/yucli/sicpred/wandb/run-20250525_200638-wwle78t5</code>"
      ],
      "text/plain": [
       "<IPython.core.display.HTML object>"
      ]
     },
     "metadata": {},
     "output_type": "display_data"
    },
    {
     "data": {
      "text/html": [
       "Syncing run <strong><a href='https://wandb.ai/ychnli-stanford-university/sea-ice-prediction/runs/wwle78t5' target=\"_blank\">pious-sweep-11</a></strong> to <a href='https://wandb.ai/ychnli-stanford-university/sea-ice-prediction' target=\"_blank\">Weights & Biases</a> (<a href='https://wandb.me/developer-guide' target=\"_blank\">docs</a>)<br/>Sweep page: <a href='https://wandb.ai/ychnli-stanford-university/sea-ice-prediction/sweeps/ig2sril5' target=\"_blank\">https://wandb.ai/ychnli-stanford-university/sea-ice-prediction/sweeps/ig2sril5</a>"
      ],
      "text/plain": [
       "<IPython.core.display.HTML object>"
      ]
     },
     "metadata": {},
     "output_type": "display_data"
    },
    {
     "data": {
      "text/html": [
       " View project at <a href='https://wandb.ai/ychnli-stanford-university/sea-ice-prediction' target=\"_blank\">https://wandb.ai/ychnli-stanford-university/sea-ice-prediction</a>"
      ],
      "text/plain": [
       "<IPython.core.display.HTML object>"
      ]
     },
     "metadata": {},
     "output_type": "display_data"
    },
    {
     "data": {
      "text/html": [
       " View sweep at <a href='https://wandb.ai/ychnli-stanford-university/sea-ice-prediction/sweeps/ig2sril5' target=\"_blank\">https://wandb.ai/ychnli-stanford-university/sea-ice-prediction/sweeps/ig2sril5</a>"
      ],
      "text/plain": [
       "<IPython.core.display.HTML object>"
      ]
     },
     "metadata": {},
     "output_type": "display_data"
    },
    {
     "data": {
      "text/html": [
       " View run at <a href='https://wandb.ai/ychnli-stanford-university/sea-ice-prediction/runs/wwle78t5' target=\"_blank\">https://wandb.ai/ychnli-stanford-university/sea-ice-prediction/runs/wwle78t5</a>"
      ],
      "text/plain": [
       "<IPython.core.display.HTML object>"
      ]
     },
     "metadata": {},
     "output_type": "display_data"
    },
    {
     "name": "stderr",
     "output_type": "stream",
     "text": [
      "Epoch 0/100 [Train]: 100%|██████████| 19/19 [00:02<00:00,  9.32it/s, Batch Loss=0.00992]\n",
      "Epoch 0/100 [Val]: 100%|██████████| 3/3 [00:00<00:00, 13.18it/s, Batch RMSE=0.0822]\n",
      "Epoch 1/100 [Train]: 100%|██████████| 19/19 [00:01<00:00,  9.86it/s, Batch Loss=0.0086] \n",
      "Epoch 1/100 [Val]: 100%|██████████| 3/3 [00:00<00:00, 14.61it/s, Batch RMSE=0.0805]\n",
      "Epoch 2/100 [Train]: 100%|██████████| 19/19 [00:01<00:00,  9.78it/s, Batch Loss=0.00892]\n",
      "Epoch 2/100 [Val]: 100%|██████████| 3/3 [00:00<00:00, 14.03it/s, Batch RMSE=0.0817]\n",
      "Epoch 3/100 [Train]: 100%|██████████| 19/19 [00:01<00:00,  9.78it/s, Batch Loss=0.00665]\n",
      "Epoch 3/100 [Val]: 100%|██████████| 3/3 [00:00<00:00, 13.91it/s, Batch RMSE=0.0824]\n",
      "Epoch 4/100 [Train]: 100%|██████████| 19/19 [00:02<00:00,  9.42it/s, Batch Loss=0.00644]\n",
      "Epoch 4/100 [Val]: 100%|██████████| 3/3 [00:00<00:00, 14.48it/s, Batch RMSE=0.0826]\n",
      "Epoch 5/100 [Train]: 100%|██████████| 19/19 [00:01<00:00,  9.71it/s, Batch Loss=0.00665]\n",
      "Epoch 5/100 [Val]: 100%|██████████| 3/3 [00:00<00:00, 13.95it/s, Batch RMSE=0.0819]\n",
      "Epoch 6/100 [Train]: 100%|██████████| 19/19 [00:02<00:00,  8.67it/s, Batch Loss=0.00554]\n",
      "Epoch 6/100 [Val]: 100%|██████████| 3/3 [00:00<00:00, 14.30it/s, Batch RMSE=0.0831]\n",
      "Epoch 7/100 [Train]: 100%|██████████| 19/19 [00:01<00:00,  9.78it/s, Batch Loss=0.00581]\n",
      "Epoch 7/100 [Val]: 100%|██████████| 3/3 [00:00<00:00, 14.47it/s, Batch RMSE=0.0841]\n"
     ]
    },
    {
     "name": "stdout",
     "output_type": "stream",
     "text": [
      "Early stopping triggered at epoch 8\n"
     ]
    },
    {
     "data": {
      "text/html": [
       "\n",
       "    <style>\n",
       "        .wandb-row {\n",
       "            display: flex;\n",
       "            flex-direction: row;\n",
       "            flex-wrap: wrap;\n",
       "            justify-content: flex-start;\n",
       "            width: 100%;\n",
       "        }\n",
       "        .wandb-col {\n",
       "            display: flex;\n",
       "            flex-direction: column;\n",
       "            flex-basis: 100%;\n",
       "            flex: 1;\n",
       "            padding: 10px;\n",
       "        }\n",
       "    </style>\n",
       "<div class=\"wandb-row\"><div class=\"wandb-col\"><h3>Run history:</h3><br/><table class=\"wandb\"><tr><td>best_val_rmse</td><td>█▂▁▁▁▁▁</td></tr><tr><td>epoch</td><td>▁▂▃▄▅▆▇█</td></tr><tr><td>epoch_train_loss</td><td>█▅▄▃▂▂▁▁</td></tr><tr><td>epoch_val_loss</td><td>█▂▁▅▃▄▅▆</td></tr><tr><td>epoch_val_rmse</td><td>█▂▁▃▂▂▅▄</td></tr><tr><td>lr</td><td>██▇▇▆▄▃▁</td></tr><tr><td>train_loss</td><td>█▇▅▅▅▅▃▄▅▄▃▄▄▄▃▂▃▄▄▂▂▃▃▂▂▁▂▁▁▂▂▁▁▂▂▁▁▁▂▁</td></tr><tr><td>val_loss</td><td>█▃▃▅▁▂▄▁▂▇▁▄▆▁▃▆▂▃▆▃▃▅▃▅</td></tr><tr><td>val_rmse</td><td>█▅▂▅▃▁▄▃▂▅▃▂▅▃▂▅▃▂▅▄▃▅▄▃</td></tr></table><br/></div><div class=\"wandb-col\"><h3>Run summary:</h3><br/><table class=\"wandb\"><tr><td>best_val_rmse</td><td>0.08344</td></tr><tr><td>epoch</td><td>7</td></tr><tr><td>epoch_train_loss</td><td>0.00545</td></tr><tr><td>epoch_val_loss</td><td>0.01118</td></tr><tr><td>epoch_val_rmse</td><td>0.08492</td></tr><tr><td>lr</td><td>0.00182</td></tr><tr><td>train_loss</td><td>0.00581</td></tr><tr><td>val_loss</td><td>0.01132</td></tr><tr><td>val_rmse</td><td>0.08413</td></tr></table><br/></div></div>"
      ],
      "text/plain": [
       "<IPython.core.display.HTML object>"
      ]
     },
     "metadata": {},
     "output_type": "display_data"
    },
    {
     "data": {
      "text/html": [
       " View run <strong style=\"color:#cdcd00\">pious-sweep-11</strong> at: <a href='https://wandb.ai/ychnli-stanford-university/sea-ice-prediction/runs/wwle78t5' target=\"_blank\">https://wandb.ai/ychnli-stanford-university/sea-ice-prediction/runs/wwle78t5</a><br/> View project at: <a href='https://wandb.ai/ychnli-stanford-university/sea-ice-prediction' target=\"_blank\">https://wandb.ai/ychnli-stanford-university/sea-ice-prediction</a><br/>Synced 4 W&B file(s), 0 media file(s), 0 artifact file(s) and 0 other file(s)"
      ],
      "text/plain": [
       "<IPython.core.display.HTML object>"
      ]
     },
     "metadata": {},
     "output_type": "display_data"
    },
    {
     "data": {
      "text/html": [
       "Find logs at: <code>./wandb/run-20250525_200638-wwle78t5/logs</code>"
      ],
      "text/plain": [
       "<IPython.core.display.HTML object>"
      ]
     },
     "metadata": {},
     "output_type": "display_data"
    },
    {
     "name": "stderr",
     "output_type": "stream",
     "text": [
      "\u001b[34m\u001b[1mwandb\u001b[0m: Agent Starting Run: ryns3ln2 with config:\n",
      "\u001b[34m\u001b[1mwandb\u001b[0m: \tbatch_size: 20\n",
      "\u001b[34m\u001b[1mwandb\u001b[0m: \tloss_function_args: 1\n",
      "\u001b[34m\u001b[1mwandb\u001b[0m: \tlr: 0.0017434945611886803\n",
      "\u001b[34m\u001b[1mwandb\u001b[0m: \tnum_epochs: 100\n",
      "\u001b[34m\u001b[1mwandb\u001b[0m: \tweight_decay: 0\n"
     ]
    },
    {
     "data": {
      "text/html": [
       "Tracking run with wandb version 0.19.0"
      ],
      "text/plain": [
       "<IPython.core.display.HTML object>"
      ]
     },
     "metadata": {},
     "output_type": "display_data"
    },
    {
     "data": {
      "text/html": [
       "Run data is saved locally in <code>/home/users/yucli/sicpred/wandb/run-20250525_200705-ryns3ln2</code>"
      ],
      "text/plain": [
       "<IPython.core.display.HTML object>"
      ]
     },
     "metadata": {},
     "output_type": "display_data"
    },
    {
     "data": {
      "text/html": [
       "Syncing run <strong><a href='https://wandb.ai/ychnli-stanford-university/sea-ice-prediction/runs/ryns3ln2' target=\"_blank\">polished-sweep-12</a></strong> to <a href='https://wandb.ai/ychnli-stanford-university/sea-ice-prediction' target=\"_blank\">Weights & Biases</a> (<a href='https://wandb.me/developer-guide' target=\"_blank\">docs</a>)<br/>Sweep page: <a href='https://wandb.ai/ychnli-stanford-university/sea-ice-prediction/sweeps/ig2sril5' target=\"_blank\">https://wandb.ai/ychnli-stanford-university/sea-ice-prediction/sweeps/ig2sril5</a>"
      ],
      "text/plain": [
       "<IPython.core.display.HTML object>"
      ]
     },
     "metadata": {},
     "output_type": "display_data"
    },
    {
     "data": {
      "text/html": [
       " View project at <a href='https://wandb.ai/ychnli-stanford-university/sea-ice-prediction' target=\"_blank\">https://wandb.ai/ychnli-stanford-university/sea-ice-prediction</a>"
      ],
      "text/plain": [
       "<IPython.core.display.HTML object>"
      ]
     },
     "metadata": {},
     "output_type": "display_data"
    },
    {
     "data": {
      "text/html": [
       " View sweep at <a href='https://wandb.ai/ychnli-stanford-university/sea-ice-prediction/sweeps/ig2sril5' target=\"_blank\">https://wandb.ai/ychnli-stanford-university/sea-ice-prediction/sweeps/ig2sril5</a>"
      ],
      "text/plain": [
       "<IPython.core.display.HTML object>"
      ]
     },
     "metadata": {},
     "output_type": "display_data"
    },
    {
     "data": {
      "text/html": [
       " View run at <a href='https://wandb.ai/ychnli-stanford-university/sea-ice-prediction/runs/ryns3ln2' target=\"_blank\">https://wandb.ai/ychnli-stanford-university/sea-ice-prediction/runs/ryns3ln2</a>"
      ],
      "text/plain": [
       "<IPython.core.display.HTML object>"
      ]
     },
     "metadata": {},
     "output_type": "display_data"
    },
    {
     "name": "stderr",
     "output_type": "stream",
     "text": [
      "Epoch 0/100 [Train]: 100%|██████████| 19/19 [00:01<00:00,  9.55it/s, Batch Loss=0.0103] \n",
      "Epoch 0/100 [Val]: 100%|██████████| 3/3 [00:00<00:00, 13.05it/s, Batch RMSE=0.0823]\n",
      "Epoch 1/100 [Train]: 100%|██████████| 19/19 [00:02<00:00,  7.45it/s, Batch Loss=0.00882]\n",
      "Epoch 1/100 [Val]: 100%|██████████| 3/3 [00:00<00:00,  8.91it/s, Batch RMSE=0.0813]\n",
      "Epoch 2/100 [Train]: 100%|██████████| 19/19 [00:02<00:00,  7.84it/s, Batch Loss=0.0086] \n",
      "Epoch 2/100 [Val]: 100%|██████████| 3/3 [00:00<00:00, 10.92it/s, Batch RMSE=0.0815]\n",
      "Epoch 3/100 [Train]: 100%|██████████| 19/19 [00:02<00:00,  7.76it/s, Batch Loss=0.00722]\n",
      "Epoch 3/100 [Val]: 100%|██████████| 3/3 [00:00<00:00, 13.75it/s, Batch RMSE=0.0809]\n",
      "Epoch 4/100 [Train]: 100%|██████████| 19/19 [00:02<00:00,  7.50it/s, Batch Loss=0.00562]\n",
      "Epoch 4/100 [Val]: 100%|██████████| 3/3 [00:00<00:00,  9.14it/s, Batch RMSE=0.0808]\n",
      "Epoch 5/100 [Train]: 100%|██████████| 19/19 [00:02<00:00,  7.93it/s, Batch Loss=0.0058] \n",
      "Epoch 5/100 [Val]: 100%|██████████| 3/3 [00:00<00:00,  7.22it/s, Batch RMSE=0.0802]\n",
      "Epoch 6/100 [Train]: 100%|██████████| 19/19 [00:02<00:00,  7.38it/s, Batch Loss=0.00541]\n",
      "Epoch 6/100 [Val]: 100%|██████████| 3/3 [00:00<00:00,  9.89it/s, Batch RMSE=0.0808]\n",
      "Epoch 7/100 [Train]: 100%|██████████| 19/19 [00:02<00:00,  7.45it/s, Batch Loss=0.00492]\n",
      "Epoch 7/100 [Val]: 100%|██████████| 3/3 [00:00<00:00, 13.51it/s, Batch RMSE=0.08]  \n",
      "Epoch 8/100 [Train]: 100%|██████████| 19/19 [00:02<00:00,  8.21it/s, Batch Loss=0.00523]\n",
      "Epoch 8/100 [Val]: 100%|██████████| 3/3 [00:00<00:00,  8.85it/s, Batch RMSE=0.082] \n",
      "Epoch 9/100 [Train]: 100%|██████████| 19/19 [00:02<00:00,  7.90it/s, Batch Loss=0.00524]\n",
      "Epoch 9/100 [Val]: 100%|██████████| 3/3 [00:00<00:00, 10.97it/s, Batch RMSE=0.0825]\n",
      "Epoch 10/100 [Train]: 100%|██████████| 19/19 [00:02<00:00,  7.70it/s, Batch Loss=0.00474]\n",
      "Epoch 10/100 [Val]: 100%|██████████| 3/3 [00:00<00:00, 12.31it/s, Batch RMSE=0.0845]\n"
     ]
    },
    {
     "name": "stdout",
     "output_type": "stream",
     "text": [
      "Early stopping triggered at epoch 11\n"
     ]
    },
    {
     "data": {
      "text/html": [
       "\n",
       "    <style>\n",
       "        .wandb-row {\n",
       "            display: flex;\n",
       "            flex-direction: row;\n",
       "            flex-wrap: wrap;\n",
       "            justify-content: flex-start;\n",
       "            width: 100%;\n",
       "        }\n",
       "        .wandb-col {\n",
       "            display: flex;\n",
       "            flex-direction: column;\n",
       "            flex-basis: 100%;\n",
       "            flex: 1;\n",
       "            padding: 10px;\n",
       "        }\n",
       "    </style>\n",
       "<div class=\"wandb-row\"><div class=\"wandb-col\"><h3>Run history:</h3><br/><table class=\"wandb\"><tr><td>best_val_rmse</td><td>█▂▂▁▁▁▁▁▁▁</td></tr><tr><td>epoch</td><td>▁▂▂▃▄▅▅▆▇▇█</td></tr><tr><td>epoch_train_loss</td><td>█▅▄▄▃▂▂▂▂▁▁</td></tr><tr><td>epoch_val_loss</td><td>█▂▂▁▂▁▃▃▄▅▆</td></tr><tr><td>epoch_val_rmse</td><td>█▂▂▁▁▁▂▂▄▄▅</td></tr><tr><td>lr</td><td>███▇▇▆▅▅▄▂▁</td></tr><tr><td>train_loss</td><td>█▅▅▅▅▅▄▄▄▃▃▃▃▂▃▃▂▃▃▂▂▂▂▂▂▂▂▁▂▂▁▁▁▁▂▂▁▁▁▁</td></tr><tr><td>val_loss</td><td>█▄▄▄▂▃▄▂▃▄▂▂▅▂▃▅▁▂▆▂▂▆▂▂▇▂▃▇▂▃█▂▄</td></tr><tr><td>val_rmse</td><td>█▆▂▅▄▂▄▄▂▄▃▂▄▃▁▅▃▁▅▄▂▅▃▁▆▄▂▆▄▃▇▄▄</td></tr></table><br/></div><div class=\"wandb-col\"><h3>Run summary:</h3><br/><table class=\"wandb\"><tr><td>best_val_rmse</td><td>0.08354</td></tr><tr><td>epoch</td><td>10</td></tr><tr><td>epoch_train_loss</td><td>0.00467</td></tr><tr><td>epoch_val_loss</td><td>0.0114</td></tr><tr><td>epoch_val_rmse</td><td>0.08636</td></tr><tr><td>lr</td><td>0.0017</td></tr><tr><td>train_loss</td><td>0.00474</td></tr><tr><td>val_loss</td><td>0.01112</td></tr><tr><td>val_rmse</td><td>0.08454</td></tr></table><br/></div></div>"
      ],
      "text/plain": [
       "<IPython.core.display.HTML object>"
      ]
     },
     "metadata": {},
     "output_type": "display_data"
    },
    {
     "data": {
      "text/html": [
       " View run <strong style=\"color:#cdcd00\">polished-sweep-12</strong> at: <a href='https://wandb.ai/ychnli-stanford-university/sea-ice-prediction/runs/ryns3ln2' target=\"_blank\">https://wandb.ai/ychnli-stanford-university/sea-ice-prediction/runs/ryns3ln2</a><br/> View project at: <a href='https://wandb.ai/ychnli-stanford-university/sea-ice-prediction' target=\"_blank\">https://wandb.ai/ychnli-stanford-university/sea-ice-prediction</a><br/>Synced 4 W&B file(s), 0 media file(s), 0 artifact file(s) and 0 other file(s)"
      ],
      "text/plain": [
       "<IPython.core.display.HTML object>"
      ]
     },
     "metadata": {},
     "output_type": "display_data"
    },
    {
     "data": {
      "text/html": [
       "Find logs at: <code>./wandb/run-20250525_200705-ryns3ln2/logs</code>"
      ],
      "text/plain": [
       "<IPython.core.display.HTML object>"
      ]
     },
     "metadata": {},
     "output_type": "display_data"
    },
    {
     "name": "stderr",
     "output_type": "stream",
     "text": [
      "\u001b[34m\u001b[1mwandb\u001b[0m: Agent Starting Run: k48p3eqp with config:\n",
      "\u001b[34m\u001b[1mwandb\u001b[0m: \tbatch_size: 50\n",
      "\u001b[34m\u001b[1mwandb\u001b[0m: \tloss_function_args: 1\n",
      "\u001b[34m\u001b[1mwandb\u001b[0m: \tlr: 0.004903054147604264\n",
      "\u001b[34m\u001b[1mwandb\u001b[0m: \tnum_epochs: 100\n",
      "\u001b[34m\u001b[1mwandb\u001b[0m: \tweight_decay: 0\n"
     ]
    },
    {
     "data": {
      "text/html": [
       "Tracking run with wandb version 0.19.0"
      ],
      "text/plain": [
       "<IPython.core.display.HTML object>"
      ]
     },
     "metadata": {},
     "output_type": "display_data"
    },
    {
     "data": {
      "text/html": [
       "Run data is saved locally in <code>/home/users/yucli/sicpred/wandb/run-20250525_200741-k48p3eqp</code>"
      ],
      "text/plain": [
       "<IPython.core.display.HTML object>"
      ]
     },
     "metadata": {},
     "output_type": "display_data"
    },
    {
     "data": {
      "text/html": [
       "Syncing run <strong><a href='https://wandb.ai/ychnli-stanford-university/sea-ice-prediction/runs/k48p3eqp' target=\"_blank\">logical-sweep-13</a></strong> to <a href='https://wandb.ai/ychnli-stanford-university/sea-ice-prediction' target=\"_blank\">Weights & Biases</a> (<a href='https://wandb.me/developer-guide' target=\"_blank\">docs</a>)<br/>Sweep page: <a href='https://wandb.ai/ychnli-stanford-university/sea-ice-prediction/sweeps/ig2sril5' target=\"_blank\">https://wandb.ai/ychnli-stanford-university/sea-ice-prediction/sweeps/ig2sril5</a>"
      ],
      "text/plain": [
       "<IPython.core.display.HTML object>"
      ]
     },
     "metadata": {},
     "output_type": "display_data"
    },
    {
     "data": {
      "text/html": [
       " View project at <a href='https://wandb.ai/ychnli-stanford-university/sea-ice-prediction' target=\"_blank\">https://wandb.ai/ychnli-stanford-university/sea-ice-prediction</a>"
      ],
      "text/plain": [
       "<IPython.core.display.HTML object>"
      ]
     },
     "metadata": {},
     "output_type": "display_data"
    },
    {
     "data": {
      "text/html": [
       " View sweep at <a href='https://wandb.ai/ychnli-stanford-university/sea-ice-prediction/sweeps/ig2sril5' target=\"_blank\">https://wandb.ai/ychnli-stanford-university/sea-ice-prediction/sweeps/ig2sril5</a>"
      ],
      "text/plain": [
       "<IPython.core.display.HTML object>"
      ]
     },
     "metadata": {},
     "output_type": "display_data"
    },
    {
     "data": {
      "text/html": [
       " View run at <a href='https://wandb.ai/ychnli-stanford-university/sea-ice-prediction/runs/k48p3eqp' target=\"_blank\">https://wandb.ai/ychnli-stanford-university/sea-ice-prediction/runs/k48p3eqp</a>"
      ],
      "text/plain": [
       "<IPython.core.display.HTML object>"
      ]
     },
     "metadata": {},
     "output_type": "display_data"
    },
    {
     "name": "stderr",
     "output_type": "stream",
     "text": [
      "Epoch 0/100 [Train]: 100%|██████████| 8/8 [00:02<00:00,  3.24it/s, Batch Loss=0.0152]\n",
      "Epoch 0/100 [Val]: 100%|██████████| 2/2 [00:00<00:00,  8.75it/s, Batch RMSE=0.0984]\n",
      "Epoch 1/100 [Train]: 100%|██████████| 8/8 [00:02<00:00,  3.78it/s, Batch Loss=0.0112]\n",
      "Epoch 1/100 [Val]: 100%|██████████| 2/2 [00:00<00:00,  8.11it/s, Batch RMSE=0.0924]\n",
      "Epoch 2/100 [Train]: 100%|██████████| 8/8 [00:02<00:00,  3.15it/s, Batch Loss=0.0108]\n",
      "Epoch 2/100 [Val]: 100%|██████████| 2/2 [00:00<00:00, 10.14it/s, Batch RMSE=0.0897]\n",
      "Epoch 3/100 [Train]: 100%|██████████| 8/8 [00:02<00:00,  3.68it/s, Batch Loss=0.00858]\n",
      "Epoch 3/100 [Val]: 100%|██████████| 2/2 [00:00<00:00, 10.07it/s, Batch RMSE=0.088] \n",
      "Epoch 4/100 [Train]: 100%|██████████| 8/8 [00:02<00:00,  3.88it/s, Batch Loss=0.00784]\n",
      "Epoch 4/100 [Val]: 100%|██████████| 2/2 [00:00<00:00,  9.32it/s, Batch RMSE=0.0845]\n",
      "Epoch 5/100 [Train]: 100%|██████████| 8/8 [00:02<00:00,  3.64it/s, Batch Loss=0.00742]\n",
      "Epoch 5/100 [Val]: 100%|██████████| 2/2 [00:00<00:00,  9.77it/s, Batch RMSE=0.0863]\n",
      "Epoch 6/100 [Train]: 100%|██████████| 8/8 [00:02<00:00,  3.17it/s, Batch Loss=0.00779]\n",
      "Epoch 6/100 [Val]: 100%|██████████| 2/2 [00:00<00:00,  9.52it/s, Batch RMSE=0.0846]\n",
      "Epoch 7/100 [Train]: 100%|██████████| 8/8 [00:02<00:00,  3.92it/s, Batch Loss=0.00697]\n",
      "Epoch 7/100 [Val]: 100%|██████████| 2/2 [00:00<00:00,  9.32it/s, Batch RMSE=0.0897]\n",
      "Epoch 8/100 [Train]: 100%|██████████| 8/8 [00:02<00:00,  3.86it/s, Batch Loss=0.00708]\n",
      "Epoch 8/100 [Val]: 100%|██████████| 2/2 [00:00<00:00,  9.71it/s, Batch RMSE=0.0858]\n",
      "Epoch 9/100 [Train]: 100%|██████████| 8/8 [00:02<00:00,  3.60it/s, Batch Loss=0.00589]\n",
      "Epoch 9/100 [Val]: 100%|██████████| 2/2 [00:00<00:00, 10.01it/s, Batch RMSE=0.0875]\n",
      "Epoch 10/100 [Train]: 100%|██████████| 8/8 [00:02<00:00,  3.85it/s, Batch Loss=0.00617]\n",
      "Epoch 10/100 [Val]: 100%|██████████| 2/2 [00:00<00:00,  9.27it/s, Batch RMSE=0.0881]\n",
      "Epoch 11/100 [Train]: 100%|██████████| 8/8 [00:02<00:00,  3.33it/s, Batch Loss=0.0055] \n",
      "Epoch 11/100 [Val]: 100%|██████████| 2/2 [00:00<00:00,  9.43it/s, Batch RMSE=0.0878]\n"
     ]
    },
    {
     "name": "stdout",
     "output_type": "stream",
     "text": [
      "Early stopping triggered at epoch 12\n"
     ]
    },
    {
     "data": {
      "text/html": [
       "\n",
       "    <style>\n",
       "        .wandb-row {\n",
       "            display: flex;\n",
       "            flex-direction: row;\n",
       "            flex-wrap: wrap;\n",
       "            justify-content: flex-start;\n",
       "            width: 100%;\n",
       "        }\n",
       "        .wandb-col {\n",
       "            display: flex;\n",
       "            flex-direction: column;\n",
       "            flex-basis: 100%;\n",
       "            flex: 1;\n",
       "            padding: 10px;\n",
       "        }\n",
       "    </style>\n",
       "<div class=\"wandb-row\"><div class=\"wandb-col\"><h3>Run history:</h3><br/><table class=\"wandb\"><tr><td>best_val_rmse</td><td>█▅▃▂▁▁▁▁▁▁▁</td></tr><tr><td>epoch</td><td>▁▂▂▃▄▄▅▅▆▇▇█</td></tr><tr><td>epoch_train_loss</td><td>█▅▄▃▃▂▂▂▂▁▁▁</td></tr><tr><td>epoch_val_loss</td><td>█▅▄▃▂▁▁▂▂▂▂▂</td></tr><tr><td>epoch_val_rmse</td><td>█▅▃▂▁▁▁▁▁▂▂▂</td></tr><tr><td>lr</td><td>███▇▇▇▆▅▄▃▂▁</td></tr><tr><td>train_loss</td><td>███▇▅▅▅▄▄▄▃▃▃▃▃▃▂▂▃▂▂▂▂▂▂▂▂▂▂▂▁▁▁▁▁▁▁▁▁▁</td></tr><tr><td>val_loss</td><td>▅█▃▇▂▆▂▅▁▄▁▄▁▄▁▅▁▄▁▅▂▅▁▅</td></tr><tr><td>val_rmse</td><td>█▆▅▄▃▃▂▃▂▁▁▂▁▁▁▃▁▂▂▂▂▃▁▂</td></tr></table><br/></div><div class=\"wandb-col\"><h3>Run summary:</h3><br/><table class=\"wandb\"><tr><td>best_val_rmse</td><td>0.08408</td></tr><tr><td>epoch</td><td>11</td></tr><tr><td>epoch_train_loss</td><td>0.00572</td></tr><tr><td>epoch_val_loss</td><td>0.01304</td></tr><tr><td>epoch_val_rmse</td><td>0.08544</td></tr><tr><td>lr</td><td>0.00476</td></tr><tr><td>train_loss</td><td>0.0055</td></tr><tr><td>val_loss</td><td>0.01515</td></tr><tr><td>val_rmse</td><td>0.08785</td></tr></table><br/></div></div>"
      ],
      "text/plain": [
       "<IPython.core.display.HTML object>"
      ]
     },
     "metadata": {},
     "output_type": "display_data"
    },
    {
     "data": {
      "text/html": [
       " View run <strong style=\"color:#cdcd00\">logical-sweep-13</strong> at: <a href='https://wandb.ai/ychnli-stanford-university/sea-ice-prediction/runs/k48p3eqp' target=\"_blank\">https://wandb.ai/ychnli-stanford-university/sea-ice-prediction/runs/k48p3eqp</a><br/> View project at: <a href='https://wandb.ai/ychnli-stanford-university/sea-ice-prediction' target=\"_blank\">https://wandb.ai/ychnli-stanford-university/sea-ice-prediction</a><br/>Synced 4 W&B file(s), 0 media file(s), 0 artifact file(s) and 0 other file(s)"
      ],
      "text/plain": [
       "<IPython.core.display.HTML object>"
      ]
     },
     "metadata": {},
     "output_type": "display_data"
    },
    {
     "data": {
      "text/html": [
       "Find logs at: <code>./wandb/run-20250525_200741-k48p3eqp/logs</code>"
      ],
      "text/plain": [
       "<IPython.core.display.HTML object>"
      ]
     },
     "metadata": {},
     "output_type": "display_data"
    },
    {
     "name": "stderr",
     "output_type": "stream",
     "text": [
      "\u001b[34m\u001b[1mwandb\u001b[0m: Agent Starting Run: ibt54oeq with config:\n",
      "\u001b[34m\u001b[1mwandb\u001b[0m: \tbatch_size: 64\n",
      "\u001b[34m\u001b[1mwandb\u001b[0m: \tloss_function_args: 1\n",
      "\u001b[34m\u001b[1mwandb\u001b[0m: \tlr: 0.0006800394535628711\n",
      "\u001b[34m\u001b[1mwandb\u001b[0m: \tnum_epochs: 100\n",
      "\u001b[34m\u001b[1mwandb\u001b[0m: \tweight_decay: 0\n"
     ]
    },
    {
     "data": {
      "text/html": [
       "Tracking run with wandb version 0.19.0"
      ],
      "text/plain": [
       "<IPython.core.display.HTML object>"
      ]
     },
     "metadata": {},
     "output_type": "display_data"
    },
    {
     "data": {
      "text/html": [
       "Run data is saved locally in <code>/home/users/yucli/sicpred/wandb/run-20250525_200816-ibt54oeq</code>"
      ],
      "text/plain": [
       "<IPython.core.display.HTML object>"
      ]
     },
     "metadata": {},
     "output_type": "display_data"
    },
    {
     "data": {
      "text/html": [
       "Syncing run <strong><a href='https://wandb.ai/ychnli-stanford-university/sea-ice-prediction/runs/ibt54oeq' target=\"_blank\">proud-sweep-14</a></strong> to <a href='https://wandb.ai/ychnli-stanford-university/sea-ice-prediction' target=\"_blank\">Weights & Biases</a> (<a href='https://wandb.me/developer-guide' target=\"_blank\">docs</a>)<br/>Sweep page: <a href='https://wandb.ai/ychnli-stanford-university/sea-ice-prediction/sweeps/ig2sril5' target=\"_blank\">https://wandb.ai/ychnli-stanford-university/sea-ice-prediction/sweeps/ig2sril5</a>"
      ],
      "text/plain": [
       "<IPython.core.display.HTML object>"
      ]
     },
     "metadata": {},
     "output_type": "display_data"
    },
    {
     "data": {
      "text/html": [
       " View project at <a href='https://wandb.ai/ychnli-stanford-university/sea-ice-prediction' target=\"_blank\">https://wandb.ai/ychnli-stanford-university/sea-ice-prediction</a>"
      ],
      "text/plain": [
       "<IPython.core.display.HTML object>"
      ]
     },
     "metadata": {},
     "output_type": "display_data"
    },
    {
     "data": {
      "text/html": [
       " View sweep at <a href='https://wandb.ai/ychnli-stanford-university/sea-ice-prediction/sweeps/ig2sril5' target=\"_blank\">https://wandb.ai/ychnli-stanford-university/sea-ice-prediction/sweeps/ig2sril5</a>"
      ],
      "text/plain": [
       "<IPython.core.display.HTML object>"
      ]
     },
     "metadata": {},
     "output_type": "display_data"
    },
    {
     "data": {
      "text/html": [
       " View run at <a href='https://wandb.ai/ychnli-stanford-university/sea-ice-prediction/runs/ibt54oeq' target=\"_blank\">https://wandb.ai/ychnli-stanford-university/sea-ice-prediction/runs/ibt54oeq</a>"
      ],
      "text/plain": [
       "<IPython.core.display.HTML object>"
      ]
     },
     "metadata": {},
     "output_type": "display_data"
    },
    {
     "name": "stderr",
     "output_type": "stream",
     "text": [
      "Epoch 0/100 [Train]: 100%|██████████| 6/6 [00:02<00:00,  2.48it/s, Batch Loss=0.0123]\n",
      "Epoch 0/100 [Val]: 100%|██████████| 1/1 [00:00<00:00,  4.83it/s, Batch RMSE=0.0984]\n",
      "Epoch 1/100 [Train]: 100%|██████████| 6/6 [00:02<00:00,  2.76it/s, Batch Loss=0.0112]\n",
      "Epoch 1/100 [Val]: 100%|██████████| 1/1 [00:00<00:00,  4.71it/s, Batch RMSE=0.0924]\n",
      "Epoch 2/100 [Train]: 100%|██████████| 6/6 [00:02<00:00,  2.34it/s, Batch Loss=0.0102]\n",
      "Epoch 2/100 [Val]: 100%|██████████| 1/1 [00:00<00:00,  5.00it/s, Batch RMSE=0.0891]\n",
      "Epoch 3/100 [Train]: 100%|██████████| 6/6 [00:02<00:00,  2.42it/s, Batch Loss=0.00997]\n",
      "Epoch 3/100 [Val]: 100%|██████████| 1/1 [00:00<00:00,  4.15it/s, Batch RMSE=0.0875]\n",
      "Epoch 4/100 [Train]: 100%|██████████| 6/6 [00:02<00:00,  2.86it/s, Batch Loss=0.00873]\n",
      "Epoch 4/100 [Val]: 100%|██████████| 1/1 [00:00<00:00,  4.57it/s, Batch RMSE=0.0859]\n",
      "Epoch 5/100 [Train]: 100%|██████████| 6/6 [00:02<00:00,  2.46it/s, Batch Loss=0.00908]\n",
      "Epoch 5/100 [Val]: 100%|██████████| 1/1 [00:00<00:00,  4.83it/s, Batch RMSE=0.0847]\n",
      "Epoch 6/100 [Train]: 100%|██████████| 6/6 [00:02<00:00,  2.43it/s, Batch Loss=0.00884]\n",
      "Epoch 6/100 [Val]: 100%|██████████| 1/1 [00:00<00:00,  4.21it/s, Batch RMSE=0.0848]\n",
      "Epoch 7/100 [Train]: 100%|██████████| 6/6 [00:01<00:00,  3.48it/s, Batch Loss=0.00816]\n",
      "Epoch 7/100 [Val]: 100%|██████████| 1/1 [00:00<00:00,  5.68it/s, Batch RMSE=0.0843]\n",
      "Epoch 8/100 [Train]: 100%|██████████| 6/6 [00:02<00:00,  2.90it/s, Batch Loss=0.00733]\n",
      "Epoch 8/100 [Val]: 100%|██████████| 1/1 [00:00<00:00,  2.67it/s, Batch RMSE=0.0841]\n",
      "Epoch 9/100 [Train]: 100%|██████████| 6/6 [00:02<00:00,  2.88it/s, Batch Loss=0.00698]\n",
      "Epoch 9/100 [Val]: 100%|██████████| 1/1 [00:00<00:00,  4.94it/s, Batch RMSE=0.0844]\n",
      "Epoch 10/100 [Train]: 100%|██████████| 6/6 [00:02<00:00,  2.24it/s, Batch Loss=0.00694]\n",
      "Epoch 10/100 [Val]: 100%|██████████| 1/1 [00:00<00:00,  4.78it/s, Batch RMSE=0.0844]\n",
      "Epoch 11/100 [Train]: 100%|██████████| 6/6 [00:02<00:00,  2.09it/s, Batch Loss=0.00686]\n",
      "Epoch 11/100 [Val]: 100%|██████████| 1/1 [00:00<00:00,  5.16it/s, Batch RMSE=0.0845]\n",
      "Epoch 12/100 [Train]: 100%|██████████| 6/6 [00:02<00:00,  2.78it/s, Batch Loss=0.0066] \n",
      "Epoch 12/100 [Val]: 100%|██████████| 1/1 [00:00<00:00,  4.95it/s, Batch RMSE=0.0847]\n",
      "Epoch 13/100 [Train]: 100%|██████████| 6/6 [00:02<00:00,  2.81it/s, Batch Loss=0.00628]\n",
      "Epoch 13/100 [Val]: 100%|██████████| 1/1 [00:00<00:00,  5.07it/s, Batch RMSE=0.0846]\n"
     ]
    },
    {
     "name": "stdout",
     "output_type": "stream",
     "text": [
      "Early stopping triggered at epoch 14\n"
     ]
    },
    {
     "data": {
      "text/html": [
       "\n",
       "    <style>\n",
       "        .wandb-row {\n",
       "            display: flex;\n",
       "            flex-direction: row;\n",
       "            flex-wrap: wrap;\n",
       "            justify-content: flex-start;\n",
       "            width: 100%;\n",
       "        }\n",
       "        .wandb-col {\n",
       "            display: flex;\n",
       "            flex-direction: column;\n",
       "            flex-basis: 100%;\n",
       "            flex: 1;\n",
       "            padding: 10px;\n",
       "        }\n",
       "    </style>\n",
       "<div class=\"wandb-row\"><div class=\"wandb-col\"><h3>Run history:</h3><br/><table class=\"wandb\"><tr><td>best_val_rmse</td><td>█▅▃▃▂▁▁▁▁▁▁▁▁</td></tr><tr><td>epoch</td><td>▁▂▂▃▃▄▄▅▅▆▆▇▇█</td></tr><tr><td>epoch_train_loss</td><td>█▅▅▄▃▃▃▂▂▂▂▁▁▁</td></tr><tr><td>epoch_val_loss</td><td>█▅▃▂▂▁▁▁▁▁▁▁▁▁</td></tr><tr><td>epoch_val_rmse</td><td>█▅▃▃▂▁▁▁▁▁▁▁▁▁</td></tr><tr><td>lr</td><td>████▇▇▆▆▅▅▄▃▂▁</td></tr><tr><td>train_loss</td><td>█▇▄▅▅▄▄▄▄▄▃▃▃▃▃▃▃▂▂▂▂▂▂▂▁▂▂▁▂▂▁▁▁▁▁▁▁▁▁▁</td></tr><tr><td>val_loss</td><td>█▅▃▂▂▁▁▁▁▁▁▁▁▁</td></tr><tr><td>val_rmse</td><td>█▅▃▃▂▁▁▁▁▁▁▁▁▁</td></tr></table><br/></div><div class=\"wandb-col\"><h3>Run summary:</h3><br/><table class=\"wandb\"><tr><td>best_val_rmse</td><td>0.08407</td></tr><tr><td>epoch</td><td>13</td></tr><tr><td>epoch_train_loss</td><td>0.00637</td></tr><tr><td>epoch_val_loss</td><td>0.01096</td></tr><tr><td>epoch_val_rmse</td><td>0.08461</td></tr><tr><td>lr</td><td>0.00065</td></tr><tr><td>train_loss</td><td>0.00628</td></tr><tr><td>val_loss</td><td>0.01096</td></tr><tr><td>val_rmse</td><td>0.08461</td></tr></table><br/></div></div>"
      ],
      "text/plain": [
       "<IPython.core.display.HTML object>"
      ]
     },
     "metadata": {},
     "output_type": "display_data"
    },
    {
     "data": {
      "text/html": [
       " View run <strong style=\"color:#cdcd00\">proud-sweep-14</strong> at: <a href='https://wandb.ai/ychnli-stanford-university/sea-ice-prediction/runs/ibt54oeq' target=\"_blank\">https://wandb.ai/ychnli-stanford-university/sea-ice-prediction/runs/ibt54oeq</a><br/> View project at: <a href='https://wandb.ai/ychnli-stanford-university/sea-ice-prediction' target=\"_blank\">https://wandb.ai/ychnli-stanford-university/sea-ice-prediction</a><br/>Synced 4 W&B file(s), 0 media file(s), 0 artifact file(s) and 0 other file(s)"
      ],
      "text/plain": [
       "<IPython.core.display.HTML object>"
      ]
     },
     "metadata": {},
     "output_type": "display_data"
    },
    {
     "data": {
      "text/html": [
       "Find logs at: <code>./wandb/run-20250525_200816-ibt54oeq/logs</code>"
      ],
      "text/plain": [
       "<IPython.core.display.HTML object>"
      ]
     },
     "metadata": {},
     "output_type": "display_data"
    },
    {
     "name": "stderr",
     "output_type": "stream",
     "text": [
      "\u001b[34m\u001b[1mwandb\u001b[0m: Agent Starting Run: 30riox7x with config:\n",
      "\u001b[34m\u001b[1mwandb\u001b[0m: \tbatch_size: 64\n",
      "\u001b[34m\u001b[1mwandb\u001b[0m: \tloss_function_args: 1\n",
      "\u001b[34m\u001b[1mwandb\u001b[0m: \tlr: 0.0038794852492487607\n",
      "\u001b[34m\u001b[1mwandb\u001b[0m: \tnum_epochs: 100\n",
      "\u001b[34m\u001b[1mwandb\u001b[0m: \tweight_decay: 0\n"
     ]
    },
    {
     "data": {
      "text/html": [
       "Tracking run with wandb version 0.19.0"
      ],
      "text/plain": [
       "<IPython.core.display.HTML object>"
      ]
     },
     "metadata": {},
     "output_type": "display_data"
    },
    {
     "data": {
      "text/html": [
       "Run data is saved locally in <code>/home/users/yucli/sicpred/wandb/run-20250525_200902-30riox7x</code>"
      ],
      "text/plain": [
       "<IPython.core.display.HTML object>"
      ]
     },
     "metadata": {},
     "output_type": "display_data"
    },
    {
     "data": {
      "text/html": [
       "Syncing run <strong><a href='https://wandb.ai/ychnli-stanford-university/sea-ice-prediction/runs/30riox7x' target=\"_blank\">fiery-sweep-15</a></strong> to <a href='https://wandb.ai/ychnli-stanford-university/sea-ice-prediction' target=\"_blank\">Weights & Biases</a> (<a href='https://wandb.me/developer-guide' target=\"_blank\">docs</a>)<br/>Sweep page: <a href='https://wandb.ai/ychnli-stanford-university/sea-ice-prediction/sweeps/ig2sril5' target=\"_blank\">https://wandb.ai/ychnli-stanford-university/sea-ice-prediction/sweeps/ig2sril5</a>"
      ],
      "text/plain": [
       "<IPython.core.display.HTML object>"
      ]
     },
     "metadata": {},
     "output_type": "display_data"
    },
    {
     "data": {
      "text/html": [
       " View project at <a href='https://wandb.ai/ychnli-stanford-university/sea-ice-prediction' target=\"_blank\">https://wandb.ai/ychnli-stanford-university/sea-ice-prediction</a>"
      ],
      "text/plain": [
       "<IPython.core.display.HTML object>"
      ]
     },
     "metadata": {},
     "output_type": "display_data"
    },
    {
     "data": {
      "text/html": [
       " View sweep at <a href='https://wandb.ai/ychnli-stanford-university/sea-ice-prediction/sweeps/ig2sril5' target=\"_blank\">https://wandb.ai/ychnli-stanford-university/sea-ice-prediction/sweeps/ig2sril5</a>"
      ],
      "text/plain": [
       "<IPython.core.display.HTML object>"
      ]
     },
     "metadata": {},
     "output_type": "display_data"
    },
    {
     "data": {
      "text/html": [
       " View run at <a href='https://wandb.ai/ychnli-stanford-university/sea-ice-prediction/runs/30riox7x' target=\"_blank\">https://wandb.ai/ychnli-stanford-university/sea-ice-prediction/runs/30riox7x</a>"
      ],
      "text/plain": [
       "<IPython.core.display.HTML object>"
      ]
     },
     "metadata": {},
     "output_type": "display_data"
    },
    {
     "name": "stderr",
     "output_type": "stream",
     "text": [
      "Epoch 0/100 [Train]: 100%|██████████| 6/6 [00:02<00:00,  2.84it/s, Batch Loss=0.0128]\n",
      "Epoch 0/100 [Val]: 100%|██████████| 1/1 [00:00<00:00,  4.78it/s, Batch RMSE=0.0979]\n",
      "Epoch 1/100 [Train]: 100%|██████████| 6/6 [00:02<00:00,  2.86it/s, Batch Loss=0.0111]\n",
      "Epoch 1/100 [Val]: 100%|██████████| 1/1 [00:00<00:00,  5.09it/s, Batch RMSE=0.0913]\n",
      "Epoch 2/100 [Train]: 100%|██████████| 6/6 [00:02<00:00,  2.89it/s, Batch Loss=0.00948]\n",
      "Epoch 2/100 [Val]: 100%|██████████| 1/1 [00:00<00:00,  5.14it/s, Batch RMSE=0.0878]\n",
      "Epoch 3/100 [Train]: 100%|██████████| 6/6 [00:02<00:00,  2.90it/s, Batch Loss=0.00912]\n",
      "Epoch 3/100 [Val]: 100%|██████████| 1/1 [00:00<00:00,  4.78it/s, Batch RMSE=0.0865]\n",
      "Epoch 4/100 [Train]: 100%|██████████| 6/6 [00:02<00:00,  2.95it/s, Batch Loss=0.00834]\n",
      "Epoch 4/100 [Val]: 100%|██████████| 1/1 [00:00<00:00,  5.06it/s, Batch RMSE=0.0857]\n",
      "Epoch 5/100 [Train]: 100%|██████████| 6/6 [00:02<00:00,  2.85it/s, Batch Loss=0.00765]\n",
      "Epoch 5/100 [Val]: 100%|██████████| 1/1 [00:00<00:00,  4.91it/s, Batch RMSE=0.0843]\n",
      "Epoch 6/100 [Train]: 100%|██████████| 6/6 [00:02<00:00,  2.92it/s, Batch Loss=0.00741]\n",
      "Epoch 6/100 [Val]: 100%|██████████| 1/1 [00:00<00:00,  5.04it/s, Batch RMSE=0.0862]\n",
      "Epoch 7/100 [Train]: 100%|██████████| 6/6 [00:02<00:00,  2.91it/s, Batch Loss=0.00653]\n",
      "Epoch 7/100 [Val]: 100%|██████████| 1/1 [00:00<00:00,  4.42it/s, Batch RMSE=0.0849]\n",
      "Epoch 8/100 [Train]: 100%|██████████| 6/6 [00:02<00:00,  2.98it/s, Batch Loss=0.00639]\n",
      "Epoch 8/100 [Val]: 100%|██████████| 1/1 [00:00<00:00,  5.13it/s, Batch RMSE=0.0857]\n",
      "Epoch 9/100 [Train]: 100%|██████████| 6/6 [00:02<00:00,  2.94it/s, Batch Loss=0.00619]\n",
      "Epoch 9/100 [Val]: 100%|██████████| 1/1 [00:00<00:00,  4.58it/s, Batch RMSE=0.0852]\n",
      "Epoch 10/100 [Train]: 100%|██████████| 6/6 [00:02<00:00,  2.92it/s, Batch Loss=0.00586]\n",
      "Epoch 10/100 [Val]: 100%|██████████| 1/1 [00:00<00:00,  4.78it/s, Batch RMSE=0.0847]\n"
     ]
    },
    {
     "name": "stdout",
     "output_type": "stream",
     "text": [
      "Early stopping triggered at epoch 11\n"
     ]
    },
    {
     "data": {
      "text/html": [
       "\n",
       "    <style>\n",
       "        .wandb-row {\n",
       "            display: flex;\n",
       "            flex-direction: row;\n",
       "            flex-wrap: wrap;\n",
       "            justify-content: flex-start;\n",
       "            width: 100%;\n",
       "        }\n",
       "        .wandb-col {\n",
       "            display: flex;\n",
       "            flex-direction: column;\n",
       "            flex-basis: 100%;\n",
       "            flex: 1;\n",
       "            padding: 10px;\n",
       "        }\n",
       "    </style>\n",
       "<div class=\"wandb-row\"><div class=\"wandb-col\"><h3>Run history:</h3><br/><table class=\"wandb\"><tr><td>best_val_rmse</td><td>█▅▃▂▂▁▁▁▁▁</td></tr><tr><td>epoch</td><td>▁▂▂▃▄▅▅▆▇▇█</td></tr><tr><td>epoch_train_loss</td><td>█▅▄▃▃▂▂▂▁▁▁</td></tr><tr><td>epoch_val_loss</td><td>█▄▂▂▁▁▂▁▂▁▁</td></tr><tr><td>epoch_val_rmse</td><td>█▅▃▂▂▁▂▁▂▁▁</td></tr><tr><td>lr</td><td>███▇▇▆▅▅▄▂▁</td></tr><tr><td>train_loss</td><td>█▆▆▅▅▄▄▄▄▄▃▃▄▃▃▃▃▃▃▃▂▂▂▂▂▂▂▂▂▁▁▁▂▁▁▁▁▁▁▁</td></tr><tr><td>val_loss</td><td>█▄▂▂▁▁▂▁▂▁▁</td></tr><tr><td>val_rmse</td><td>█▅▃▂▂▁▂▁▂▁▁</td></tr></table><br/></div><div class=\"wandb-col\"><h3>Run summary:</h3><br/><table class=\"wandb\"><tr><td>best_val_rmse</td><td>0.08427</td></tr><tr><td>epoch</td><td>10</td></tr><tr><td>epoch_train_loss</td><td>0.00579</td></tr><tr><td>epoch_val_loss</td><td>0.0111</td></tr><tr><td>epoch_val_rmse</td><td>0.08467</td></tr><tr><td>lr</td><td>0.00378</td></tr><tr><td>train_loss</td><td>0.00586</td></tr><tr><td>val_loss</td><td>0.0111</td></tr><tr><td>val_rmse</td><td>0.08467</td></tr></table><br/></div></div>"
      ],
      "text/plain": [
       "<IPython.core.display.HTML object>"
      ]
     },
     "metadata": {},
     "output_type": "display_data"
    },
    {
     "data": {
      "text/html": [
       " View run <strong style=\"color:#cdcd00\">fiery-sweep-15</strong> at: <a href='https://wandb.ai/ychnli-stanford-university/sea-ice-prediction/runs/30riox7x' target=\"_blank\">https://wandb.ai/ychnli-stanford-university/sea-ice-prediction/runs/30riox7x</a><br/> View project at: <a href='https://wandb.ai/ychnli-stanford-university/sea-ice-prediction' target=\"_blank\">https://wandb.ai/ychnli-stanford-university/sea-ice-prediction</a><br/>Synced 4 W&B file(s), 0 media file(s), 0 artifact file(s) and 0 other file(s)"
      ],
      "text/plain": [
       "<IPython.core.display.HTML object>"
      ]
     },
     "metadata": {},
     "output_type": "display_data"
    },
    {
     "data": {
      "text/html": [
       "Find logs at: <code>./wandb/run-20250525_200902-30riox7x/logs</code>"
      ],
      "text/plain": [
       "<IPython.core.display.HTML object>"
      ]
     },
     "metadata": {},
     "output_type": "display_data"
    },
    {
     "name": "stderr",
     "output_type": "stream",
     "text": [
      "\u001b[34m\u001b[1mwandb\u001b[0m: Agent Starting Run: rr8rvfvn with config:\n",
      "\u001b[34m\u001b[1mwandb\u001b[0m: \tbatch_size: 50\n",
      "\u001b[34m\u001b[1mwandb\u001b[0m: \tloss_function_args: 1\n",
      "\u001b[34m\u001b[1mwandb\u001b[0m: \tlr: 0.0028768799700376116\n",
      "\u001b[34m\u001b[1mwandb\u001b[0m: \tnum_epochs: 100\n",
      "\u001b[34m\u001b[1mwandb\u001b[0m: \tweight_decay: 0\n"
     ]
    },
    {
     "data": {
      "text/html": [
       "Tracking run with wandb version 0.19.0"
      ],
      "text/plain": [
       "<IPython.core.display.HTML object>"
      ]
     },
     "metadata": {},
     "output_type": "display_data"
    },
    {
     "data": {
      "text/html": [
       "Run data is saved locally in <code>/home/users/yucli/sicpred/wandb/run-20250525_200933-rr8rvfvn</code>"
      ],
      "text/plain": [
       "<IPython.core.display.HTML object>"
      ]
     },
     "metadata": {},
     "output_type": "display_data"
    },
    {
     "data": {
      "text/html": [
       "Syncing run <strong><a href='https://wandb.ai/ychnli-stanford-university/sea-ice-prediction/runs/rr8rvfvn' target=\"_blank\">deft-sweep-16</a></strong> to <a href='https://wandb.ai/ychnli-stanford-university/sea-ice-prediction' target=\"_blank\">Weights & Biases</a> (<a href='https://wandb.me/developer-guide' target=\"_blank\">docs</a>)<br/>Sweep page: <a href='https://wandb.ai/ychnli-stanford-university/sea-ice-prediction/sweeps/ig2sril5' target=\"_blank\">https://wandb.ai/ychnli-stanford-university/sea-ice-prediction/sweeps/ig2sril5</a>"
      ],
      "text/plain": [
       "<IPython.core.display.HTML object>"
      ]
     },
     "metadata": {},
     "output_type": "display_data"
    },
    {
     "data": {
      "text/html": [
       " View project at <a href='https://wandb.ai/ychnli-stanford-university/sea-ice-prediction' target=\"_blank\">https://wandb.ai/ychnli-stanford-university/sea-ice-prediction</a>"
      ],
      "text/plain": [
       "<IPython.core.display.HTML object>"
      ]
     },
     "metadata": {},
     "output_type": "display_data"
    },
    {
     "data": {
      "text/html": [
       " View sweep at <a href='https://wandb.ai/ychnli-stanford-university/sea-ice-prediction/sweeps/ig2sril5' target=\"_blank\">https://wandb.ai/ychnli-stanford-university/sea-ice-prediction/sweeps/ig2sril5</a>"
      ],
      "text/plain": [
       "<IPython.core.display.HTML object>"
      ]
     },
     "metadata": {},
     "output_type": "display_data"
    },
    {
     "data": {
      "text/html": [
       " View run at <a href='https://wandb.ai/ychnli-stanford-university/sea-ice-prediction/runs/rr8rvfvn' target=\"_blank\">https://wandb.ai/ychnli-stanford-university/sea-ice-prediction/runs/rr8rvfvn</a>"
      ],
      "text/plain": [
       "<IPython.core.display.HTML object>"
      ]
     },
     "metadata": {},
     "output_type": "display_data"
    },
    {
     "name": "stderr",
     "output_type": "stream",
     "text": [
      "Epoch 0/100 [Train]: 100%|██████████| 8/8 [00:02<00:00,  3.64it/s, Batch Loss=0.0103]\n",
      "Epoch 0/100 [Val]: 100%|██████████| 2/2 [00:00<00:00,  8.99it/s, Batch RMSE=0.0891]\n",
      "Epoch 1/100 [Train]: 100%|██████████| 8/8 [00:02<00:00,  3.92it/s, Batch Loss=0.0101] \n",
      "Epoch 1/100 [Val]: 100%|██████████| 2/2 [00:00<00:00, 10.07it/s, Batch RMSE=0.0855]\n",
      "Epoch 2/100 [Train]: 100%|██████████| 8/8 [00:02<00:00,  3.02it/s, Batch Loss=0.00881]\n",
      "Epoch 2/100 [Val]: 100%|██████████| 2/2 [00:00<00:00, 10.20it/s, Batch RMSE=0.0855]\n",
      "Epoch 3/100 [Train]: 100%|██████████| 8/8 [00:02<00:00,  3.41it/s, Batch Loss=0.00769]\n",
      "Epoch 3/100 [Val]: 100%|██████████| 2/2 [00:00<00:00,  8.30it/s, Batch RMSE=0.0827]\n",
      "Epoch 4/100 [Train]: 100%|██████████| 8/8 [00:02<00:00,  3.84it/s, Batch Loss=0.00712]\n",
      "Epoch 4/100 [Val]: 100%|██████████| 2/2 [00:00<00:00,  9.71it/s, Batch RMSE=0.0859]\n",
      "Epoch 5/100 [Train]: 100%|██████████| 8/8 [00:02<00:00,  3.83it/s, Batch Loss=0.00647]\n",
      "Epoch 5/100 [Val]: 100%|██████████| 2/2 [00:00<00:00,  9.99it/s, Batch RMSE=0.0853]\n",
      "Epoch 6/100 [Train]: 100%|██████████| 8/8 [00:02<00:00,  3.70it/s, Batch Loss=0.00619]\n",
      "Epoch 6/100 [Val]: 100%|██████████| 2/2 [00:00<00:00, 10.07it/s, Batch RMSE=0.0867]\n",
      "Epoch 7/100 [Train]: 100%|██████████| 8/8 [00:02<00:00,  3.78it/s, Batch Loss=0.00591]\n",
      "Epoch 7/100 [Val]: 100%|██████████| 2/2 [00:00<00:00,  6.78it/s, Batch RMSE=0.0869]\n",
      "Epoch 8/100 [Train]: 100%|██████████| 8/8 [00:02<00:00,  3.68it/s, Batch Loss=0.00562]\n",
      "Epoch 8/100 [Val]: 100%|██████████| 2/2 [00:00<00:00,  9.66it/s, Batch RMSE=0.0828]\n",
      "Epoch 9/100 [Train]: 100%|██████████| 8/8 [00:02<00:00,  3.39it/s, Batch Loss=0.00566]\n",
      "Epoch 9/100 [Val]: 100%|██████████| 2/2 [00:00<00:00,  7.72it/s, Batch RMSE=0.0866]\n",
      "Epoch 10/100 [Train]: 100%|██████████| 8/8 [00:02<00:00,  2.74it/s, Batch Loss=0.00528]\n",
      "Epoch 10/100 [Val]: 100%|██████████| 2/2 [00:00<00:00,  9.20it/s, Batch RMSE=0.0869]\n",
      "Epoch 11/100 [Train]: 100%|██████████| 8/8 [00:02<00:00,  3.87it/s, Batch Loss=0.00499]\n",
      "Epoch 11/100 [Val]: 100%|██████████| 2/2 [00:00<00:00,  9.65it/s, Batch RMSE=0.0853]\n",
      "Epoch 12/100 [Train]: 100%|██████████| 8/8 [00:02<00:00,  3.54it/s, Batch Loss=0.00488]\n",
      "Epoch 12/100 [Val]: 100%|██████████| 2/2 [00:00<00:00,  9.64it/s, Batch RMSE=0.0869]\n",
      "Epoch 13/100 [Train]: 100%|██████████| 8/8 [00:02<00:00,  3.94it/s, Batch Loss=0.0051] \n",
      "Epoch 13/100 [Val]: 100%|██████████| 2/2 [00:00<00:00,  9.72it/s, Batch RMSE=0.0901]\n"
     ]
    },
    {
     "name": "stdout",
     "output_type": "stream",
     "text": [
      "Early stopping triggered at epoch 14\n"
     ]
    },
    {
     "data": {
      "text/html": [
       "\n",
       "    <style>\n",
       "        .wandb-row {\n",
       "            display: flex;\n",
       "            flex-direction: row;\n",
       "            flex-wrap: wrap;\n",
       "            justify-content: flex-start;\n",
       "            width: 100%;\n",
       "        }\n",
       "        .wandb-col {\n",
       "            display: flex;\n",
       "            flex-direction: column;\n",
       "            flex-basis: 100%;\n",
       "            flex: 1;\n",
       "            padding: 10px;\n",
       "        }\n",
       "    </style>\n",
       "<div class=\"wandb-row\"><div class=\"wandb-col\"><h3>Run history:</h3><br/><table class=\"wandb\"><tr><td>best_val_rmse</td><td>█▄▃▁▁▁▁▁▁▁▁▁▁</td></tr><tr><td>epoch</td><td>▁▂▂▃▃▄▄▅▅▆▆▇▇█</td></tr><tr><td>epoch_train_loss</td><td>█▆▅▄▃▃▃▂▂▂▂▁▁▁</td></tr><tr><td>epoch_val_loss</td><td>█▃▃▁▃▄▃▃▂▄▄▃▅▇</td></tr><tr><td>epoch_val_rmse</td><td>█▄▃▁▃▃▂▂▁▃▂▂▃▄</td></tr><tr><td>lr</td><td>████▇▇▆▆▅▅▄▃▂▁</td></tr><tr><td>train_loss</td><td>█▆▆▅▄▄▄▄▃▃▃▃▃▃▃▃▃▂▂▂▂▂▂▂▂▂▂▂▂▂▂▁▂▁▁▁▁▁▁▁</td></tr><tr><td>val_loss</td><td>▄█▂▆▂▆▁▅▂▆▂▆▁▆▁▆▁▅▂▇▂▇▁▆▂▇▂█</td></tr><tr><td>val_rmse</td><td>█▆▅▃▃▃▂▁▃▃▃▃▂▄▂▄▂▁▃▄▃▄▃▃▄▄▄▆</td></tr></table><br/></div><div class=\"wandb-col\"><h3>Run summary:</h3><br/><table class=\"wandb\"><tr><td>best_val_rmse</td><td>0.08345</td></tr><tr><td>epoch</td><td>13</td></tr><tr><td>epoch_train_loss</td><td>0.00476</td></tr><tr><td>epoch_val_loss</td><td>0.01365</td></tr><tr><td>epoch_val_rmse</td><td>0.08674</td></tr><tr><td>lr</td><td>0.00276</td></tr><tr><td>train_loss</td><td>0.0051</td></tr><tr><td>val_loss</td><td>0.01596</td></tr><tr><td>val_rmse</td><td>0.09011</td></tr></table><br/></div></div>"
      ],
      "text/plain": [
       "<IPython.core.display.HTML object>"
      ]
     },
     "metadata": {},
     "output_type": "display_data"
    },
    {
     "data": {
      "text/html": [
       " View run <strong style=\"color:#cdcd00\">deft-sweep-16</strong> at: <a href='https://wandb.ai/ychnli-stanford-university/sea-ice-prediction/runs/rr8rvfvn' target=\"_blank\">https://wandb.ai/ychnli-stanford-university/sea-ice-prediction/runs/rr8rvfvn</a><br/> View project at: <a href='https://wandb.ai/ychnli-stanford-university/sea-ice-prediction' target=\"_blank\">https://wandb.ai/ychnli-stanford-university/sea-ice-prediction</a><br/>Synced 4 W&B file(s), 0 media file(s), 0 artifact file(s) and 0 other file(s)"
      ],
      "text/plain": [
       "<IPython.core.display.HTML object>"
      ]
     },
     "metadata": {},
     "output_type": "display_data"
    },
    {
     "data": {
      "text/html": [
       "Find logs at: <code>./wandb/run-20250525_200933-rr8rvfvn/logs</code>"
      ],
      "text/plain": [
       "<IPython.core.display.HTML object>"
      ]
     },
     "metadata": {},
     "output_type": "display_data"
    },
    {
     "name": "stderr",
     "output_type": "stream",
     "text": [
      "\u001b[34m\u001b[1mwandb\u001b[0m: Agent Starting Run: li93b6px with config:\n",
      "\u001b[34m\u001b[1mwandb\u001b[0m: \tbatch_size: 50\n",
      "\u001b[34m\u001b[1mwandb\u001b[0m: \tloss_function_args: 1\n",
      "\u001b[34m\u001b[1mwandb\u001b[0m: \tlr: 5.260122422788594e-05\n",
      "\u001b[34m\u001b[1mwandb\u001b[0m: \tnum_epochs: 100\n",
      "\u001b[34m\u001b[1mwandb\u001b[0m: \tweight_decay: 0\n"
     ]
    },
    {
     "data": {
      "text/html": [
       "Tracking run with wandb version 0.19.0"
      ],
      "text/plain": [
       "<IPython.core.display.HTML object>"
      ]
     },
     "metadata": {},
     "output_type": "display_data"
    },
    {
     "data": {
      "text/html": [
       "Run data is saved locally in <code>/home/users/yucli/sicpred/wandb/run-20250525_201018-li93b6px</code>"
      ],
      "text/plain": [
       "<IPython.core.display.HTML object>"
      ]
     },
     "metadata": {},
     "output_type": "display_data"
    },
    {
     "data": {
      "text/html": [
       "Syncing run <strong><a href='https://wandb.ai/ychnli-stanford-university/sea-ice-prediction/runs/li93b6px' target=\"_blank\">brisk-sweep-17</a></strong> to <a href='https://wandb.ai/ychnli-stanford-university/sea-ice-prediction' target=\"_blank\">Weights & Biases</a> (<a href='https://wandb.me/developer-guide' target=\"_blank\">docs</a>)<br/>Sweep page: <a href='https://wandb.ai/ychnli-stanford-university/sea-ice-prediction/sweeps/ig2sril5' target=\"_blank\">https://wandb.ai/ychnli-stanford-university/sea-ice-prediction/sweeps/ig2sril5</a>"
      ],
      "text/plain": [
       "<IPython.core.display.HTML object>"
      ]
     },
     "metadata": {},
     "output_type": "display_data"
    },
    {
     "data": {
      "text/html": [
       " View project at <a href='https://wandb.ai/ychnli-stanford-university/sea-ice-prediction' target=\"_blank\">https://wandb.ai/ychnli-stanford-university/sea-ice-prediction</a>"
      ],
      "text/plain": [
       "<IPython.core.display.HTML object>"
      ]
     },
     "metadata": {},
     "output_type": "display_data"
    },
    {
     "data": {
      "text/html": [
       " View sweep at <a href='https://wandb.ai/ychnli-stanford-university/sea-ice-prediction/sweeps/ig2sril5' target=\"_blank\">https://wandb.ai/ychnli-stanford-university/sea-ice-prediction/sweeps/ig2sril5</a>"
      ],
      "text/plain": [
       "<IPython.core.display.HTML object>"
      ]
     },
     "metadata": {},
     "output_type": "display_data"
    },
    {
     "data": {
      "text/html": [
       " View run at <a href='https://wandb.ai/ychnli-stanford-university/sea-ice-prediction/runs/li93b6px' target=\"_blank\">https://wandb.ai/ychnli-stanford-university/sea-ice-prediction/runs/li93b6px</a>"
      ],
      "text/plain": [
       "<IPython.core.display.HTML object>"
      ]
     },
     "metadata": {},
     "output_type": "display_data"
    },
    {
     "name": "stderr",
     "output_type": "stream",
     "text": [
      "Epoch 0/100 [Train]: 100%|██████████| 8/8 [00:02<00:00,  3.82it/s, Batch Loss=0.0187]\n",
      "Epoch 0/100 [Val]: 100%|██████████| 2/2 [00:00<00:00,  8.56it/s, Batch RMSE=0.107]\n",
      "Epoch 1/100 [Train]: 100%|██████████| 8/8 [00:02<00:00,  3.70it/s, Batch Loss=0.0166]\n",
      "Epoch 1/100 [Val]: 100%|██████████| 2/2 [00:00<00:00,  9.81it/s, Batch RMSE=0.106]\n",
      "Epoch 2/100 [Train]: 100%|██████████| 8/8 [00:02<00:00,  3.81it/s, Batch Loss=0.0149]\n",
      "Epoch 2/100 [Val]: 100%|██████████| 2/2 [00:00<00:00,  9.68it/s, Batch RMSE=0.104]\n",
      "Epoch 3/100 [Train]: 100%|██████████| 8/8 [00:02<00:00,  3.86it/s, Batch Loss=0.0147]\n",
      "Epoch 3/100 [Val]: 100%|██████████| 2/2 [00:00<00:00,  9.79it/s, Batch RMSE=0.102]\n",
      "Epoch 4/100 [Train]: 100%|██████████| 8/8 [00:02<00:00,  3.73it/s, Batch Loss=0.0143]\n",
      "Epoch 4/100 [Val]: 100%|██████████| 2/2 [00:00<00:00,  7.82it/s, Batch RMSE=0.1]   \n",
      "Epoch 5/100 [Train]: 100%|██████████| 8/8 [00:02<00:00,  3.76it/s, Batch Loss=0.0133]\n",
      "Epoch 5/100 [Val]: 100%|██████████| 2/2 [00:00<00:00, 10.07it/s, Batch RMSE=0.0984]\n",
      "Epoch 6/100 [Train]: 100%|██████████| 8/8 [00:02<00:00,  3.89it/s, Batch Loss=0.0133]\n",
      "Epoch 6/100 [Val]: 100%|██████████| 2/2 [00:00<00:00, 10.30it/s, Batch RMSE=0.0969]\n",
      "Epoch 7/100 [Train]: 100%|██████████| 8/8 [00:02<00:00,  3.83it/s, Batch Loss=0.0108]\n",
      "Epoch 7/100 [Val]: 100%|██████████| 2/2 [00:00<00:00, 10.21it/s, Batch RMSE=0.0953]\n",
      "Epoch 8/100 [Train]: 100%|██████████| 8/8 [00:02<00:00,  3.56it/s, Batch Loss=0.0113]\n",
      "Epoch 8/100 [Val]: 100%|██████████| 2/2 [00:00<00:00,  9.61it/s, Batch RMSE=0.0939]\n",
      "Epoch 9/100 [Train]: 100%|██████████| 8/8 [00:02<00:00,  3.98it/s, Batch Loss=0.0124]\n",
      "Epoch 9/100 [Val]: 100%|██████████| 2/2 [00:00<00:00,  9.91it/s, Batch RMSE=0.0928]\n",
      "Epoch 10/100 [Train]: 100%|██████████| 8/8 [00:02<00:00,  3.90it/s, Batch Loss=0.0114]\n",
      "Epoch 10/100 [Val]: 100%|██████████| 2/2 [00:00<00:00, 10.06it/s, Batch RMSE=0.0917]\n",
      "Epoch 11/100 [Train]: 100%|██████████| 8/8 [00:02<00:00,  3.85it/s, Batch Loss=0.0118]\n",
      "Epoch 11/100 [Val]: 100%|██████████| 2/2 [00:00<00:00, 10.25it/s, Batch RMSE=0.0908]\n",
      "Epoch 12/100 [Train]: 100%|██████████| 8/8 [00:02<00:00,  3.88it/s, Batch Loss=0.00977]\n",
      "Epoch 12/100 [Val]: 100%|██████████| 2/2 [00:00<00:00, 10.09it/s, Batch RMSE=0.0899]\n",
      "Epoch 13/100 [Train]: 100%|██████████| 8/8 [00:02<00:00,  3.91it/s, Batch Loss=0.0112]\n",
      "Epoch 13/100 [Val]: 100%|██████████| 2/2 [00:00<00:00, 10.07it/s, Batch RMSE=0.0891]\n",
      "Epoch 14/100 [Train]: 100%|██████████| 8/8 [00:02<00:00,  3.73it/s, Batch Loss=0.012] \n",
      "Epoch 14/100 [Val]: 100%|██████████| 2/2 [00:00<00:00,  9.44it/s, Batch RMSE=0.0885]\n",
      "Epoch 15/100 [Train]: 100%|██████████| 8/8 [00:02<00:00,  3.77it/s, Batch Loss=0.0113] \n",
      "Epoch 15/100 [Val]: 100%|██████████| 2/2 [00:00<00:00,  9.12it/s, Batch RMSE=0.0879]\n",
      "Epoch 16/100 [Train]: 100%|██████████| 8/8 [00:02<00:00,  3.84it/s, Batch Loss=0.0108] \n",
      "Epoch 16/100 [Val]: 100%|██████████| 2/2 [00:00<00:00,  9.88it/s, Batch RMSE=0.0874]\n",
      "Epoch 17/100 [Train]: 100%|██████████| 8/8 [00:02<00:00,  3.86it/s, Batch Loss=0.00984]\n",
      "Epoch 17/100 [Val]: 100%|██████████| 2/2 [00:00<00:00,  9.35it/s, Batch RMSE=0.0871]\n",
      "Epoch 18/100 [Train]: 100%|██████████| 8/8 [00:02<00:00,  3.76it/s, Batch Loss=0.01]   \n",
      "Epoch 18/100 [Val]: 100%|██████████| 2/2 [00:00<00:00,  9.68it/s, Batch RMSE=0.0867]\n",
      "Epoch 19/100 [Train]: 100%|██████████| 8/8 [00:02<00:00,  3.87it/s, Batch Loss=0.0103] \n",
      "Epoch 19/100 [Val]: 100%|██████████| 2/2 [00:00<00:00,  9.69it/s, Batch RMSE=0.0863]\n",
      "Epoch 20/100 [Train]: 100%|██████████| 8/8 [00:02<00:00,  3.61it/s, Batch Loss=0.00935]\n",
      "Epoch 20/100 [Val]: 100%|██████████| 2/2 [00:00<00:00,  5.65it/s, Batch RMSE=0.086] \n",
      "Epoch 21/100 [Train]: 100%|██████████| 8/8 [00:02<00:00,  3.13it/s, Batch Loss=0.00965]\n",
      "Epoch 21/100 [Val]: 100%|██████████| 2/2 [00:00<00:00,  9.00it/s, Batch RMSE=0.0857]\n",
      "Epoch 22/100 [Train]: 100%|██████████| 8/8 [00:02<00:00,  3.57it/s, Batch Loss=0.00963]\n",
      "Epoch 22/100 [Val]: 100%|██████████| 2/2 [00:00<00:00,  6.90it/s, Batch RMSE=0.0855]\n",
      "Epoch 23/100 [Train]: 100%|██████████| 8/8 [00:02<00:00,  3.30it/s, Batch Loss=0.00942]\n",
      "Epoch 23/100 [Val]: 100%|██████████| 2/2 [00:00<00:00,  8.16it/s, Batch RMSE=0.0853]\n",
      "Epoch 24/100 [Train]: 100%|██████████| 8/8 [00:02<00:00,  3.38it/s, Batch Loss=0.00915]\n",
      "Epoch 24/100 [Val]: 100%|██████████| 2/2 [00:00<00:00,  9.82it/s, Batch RMSE=0.0851]\n",
      "Epoch 25/100 [Train]: 100%|██████████| 8/8 [00:02<00:00,  3.36it/s, Batch Loss=0.00892]\n",
      "Epoch 25/100 [Val]: 100%|██████████| 2/2 [00:00<00:00,  7.84it/s, Batch RMSE=0.0849]\n",
      "Epoch 26/100 [Train]: 100%|██████████| 8/8 [00:02<00:00,  3.77it/s, Batch Loss=0.00931]\n",
      "Epoch 26/100 [Val]: 100%|██████████| 2/2 [00:00<00:00,  9.46it/s, Batch RMSE=0.0849]\n",
      "Epoch 27/100 [Train]: 100%|██████████| 8/8 [00:02<00:00,  3.04it/s, Batch Loss=0.0101] \n",
      "Epoch 27/100 [Val]: 100%|██████████| 2/2 [00:00<00:00, 10.03it/s, Batch RMSE=0.0847]\n",
      "Epoch 28/100 [Train]: 100%|██████████| 8/8 [00:02<00:00,  3.68it/s, Batch Loss=0.00897]\n",
      "Epoch 28/100 [Val]: 100%|██████████| 2/2 [00:00<00:00,  4.83it/s, Batch RMSE=0.0846]\n",
      "Epoch 29/100 [Train]: 100%|██████████| 8/8 [00:02<00:00,  3.42it/s, Batch Loss=0.00869]\n",
      "Epoch 29/100 [Val]: 100%|██████████| 2/2 [00:00<00:00,  8.90it/s, Batch RMSE=0.0844]\n",
      "Epoch 30/100 [Train]: 100%|██████████| 8/8 [00:02<00:00,  3.28it/s, Batch Loss=0.00935]\n",
      "Epoch 30/100 [Val]: 100%|██████████| 2/2 [00:00<00:00,  9.53it/s, Batch RMSE=0.0842]\n",
      "Epoch 31/100 [Train]: 100%|██████████| 8/8 [00:02<00:00,  3.86it/s, Batch Loss=0.00974]\n",
      "Epoch 31/100 [Val]: 100%|██████████| 2/2 [00:00<00:00,  9.31it/s, Batch RMSE=0.0842]\n",
      "Epoch 32/100 [Train]: 100%|██████████| 8/8 [00:02<00:00,  3.06it/s, Batch Loss=0.00901]\n",
      "Epoch 32/100 [Val]: 100%|██████████| 2/2 [00:00<00:00,  9.31it/s, Batch RMSE=0.0841]\n",
      "Epoch 33/100 [Train]: 100%|██████████| 8/8 [00:02<00:00,  3.76it/s, Batch Loss=0.00805]\n",
      "Epoch 33/100 [Val]: 100%|██████████| 2/2 [00:00<00:00,  8.72it/s, Batch RMSE=0.0841]\n",
      "Epoch 34/100 [Train]: 100%|██████████| 8/8 [00:02<00:00,  3.19it/s, Batch Loss=0.0089] \n",
      "Epoch 34/100 [Val]: 100%|██████████| 2/2 [00:00<00:00,  9.12it/s, Batch RMSE=0.084] \n",
      "Epoch 35/100 [Train]: 100%|██████████| 8/8 [00:02<00:00,  3.74it/s, Batch Loss=0.00912]\n",
      "Epoch 35/100 [Val]: 100%|██████████| 2/2 [00:00<00:00,  8.31it/s, Batch RMSE=0.084] \n",
      "Epoch 36/100 [Train]: 100%|██████████| 8/8 [00:02<00:00,  3.74it/s, Batch Loss=0.00969]\n",
      "Epoch 36/100 [Val]: 100%|██████████| 2/2 [00:00<00:00,  5.67it/s, Batch RMSE=0.0839]\n",
      "Epoch 37/100 [Train]: 100%|██████████| 8/8 [00:02<00:00,  3.28it/s, Batch Loss=0.00939]\n",
      "Epoch 37/100 [Val]: 100%|██████████| 2/2 [00:00<00:00,  9.38it/s, Batch RMSE=0.0839]\n",
      "Epoch 38/100 [Train]: 100%|██████████| 8/8 [00:02<00:00,  3.08it/s, Batch Loss=0.00861]\n",
      "Epoch 38/100 [Val]: 100%|██████████| 2/2 [00:00<00:00,  9.45it/s, Batch RMSE=0.0839]\n",
      "Epoch 39/100 [Train]: 100%|██████████| 8/8 [00:02<00:00,  3.29it/s, Batch Loss=0.00879]\n",
      "Epoch 39/100 [Val]: 100%|██████████| 2/2 [00:00<00:00,  8.19it/s, Batch RMSE=0.0838]\n",
      "Epoch 40/100 [Train]: 100%|██████████| 8/8 [00:02<00:00,  3.58it/s, Batch Loss=0.00877]\n",
      "Epoch 40/100 [Val]: 100%|██████████| 2/2 [00:00<00:00,  5.37it/s, Batch RMSE=0.0838]\n",
      "Epoch 41/100 [Train]: 100%|██████████| 8/8 [00:02<00:00,  3.32it/s, Batch Loss=0.00836]\n",
      "Epoch 41/100 [Val]: 100%|██████████| 2/2 [00:00<00:00,  9.16it/s, Batch RMSE=0.0838]\n",
      "Epoch 42/100 [Train]: 100%|██████████| 8/8 [00:02<00:00,  3.24it/s, Batch Loss=0.00817]\n",
      "Epoch 42/100 [Val]: 100%|██████████| 2/2 [00:00<00:00,  9.43it/s, Batch RMSE=0.0837]\n",
      "Epoch 43/100 [Train]: 100%|██████████| 8/8 [00:02<00:00,  3.23it/s, Batch Loss=0.00831]\n",
      "Epoch 43/100 [Val]: 100%|██████████| 2/2 [00:00<00:00,  9.73it/s, Batch RMSE=0.0837]\n",
      "Epoch 44/100 [Train]: 100%|██████████| 8/8 [00:02<00:00,  3.41it/s, Batch Loss=0.00811]\n",
      "Epoch 44/100 [Val]: 100%|██████████| 2/2 [00:00<00:00,  6.12it/s, Batch RMSE=0.0837]\n",
      "Epoch 45/100 [Train]: 100%|██████████| 8/8 [00:02<00:00,  3.86it/s, Batch Loss=0.00872]\n",
      "Epoch 45/100 [Val]: 100%|██████████| 2/2 [00:00<00:00,  9.47it/s, Batch RMSE=0.0837]\n",
      "Epoch 46/100 [Train]: 100%|██████████| 8/8 [00:02<00:00,  3.66it/s, Batch Loss=0.00794]\n",
      "Epoch 46/100 [Val]: 100%|██████████| 2/2 [00:00<00:00,  9.48it/s, Batch RMSE=0.0837]\n",
      "Epoch 47/100 [Train]: 100%|██████████| 8/8 [00:02<00:00,  3.86it/s, Batch Loss=0.00902]\n",
      "Epoch 47/100 [Val]: 100%|██████████| 2/2 [00:00<00:00,  9.65it/s, Batch RMSE=0.0837]\n",
      "Epoch 48/100 [Train]: 100%|██████████| 8/8 [00:02<00:00,  3.39it/s, Batch Loss=0.0088] \n",
      "Epoch 48/100 [Val]: 100%|██████████| 2/2 [00:00<00:00,  9.57it/s, Batch RMSE=0.0838]\n",
      "Epoch 49/100 [Train]: 100%|██████████| 8/8 [00:02<00:00,  3.81it/s, Batch Loss=0.00769]\n",
      "Epoch 49/100 [Val]: 100%|██████████| 2/2 [00:00<00:00,  8.16it/s, Batch RMSE=0.0838]\n",
      "Epoch 50/100 [Train]: 100%|██████████| 8/8 [00:01<00:00,  4.01it/s, Batch Loss=0.00898]\n",
      "Epoch 50/100 [Val]: 100%|██████████| 2/2 [00:00<00:00,  9.74it/s, Batch RMSE=0.0838]\n",
      "Epoch 51/100 [Train]: 100%|██████████| 8/8 [00:02<00:00,  3.87it/s, Batch Loss=0.00809]\n",
      "Epoch 51/100 [Val]: 100%|██████████| 2/2 [00:00<00:00,  9.75it/s, Batch RMSE=0.0838]\n",
      "Epoch 52/100 [Train]: 100%|██████████| 8/8 [00:02<00:00,  3.90it/s, Batch Loss=0.00807]\n",
      "Epoch 52/100 [Val]: 100%|██████████| 2/2 [00:00<00:00,  6.81it/s, Batch RMSE=0.0838]\n",
      "Epoch 53/100 [Train]: 100%|██████████| 8/8 [00:02<00:00,  3.25it/s, Batch Loss=0.0091] \n",
      "Epoch 53/100 [Val]: 100%|██████████| 2/2 [00:00<00:00,  8.00it/s, Batch RMSE=0.0838]\n",
      "Epoch 54/100 [Train]: 100%|██████████| 8/8 [00:02<00:00,  3.90it/s, Batch Loss=0.0081] \n",
      "Epoch 54/100 [Val]: 100%|██████████| 2/2 [00:00<00:00,  9.90it/s, Batch RMSE=0.0838]\n",
      "Epoch 55/100 [Train]: 100%|██████████| 8/8 [00:02<00:00,  3.88it/s, Batch Loss=0.00829]\n",
      "Epoch 55/100 [Val]: 100%|██████████| 2/2 [00:00<00:00,  9.94it/s, Batch RMSE=0.0837]\n",
      "Epoch 56/100 [Train]: 100%|██████████| 8/8 [00:02<00:00,  3.96it/s, Batch Loss=0.00765]\n",
      "Epoch 56/100 [Val]: 100%|██████████| 2/2 [00:00<00:00,  8.82it/s, Batch RMSE=0.0839]\n",
      "Epoch 57/100 [Train]: 100%|██████████| 8/8 [00:02<00:00,  3.88it/s, Batch Loss=0.00825]\n",
      "Epoch 57/100 [Val]: 100%|██████████| 2/2 [00:00<00:00,  9.72it/s, Batch RMSE=0.0839]\n",
      "Epoch 58/100 [Train]: 100%|██████████| 8/8 [00:02<00:00,  3.87it/s, Batch Loss=0.00853]\n",
      "Epoch 58/100 [Val]: 100%|██████████| 2/2 [00:00<00:00,  9.66it/s, Batch RMSE=0.0839]\n",
      "Epoch 59/100 [Train]: 100%|██████████| 8/8 [00:02<00:00,  3.92it/s, Batch Loss=0.00779]\n",
      "Epoch 59/100 [Val]: 100%|██████████| 2/2 [00:00<00:00,  9.88it/s, Batch RMSE=0.0839]\n",
      "Epoch 60/100 [Train]: 100%|██████████| 8/8 [00:02<00:00,  3.25it/s, Batch Loss=0.00836]\n",
      "Epoch 60/100 [Val]: 100%|██████████| 2/2 [00:00<00:00,  9.34it/s, Batch RMSE=0.0839]\n",
      "Epoch 61/100 [Train]: 100%|██████████| 8/8 [00:02<00:00,  3.90it/s, Batch Loss=0.00779]\n",
      "Epoch 61/100 [Val]: 100%|██████████| 2/2 [00:00<00:00,  9.19it/s, Batch RMSE=0.0839]\n",
      "Epoch 62/100 [Train]: 100%|██████████| 8/8 [00:02<00:00,  3.86it/s, Batch Loss=0.00795]\n",
      "Epoch 62/100 [Val]: 100%|██████████| 2/2 [00:00<00:00,  9.83it/s, Batch RMSE=0.0838]\n",
      "Epoch 63/100 [Train]: 100%|██████████| 8/8 [00:02<00:00,  3.83it/s, Batch Loss=0.00785]\n",
      "Epoch 63/100 [Val]: 100%|██████████| 2/2 [00:00<00:00,  9.86it/s, Batch RMSE=0.0839]\n",
      "Epoch 64/100 [Train]: 100%|██████████| 8/8 [00:02<00:00,  3.90it/s, Batch Loss=0.00766]\n",
      "Epoch 64/100 [Val]: 100%|██████████| 2/2 [00:00<00:00,  9.08it/s, Batch RMSE=0.0839]\n",
      "Epoch 65/100 [Train]: 100%|██████████| 8/8 [00:02<00:00,  3.87it/s, Batch Loss=0.00755]\n",
      "Epoch 65/100 [Val]: 100%|██████████| 2/2 [00:00<00:00,  9.94it/s, Batch RMSE=0.084] \n",
      "Epoch 66/100 [Train]: 100%|██████████| 8/8 [00:02<00:00,  3.89it/s, Batch Loss=0.00809]\n",
      "Epoch 66/100 [Val]: 100%|██████████| 2/2 [00:00<00:00,  9.56it/s, Batch RMSE=0.084] \n",
      "Epoch 67/100 [Train]: 100%|██████████| 8/8 [00:02<00:00,  3.91it/s, Batch Loss=0.00802]\n",
      "Epoch 67/100 [Val]: 100%|██████████| 2/2 [00:00<00:00,  9.43it/s, Batch RMSE=0.0839]\n",
      "Epoch 68/100 [Train]: 100%|██████████| 8/8 [00:02<00:00,  3.82it/s, Batch Loss=0.00714]\n",
      "Epoch 68/100 [Val]: 100%|██████████| 2/2 [00:00<00:00,  9.50it/s, Batch RMSE=0.0839]\n",
      "Epoch 69/100 [Train]: 100%|██████████| 8/8 [00:02<00:00,  3.90it/s, Batch Loss=0.00775]\n",
      "Epoch 69/100 [Val]: 100%|██████████| 2/2 [00:00<00:00,  9.51it/s, Batch RMSE=0.084] \n",
      "Epoch 70/100 [Train]: 100%|██████████| 8/8 [00:02<00:00,  3.73it/s, Batch Loss=0.00822]\n",
      "Epoch 70/100 [Val]: 100%|██████████| 2/2 [00:00<00:00,  9.47it/s, Batch RMSE=0.084] \n",
      "Epoch 71/100 [Train]: 100%|██████████| 8/8 [00:02<00:00,  3.92it/s, Batch Loss=0.00781]\n",
      "Epoch 71/100 [Val]: 100%|██████████| 2/2 [00:00<00:00,  9.59it/s, Batch RMSE=0.0839]\n",
      "Epoch 72/100 [Train]: 100%|██████████| 8/8 [00:02<00:00,  3.88it/s, Batch Loss=0.0077] \n",
      "Epoch 72/100 [Val]: 100%|██████████| 2/2 [00:00<00:00,  9.67it/s, Batch RMSE=0.084] \n",
      "Epoch 73/100 [Train]: 100%|██████████| 8/8 [00:02<00:00,  3.91it/s, Batch Loss=0.00727]\n",
      "Epoch 73/100 [Val]: 100%|██████████| 2/2 [00:00<00:00,  9.93it/s, Batch RMSE=0.084] \n",
      "Epoch 74/100 [Train]: 100%|██████████| 8/8 [00:02<00:00,  3.96it/s, Batch Loss=0.00772]\n",
      "Epoch 74/100 [Val]: 100%|██████████| 2/2 [00:00<00:00,  9.12it/s, Batch RMSE=0.0839]\n",
      "Epoch 75/100 [Train]: 100%|██████████| 8/8 [00:02<00:00,  3.95it/s, Batch Loss=0.009]  \n",
      "Epoch 75/100 [Val]: 100%|██████████| 2/2 [00:00<00:00,  9.66it/s, Batch RMSE=0.0839]\n",
      "Epoch 76/100 [Train]: 100%|██████████| 8/8 [00:02<00:00,  3.98it/s, Batch Loss=0.00772]\n",
      "Epoch 76/100 [Val]: 100%|██████████| 2/2 [00:00<00:00,  9.51it/s, Batch RMSE=0.0839]\n"
     ]
    },
    {
     "name": "stdout",
     "output_type": "stream",
     "text": [
      "Early stopping triggered at epoch 77\n"
     ]
    },
    {
     "data": {
      "text/html": [
       "\n",
       "    <style>\n",
       "        .wandb-row {\n",
       "            display: flex;\n",
       "            flex-direction: row;\n",
       "            flex-wrap: wrap;\n",
       "            justify-content: flex-start;\n",
       "            width: 100%;\n",
       "        }\n",
       "        .wandb-col {\n",
       "            display: flex;\n",
       "            flex-direction: column;\n",
       "            flex-basis: 100%;\n",
       "            flex: 1;\n",
       "            padding: 10px;\n",
       "        }\n",
       "    </style>\n",
       "<div class=\"wandb-row\"><div class=\"wandb-col\"><h3>Run history:</h3><br/><table class=\"wandb\"><tr><td>best_val_rmse</td><td>█▇▆▅▄▄▄▃▃▃▂▂▂▂▂▂▁▁▁▁▁▁▁▁▁▁▁▁▁▁▁▁▁▁▁▁▁▁▁▁</td></tr><tr><td>epoch</td><td>▁▁▁▁▁▂▂▂▂▂▂▃▃▃▃▃▄▄▄▄▅▅▅▅▅▅▅▆▆▆▆▆▆▇▇▇▇▇██</td></tr><tr><td>epoch_train_loss</td><td>█▇▆▅▅▄▃▃▃▃▃▃▃▃▂▂▂▂▂▂▂▂▂▂▁▁▁▁▁▁▁▁▁▁▁▁▁▁▁▁</td></tr><tr><td>epoch_val_loss</td><td>█▆▅▄▄▃▂▂▂▂▂▂▂▂▁▁▁▁▁▁▁▁▁▁▁▁▁▁▁▁▁▁▁▁▁▁▁▁▁▁</td></tr><tr><td>epoch_val_rmse</td><td>█▇▆▅▅▄▃▃▃▂▂▂▂▂▂▁▁▁▁▁▁▁▁▁▁▁▁▁▁▁▁▁▁▁▁▁▁▁▁▁</td></tr><tr><td>lr</td><td>█████▇▇▇▇▇▇▇▆▆▆▆▆▅▅▅▅▄▄▄▄▄▄▄▃▃▃▃▃▂▂▂▂▂▁▁</td></tr><tr><td>train_loss</td><td>██▇▇▆▅▃▄▄▃▄▃▃▃▂▂▂▃▂▂▂▂▂▂▂▂▂▂▂▁▂▁▂▁▁▁▂▂▁▁</td></tr><tr><td>val_loss</td><td>▅▄█▃▇▆▆▅▂▅▄▄▂▄▂▄▁▁▃▃▃▃▁▁▃▁▃▁▁▁▁▃▃▃▃▁▃▁▃▃</td></tr><tr><td>val_rmse</td><td>██▆▅▄▂▃▂▂▂▁▁▁▂▁▁▂▁▁▁▂▂▂▂▂▁▁▂▂▂▁▁▁▂▁▂▁▂▁▁</td></tr></table><br/></div><div class=\"wandb-col\"><h3>Run summary:</h3><br/><table class=\"wandb\"><tr><td>best_val_rmse</td><td>0.08549</td></tr><tr><td>epoch</td><td>76</td></tr><tr><td>epoch_train_loss</td><td>0.00778</td></tr><tr><td>epoch_val_loss</td><td>0.01234</td></tr><tr><td>epoch_val_rmse</td><td>0.08556</td></tr><tr><td>lr</td><td>1e-05</td></tr><tr><td>train_loss</td><td>0.00772</td></tr><tr><td>val_loss</td><td>0.0138</td></tr><tr><td>val_rmse</td><td>0.08395</td></tr></table><br/></div></div>"
      ],
      "text/plain": [
       "<IPython.core.display.HTML object>"
      ]
     },
     "metadata": {},
     "output_type": "display_data"
    },
    {
     "data": {
      "text/html": [
       " View run <strong style=\"color:#cdcd00\">brisk-sweep-17</strong> at: <a href='https://wandb.ai/ychnli-stanford-university/sea-ice-prediction/runs/li93b6px' target=\"_blank\">https://wandb.ai/ychnli-stanford-university/sea-ice-prediction/runs/li93b6px</a><br/> View project at: <a href='https://wandb.ai/ychnli-stanford-university/sea-ice-prediction' target=\"_blank\">https://wandb.ai/ychnli-stanford-university/sea-ice-prediction</a><br/>Synced 4 W&B file(s), 0 media file(s), 0 artifact file(s) and 0 other file(s)"
      ],
      "text/plain": [
       "<IPython.core.display.HTML object>"
      ]
     },
     "metadata": {},
     "output_type": "display_data"
    },
    {
     "data": {
      "text/html": [
       "Find logs at: <code>./wandb/run-20250525_201018-li93b6px/logs</code>"
      ],
      "text/plain": [
       "<IPython.core.display.HTML object>"
      ]
     },
     "metadata": {},
     "output_type": "display_data"
    },
    {
     "name": "stderr",
     "output_type": "stream",
     "text": [
      "\u001b[34m\u001b[1mwandb\u001b[0m: Sweep Agent: Waiting for job.\n",
      "\u001b[34m\u001b[1mwandb\u001b[0m: Job received.\n",
      "\u001b[34m\u001b[1mwandb\u001b[0m: Agent Starting Run: pxc7g6ug with config:\n",
      "\u001b[34m\u001b[1mwandb\u001b[0m: \tbatch_size: 50\n",
      "\u001b[34m\u001b[1mwandb\u001b[0m: \tloss_function_args: 1\n",
      "\u001b[34m\u001b[1mwandb\u001b[0m: \tlr: 0.0002160492388051257\n",
      "\u001b[34m\u001b[1mwandb\u001b[0m: \tnum_epochs: 100\n",
      "\u001b[34m\u001b[1mwandb\u001b[0m: \tweight_decay: 0\n"
     ]
    },
    {
     "data": {
      "text/html": [
       "Tracking run with wandb version 0.19.0"
      ],
      "text/plain": [
       "<IPython.core.display.HTML object>"
      ]
     },
     "metadata": {},
     "output_type": "display_data"
    },
    {
     "data": {
      "text/html": [
       "Run data is saved locally in <code>/home/users/yucli/sicpred/wandb/run-20250525_201351-pxc7g6ug</code>"
      ],
      "text/plain": [
       "<IPython.core.display.HTML object>"
      ]
     },
     "metadata": {},
     "output_type": "display_data"
    },
    {
     "data": {
      "text/html": [
       "Syncing run <strong><a href='https://wandb.ai/ychnli-stanford-university/sea-ice-prediction/runs/pxc7g6ug' target=\"_blank\">vital-sweep-18</a></strong> to <a href='https://wandb.ai/ychnli-stanford-university/sea-ice-prediction' target=\"_blank\">Weights & Biases</a> (<a href='https://wandb.me/developer-guide' target=\"_blank\">docs</a>)<br/>Sweep page: <a href='https://wandb.ai/ychnli-stanford-university/sea-ice-prediction/sweeps/ig2sril5' target=\"_blank\">https://wandb.ai/ychnli-stanford-university/sea-ice-prediction/sweeps/ig2sril5</a>"
      ],
      "text/plain": [
       "<IPython.core.display.HTML object>"
      ]
     },
     "metadata": {},
     "output_type": "display_data"
    },
    {
     "data": {
      "text/html": [
       " View project at <a href='https://wandb.ai/ychnli-stanford-university/sea-ice-prediction' target=\"_blank\">https://wandb.ai/ychnli-stanford-university/sea-ice-prediction</a>"
      ],
      "text/plain": [
       "<IPython.core.display.HTML object>"
      ]
     },
     "metadata": {},
     "output_type": "display_data"
    },
    {
     "data": {
      "text/html": [
       " View sweep at <a href='https://wandb.ai/ychnli-stanford-university/sea-ice-prediction/sweeps/ig2sril5' target=\"_blank\">https://wandb.ai/ychnli-stanford-university/sea-ice-prediction/sweeps/ig2sril5</a>"
      ],
      "text/plain": [
       "<IPython.core.display.HTML object>"
      ]
     },
     "metadata": {},
     "output_type": "display_data"
    },
    {
     "data": {
      "text/html": [
       " View run at <a href='https://wandb.ai/ychnli-stanford-university/sea-ice-prediction/runs/pxc7g6ug' target=\"_blank\">https://wandb.ai/ychnli-stanford-university/sea-ice-prediction/runs/pxc7g6ug</a>"
      ],
      "text/plain": [
       "<IPython.core.display.HTML object>"
      ]
     },
     "metadata": {},
     "output_type": "display_data"
    },
    {
     "name": "stderr",
     "output_type": "stream",
     "text": [
      "Epoch 0/100 [Train]: 100%|██████████| 8/8 [00:02<00:00,  3.75it/s, Batch Loss=0.0126]\n",
      "Epoch 0/100 [Val]: 100%|██████████| 2/2 [00:00<00:00,  9.00it/s, Batch RMSE=0.102]\n",
      "Epoch 1/100 [Train]: 100%|██████████| 8/8 [00:02<00:00,  3.91it/s, Batch Loss=0.0139]\n",
      "Epoch 1/100 [Val]: 100%|██████████| 2/2 [00:00<00:00,  9.90it/s, Batch RMSE=0.0961]\n",
      "Epoch 2/100 [Train]: 100%|██████████| 8/8 [00:02<00:00,  3.90it/s, Batch Loss=0.0121]\n",
      "Epoch 2/100 [Val]: 100%|██████████| 2/2 [00:00<00:00,  9.50it/s, Batch RMSE=0.0914]\n",
      "Epoch 3/100 [Train]: 100%|██████████| 8/8 [00:02<00:00,  3.99it/s, Batch Loss=0.0108]\n",
      "Epoch 3/100 [Val]: 100%|██████████| 2/2 [00:00<00:00, 10.08it/s, Batch RMSE=0.0888]\n",
      "Epoch 4/100 [Train]: 100%|██████████| 8/8 [00:02<00:00,  3.88it/s, Batch Loss=0.0106] \n",
      "Epoch 4/100 [Val]: 100%|██████████| 2/2 [00:00<00:00, 10.09it/s, Batch RMSE=0.0871]\n",
      "Epoch 5/100 [Train]: 100%|██████████| 8/8 [00:02<00:00,  3.85it/s, Batch Loss=0.00968]\n",
      "Epoch 5/100 [Val]: 100%|██████████| 2/2 [00:00<00:00,  9.93it/s, Batch RMSE=0.0855]\n",
      "Epoch 6/100 [Train]: 100%|██████████| 8/8 [00:02<00:00,  3.93it/s, Batch Loss=0.00971]\n",
      "Epoch 6/100 [Val]: 100%|██████████| 2/2 [00:00<00:00,  9.88it/s, Batch RMSE=0.0844]\n",
      "Epoch 7/100 [Train]: 100%|██████████| 8/8 [00:02<00:00,  3.88it/s, Batch Loss=0.00952]\n",
      "Epoch 7/100 [Val]: 100%|██████████| 2/2 [00:00<00:00,  9.54it/s, Batch RMSE=0.0836]\n",
      "Epoch 8/100 [Train]: 100%|██████████| 8/8 [00:02<00:00,  3.84it/s, Batch Loss=0.00873]\n",
      "Epoch 8/100 [Val]: 100%|██████████| 2/2 [00:00<00:00,  9.89it/s, Batch RMSE=0.0835]\n",
      "Epoch 9/100 [Train]: 100%|██████████| 8/8 [00:02<00:00,  3.62it/s, Batch Loss=0.00918]\n",
      "Epoch 9/100 [Val]: 100%|██████████| 2/2 [00:00<00:00,  9.92it/s, Batch RMSE=0.0834]\n",
      "Epoch 10/100 [Train]: 100%|██████████| 8/8 [00:02<00:00,  3.41it/s, Batch Loss=0.00899]\n",
      "Epoch 10/100 [Val]: 100%|██████████| 2/2 [00:00<00:00,  9.93it/s, Batch RMSE=0.0831]\n",
      "Epoch 11/100 [Train]: 100%|██████████| 8/8 [00:02<00:00,  3.25it/s, Batch Loss=0.00791]\n",
      "Epoch 11/100 [Val]: 100%|██████████| 2/2 [00:00<00:00, 10.13it/s, Batch RMSE=0.083] \n",
      "Epoch 12/100 [Train]: 100%|██████████| 8/8 [00:02<00:00,  2.78it/s, Batch Loss=0.00754]\n",
      "Epoch 12/100 [Val]: 100%|██████████| 2/2 [00:00<00:00,  9.34it/s, Batch RMSE=0.0833]\n",
      "Epoch 13/100 [Train]: 100%|██████████| 8/8 [00:02<00:00,  3.45it/s, Batch Loss=0.00827]\n",
      "Epoch 13/100 [Val]: 100%|██████████| 2/2 [00:00<00:00, 10.14it/s, Batch RMSE=0.0834]\n",
      "Epoch 14/100 [Train]: 100%|██████████| 8/8 [00:02<00:00,  3.42it/s, Batch Loss=0.00803]\n",
      "Epoch 14/100 [Val]: 100%|██████████| 2/2 [00:00<00:00,  9.03it/s, Batch RMSE=0.0837]\n",
      "Epoch 15/100 [Train]: 100%|██████████| 8/8 [00:02<00:00,  3.92it/s, Batch Loss=0.00731]\n",
      "Epoch 15/100 [Val]: 100%|██████████| 2/2 [00:00<00:00,  9.36it/s, Batch RMSE=0.0839]\n",
      "Epoch 16/100 [Train]: 100%|██████████| 8/8 [00:02<00:00,  3.83it/s, Batch Loss=0.00691]\n",
      "Epoch 16/100 [Val]: 100%|██████████| 2/2 [00:00<00:00,  9.64it/s, Batch RMSE=0.0839]\n",
      "Epoch 17/100 [Train]: 100%|██████████| 8/8 [00:02<00:00,  3.96it/s, Batch Loss=0.0075] \n",
      "Epoch 17/100 [Val]: 100%|██████████| 2/2 [00:00<00:00,  9.09it/s, Batch RMSE=0.0847]\n",
      "Epoch 18/100 [Train]: 100%|██████████| 8/8 [00:02<00:00,  3.84it/s, Batch Loss=0.00693]\n",
      "Epoch 18/100 [Val]: 100%|██████████| 2/2 [00:00<00:00,  9.87it/s, Batch RMSE=0.0848]\n"
     ]
    },
    {
     "name": "stdout",
     "output_type": "stream",
     "text": [
      "Early stopping triggered at epoch 19\n"
     ]
    },
    {
     "data": {
      "text/html": [
       "\n",
       "    <style>\n",
       "        .wandb-row {\n",
       "            display: flex;\n",
       "            flex-direction: row;\n",
       "            flex-wrap: wrap;\n",
       "            justify-content: flex-start;\n",
       "            width: 100%;\n",
       "        }\n",
       "        .wandb-col {\n",
       "            display: flex;\n",
       "            flex-direction: column;\n",
       "            flex-basis: 100%;\n",
       "            flex: 1;\n",
       "            padding: 10px;\n",
       "        }\n",
       "    </style>\n",
       "<div class=\"wandb-row\"><div class=\"wandb-col\"><h3>Run history:</h3><br/><table class=\"wandb\"><tr><td>best_val_rmse</td><td>█▆▅▄▃▂▂▂▂▁▁▁▁▁▁▁▁▁</td></tr><tr><td>epoch</td><td>▁▁▂▂▃▃▃▄▄▅▅▅▆▆▆▇▇██</td></tr><tr><td>epoch_train_loss</td><td>█▆▅▄▄▃▃▃▃▂▂▂▂▂▂▁▁▁▁</td></tr><tr><td>epoch_val_loss</td><td>█▆▄▃▃▂▂▁▁▁▁▁▁▁▁▁▁▁▁</td></tr><tr><td>epoch_val_rmse</td><td>█▆▅▄▃▂▂▂▂▁▁▁▁▁▁▁▁▁▁</td></tr><tr><td>lr</td><td>█████▇▇▇▇▆▆▅▅▄▄▃▂▂▁</td></tr><tr><td>train_loss</td><td>█▆▅▆▆▅▅▄▃▄▃▃▃▃▃▃▂▃▂▂▂▂▂▂▂▁▂▁▂▂▁▂▂▁▁▂▁▁▁▁</td></tr><tr><td>val_loss</td><td>▄█▃▇▃▅▂▅▂▄▂▄▁▃▁▃▁▃▁▃▁▃▁▃▁▃▁▃▁▃▁▃▁▃▁▃▁▃</td></tr><tr><td>val_rmse</td><td>██▆▆▅▄▄▃▄▃▃▂▃▂▃▁▂▁▂▁▂▁▂▁▂▁▂▁▂▁▂▁▂▁▂▂▂▂</td></tr></table><br/></div><div class=\"wandb-col\"><h3>Run summary:</h3><br/><table class=\"wandb\"><tr><td>best_val_rmse</td><td>0.0849</td></tr><tr><td>epoch</td><td>18</td></tr><tr><td>epoch_train_loss</td><td>0.00717</td></tr><tr><td>epoch_val_loss</td><td>0.01252</td></tr><tr><td>epoch_val_rmse</td><td>0.08533</td></tr><tr><td>lr</td><td>0.0002</td></tr><tr><td>train_loss</td><td>0.00693</td></tr><tr><td>val_loss</td><td>0.0142</td></tr><tr><td>val_rmse</td><td>0.08481</td></tr></table><br/></div></div>"
      ],
      "text/plain": [
       "<IPython.core.display.HTML object>"
      ]
     },
     "metadata": {},
     "output_type": "display_data"
    },
    {
     "data": {
      "text/html": [
       " View run <strong style=\"color:#cdcd00\">vital-sweep-18</strong> at: <a href='https://wandb.ai/ychnli-stanford-university/sea-ice-prediction/runs/pxc7g6ug' target=\"_blank\">https://wandb.ai/ychnli-stanford-university/sea-ice-prediction/runs/pxc7g6ug</a><br/> View project at: <a href='https://wandb.ai/ychnli-stanford-university/sea-ice-prediction' target=\"_blank\">https://wandb.ai/ychnli-stanford-university/sea-ice-prediction</a><br/>Synced 4 W&B file(s), 0 media file(s), 0 artifact file(s) and 0 other file(s)"
      ],
      "text/plain": [
       "<IPython.core.display.HTML object>"
      ]
     },
     "metadata": {},
     "output_type": "display_data"
    },
    {
     "data": {
      "text/html": [
       "Find logs at: <code>./wandb/run-20250525_201351-pxc7g6ug/logs</code>"
      ],
      "text/plain": [
       "<IPython.core.display.HTML object>"
      ]
     },
     "metadata": {},
     "output_type": "display_data"
    },
    {
     "name": "stderr",
     "output_type": "stream",
     "text": [
      "\u001b[34m\u001b[1mwandb\u001b[0m: Agent Starting Run: qfe59atd with config:\n",
      "\u001b[34m\u001b[1mwandb\u001b[0m: \tbatch_size: 20\n",
      "\u001b[34m\u001b[1mwandb\u001b[0m: \tloss_function_args: 1\n",
      "\u001b[34m\u001b[1mwandb\u001b[0m: \tlr: 0.000339650899463235\n",
      "\u001b[34m\u001b[1mwandb\u001b[0m: \tnum_epochs: 100\n",
      "\u001b[34m\u001b[1mwandb\u001b[0m: \tweight_decay: 0\n"
     ]
    },
    {
     "data": {
      "text/html": [
       "Tracking run with wandb version 0.19.0"
      ],
      "text/plain": [
       "<IPython.core.display.HTML object>"
      ]
     },
     "metadata": {},
     "output_type": "display_data"
    },
    {
     "data": {
      "text/html": [
       "Run data is saved locally in <code>/home/users/yucli/sicpred/wandb/run-20250525_201448-qfe59atd</code>"
      ],
      "text/plain": [
       "<IPython.core.display.HTML object>"
      ]
     },
     "metadata": {},
     "output_type": "display_data"
    },
    {
     "data": {
      "text/html": [
       "Syncing run <strong><a href='https://wandb.ai/ychnli-stanford-university/sea-ice-prediction/runs/qfe59atd' target=\"_blank\">graceful-sweep-19</a></strong> to <a href='https://wandb.ai/ychnli-stanford-university/sea-ice-prediction' target=\"_blank\">Weights & Biases</a> (<a href='https://wandb.me/developer-guide' target=\"_blank\">docs</a>)<br/>Sweep page: <a href='https://wandb.ai/ychnli-stanford-university/sea-ice-prediction/sweeps/ig2sril5' target=\"_blank\">https://wandb.ai/ychnli-stanford-university/sea-ice-prediction/sweeps/ig2sril5</a>"
      ],
      "text/plain": [
       "<IPython.core.display.HTML object>"
      ]
     },
     "metadata": {},
     "output_type": "display_data"
    },
    {
     "data": {
      "text/html": [
       " View project at <a href='https://wandb.ai/ychnli-stanford-university/sea-ice-prediction' target=\"_blank\">https://wandb.ai/ychnli-stanford-university/sea-ice-prediction</a>"
      ],
      "text/plain": [
       "<IPython.core.display.HTML object>"
      ]
     },
     "metadata": {},
     "output_type": "display_data"
    },
    {
     "data": {
      "text/html": [
       " View sweep at <a href='https://wandb.ai/ychnli-stanford-university/sea-ice-prediction/sweeps/ig2sril5' target=\"_blank\">https://wandb.ai/ychnli-stanford-university/sea-ice-prediction/sweeps/ig2sril5</a>"
      ],
      "text/plain": [
       "<IPython.core.display.HTML object>"
      ]
     },
     "metadata": {},
     "output_type": "display_data"
    },
    {
     "data": {
      "text/html": [
       " View run at <a href='https://wandb.ai/ychnli-stanford-university/sea-ice-prediction/runs/qfe59atd' target=\"_blank\">https://wandb.ai/ychnli-stanford-university/sea-ice-prediction/runs/qfe59atd</a>"
      ],
      "text/plain": [
       "<IPython.core.display.HTML object>"
      ]
     },
     "metadata": {},
     "output_type": "display_data"
    },
    {
     "name": "stderr",
     "output_type": "stream",
     "text": [
      "Epoch 0/100 [Train]: 100%|██████████| 19/19 [00:02<00:00,  8.74it/s, Batch Loss=0.0112]\n",
      "Epoch 0/100 [Val]: 100%|██████████| 3/3 [00:00<00:00, 13.19it/s, Batch RMSE=0.0895]\n",
      "Epoch 1/100 [Train]: 100%|██████████| 19/19 [00:02<00:00,  8.66it/s, Batch Loss=0.0103] \n",
      "Epoch 1/100 [Val]: 100%|██████████| 3/3 [00:00<00:00, 14.25it/s, Batch RMSE=0.0844]\n",
      "Epoch 2/100 [Train]: 100%|██████████| 19/19 [00:02<00:00,  8.01it/s, Batch Loss=0.0098] \n",
      "Epoch 2/100 [Val]: 100%|██████████| 3/3 [00:00<00:00,  7.69it/s, Batch RMSE=0.0818]\n",
      "Epoch 3/100 [Train]: 100%|██████████| 19/19 [00:02<00:00,  7.87it/s, Batch Loss=0.00968]\n",
      "Epoch 3/100 [Val]: 100%|██████████| 3/3 [00:00<00:00, 16.86it/s, Batch RMSE=0.0816]\n",
      "Epoch 4/100 [Train]: 100%|██████████| 19/19 [00:02<00:00,  8.62it/s, Batch Loss=0.00906]\n",
      "Epoch 4/100 [Val]: 100%|██████████| 3/3 [00:00<00:00, 13.36it/s, Batch RMSE=0.0813]\n",
      "Epoch 5/100 [Train]: 100%|██████████| 19/19 [00:02<00:00,  8.84it/s, Batch Loss=0.00808]\n",
      "Epoch 5/100 [Val]: 100%|██████████| 3/3 [00:00<00:00, 13.88it/s, Batch RMSE=0.0814]\n",
      "Epoch 6/100 [Train]: 100%|██████████| 19/19 [00:02<00:00,  8.63it/s, Batch Loss=0.00701]\n",
      "Epoch 6/100 [Val]: 100%|██████████| 3/3 [00:00<00:00, 14.17it/s, Batch RMSE=0.0822]\n",
      "Epoch 7/100 [Train]: 100%|██████████| 19/19 [00:02<00:00,  8.95it/s, Batch Loss=0.00737]\n",
      "Epoch 7/100 [Val]: 100%|██████████| 3/3 [00:00<00:00, 13.79it/s, Batch RMSE=0.0826]\n",
      "Epoch 8/100 [Train]: 100%|██████████| 19/19 [00:02<00:00,  7.29it/s, Batch Loss=0.00661]\n",
      "Epoch 8/100 [Val]: 100%|██████████| 3/3 [00:00<00:00, 13.76it/s, Batch RMSE=0.083] \n",
      "Epoch 9/100 [Train]: 100%|██████████| 19/19 [00:02<00:00,  8.96it/s, Batch Loss=0.00639]\n",
      "Epoch 9/100 [Val]: 100%|██████████| 3/3 [00:00<00:00, 14.11it/s, Batch RMSE=0.0827]\n",
      "Epoch 10/100 [Train]: 100%|██████████| 19/19 [00:02<00:00,  8.83it/s, Batch Loss=0.0062] \n",
      "Epoch 10/100 [Val]: 100%|██████████| 3/3 [00:00<00:00, 14.29it/s, Batch RMSE=0.0831]\n"
     ]
    },
    {
     "name": "stdout",
     "output_type": "stream",
     "text": [
      "Early stopping triggered at epoch 11\n"
     ]
    },
    {
     "data": {
      "text/html": [
       "\n",
       "    <style>\n",
       "        .wandb-row {\n",
       "            display: flex;\n",
       "            flex-direction: row;\n",
       "            flex-wrap: wrap;\n",
       "            justify-content: flex-start;\n",
       "            width: 100%;\n",
       "        }\n",
       "        .wandb-col {\n",
       "            display: flex;\n",
       "            flex-direction: column;\n",
       "            flex-basis: 100%;\n",
       "            flex: 1;\n",
       "            padding: 10px;\n",
       "        }\n",
       "    </style>\n",
       "<div class=\"wandb-row\"><div class=\"wandb-col\"><h3>Run history:</h3><br/><table class=\"wandb\"><tr><td>best_val_rmse</td><td>█▄▂▂▁▁▁▁▁▁</td></tr><tr><td>epoch</td><td>▁▂▂▃▄▅▅▆▇▇█</td></tr><tr><td>epoch_train_loss</td><td>█▅▄▃▃▂▂▂▁▁▁</td></tr><tr><td>epoch_val_loss</td><td>█▄▂▁▁▁▁▂▂▂▂</td></tr><tr><td>epoch_val_rmse</td><td>█▄▂▂▁▁▁▁▂▁▂</td></tr><tr><td>lr</td><td>███▇▇▆▅▅▄▂▁</td></tr><tr><td>train_loss</td><td>█▅▅▆▅▄▃▃▄▃▃▃▃▂▂▃▃▂▂▂▂▃▂▂▁▁▂▁▂▁▁▁▂▁▁▁▁▁▁▁</td></tr><tr><td>val_loss</td><td>█▆▆▅▃▃▄▂▂▃▂▂▃▁▂▃▁▂▃▁▂▃▂▂▃▂▃▄▁▃▄▂▃</td></tr><tr><td>val_rmse</td><td>█▇▅▅▅▂▅▃▁▃▃▁▃▂▁▃▂▁▃▃▁▂▃▂▃▃▂▃▃▂▃▃▂</td></tr></table><br/></div><div class=\"wandb-col\"><h3>Run summary:</h3><br/><table class=\"wandb\"><tr><td>best_val_rmse</td><td>0.08406</td></tr><tr><td>epoch</td><td>10</td></tr><tr><td>epoch_train_loss</td><td>0.00647</td></tr><tr><td>epoch_val_loss</td><td>0.01116</td></tr><tr><td>epoch_val_rmse</td><td>0.08527</td></tr><tr><td>lr</td><td>0.00033</td></tr><tr><td>train_loss</td><td>0.0062</td></tr><tr><td>val_loss</td><td>0.01112</td></tr><tr><td>val_rmse</td><td>0.08308</td></tr></table><br/></div></div>"
      ],
      "text/plain": [
       "<IPython.core.display.HTML object>"
      ]
     },
     "metadata": {},
     "output_type": "display_data"
    },
    {
     "data": {
      "text/html": [
       " View run <strong style=\"color:#cdcd00\">graceful-sweep-19</strong> at: <a href='https://wandb.ai/ychnli-stanford-university/sea-ice-prediction/runs/qfe59atd' target=\"_blank\">https://wandb.ai/ychnli-stanford-university/sea-ice-prediction/runs/qfe59atd</a><br/> View project at: <a href='https://wandb.ai/ychnli-stanford-university/sea-ice-prediction' target=\"_blank\">https://wandb.ai/ychnli-stanford-university/sea-ice-prediction</a><br/>Synced 4 W&B file(s), 0 media file(s), 0 artifact file(s) and 0 other file(s)"
      ],
      "text/plain": [
       "<IPython.core.display.HTML object>"
      ]
     },
     "metadata": {},
     "output_type": "display_data"
    },
    {
     "data": {
      "text/html": [
       "Find logs at: <code>./wandb/run-20250525_201448-qfe59atd/logs</code>"
      ],
      "text/plain": [
       "<IPython.core.display.HTML object>"
      ]
     },
     "metadata": {},
     "output_type": "display_data"
    },
    {
     "name": "stderr",
     "output_type": "stream",
     "text": [
      "\u001b[34m\u001b[1mwandb\u001b[0m: Agent Starting Run: 4zbf59gt with config:\n",
      "\u001b[34m\u001b[1mwandb\u001b[0m: \tbatch_size: 50\n",
      "\u001b[34m\u001b[1mwandb\u001b[0m: \tloss_function_args: 1\n",
      "\u001b[34m\u001b[1mwandb\u001b[0m: \tlr: 0.0019406678590650752\n",
      "\u001b[34m\u001b[1mwandb\u001b[0m: \tnum_epochs: 100\n",
      "\u001b[34m\u001b[1mwandb\u001b[0m: \tweight_decay: 0\n"
     ]
    },
    {
     "data": {
      "text/html": [
       "Tracking run with wandb version 0.19.0"
      ],
      "text/plain": [
       "<IPython.core.display.HTML object>"
      ]
     },
     "metadata": {},
     "output_type": "display_data"
    },
    {
     "data": {
      "text/html": [
       "Run data is saved locally in <code>/home/users/yucli/sicpred/wandb/run-20250525_201523-4zbf59gt</code>"
      ],
      "text/plain": [
       "<IPython.core.display.HTML object>"
      ]
     },
     "metadata": {},
     "output_type": "display_data"
    },
    {
     "data": {
      "text/html": [
       "Syncing run <strong><a href='https://wandb.ai/ychnli-stanford-university/sea-ice-prediction/runs/4zbf59gt' target=\"_blank\">lilac-sweep-20</a></strong> to <a href='https://wandb.ai/ychnli-stanford-university/sea-ice-prediction' target=\"_blank\">Weights & Biases</a> (<a href='https://wandb.me/developer-guide' target=\"_blank\">docs</a>)<br/>Sweep page: <a href='https://wandb.ai/ychnli-stanford-university/sea-ice-prediction/sweeps/ig2sril5' target=\"_blank\">https://wandb.ai/ychnli-stanford-university/sea-ice-prediction/sweeps/ig2sril5</a>"
      ],
      "text/plain": [
       "<IPython.core.display.HTML object>"
      ]
     },
     "metadata": {},
     "output_type": "display_data"
    },
    {
     "data": {
      "text/html": [
       " View project at <a href='https://wandb.ai/ychnli-stanford-university/sea-ice-prediction' target=\"_blank\">https://wandb.ai/ychnli-stanford-university/sea-ice-prediction</a>"
      ],
      "text/plain": [
       "<IPython.core.display.HTML object>"
      ]
     },
     "metadata": {},
     "output_type": "display_data"
    },
    {
     "data": {
      "text/html": [
       " View sweep at <a href='https://wandb.ai/ychnli-stanford-university/sea-ice-prediction/sweeps/ig2sril5' target=\"_blank\">https://wandb.ai/ychnli-stanford-university/sea-ice-prediction/sweeps/ig2sril5</a>"
      ],
      "text/plain": [
       "<IPython.core.display.HTML object>"
      ]
     },
     "metadata": {},
     "output_type": "display_data"
    },
    {
     "data": {
      "text/html": [
       " View run at <a href='https://wandb.ai/ychnli-stanford-university/sea-ice-prediction/runs/4zbf59gt' target=\"_blank\">https://wandb.ai/ychnli-stanford-university/sea-ice-prediction/runs/4zbf59gt</a>"
      ],
      "text/plain": [
       "<IPython.core.display.HTML object>"
      ]
     },
     "metadata": {},
     "output_type": "display_data"
    },
    {
     "name": "stderr",
     "output_type": "stream",
     "text": [
      "Epoch 0/100 [Train]: 100%|██████████| 8/8 [00:02<00:00,  3.83it/s, Batch Loss=0.0109]\n",
      "Epoch 0/100 [Val]: 100%|██████████| 2/2 [00:00<00:00,  9.10it/s, Batch RMSE=0.0873]\n",
      "Epoch 1/100 [Train]: 100%|██████████| 8/8 [00:02<00:00,  3.90it/s, Batch Loss=0.0093] \n",
      "Epoch 1/100 [Val]: 100%|██████████| 2/2 [00:00<00:00,  9.59it/s, Batch RMSE=0.0828]\n",
      "Epoch 2/100 [Train]: 100%|██████████| 8/8 [00:02<00:00,  3.95it/s, Batch Loss=0.00925]\n",
      "Epoch 2/100 [Val]: 100%|██████████| 2/2 [00:00<00:00,  9.62it/s, Batch RMSE=0.0843]\n",
      "Epoch 3/100 [Train]: 100%|██████████| 8/8 [00:02<00:00,  3.88it/s, Batch Loss=0.00769]\n",
      "Epoch 3/100 [Val]: 100%|██████████| 2/2 [00:00<00:00,  9.56it/s, Batch RMSE=0.0835]\n",
      "Epoch 4/100 [Train]: 100%|██████████| 8/8 [00:02<00:00,  3.93it/s, Batch Loss=0.00736]\n",
      "Epoch 4/100 [Val]: 100%|██████████| 2/2 [00:00<00:00,  9.78it/s, Batch RMSE=0.0845]\n",
      "Epoch 5/100 [Train]: 100%|██████████| 8/8 [00:02<00:00,  3.90it/s, Batch Loss=0.00748]\n",
      "Epoch 5/100 [Val]: 100%|██████████| 2/2 [00:00<00:00,  9.34it/s, Batch RMSE=0.0842]\n",
      "Epoch 6/100 [Train]: 100%|██████████| 8/8 [00:02<00:00,  3.91it/s, Batch Loss=0.00654]\n",
      "Epoch 6/100 [Val]: 100%|██████████| 2/2 [00:00<00:00,  9.80it/s, Batch RMSE=0.0874]\n",
      "Epoch 7/100 [Train]: 100%|██████████| 8/8 [00:02<00:00,  3.94it/s, Batch Loss=0.00637]\n",
      "Epoch 7/100 [Val]: 100%|██████████| 2/2 [00:00<00:00,  9.89it/s, Batch RMSE=0.0874]\n",
      "Epoch 8/100 [Train]: 100%|██████████| 8/8 [00:02<00:00,  3.71it/s, Batch Loss=0.00601]\n",
      "Epoch 8/100 [Val]: 100%|██████████| 2/2 [00:00<00:00,  9.70it/s, Batch RMSE=0.0856]\n",
      "Epoch 9/100 [Train]: 100%|██████████| 8/8 [00:02<00:00,  3.85it/s, Batch Loss=0.00556]\n",
      "Epoch 9/100 [Val]: 100%|██████████| 2/2 [00:00<00:00,  9.86it/s, Batch RMSE=0.0872]\n",
      "Epoch 10/100 [Train]: 100%|██████████| 8/8 [00:02<00:00,  3.82it/s, Batch Loss=0.00526]\n",
      "Epoch 10/100 [Val]: 100%|██████████| 2/2 [00:00<00:00,  9.23it/s, Batch RMSE=0.0881]\n"
     ]
    },
    {
     "name": "stdout",
     "output_type": "stream",
     "text": [
      "Early stopping triggered at epoch 11\n"
     ]
    },
    {
     "data": {
      "text/html": [
       "\n",
       "    <style>\n",
       "        .wandb-row {\n",
       "            display: flex;\n",
       "            flex-direction: row;\n",
       "            flex-wrap: wrap;\n",
       "            justify-content: flex-start;\n",
       "            width: 100%;\n",
       "        }\n",
       "        .wandb-col {\n",
       "            display: flex;\n",
       "            flex-direction: column;\n",
       "            flex-basis: 100%;\n",
       "            flex: 1;\n",
       "            padding: 10px;\n",
       "        }\n",
       "    </style>\n",
       "<div class=\"wandb-row\"><div class=\"wandb-col\"><h3>Run history:</h3><br/><table class=\"wandb\"><tr><td>best_val_rmse</td><td>█▄▃▁▁▁▁▁▁▁</td></tr><tr><td>epoch</td><td>▁▂▂▃▄▅▅▆▇▇█</td></tr><tr><td>epoch_train_loss</td><td>█▅▄▄▃▂▂▂▁▁▁</td></tr><tr><td>epoch_val_loss</td><td>█▂▃▁▂▂▅▄▃▅▅</td></tr><tr><td>epoch_val_rmse</td><td>█▄▃▁▁▁▂▃▂▂▃</td></tr><tr><td>lr</td><td>███▇▇▆▅▅▄▂▁</td></tr><tr><td>train_loss</td><td>█▅▅▄▄▄▄▄▃▃▃▃▃▂▂▂▂▂▂▂▂▂▂▂▂▂▁▂▂▁▁▁▂▁▁▁▁▁▁▁</td></tr><tr><td>val_loss</td><td>▄█▂▅▂▆▁▆▁▆▁▆▁█▂▇▁▆▂▇▂█</td></tr><tr><td>val_rmse</td><td>█▅▅▁▃▂▂▂▂▂▂▂▂▅▃▅▃▃▃▅▄▆</td></tr></table><br/></div><div class=\"wandb-col\"><h3>Run summary:</h3><br/><table class=\"wandb\"><tr><td>best_val_rmse</td><td>0.08359</td></tr><tr><td>epoch</td><td>10</td></tr><tr><td>epoch_train_loss</td><td>0.00535</td></tr><tr><td>epoch_val_loss</td><td>0.01308</td></tr><tr><td>epoch_val_rmse</td><td>0.08589</td></tr><tr><td>lr</td><td>0.00189</td></tr><tr><td>train_loss</td><td>0.00526</td></tr><tr><td>val_loss</td><td>0.01512</td></tr><tr><td>val_rmse</td><td>0.08805</td></tr></table><br/></div></div>"
      ],
      "text/plain": [
       "<IPython.core.display.HTML object>"
      ]
     },
     "metadata": {},
     "output_type": "display_data"
    },
    {
     "data": {
      "text/html": [
       " View run <strong style=\"color:#cdcd00\">lilac-sweep-20</strong> at: <a href='https://wandb.ai/ychnli-stanford-university/sea-ice-prediction/runs/4zbf59gt' target=\"_blank\">https://wandb.ai/ychnli-stanford-university/sea-ice-prediction/runs/4zbf59gt</a><br/> View project at: <a href='https://wandb.ai/ychnli-stanford-university/sea-ice-prediction' target=\"_blank\">https://wandb.ai/ychnli-stanford-university/sea-ice-prediction</a><br/>Synced 4 W&B file(s), 0 media file(s), 0 artifact file(s) and 0 other file(s)"
      ],
      "text/plain": [
       "<IPython.core.display.HTML object>"
      ]
     },
     "metadata": {},
     "output_type": "display_data"
    },
    {
     "data": {
      "text/html": [
       "Find logs at: <code>./wandb/run-20250525_201523-4zbf59gt/logs</code>"
      ],
      "text/plain": [
       "<IPython.core.display.HTML object>"
      ]
     },
     "metadata": {},
     "output_type": "display_data"
    },
    {
     "name": "stderr",
     "output_type": "stream",
     "text": [
      "\u001b[34m\u001b[1mwandb\u001b[0m: Agent Starting Run: 68fb2dwk with config:\n",
      "\u001b[34m\u001b[1mwandb\u001b[0m: \tbatch_size: 64\n",
      "\u001b[34m\u001b[1mwandb\u001b[0m: \tloss_function_args: 1\n",
      "\u001b[34m\u001b[1mwandb\u001b[0m: \tlr: 0.0011204868929255657\n",
      "\u001b[34m\u001b[1mwandb\u001b[0m: \tnum_epochs: 100\n",
      "\u001b[34m\u001b[1mwandb\u001b[0m: \tweight_decay: 0\n"
     ]
    },
    {
     "data": {
      "text/html": [
       "Tracking run with wandb version 0.19.0"
      ],
      "text/plain": [
       "<IPython.core.display.HTML object>"
      ]
     },
     "metadata": {},
     "output_type": "display_data"
    },
    {
     "data": {
      "text/html": [
       "Run data is saved locally in <code>/home/users/yucli/sicpred/wandb/run-20250525_201554-68fb2dwk</code>"
      ],
      "text/plain": [
       "<IPython.core.display.HTML object>"
      ]
     },
     "metadata": {},
     "output_type": "display_data"
    },
    {
     "data": {
      "text/html": [
       "Syncing run <strong><a href='https://wandb.ai/ychnli-stanford-university/sea-ice-prediction/runs/68fb2dwk' target=\"_blank\">valiant-sweep-21</a></strong> to <a href='https://wandb.ai/ychnli-stanford-university/sea-ice-prediction' target=\"_blank\">Weights & Biases</a> (<a href='https://wandb.me/developer-guide' target=\"_blank\">docs</a>)<br/>Sweep page: <a href='https://wandb.ai/ychnli-stanford-university/sea-ice-prediction/sweeps/ig2sril5' target=\"_blank\">https://wandb.ai/ychnli-stanford-university/sea-ice-prediction/sweeps/ig2sril5</a>"
      ],
      "text/plain": [
       "<IPython.core.display.HTML object>"
      ]
     },
     "metadata": {},
     "output_type": "display_data"
    },
    {
     "data": {
      "text/html": [
       " View project at <a href='https://wandb.ai/ychnli-stanford-university/sea-ice-prediction' target=\"_blank\">https://wandb.ai/ychnli-stanford-university/sea-ice-prediction</a>"
      ],
      "text/plain": [
       "<IPython.core.display.HTML object>"
      ]
     },
     "metadata": {},
     "output_type": "display_data"
    },
    {
     "data": {
      "text/html": [
       " View sweep at <a href='https://wandb.ai/ychnli-stanford-university/sea-ice-prediction/sweeps/ig2sril5' target=\"_blank\">https://wandb.ai/ychnli-stanford-university/sea-ice-prediction/sweeps/ig2sril5</a>"
      ],
      "text/plain": [
       "<IPython.core.display.HTML object>"
      ]
     },
     "metadata": {},
     "output_type": "display_data"
    },
    {
     "data": {
      "text/html": [
       " View run at <a href='https://wandb.ai/ychnli-stanford-university/sea-ice-prediction/runs/68fb2dwk' target=\"_blank\">https://wandb.ai/ychnli-stanford-university/sea-ice-prediction/runs/68fb2dwk</a>"
      ],
      "text/plain": [
       "<IPython.core.display.HTML object>"
      ]
     },
     "metadata": {},
     "output_type": "display_data"
    },
    {
     "name": "stderr",
     "output_type": "stream",
     "text": [
      "Epoch 0/100 [Train]: 100%|██████████| 6/6 [00:02<00:00,  2.89it/s, Batch Loss=0.0117]\n",
      "Epoch 0/100 [Val]: 100%|██████████| 1/1 [00:00<00:00,  4.54it/s, Batch RMSE=0.0992]\n",
      "Epoch 1/100 [Train]: 100%|██████████| 6/6 [00:02<00:00,  2.93it/s, Batch Loss=0.00982]\n",
      "Epoch 1/100 [Val]: 100%|██████████| 1/1 [00:00<00:00,  5.12it/s, Batch RMSE=0.0899]\n",
      "Epoch 2/100 [Train]: 100%|██████████| 6/6 [00:02<00:00,  2.90it/s, Batch Loss=0.00984]\n",
      "Epoch 2/100 [Val]: 100%|██████████| 1/1 [00:00<00:00,  5.12it/s, Batch RMSE=0.0873]\n",
      "Epoch 3/100 [Train]: 100%|██████████| 6/6 [00:02<00:00,  2.88it/s, Batch Loss=0.00888]\n",
      "Epoch 3/100 [Val]: 100%|██████████| 1/1 [00:00<00:00,  5.10it/s, Batch RMSE=0.0853]\n",
      "Epoch 4/100 [Train]: 100%|██████████| 6/6 [00:02<00:00,  2.91it/s, Batch Loss=0.00839]\n",
      "Epoch 4/100 [Val]: 100%|██████████| 1/1 [00:00<00:00,  4.98it/s, Batch RMSE=0.0851]\n",
      "Epoch 5/100 [Train]: 100%|██████████| 6/6 [00:02<00:00,  2.92it/s, Batch Loss=0.00818]\n",
      "Epoch 5/100 [Val]: 100%|██████████| 1/1 [00:00<00:00,  4.92it/s, Batch RMSE=0.0839]\n",
      "Epoch 6/100 [Train]: 100%|██████████| 6/6 [00:02<00:00,  2.76it/s, Batch Loss=0.00765]\n",
      "Epoch 6/100 [Val]: 100%|██████████| 1/1 [00:00<00:00,  4.60it/s, Batch RMSE=0.0841]\n",
      "Epoch 7/100 [Train]: 100%|██████████| 6/6 [00:02<00:00,  2.55it/s, Batch Loss=0.00741]\n",
      "Epoch 7/100 [Val]: 100%|██████████| 1/1 [00:00<00:00,  4.87it/s, Batch RMSE=0.0839]\n",
      "Epoch 8/100 [Train]: 100%|██████████| 6/6 [00:02<00:00,  2.83it/s, Batch Loss=0.00667]\n",
      "Epoch 8/100 [Val]: 100%|██████████| 1/1 [00:00<00:00,  4.83it/s, Batch RMSE=0.0844]\n",
      "Epoch 9/100 [Train]: 100%|██████████| 6/6 [00:02<00:00,  2.67it/s, Batch Loss=0.00694]\n",
      "Epoch 9/100 [Val]: 100%|██████████| 1/1 [00:00<00:00,  2.00it/s, Batch RMSE=0.0843]\n",
      "Epoch 10/100 [Train]: 100%|██████████| 6/6 [00:02<00:00,  2.38it/s, Batch Loss=0.00632]\n",
      "Epoch 10/100 [Val]: 100%|██████████| 1/1 [00:00<00:00,  2.65it/s, Batch RMSE=0.0841]\n",
      "Epoch 11/100 [Train]: 100%|██████████| 6/6 [00:02<00:00,  2.39it/s, Batch Loss=0.0058] \n",
      "Epoch 11/100 [Val]: 100%|██████████| 1/1 [00:00<00:00,  2.23it/s, Batch RMSE=0.0838]\n",
      "Epoch 12/100 [Train]: 100%|██████████| 6/6 [00:02<00:00,  2.17it/s, Batch Loss=0.00576]\n",
      "Epoch 12/100 [Val]: 100%|██████████| 1/1 [00:00<00:00,  5.02it/s, Batch RMSE=0.085]\n",
      "Epoch 13/100 [Train]: 100%|██████████| 6/6 [00:02<00:00,  2.88it/s, Batch Loss=0.00553]\n",
      "Epoch 13/100 [Val]: 100%|██████████| 1/1 [00:00<00:00,  4.95it/s, Batch RMSE=0.0844]\n",
      "Epoch 14/100 [Train]: 100%|██████████| 6/6 [00:02<00:00,  2.26it/s, Batch Loss=0.00555]\n",
      "Epoch 14/100 [Val]: 100%|██████████| 1/1 [00:00<00:00,  4.46it/s, Batch RMSE=0.0845]\n",
      "Epoch 15/100 [Train]: 100%|██████████| 6/6 [00:02<00:00,  2.77it/s, Batch Loss=0.00511]\n",
      "Epoch 15/100 [Val]: 100%|██████████| 1/1 [00:00<00:00,  5.08it/s, Batch RMSE=0.0843]\n",
      "Epoch 16/100 [Train]: 100%|██████████| 6/6 [00:02<00:00,  2.93it/s, Batch Loss=0.0052] \n",
      "Epoch 16/100 [Val]: 100%|██████████| 1/1 [00:00<00:00,  4.73it/s, Batch RMSE=0.0856]\n"
     ]
    },
    {
     "name": "stdout",
     "output_type": "stream",
     "text": [
      "Early stopping triggered at epoch 17\n"
     ]
    },
    {
     "data": {
      "text/html": [
       "\n",
       "    <style>\n",
       "        .wandb-row {\n",
       "            display: flex;\n",
       "            flex-direction: row;\n",
       "            flex-wrap: wrap;\n",
       "            justify-content: flex-start;\n",
       "            width: 100%;\n",
       "        }\n",
       "        .wandb-col {\n",
       "            display: flex;\n",
       "            flex-direction: column;\n",
       "            flex-basis: 100%;\n",
       "            flex: 1;\n",
       "            padding: 10px;\n",
       "        }\n",
       "    </style>\n",
       "<div class=\"wandb-row\"><div class=\"wandb-col\"><h3>Run history:</h3><br/><table class=\"wandb\"><tr><td>best_val_rmse</td><td>█▄▃▂▂▁▁▁▁▁▁▁▁▁▁▁</td></tr><tr><td>epoch</td><td>▁▁▂▂▃▃▄▄▅▅▅▆▆▇▇██</td></tr><tr><td>epoch_train_loss</td><td>█▆▅▄▄▃▃▃▂▂▂▂▂▁▁▁▁</td></tr><tr><td>epoch_val_loss</td><td>█▄▃▂▁▁▁▁▁▁▁▁▂▂▂▂▂</td></tr><tr><td>epoch_val_rmse</td><td>█▄▃▂▂▁▁▁▁▁▁▁▂▁▁▁▂</td></tr><tr><td>lr</td><td>█████▇▇▇▆▆▅▅▄▃▃▂▁</td></tr><tr><td>train_loss</td><td>█▇▆▆▅▄▃▃▃▃▃▂▃▃▃▂▂▂▂▂▂▂▂▂▂▂▁▁▁▁▁▁▁▁▁▁▁▁▁▁</td></tr><tr><td>val_loss</td><td>█▄▃▂▁▁▁▁▁▁▁▁▂▂▂▂▂</td></tr><tr><td>val_rmse</td><td>█▄▃▂▂▁▁▁▁▁▁▁▂▁▁▁▂</td></tr></table><br/></div><div class=\"wandb-col\"><h3>Run summary:</h3><br/><table class=\"wandb\"><tr><td>best_val_rmse</td><td>0.08381</td></tr><tr><td>epoch</td><td>16</td></tr><tr><td>epoch_train_loss</td><td>0.00516</td></tr><tr><td>epoch_val_loss</td><td>0.01123</td></tr><tr><td>epoch_val_rmse</td><td>0.08556</td></tr><tr><td>lr</td><td>0.00105</td></tr><tr><td>train_loss</td><td>0.0052</td></tr><tr><td>val_loss</td><td>0.01123</td></tr><tr><td>val_rmse</td><td>0.08556</td></tr></table><br/></div></div>"
      ],
      "text/plain": [
       "<IPython.core.display.HTML object>"
      ]
     },
     "metadata": {},
     "output_type": "display_data"
    },
    {
     "data": {
      "text/html": [
       " View run <strong style=\"color:#cdcd00\">valiant-sweep-21</strong> at: <a href='https://wandb.ai/ychnli-stanford-university/sea-ice-prediction/runs/68fb2dwk' target=\"_blank\">https://wandb.ai/ychnli-stanford-university/sea-ice-prediction/runs/68fb2dwk</a><br/> View project at: <a href='https://wandb.ai/ychnli-stanford-university/sea-ice-prediction' target=\"_blank\">https://wandb.ai/ychnli-stanford-university/sea-ice-prediction</a><br/>Synced 4 W&B file(s), 0 media file(s), 0 artifact file(s) and 0 other file(s)"
      ],
      "text/plain": [
       "<IPython.core.display.HTML object>"
      ]
     },
     "metadata": {},
     "output_type": "display_data"
    },
    {
     "data": {
      "text/html": [
       "Find logs at: <code>./wandb/run-20250525_201554-68fb2dwk/logs</code>"
      ],
      "text/plain": [
       "<IPython.core.display.HTML object>"
      ]
     },
     "metadata": {},
     "output_type": "display_data"
    },
    {
     "name": "stderr",
     "output_type": "stream",
     "text": [
      "\u001b[34m\u001b[1mwandb\u001b[0m: Agent Starting Run: 9s8m8ayk with config:\n",
      "\u001b[34m\u001b[1mwandb\u001b[0m: \tbatch_size: 20\n",
      "\u001b[34m\u001b[1mwandb\u001b[0m: \tloss_function_args: 1\n",
      "\u001b[34m\u001b[1mwandb\u001b[0m: \tlr: 0.0034953967760092187\n",
      "\u001b[34m\u001b[1mwandb\u001b[0m: \tnum_epochs: 100\n",
      "\u001b[34m\u001b[1mwandb\u001b[0m: \tweight_decay: 0\n"
     ]
    },
    {
     "data": {
      "text/html": [
       "Tracking run with wandb version 0.19.0"
      ],
      "text/plain": [
       "<IPython.core.display.HTML object>"
      ]
     },
     "metadata": {},
     "output_type": "display_data"
    },
    {
     "data": {
      "text/html": [
       "Run data is saved locally in <code>/home/users/yucli/sicpred/wandb/run-20250525_201645-9s8m8ayk</code>"
      ],
      "text/plain": [
       "<IPython.core.display.HTML object>"
      ]
     },
     "metadata": {},
     "output_type": "display_data"
    },
    {
     "data": {
      "text/html": [
       "Syncing run <strong><a href='https://wandb.ai/ychnli-stanford-university/sea-ice-prediction/runs/9s8m8ayk' target=\"_blank\">young-sweep-22</a></strong> to <a href='https://wandb.ai/ychnli-stanford-university/sea-ice-prediction' target=\"_blank\">Weights & Biases</a> (<a href='https://wandb.me/developer-guide' target=\"_blank\">docs</a>)<br/>Sweep page: <a href='https://wandb.ai/ychnli-stanford-university/sea-ice-prediction/sweeps/ig2sril5' target=\"_blank\">https://wandb.ai/ychnli-stanford-university/sea-ice-prediction/sweeps/ig2sril5</a>"
      ],
      "text/plain": [
       "<IPython.core.display.HTML object>"
      ]
     },
     "metadata": {},
     "output_type": "display_data"
    },
    {
     "data": {
      "text/html": [
       " View project at <a href='https://wandb.ai/ychnli-stanford-university/sea-ice-prediction' target=\"_blank\">https://wandb.ai/ychnli-stanford-university/sea-ice-prediction</a>"
      ],
      "text/plain": [
       "<IPython.core.display.HTML object>"
      ]
     },
     "metadata": {},
     "output_type": "display_data"
    },
    {
     "data": {
      "text/html": [
       " View sweep at <a href='https://wandb.ai/ychnli-stanford-university/sea-ice-prediction/sweeps/ig2sril5' target=\"_blank\">https://wandb.ai/ychnli-stanford-university/sea-ice-prediction/sweeps/ig2sril5</a>"
      ],
      "text/plain": [
       "<IPython.core.display.HTML object>"
      ]
     },
     "metadata": {},
     "output_type": "display_data"
    },
    {
     "data": {
      "text/html": [
       " View run at <a href='https://wandb.ai/ychnli-stanford-university/sea-ice-prediction/runs/9s8m8ayk' target=\"_blank\">https://wandb.ai/ychnli-stanford-university/sea-ice-prediction/runs/9s8m8ayk</a>"
      ],
      "text/plain": [
       "<IPython.core.display.HTML object>"
      ]
     },
     "metadata": {},
     "output_type": "display_data"
    },
    {
     "name": "stderr",
     "output_type": "stream",
     "text": [
      "Epoch 0/100 [Train]: 100%|██████████| 19/19 [00:02<00:00,  9.32it/s, Batch Loss=0.0105] \n",
      "Epoch 0/100 [Val]: 100%|██████████| 3/3 [00:00<00:00, 13.14it/s, Batch RMSE=0.085] \n",
      "Epoch 1/100 [Train]: 100%|██████████| 19/19 [00:02<00:00,  9.30it/s, Batch Loss=0.00766]\n",
      "Epoch 1/100 [Val]: 100%|██████████| 3/3 [00:00<00:00, 14.07it/s, Batch RMSE=0.0812]\n",
      "Epoch 2/100 [Train]: 100%|██████████| 19/19 [00:01<00:00,  9.62it/s, Batch Loss=0.00803]\n",
      "Epoch 2/100 [Val]: 100%|██████████| 3/3 [00:00<00:00, 13.37it/s, Batch RMSE=0.0829]\n",
      "Epoch 3/100 [Train]: 100%|██████████| 19/19 [00:01<00:00,  9.53it/s, Batch Loss=0.00739]\n",
      "Epoch 3/100 [Val]: 100%|██████████| 3/3 [00:00<00:00, 14.21it/s, Batch RMSE=0.0845]\n",
      "Epoch 4/100 [Train]: 100%|██████████| 19/19 [00:02<00:00,  9.31it/s, Batch Loss=0.00643]\n",
      "Epoch 4/100 [Val]: 100%|██████████| 3/3 [00:00<00:00, 14.17it/s, Batch RMSE=0.0816]\n",
      "Epoch 5/100 [Train]: 100%|██████████| 19/19 [00:02<00:00,  9.00it/s, Batch Loss=0.0066] \n",
      "Epoch 5/100 [Val]: 100%|██████████| 3/3 [00:00<00:00, 14.12it/s, Batch RMSE=0.0849]\n",
      "Epoch 6/100 [Train]: 100%|██████████| 19/19 [00:01<00:00,  9.79it/s, Batch Loss=0.00581]\n",
      "Epoch 6/100 [Val]: 100%|██████████| 3/3 [00:00<00:00, 14.50it/s, Batch RMSE=0.0824]\n",
      "Epoch 7/100 [Train]: 100%|██████████| 19/19 [00:01<00:00,  9.85it/s, Batch Loss=0.00593]\n",
      "Epoch 7/100 [Val]: 100%|██████████| 3/3 [00:00<00:00, 14.61it/s, Batch RMSE=0.0824]\n"
     ]
    },
    {
     "name": "stdout",
     "output_type": "stream",
     "text": [
      "Early stopping triggered at epoch 8\n"
     ]
    },
    {
     "data": {
      "text/html": [
       "\n",
       "    <style>\n",
       "        .wandb-row {\n",
       "            display: flex;\n",
       "            flex-direction: row;\n",
       "            flex-wrap: wrap;\n",
       "            justify-content: flex-start;\n",
       "            width: 100%;\n",
       "        }\n",
       "        .wandb-col {\n",
       "            display: flex;\n",
       "            flex-direction: column;\n",
       "            flex-basis: 100%;\n",
       "            flex: 1;\n",
       "            padding: 10px;\n",
       "        }\n",
       "    </style>\n",
       "<div class=\"wandb-row\"><div class=\"wandb-col\"><h3>Run history:</h3><br/><table class=\"wandb\"><tr><td>best_val_rmse</td><td>█▂▁▁▁▁▁</td></tr><tr><td>epoch</td><td>▁▂▃▄▅▆▇█</td></tr><tr><td>epoch_train_loss</td><td>█▅▄▃▂▂▂▁</td></tr><tr><td>epoch_val_loss</td><td>█▂▁▄▂▅▃▃</td></tr><tr><td>epoch_val_rmse</td><td>█▂▁▄▂▄▂▂</td></tr><tr><td>lr</td><td>██▇▇▆▄▃▁</td></tr><tr><td>train_loss</td><td>▇▇█▇▆▇▇▄▅▄▅▃▅▄▅▄▃▅▄▂▃▂▄▃▂▃▃▃▃▂▂▂▃▃▂▁▁▁▂▁</td></tr><tr><td>val_loss</td><td>█▅▅▆▃▂▄▂▃█▁▄▇▁▃█▁▅▇▂▂▇▁▃</td></tr><tr><td>val_rmse</td><td>█▇▄▅▄▁▄▃▂▇▃▃▆▃▁▇▄▄▅▃▂▆▂▂</td></tr></table><br/></div><div class=\"wandb-col\"><h3>Run summary:</h3><br/><table class=\"wandb\"><tr><td>best_val_rmse</td><td>0.08411</td></tr><tr><td>epoch</td><td>7</td></tr><tr><td>epoch_train_loss</td><td>0.00569</td></tr><tr><td>epoch_val_loss</td><td>0.01108</td></tr><tr><td>epoch_val_rmse</td><td>0.08477</td></tr><tr><td>lr</td><td>0.00345</td></tr><tr><td>train_loss</td><td>0.00593</td></tr><tr><td>val_loss</td><td>0.01085</td></tr><tr><td>val_rmse</td><td>0.08244</td></tr></table><br/></div></div>"
      ],
      "text/plain": [
       "<IPython.core.display.HTML object>"
      ]
     },
     "metadata": {},
     "output_type": "display_data"
    },
    {
     "data": {
      "text/html": [
       " View run <strong style=\"color:#cdcd00\">young-sweep-22</strong> at: <a href='https://wandb.ai/ychnli-stanford-university/sea-ice-prediction/runs/9s8m8ayk' target=\"_blank\">https://wandb.ai/ychnli-stanford-university/sea-ice-prediction/runs/9s8m8ayk</a><br/> View project at: <a href='https://wandb.ai/ychnli-stanford-university/sea-ice-prediction' target=\"_blank\">https://wandb.ai/ychnli-stanford-university/sea-ice-prediction</a><br/>Synced 4 W&B file(s), 0 media file(s), 0 artifact file(s) and 0 other file(s)"
      ],
      "text/plain": [
       "<IPython.core.display.HTML object>"
      ]
     },
     "metadata": {},
     "output_type": "display_data"
    },
    {
     "data": {
      "text/html": [
       "Find logs at: <code>./wandb/run-20250525_201645-9s8m8ayk/logs</code>"
      ],
      "text/plain": [
       "<IPython.core.display.HTML object>"
      ]
     },
     "metadata": {},
     "output_type": "display_data"
    },
    {
     "name": "stderr",
     "output_type": "stream",
     "text": [
      "\u001b[34m\u001b[1mwandb\u001b[0m: Agent Starting Run: f9wnof77 with config:\n",
      "\u001b[34m\u001b[1mwandb\u001b[0m: \tbatch_size: 50\n",
      "\u001b[34m\u001b[1mwandb\u001b[0m: \tloss_function_args: 1\n",
      "\u001b[34m\u001b[1mwandb\u001b[0m: \tlr: 0.0028356567319795492\n",
      "\u001b[34m\u001b[1mwandb\u001b[0m: \tnum_epochs: 100\n",
      "\u001b[34m\u001b[1mwandb\u001b[0m: \tweight_decay: 0\n"
     ]
    },
    {
     "data": {
      "text/html": [
       "Tracking run with wandb version 0.19.0"
      ],
      "text/plain": [
       "<IPython.core.display.HTML object>"
      ]
     },
     "metadata": {},
     "output_type": "display_data"
    },
    {
     "data": {
      "text/html": [
       "Run data is saved locally in <code>/home/users/yucli/sicpred/wandb/run-20250525_201710-f9wnof77</code>"
      ],
      "text/plain": [
       "<IPython.core.display.HTML object>"
      ]
     },
     "metadata": {},
     "output_type": "display_data"
    },
    {
     "data": {
      "text/html": [
       "Syncing run <strong><a href='https://wandb.ai/ychnli-stanford-university/sea-ice-prediction/runs/f9wnof77' target=\"_blank\">divine-sweep-23</a></strong> to <a href='https://wandb.ai/ychnli-stanford-university/sea-ice-prediction' target=\"_blank\">Weights & Biases</a> (<a href='https://wandb.me/developer-guide' target=\"_blank\">docs</a>)<br/>Sweep page: <a href='https://wandb.ai/ychnli-stanford-university/sea-ice-prediction/sweeps/ig2sril5' target=\"_blank\">https://wandb.ai/ychnli-stanford-university/sea-ice-prediction/sweeps/ig2sril5</a>"
      ],
      "text/plain": [
       "<IPython.core.display.HTML object>"
      ]
     },
     "metadata": {},
     "output_type": "display_data"
    },
    {
     "data": {
      "text/html": [
       " View project at <a href='https://wandb.ai/ychnli-stanford-university/sea-ice-prediction' target=\"_blank\">https://wandb.ai/ychnli-stanford-university/sea-ice-prediction</a>"
      ],
      "text/plain": [
       "<IPython.core.display.HTML object>"
      ]
     },
     "metadata": {},
     "output_type": "display_data"
    },
    {
     "data": {
      "text/html": [
       " View sweep at <a href='https://wandb.ai/ychnli-stanford-university/sea-ice-prediction/sweeps/ig2sril5' target=\"_blank\">https://wandb.ai/ychnli-stanford-university/sea-ice-prediction/sweeps/ig2sril5</a>"
      ],
      "text/plain": [
       "<IPython.core.display.HTML object>"
      ]
     },
     "metadata": {},
     "output_type": "display_data"
    },
    {
     "data": {
      "text/html": [
       " View run at <a href='https://wandb.ai/ychnli-stanford-university/sea-ice-prediction/runs/f9wnof77' target=\"_blank\">https://wandb.ai/ychnli-stanford-university/sea-ice-prediction/runs/f9wnof77</a>"
      ],
      "text/plain": [
       "<IPython.core.display.HTML object>"
      ]
     },
     "metadata": {},
     "output_type": "display_data"
    },
    {
     "name": "stderr",
     "output_type": "stream",
     "text": [
      "Epoch 0/100 [Train]: 100%|██████████| 8/8 [00:02<00:00,  2.96it/s, Batch Loss=0.0115]\n",
      "Epoch 0/100 [Val]: 100%|██████████| 2/2 [00:00<00:00,  8.96it/s, Batch RMSE=0.0894]\n",
      "Epoch 1/100 [Train]: 100%|██████████| 8/8 [00:02<00:00,  3.81it/s, Batch Loss=0.00977]\n",
      "Epoch 1/100 [Val]: 100%|██████████| 2/2 [00:00<00:00,  8.99it/s, Batch RMSE=0.0847]\n",
      "Epoch 2/100 [Train]: 100%|██████████| 8/8 [00:02<00:00,  3.83it/s, Batch Loss=0.00818]\n",
      "Epoch 2/100 [Val]: 100%|██████████| 2/2 [00:00<00:00,  9.31it/s, Batch RMSE=0.0828]\n",
      "Epoch 3/100 [Train]: 100%|██████████| 8/8 [00:02<00:00,  3.90it/s, Batch Loss=0.00766]\n",
      "Epoch 3/100 [Val]: 100%|██████████| 2/2 [00:00<00:00,  8.62it/s, Batch RMSE=0.0831]\n",
      "Epoch 4/100 [Train]: 100%|██████████| 8/8 [00:02<00:00,  3.91it/s, Batch Loss=0.00771]\n",
      "Epoch 4/100 [Val]: 100%|██████████| 2/2 [00:00<00:00,  9.95it/s, Batch RMSE=0.0868]\n",
      "Epoch 5/100 [Train]: 100%|██████████| 8/8 [00:02<00:00,  3.82it/s, Batch Loss=0.00668]\n",
      "Epoch 5/100 [Val]: 100%|██████████| 2/2 [00:00<00:00, 10.05it/s, Batch RMSE=0.0859]\n",
      "Epoch 6/100 [Train]: 100%|██████████| 8/8 [00:02<00:00,  3.93it/s, Batch Loss=0.00658]\n",
      "Epoch 6/100 [Val]: 100%|██████████| 2/2 [00:00<00:00, 10.16it/s, Batch RMSE=0.086] \n",
      "Epoch 7/100 [Train]: 100%|██████████| 8/8 [00:02<00:00,  3.87it/s, Batch Loss=0.00599]\n",
      "Epoch 7/100 [Val]: 100%|██████████| 2/2 [00:00<00:00,  9.95it/s, Batch RMSE=0.0867]\n",
      "Epoch 8/100 [Train]: 100%|██████████| 8/8 [00:02<00:00,  3.90it/s, Batch Loss=0.00573]\n",
      "Epoch 8/100 [Val]: 100%|██████████| 2/2 [00:00<00:00,  9.56it/s, Batch RMSE=0.0878]\n"
     ]
    },
    {
     "name": "stdout",
     "output_type": "stream",
     "text": [
      "Early stopping triggered at epoch 9\n"
     ]
    },
    {
     "data": {
      "text/html": [
       "\n",
       "    <style>\n",
       "        .wandb-row {\n",
       "            display: flex;\n",
       "            flex-direction: row;\n",
       "            flex-wrap: wrap;\n",
       "            justify-content: flex-start;\n",
       "            width: 100%;\n",
       "        }\n",
       "        .wandb-col {\n",
       "            display: flex;\n",
       "            flex-direction: column;\n",
       "            flex-basis: 100%;\n",
       "            flex: 1;\n",
       "            padding: 10px;\n",
       "        }\n",
       "    </style>\n",
       "<div class=\"wandb-row\"><div class=\"wandb-col\"><h3>Run history:</h3><br/><table class=\"wandb\"><tr><td>best_val_rmse</td><td>█▄▂▁▁▁▁▁</td></tr><tr><td>epoch</td><td>▁▂▃▄▅▅▆▇█</td></tr><tr><td>epoch_train_loss</td><td>█▅▄▃▃▂▂▁▁</td></tr><tr><td>epoch_val_loss</td><td>█▄▁▁▃▃▃▃▄</td></tr><tr><td>epoch_val_rmse</td><td>█▄▂▁▂▂▂▂▂</td></tr><tr><td>lr</td><td>███▇▆▅▄▃▁</td></tr><tr><td>train_loss</td><td>█▇▆▅▅▅▄▄▄▃▃▃▃▃▃▃▂▂▂▂▂▂▂▂▂▂▂▂▁▂▁▁▁▁▁▁▁▁▁▁</td></tr><tr><td>val_loss</td><td>▄█▂▆▁▅▁▅▁▇▁▆▁▇▁▇▂▇</td></tr><tr><td>val_rmse</td><td>█▆▅▂▂▁▂▁▂▄▂▃▂▃▂▄▂▄</td></tr></table><br/></div><div class=\"wandb-col\"><h3>Run summary:</h3><br/><table class=\"wandb\"><tr><td>best_val_rmse</td><td>0.08365</td></tr><tr><td>epoch</td><td>8</td></tr><tr><td>epoch_train_loss</td><td>0.00582</td></tr><tr><td>epoch_val_loss</td><td>0.01291</td></tr><tr><td>epoch_val_rmse</td><td>0.085</td></tr><tr><td>lr</td><td>0.00279</td></tr><tr><td>train_loss</td><td>0.00573</td></tr><tr><td>val_loss</td><td>0.01489</td></tr><tr><td>val_rmse</td><td>0.0878</td></tr></table><br/></div></div>"
      ],
      "text/plain": [
       "<IPython.core.display.HTML object>"
      ]
     },
     "metadata": {},
     "output_type": "display_data"
    },
    {
     "data": {
      "text/html": [
       " View run <strong style=\"color:#cdcd00\">divine-sweep-23</strong> at: <a href='https://wandb.ai/ychnli-stanford-university/sea-ice-prediction/runs/f9wnof77' target=\"_blank\">https://wandb.ai/ychnli-stanford-university/sea-ice-prediction/runs/f9wnof77</a><br/> View project at: <a href='https://wandb.ai/ychnli-stanford-university/sea-ice-prediction' target=\"_blank\">https://wandb.ai/ychnli-stanford-university/sea-ice-prediction</a><br/>Synced 4 W&B file(s), 0 media file(s), 0 artifact file(s) and 0 other file(s)"
      ],
      "text/plain": [
       "<IPython.core.display.HTML object>"
      ]
     },
     "metadata": {},
     "output_type": "display_data"
    },
    {
     "data": {
      "text/html": [
       "Find logs at: <code>./wandb/run-20250525_201710-f9wnof77/logs</code>"
      ],
      "text/plain": [
       "<IPython.core.display.HTML object>"
      ]
     },
     "metadata": {},
     "output_type": "display_data"
    },
    {
     "name": "stderr",
     "output_type": "stream",
     "text": [
      "\u001b[34m\u001b[1mwandb\u001b[0m: Agent Starting Run: ahoc13zi with config:\n",
      "\u001b[34m\u001b[1mwandb\u001b[0m: \tbatch_size: 20\n",
      "\u001b[34m\u001b[1mwandb\u001b[0m: \tloss_function_args: 1\n",
      "\u001b[34m\u001b[1mwandb\u001b[0m: \tlr: 0.0010978643527408958\n",
      "\u001b[34m\u001b[1mwandb\u001b[0m: \tnum_epochs: 100\n",
      "\u001b[34m\u001b[1mwandb\u001b[0m: \tweight_decay: 0\n"
     ]
    },
    {
     "data": {
      "text/html": [
       "Tracking run with wandb version 0.19.0"
      ],
      "text/plain": [
       "<IPython.core.display.HTML object>"
      ]
     },
     "metadata": {},
     "output_type": "display_data"
    },
    {
     "data": {
      "text/html": [
       "Run data is saved locally in <code>/home/users/yucli/sicpred/wandb/run-20250525_201741-ahoc13zi</code>"
      ],
      "text/plain": [
       "<IPython.core.display.HTML object>"
      ]
     },
     "metadata": {},
     "output_type": "display_data"
    },
    {
     "data": {
      "text/html": [
       "Syncing run <strong><a href='https://wandb.ai/ychnli-stanford-university/sea-ice-prediction/runs/ahoc13zi' target=\"_blank\">easy-sweep-24</a></strong> to <a href='https://wandb.ai/ychnli-stanford-university/sea-ice-prediction' target=\"_blank\">Weights & Biases</a> (<a href='https://wandb.me/developer-guide' target=\"_blank\">docs</a>)<br/>Sweep page: <a href='https://wandb.ai/ychnli-stanford-university/sea-ice-prediction/sweeps/ig2sril5' target=\"_blank\">https://wandb.ai/ychnli-stanford-university/sea-ice-prediction/sweeps/ig2sril5</a>"
      ],
      "text/plain": [
       "<IPython.core.display.HTML object>"
      ]
     },
     "metadata": {},
     "output_type": "display_data"
    },
    {
     "data": {
      "text/html": [
       " View project at <a href='https://wandb.ai/ychnli-stanford-university/sea-ice-prediction' target=\"_blank\">https://wandb.ai/ychnli-stanford-university/sea-ice-prediction</a>"
      ],
      "text/plain": [
       "<IPython.core.display.HTML object>"
      ]
     },
     "metadata": {},
     "output_type": "display_data"
    },
    {
     "data": {
      "text/html": [
       " View sweep at <a href='https://wandb.ai/ychnli-stanford-university/sea-ice-prediction/sweeps/ig2sril5' target=\"_blank\">https://wandb.ai/ychnli-stanford-university/sea-ice-prediction/sweeps/ig2sril5</a>"
      ],
      "text/plain": [
       "<IPython.core.display.HTML object>"
      ]
     },
     "metadata": {},
     "output_type": "display_data"
    },
    {
     "data": {
      "text/html": [
       " View run at <a href='https://wandb.ai/ychnli-stanford-university/sea-ice-prediction/runs/ahoc13zi' target=\"_blank\">https://wandb.ai/ychnli-stanford-university/sea-ice-prediction/runs/ahoc13zi</a>"
      ],
      "text/plain": [
       "<IPython.core.display.HTML object>"
      ]
     },
     "metadata": {},
     "output_type": "display_data"
    },
    {
     "name": "stderr",
     "output_type": "stream",
     "text": [
      "Epoch 0/100 [Train]: 100%|██████████| 19/19 [00:01<00:00,  9.80it/s, Batch Loss=0.00977]\n",
      "Epoch 0/100 [Val]: 100%|██████████| 3/3 [00:00<00:00, 13.71it/s, Batch RMSE=0.0844]\n",
      "Epoch 1/100 [Train]: 100%|██████████| 19/19 [00:02<00:00,  8.50it/s, Batch Loss=0.0098] \n",
      "Epoch 1/100 [Val]: 100%|██████████| 3/3 [00:00<00:00, 14.13it/s, Batch RMSE=0.0808]\n",
      "Epoch 2/100 [Train]: 100%|██████████| 19/19 [00:02<00:00,  7.71it/s, Batch Loss=0.00854]\n",
      "Epoch 2/100 [Val]: 100%|██████████| 3/3 [00:00<00:00, 11.31it/s, Batch RMSE=0.0795]\n",
      "Epoch 3/100 [Train]: 100%|██████████| 19/19 [00:02<00:00,  8.57it/s, Batch Loss=0.00723]\n",
      "Epoch 3/100 [Val]: 100%|██████████| 3/3 [00:00<00:00, 14.06it/s, Batch RMSE=0.0818]\n",
      "Epoch 4/100 [Train]: 100%|██████████| 19/19 [00:02<00:00,  7.55it/s, Batch Loss=0.0074] \n",
      "Epoch 4/100 [Val]: 100%|██████████| 3/3 [00:00<00:00, 13.73it/s, Batch RMSE=0.0804]\n",
      "Epoch 5/100 [Train]: 100%|██████████| 19/19 [00:02<00:00,  8.08it/s, Batch Loss=0.00656]\n",
      "Epoch 5/100 [Val]: 100%|██████████| 3/3 [00:00<00:00, 14.23it/s, Batch RMSE=0.0834]\n",
      "Epoch 6/100 [Train]: 100%|██████████| 19/19 [00:02<00:00,  7.68it/s, Batch Loss=0.00597]\n",
      "Epoch 6/100 [Val]: 100%|██████████| 3/3 [00:00<00:00, 10.71it/s, Batch RMSE=0.0825]\n",
      "Epoch 7/100 [Train]: 100%|██████████| 19/19 [00:02<00:00,  9.15it/s, Batch Loss=0.00567]\n",
      "Epoch 7/100 [Val]: 100%|██████████| 3/3 [00:00<00:00, 13.58it/s, Batch RMSE=0.0828]\n"
     ]
    },
    {
     "name": "stdout",
     "output_type": "stream",
     "text": [
      "Early stopping triggered at epoch 8\n"
     ]
    },
    {
     "data": {
      "text/html": [
       "\n",
       "    <style>\n",
       "        .wandb-row {\n",
       "            display: flex;\n",
       "            flex-direction: row;\n",
       "            flex-wrap: wrap;\n",
       "            justify-content: flex-start;\n",
       "            width: 100%;\n",
       "        }\n",
       "        .wandb-col {\n",
       "            display: flex;\n",
       "            flex-direction: column;\n",
       "            flex-basis: 100%;\n",
       "            flex: 1;\n",
       "            padding: 10px;\n",
       "        }\n",
       "    </style>\n",
       "<div class=\"wandb-row\"><div class=\"wandb-col\"><h3>Run history:</h3><br/><table class=\"wandb\"><tr><td>best_val_rmse</td><td>█▃▁▁▁▁▁</td></tr><tr><td>epoch</td><td>▁▂▃▄▅▆▇█</td></tr><tr><td>epoch_train_loss</td><td>█▅▄▃▂▂▁▁</td></tr><tr><td>epoch_val_loss</td><td>█▂▁▃▂▄▃▄</td></tr><tr><td>epoch_val_rmse</td><td>█▃▁▂▁▃▂▃</td></tr><tr><td>lr</td><td>██▇▇▆▄▃▁</td></tr><tr><td>train_loss</td><td>█▆▆▅▇▆▄▅▅▅▄▄▄▄▄▄▃▂▃▂▂▃▂▃▂▂▂▂▂▂▂▂▁▁▁▁▁▁▁▁</td></tr><tr><td>val_loss</td><td>█▄▄▄▂▂▃▂▁▅▁▂▄▁▂▅▁▄▄▁▃▅▁▃</td></tr><tr><td>val_rmse</td><td>█▆▄▅▄▂▄▄▁▅▃▂▄▄▂▅▄▃▄▃▃▅▄▃</td></tr></table><br/></div><div class=\"wandb-col\"><h3>Run summary:</h3><br/><table class=\"wandb\"><tr><td>best_val_rmse</td><td>0.08298</td></tr><tr><td>epoch</td><td>7</td></tr><tr><td>epoch_train_loss</td><td>0.0058</td></tr><tr><td>epoch_val_loss</td><td>0.01102</td></tr><tr><td>epoch_val_rmse</td><td>0.08435</td></tr><tr><td>lr</td><td>0.00108</td></tr><tr><td>train_loss</td><td>0.00567</td></tr><tr><td>val_loss</td><td>0.01102</td></tr><tr><td>val_rmse</td><td>0.08281</td></tr></table><br/></div></div>"
      ],
      "text/plain": [
       "<IPython.core.display.HTML object>"
      ]
     },
     "metadata": {},
     "output_type": "display_data"
    },
    {
     "data": {
      "text/html": [
       " View run <strong style=\"color:#cdcd00\">easy-sweep-24</strong> at: <a href='https://wandb.ai/ychnli-stanford-university/sea-ice-prediction/runs/ahoc13zi' target=\"_blank\">https://wandb.ai/ychnli-stanford-university/sea-ice-prediction/runs/ahoc13zi</a><br/> View project at: <a href='https://wandb.ai/ychnli-stanford-university/sea-ice-prediction' target=\"_blank\">https://wandb.ai/ychnli-stanford-university/sea-ice-prediction</a><br/>Synced 4 W&B file(s), 0 media file(s), 0 artifact file(s) and 0 other file(s)"
      ],
      "text/plain": [
       "<IPython.core.display.HTML object>"
      ]
     },
     "metadata": {},
     "output_type": "display_data"
    },
    {
     "data": {
      "text/html": [
       "Find logs at: <code>./wandb/run-20250525_201741-ahoc13zi/logs</code>"
      ],
      "text/plain": [
       "<IPython.core.display.HTML object>"
      ]
     },
     "metadata": {},
     "output_type": "display_data"
    },
    {
     "name": "stderr",
     "output_type": "stream",
     "text": [
      "\u001b[34m\u001b[1mwandb\u001b[0m: Agent Starting Run: hhz64jyp with config:\n",
      "\u001b[34m\u001b[1mwandb\u001b[0m: \tbatch_size: 50\n",
      "\u001b[34m\u001b[1mwandb\u001b[0m: \tloss_function_args: 1\n",
      "\u001b[34m\u001b[1mwandb\u001b[0m: \tlr: 0.003507310993408157\n",
      "\u001b[34m\u001b[1mwandb\u001b[0m: \tnum_epochs: 100\n",
      "\u001b[34m\u001b[1mwandb\u001b[0m: \tweight_decay: 0\n"
     ]
    },
    {
     "data": {
      "text/html": [
       "Tracking run with wandb version 0.19.0"
      ],
      "text/plain": [
       "<IPython.core.display.HTML object>"
      ]
     },
     "metadata": {},
     "output_type": "display_data"
    },
    {
     "data": {
      "text/html": [
       "Run data is saved locally in <code>/home/users/yucli/sicpred/wandb/run-20250525_201806-hhz64jyp</code>"
      ],
      "text/plain": [
       "<IPython.core.display.HTML object>"
      ]
     },
     "metadata": {},
     "output_type": "display_data"
    },
    {
     "data": {
      "text/html": [
       "Syncing run <strong><a href='https://wandb.ai/ychnli-stanford-university/sea-ice-prediction/runs/hhz64jyp' target=\"_blank\">soft-sweep-25</a></strong> to <a href='https://wandb.ai/ychnli-stanford-university/sea-ice-prediction' target=\"_blank\">Weights & Biases</a> (<a href='https://wandb.me/developer-guide' target=\"_blank\">docs</a>)<br/>Sweep page: <a href='https://wandb.ai/ychnli-stanford-university/sea-ice-prediction/sweeps/ig2sril5' target=\"_blank\">https://wandb.ai/ychnli-stanford-university/sea-ice-prediction/sweeps/ig2sril5</a>"
      ],
      "text/plain": [
       "<IPython.core.display.HTML object>"
      ]
     },
     "metadata": {},
     "output_type": "display_data"
    },
    {
     "data": {
      "text/html": [
       " View project at <a href='https://wandb.ai/ychnli-stanford-university/sea-ice-prediction' target=\"_blank\">https://wandb.ai/ychnli-stanford-university/sea-ice-prediction</a>"
      ],
      "text/plain": [
       "<IPython.core.display.HTML object>"
      ]
     },
     "metadata": {},
     "output_type": "display_data"
    },
    {
     "data": {
      "text/html": [
       " View sweep at <a href='https://wandb.ai/ychnli-stanford-university/sea-ice-prediction/sweeps/ig2sril5' target=\"_blank\">https://wandb.ai/ychnli-stanford-university/sea-ice-prediction/sweeps/ig2sril5</a>"
      ],
      "text/plain": [
       "<IPython.core.display.HTML object>"
      ]
     },
     "metadata": {},
     "output_type": "display_data"
    },
    {
     "data": {
      "text/html": [
       " View run at <a href='https://wandb.ai/ychnli-stanford-university/sea-ice-prediction/runs/hhz64jyp' target=\"_blank\">https://wandb.ai/ychnli-stanford-university/sea-ice-prediction/runs/hhz64jyp</a>"
      ],
      "text/plain": [
       "<IPython.core.display.HTML object>"
      ]
     },
     "metadata": {},
     "output_type": "display_data"
    },
    {
     "name": "stderr",
     "output_type": "stream",
     "text": [
      "Epoch 0/100 [Train]: 100%|██████████| 8/8 [00:01<00:00,  4.62it/s, Batch Loss=0.0108]\n",
      "Epoch 0/100 [Val]: 100%|██████████| 2/2 [00:00<00:00, 10.24it/s, Batch RMSE=0.09]  \n",
      "Epoch 1/100 [Train]: 100%|██████████| 8/8 [00:02<00:00,  3.21it/s, Batch Loss=0.00938]\n",
      "Epoch 1/100 [Val]: 100%|██████████| 2/2 [00:00<00:00, 10.52it/s, Batch RMSE=0.0864]\n",
      "Epoch 2/100 [Train]: 100%|██████████| 8/8 [00:02<00:00,  3.21it/s, Batch Loss=0.00905]\n",
      "Epoch 2/100 [Val]: 100%|██████████| 2/2 [00:00<00:00, 12.47it/s, Batch RMSE=0.0834]\n",
      "Epoch 3/100 [Train]: 100%|██████████| 8/8 [00:02<00:00,  3.46it/s, Batch Loss=0.00823]\n",
      "Epoch 3/100 [Val]: 100%|██████████| 2/2 [00:00<00:00,  6.77it/s, Batch RMSE=0.0837]\n",
      "Epoch 4/100 [Train]: 100%|██████████| 8/8 [00:01<00:00,  4.66it/s, Batch Loss=0.00731]\n",
      "Epoch 4/100 [Val]: 100%|██████████| 2/2 [00:00<00:00, 17.98it/s, Batch RMSE=0.0852]\n",
      "Epoch 5/100 [Train]: 100%|██████████| 8/8 [00:01<00:00,  4.86it/s, Batch Loss=0.00704]\n",
      "Epoch 5/100 [Val]: 100%|██████████| 2/2 [00:00<00:00, 15.77it/s, Batch RMSE=0.0865]\n",
      "Epoch 6/100 [Train]: 100%|██████████| 8/8 [00:01<00:00,  5.72it/s, Batch Loss=0.00672]\n",
      "Epoch 6/100 [Val]: 100%|██████████| 2/2 [00:00<00:00, 10.34it/s, Batch RMSE=0.0859]\n",
      "Epoch 7/100 [Train]: 100%|██████████| 8/8 [00:01<00:00,  5.14it/s, Batch Loss=0.00585]\n",
      "Epoch 7/100 [Val]: 100%|██████████| 2/2 [00:00<00:00, 17.32it/s, Batch RMSE=0.0849]\n",
      "Epoch 8/100 [Train]: 100%|██████████| 8/8 [00:01<00:00,  5.36it/s, Batch Loss=0.00626]\n",
      "Epoch 8/100 [Val]: 100%|██████████| 2/2 [00:00<00:00, 16.88it/s, Batch RMSE=0.0849]\n",
      "Epoch 9/100 [Train]: 100%|██████████| 8/8 [00:01<00:00,  4.34it/s, Batch Loss=0.00587]\n",
      "Epoch 9/100 [Val]: 100%|██████████| 2/2 [00:00<00:00, 16.89it/s, Batch RMSE=0.0864]\n"
     ]
    },
    {
     "name": "stdout",
     "output_type": "stream",
     "text": [
      "Early stopping triggered at epoch 10\n"
     ]
    },
    {
     "data": {
      "text/html": [
       "\n",
       "    <style>\n",
       "        .wandb-row {\n",
       "            display: flex;\n",
       "            flex-direction: row;\n",
       "            flex-wrap: wrap;\n",
       "            justify-content: flex-start;\n",
       "            width: 100%;\n",
       "        }\n",
       "        .wandb-col {\n",
       "            display: flex;\n",
       "            flex-direction: column;\n",
       "            flex-basis: 100%;\n",
       "            flex: 1;\n",
       "            padding: 10px;\n",
       "        }\n",
       "    </style>\n",
       "<div class=\"wandb-row\"><div class=\"wandb-col\"><h3>Run history:</h3><br/><table class=\"wandb\"><tr><td>best_val_rmse</td><td>█▄▂▁▁▁▁▁▁</td></tr><tr><td>epoch</td><td>▁▂▃▃▄▅▆▆▇█</td></tr><tr><td>epoch_train_loss</td><td>█▅▄▃▃▂▂▁▁▁</td></tr><tr><td>epoch_val_loss</td><td>█▄▁▁▂▃▃▂▂▃</td></tr><tr><td>epoch_val_rmse</td><td>█▄▂▁▁▂▁▁▂▂</td></tr><tr><td>lr</td><td>███▇▇▆▅▄▂▁</td></tr><tr><td>train_loss</td><td>██▆▆▅▄▄▄▄▄▃▃▃▃▂▃▃▂▂▂▂▂▂▂▁▂▂▂▂▁▂▁▁▁▁▁▁▁▁▁</td></tr><tr><td>val_loss</td><td>▄█▂▆▁▅▁▅▁▆▁▆▁▆▁▅▁▆▂▆</td></tr><tr><td>val_rmse</td><td>█▅▄▃▂▁▂▁▂▂▃▃▂▃▂▂▂▂▂▃</td></tr></table><br/></div><div class=\"wandb-col\"><h3>Run summary:</h3><br/><table class=\"wandb\"><tr><td>best_val_rmse</td><td>0.08477</td></tr><tr><td>epoch</td><td>9</td></tr><tr><td>epoch_train_loss</td><td>0.00562</td></tr><tr><td>epoch_val_loss</td><td>0.01273</td></tr><tr><td>epoch_val_rmse</td><td>0.08565</td></tr><tr><td>lr</td><td>0.00344</td></tr><tr><td>train_loss</td><td>0.00587</td></tr><tr><td>val_loss</td><td>0.01445</td></tr><tr><td>val_rmse</td><td>0.0864</td></tr></table><br/></div></div>"
      ],
      "text/plain": [
       "<IPython.core.display.HTML object>"
      ]
     },
     "metadata": {},
     "output_type": "display_data"
    },
    {
     "data": {
      "text/html": [
       " View run <strong style=\"color:#cdcd00\">soft-sweep-25</strong> at: <a href='https://wandb.ai/ychnli-stanford-university/sea-ice-prediction/runs/hhz64jyp' target=\"_blank\">https://wandb.ai/ychnli-stanford-university/sea-ice-prediction/runs/hhz64jyp</a><br/> View project at: <a href='https://wandb.ai/ychnli-stanford-university/sea-ice-prediction' target=\"_blank\">https://wandb.ai/ychnli-stanford-university/sea-ice-prediction</a><br/>Synced 4 W&B file(s), 0 media file(s), 0 artifact file(s) and 0 other file(s)"
      ],
      "text/plain": [
       "<IPython.core.display.HTML object>"
      ]
     },
     "metadata": {},
     "output_type": "display_data"
    },
    {
     "data": {
      "text/html": [
       "Find logs at: <code>./wandb/run-20250525_201806-hhz64jyp/logs</code>"
      ],
      "text/plain": [
       "<IPython.core.display.HTML object>"
      ]
     },
     "metadata": {},
     "output_type": "display_data"
    },
    {
     "name": "stderr",
     "output_type": "stream",
     "text": [
      "\u001b[34m\u001b[1mwandb\u001b[0m: Sweep Agent: Waiting for job.\n",
      "\u001b[34m\u001b[1mwandb\u001b[0m: Job received.\n",
      "\u001b[34m\u001b[1mwandb\u001b[0m: Agent Starting Run: zm9hfdgu with config:\n",
      "\u001b[34m\u001b[1mwandb\u001b[0m: \tbatch_size: 32\n",
      "\u001b[34m\u001b[1mwandb\u001b[0m: \tloss_function_args: 1\n",
      "\u001b[34m\u001b[1mwandb\u001b[0m: \tlr: 0.0034033935252891236\n",
      "\u001b[34m\u001b[1mwandb\u001b[0m: \tnum_epochs: 100\n",
      "\u001b[34m\u001b[1mwandb\u001b[0m: \tweight_decay: 0\n",
      "\u001b[34m\u001b[1mwandb\u001b[0m: Ctrl + C detected. Stopping sweep.\n"
     ]
    }
   ],
   "source": [
    "import src.experiment_configs.exp1_inputs.input2 as config2\n",
    "\n",
    "data_config = config2\n",
    "data_config.DATA_CONFIG_NAME = \"seaice_plus_auxiliary_cesmclim\"\n",
    "\n",
    "sweep_config = {\n",
    "    'method': 'random', \n",
    "    'metric': {\n",
    "        'name': 'best_val_rmse',\n",
    "        'goal': 'minimize'\n",
    "    },\n",
    "    'parameters': {\n",
    "        'lr': {\n",
    "            'min': 1e-5,\n",
    "            'max': 5e-3 \n",
    "        },\n",
    "        'weight_decay': {\n",
    "            'value': 0\n",
    "        },\n",
    "        'batch_size': {\n",
    "            'values': [20, 32, 50, 64] \n",
    "        },\n",
    "        'num_epochs': {\n",
    "            'value': 100\n",
    "        },\n",
    "        'loss_function_args': {\n",
    "            'value': 1\n",
    "        }\n",
    "    }\n",
    "}\n",
    "\n",
    "# load the pretrained model\n",
    "checkpoint_path = \"/scratch/users/yucli/sicpred_models/exp2_vol4_dt/UNetRes3_exp2_vol4_dt_member_0_epoch_10.pth\"\n",
    "\n",
    "sweep_id = wandb.sweep(sweep_config, project=\"sea-ice-prediction\")\n",
    "save_path = \"/scratch/users/yucli/sicpred_models/exp3_obs_finetune_sweep\"\n",
    "os.makedirs(save_path, exist_ok=True)\n",
    "wandb.agent(sweep_id, function=lambda: train(data_config, save_path=save_path,\n",
    "            architecture=None, finetune_model_path=checkpoint_path), count=50)\n"
   ]
  },
  {
   "cell_type": "markdown",
   "metadata": {},
   "source": [
    "## Plot distribution shifts"
   ]
  },
  {
   "cell_type": "code",
   "execution_count": 4,
   "metadata": {},
   "outputs": [],
   "source": [
    "import os \n",
    "import xarray as xr \n",
    "import matplotlib.pyplot as plt \n",
    "from src import config_cesm\n",
    "from src.utils import util_cesm\n",
    "\n",
    "reference_grid = util_cesm.generate_sps_grid()\n",
    "\n",
    "\n",
    "dir1 = \"/scratch/users/yucli/cesm_data_processed/data_pairs/seaice_plus_auxiliary_cesmclim\"\n",
    "dir2 = \"/scratch/users/yucli/cesm_data_processed/data_pairs/seaice_plus_auxiliary\"\n",
    "\n",
    "cesm_clim_dir = \"/scratch/users/yucli/cesm_data_processed/normalized_inputs/seaice_plus_auxiliary_vol4_dt\"\n",
    "\n",
    "icefrac_obs = xr.open_dataset(os.path.join(config_cesm.DATA_DIRECTORY, f\"ERA5/cesm_format/icefrac_obs.nc\")).icefrac \n",
    "clim_obs = icefrac_obs.groupby(\"time.month\").mean(\"time\")\n",
    "clim_cesm = xr.open_dataset(os.path.join(cesm_clim_dir, \"icefrac_mean.nc\")).icefrac\n",
    "\n",
    "targets_obs_1 = xr.open_dataset(dir1 + \"/targets_obs.nc\").data\n",
    "targets_obs_2 = xr.open_dataset(dir2 + \"/targets_obs.nc\").data"
   ]
  },
  {
   "cell_type": "code",
   "execution_count": 14,
   "metadata": {},
   "outputs": [
    {
     "data": {
      "image/png": "[encoded data removed]",
      "text/plain": [
       "<Figure size 800x600 with 13 Axes>"
      ]
     },
     "metadata": {},
     "output_type": "display_data"
    }
   ],
   "source": [
    "import cartopy.crs as ccrs\n",
    "fig, axs = plt.subplots(nrows=3, ncols=4, figsize=(8,6), sharex=True, sharey=True,\n",
    "                        subplot_kw={'projection': ccrs.SouthPolarStereo()})\n",
    "months = ['Jan', 'Feb', 'Mar', 'Apr', 'May', 'Jun', \n",
    "            'Jul', 'Aug', 'Sep', 'Oct', 'Nov', 'Dec']\n",
    "lon = reference_grid.lon.data\n",
    "lat = reference_grid.lat.data\n",
    "\n",
    "clim_cesm = clim_cesm.where(~clim_obs.isnull())\n",
    "\n",
    "axs = axs.flatten()\n",
    "for i in range(12): \n",
    "    axs[i].set_title(months[i])\n",
    "    cax = axs[i].pcolormesh(lon, lat, (clim_obs - clim_cesm).isel(month=i), transform=ccrs.PlateCarree(), cmap=\"RdBu_r\", vmin=-0.5, vmax=0.5)\n",
    "    axs[i].coastlines()\n",
    "\n",
    "cbar_ax = fig.add_axes([0.95, 0.2, 0.02, 0.6]) \n",
    "\n",
    "fig.colorbar(cax, cax=cbar_ax, orientation='vertical', extend=\"both\", \n",
    "            label=r'$\\overline{\\mathrm{SIC}}_{obs} - \\overline{\\mathrm{SIC}}_{CESM}$')\n",
    "plt.savefig(\"figures/cesm/exp3_cesm_clim_bias.jpg\", dpi=300, bbox_inches='tight')\n",
    "    "
   ]
  }
 ],
 "metadata": {
  "kernelspec": {
   "display_name": "sicpred_env_conda",
   "language": "python",
   "name": "python3"
  },
  "language_info": {
   "codemirror_mode": {
    "name": "ipython",
    "version": 3
   },
   "file_extension": ".py",
   "mimetype": "text/x-python",
   "name": "python",
   "nbconvert_exporter": "python",
   "pygments_lexer": "ipython3",
   "version": "3.12.7"
  }
 },
 "nbformat": 4,
 "nbformat_minor": 2
}
