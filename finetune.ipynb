{
 "cells": [
  {
   "cell_type": "code",
   "execution_count": 30,
   "metadata": {},
   "outputs": [],
   "source": [
    "import xarray as xr\n",
    "import os\n",
    "import matplotlib.pyplot as plt\n",
    "import numpy as np \n",
    "import pandas as pd \n",
    "import torch \n",
    "from tqdm import tqdm\n",
    "from torch.optim import Adam\n",
    "from torch.utils.data import DataLoader\n",
    "import wandb\n",
    "import argparse \n",
    "import importlib.util\n",
    "import inspect\n",
    "import random\n",
    "\n",
    "from src.models.models_util import CESM_Dataset\n",
    "from src.models.models import UNetRes3\n",
    "from src.utils import util_cesm\n",
    "from src import config_cesm\n",
    "from src.models.losses import WeightedMSELoss\n",
    "import src.config as config_era5\n",
    "\n",
    "reference_grid = util_cesm.generate_sps_grid()\n"
   ]
  },
  {
   "cell_type": "markdown",
   "metadata": {},
   "source": [
    "### Regrid obs"
   ]
  },
  {
   "cell_type": "code",
   "execution_count": 1,
   "metadata": {},
   "outputs": [],
   "source": [
    "import xarray as xr\n",
    "import xesmf as xe\n",
    "import os\n",
    "import numpy as np \n",
    "import pandas as pd \n",
    "import argparse \n",
    "\n",
    "from src.utils import util_cesm\n",
    "from src import config_cesm\n",
    "import src.config as config_era5\n"
   ]
  },
  {
   "cell_type": "code",
   "execution_count": 2,
   "metadata": {},
   "outputs": [],
   "source": [
    "cesm_to_era5_varnames = {\n",
    "    \"temp\": \"sea_surface_temperature\",\n",
    "    \"icefrac\": \"sea_ice_cover\",\n",
    "    \"psl\": \"mean_sea_level_pressure\",\n",
    "    \"geopotential\": \"geopotential_500hPa\"\n",
    "}\n",
    "\n",
    "cesm_to_era5_short_varnames = {\n",
    "    \"temp\": \"sst\",\n",
    "    \"icefrac\": \"siconc\",\n",
    "    \"psl\": \"msl\",\n",
    "    \"geopotential\": \"z\"\n",
    "}\n",
    "\n",
    "def transform_obs_to_cesm_format(var_name, output_grid, savedir): \n",
    "    os.makedirs(savedir, exist_ok=True)\n",
    "    savepath = os.path.join(savedir, f\"{var_name}_obs.nc\")\n",
    "    if (os.path.exists(savepath)): return \n",
    "\n",
    "    ds = xr.open_dataset(os.path.join(config_cesm.DATA_DIRECTORY, f\"ERA5/{cesm_to_era5_varnames[var_name]}.nc\")).sel(latitude=slice(-30,-90))\n",
    "    weight_file = f'{config_cesm.DATA_DIRECTORY}/cesm_lens/grids/era5_small_to_sps_bilinear_regridding_weights.nc'\n",
    "    \n",
    "    if os.path.exists(weight_file):\n",
    "        regridder = xe.Regridder(ds, output_grid, 'bilinear', weights=weight_file, \n",
    "                                ignore_degenerate=True, reuse_weights=True, periodic=True)\n",
    "    else:\n",
    "        regridder = xe.Regridder(ds, output_grid, 'bilinear', filename=weight_file, \n",
    "                                ignore_degenerate=True, reuse_weights=False, periodic=True)\n",
    "    ds_regridded = regridder(ds)\n",
    "    ds_regridded = ds_regridded.sel(expver=1).combine_first(ds_regridded.sel(expver=5))\n",
    "\n",
    "    # rename variable\n",
    "    ds_regridded = ds_regridded.rename({cesm_to_era5_short_varnames[var_name]: var_name})\n",
    "\n",
    "    # save\n",
    "    ds_regridded.to_netcdf(savepath)"
   ]
  },
  {
   "cell_type": "code",
   "execution_count": 4,
   "metadata": {},
   "outputs": [
    {
     "name": "stdout",
     "output_type": "stream",
     "text": [
      "transforming temp\n",
      "transforming psl\n",
      "transforming icefrac\n",
      "transforming geopotential\n"
     ]
    }
   ],
   "source": [
    "sps_grid = util_cesm.generate_sps_grid()\n",
    "\n",
    "for var_name in [\"temp\", \"psl\", \"icefrac\", \"geopotential\"]:\n",
    "    print(f\"transforming {var_name}\")\n",
    "    transform_obs_to_cesm_format(var_name, sps_grid, os.path.join(config_cesm.DATA_DIRECTORY, \"ERA5/cesm_format\"))"
   ]
  },
  {
   "cell_type": "markdown",
   "metadata": {},
   "source": [
    "### Test normalization\n",
    "This is a temporary thing"
   ]
  },
  {
   "cell_type": "code",
   "execution_count": 14,
   "metadata": {},
   "outputs": [
    {
     "data": {
      "text/html": [
       "<div><svg style=\"position: absolute; width: 0; height: 0; overflow: hidden\">\n",
       "<defs>\n",
       "<symbol id=\"icon-database\" viewBox=\"0 0 32 32\">\n",
       "<path d=\"M16 0c-8.837 0-16 2.239-16 5v4c0 2.761 7.163 5 16 5s16-2.239 16-5v-4c0-2.761-7.163-5-16-5z\"></path>\n",
       "<path d=\"M16 17c-8.837 0-16-2.239-16-5v6c0 2.761 7.163 5 16 5s16-2.239 16-5v-6c0 2.761-7.163 5-16 5z\"></path>\n",
       "<path d=\"M16 26c-8.837 0-16-2.239-16-5v6c0 2.761 7.163 5 16 5s16-2.239 16-5v-6c0 2.761-7.163 5-16 5z\"></path>\n",
       "</symbol>\n",
       "<symbol id=\"icon-file-text2\" viewBox=\"0 0 32 32\">\n",
       "<path d=\"M28.681 7.159c-0.694-0.947-1.662-2.053-2.724-3.116s-2.169-2.030-3.116-2.724c-1.612-1.182-2.393-1.319-2.841-1.319h-15.5c-1.378 0-2.5 1.121-2.5 2.5v27c0 1.378 1.122 2.5 2.5 2.5h23c1.378 0 2.5-1.122 2.5-2.5v-19.5c0-0.448-0.137-1.23-1.319-2.841zM24.543 5.457c0.959 0.959 1.712 1.825 2.268 2.543h-4.811v-4.811c0.718 0.556 1.584 1.309 2.543 2.268zM28 29.5c0 0.271-0.229 0.5-0.5 0.5h-23c-0.271 0-0.5-0.229-0.5-0.5v-27c0-0.271 0.229-0.5 0.5-0.5 0 0 15.499-0 15.5 0v7c0 0.552 0.448 1 1 1h7v19.5z\"></path>\n",
       "<path d=\"M23 26h-14c-0.552 0-1-0.448-1-1s0.448-1 1-1h14c0.552 0 1 0.448 1 1s-0.448 1-1 1z\"></path>\n",
       "<path d=\"M23 22h-14c-0.552 0-1-0.448-1-1s0.448-1 1-1h14c0.552 0 1 0.448 1 1s-0.448 1-1 1z\"></path>\n",
       "<path d=\"M23 18h-14c-0.552 0-1-0.448-1-1s0.448-1 1-1h14c0.552 0 1 0.448 1 1s-0.448 1-1 1z\"></path>\n",
       "</symbol>\n",
       "</defs>\n",
       "</svg>\n",
       "<style>/* CSS stylesheet for displaying xarray objects in jupyterlab.\n",
       " *\n",
       " */\n",
       "\n",
       ":root {\n",
       "  --xr-font-color0: var(--jp-content-font-color0, rgba(0, 0, 0, 1));\n",
       "  --xr-font-color2: var(--jp-content-font-color2, rgba(0, 0, 0, 0.54));\n",
       "  --xr-font-color3: var(--jp-content-font-color3, rgba(0, 0, 0, 0.38));\n",
       "  --xr-border-color: var(--jp-border-color2, #e0e0e0);\n",
       "  --xr-disabled-color: var(--jp-layout-color3, #bdbdbd);\n",
       "  --xr-background-color: var(--jp-layout-color0, white);\n",
       "  --xr-background-color-row-even: var(--jp-layout-color1, white);\n",
       "  --xr-background-color-row-odd: var(--jp-layout-color2, #eeeeee);\n",
       "}\n",
       "\n",
       "html[theme=dark],\n",
       "html[data-theme=dark],\n",
       "body[data-theme=dark],\n",
       "body.vscode-dark {\n",
       "  --xr-font-color0: rgba(255, 255, 255, 1);\n",
       "  --xr-font-color2: rgba(255, 255, 255, 0.54);\n",
       "  --xr-font-color3: rgba(255, 255, 255, 0.38);\n",
       "  --xr-border-color: #1F1F1F;\n",
       "  --xr-disabled-color: #515151;\n",
       "  --xr-background-color: #111111;\n",
       "  --xr-background-color-row-even: #111111;\n",
       "  --xr-background-color-row-odd: #313131;\n",
       "}\n",
       "\n",
       ".xr-wrap {\n",
       "  display: block !important;\n",
       "  min-width: 300px;\n",
       "  max-width: 700px;\n",
       "}\n",
       "\n",
       ".xr-text-repr-fallback {\n",
       "  /* fallback to plain text repr when CSS is not injected (untrusted notebook) */\n",
       "  display: none;\n",
       "}\n",
       "\n",
       ".xr-header {\n",
       "  padding-top: 6px;\n",
       "  padding-bottom: 6px;\n",
       "  margin-bottom: 4px;\n",
       "  border-bottom: solid 1px var(--xr-border-color);\n",
       "}\n",
       "\n",
       ".xr-header > div,\n",
       ".xr-header > ul {\n",
       "  display: inline;\n",
       "  margin-top: 0;\n",
       "  margin-bottom: 0;\n",
       "}\n",
       "\n",
       ".xr-obj-type,\n",
       ".xr-array-name {\n",
       "  margin-left: 2px;\n",
       "  margin-right: 10px;\n",
       "}\n",
       "\n",
       ".xr-obj-type {\n",
       "  color: var(--xr-font-color2);\n",
       "}\n",
       "\n",
       ".xr-sections {\n",
       "  padding-left: 0 !important;\n",
       "  display: grid;\n",
       "  grid-template-columns: 150px auto auto 1fr 0 20px 0 20px;\n",
       "}\n",
       "\n",
       ".xr-section-item {\n",
       "  display: contents;\n",
       "}\n",
       "\n",
       ".xr-section-item input {\n",
       "  display: inline-block;\n",
       "  opacity: 0;\n",
       "}\n",
       "\n",
       ".xr-section-item input + label {\n",
       "  color: var(--xr-disabled-color);\n",
       "}\n",
       "\n",
       ".xr-section-item input:enabled + label {\n",
       "  cursor: pointer;\n",
       "  color: var(--xr-font-color2);\n",
       "}\n",
       "\n",
       ".xr-section-item input:focus + label {\n",
       "  border: 2px solid var(--xr-font-color0);\n",
       "}\n",
       "\n",
       ".xr-section-item input:enabled + label:hover {\n",
       "  color: var(--xr-font-color0);\n",
       "}\n",
       "\n",
       ".xr-section-summary {\n",
       "  grid-column: 1;\n",
       "  color: var(--xr-font-color2);\n",
       "  font-weight: 500;\n",
       "}\n",
       "\n",
       ".xr-section-summary > span {\n",
       "  display: inline-block;\n",
       "  padding-left: 0.5em;\n",
       "}\n",
       "\n",
       ".xr-section-summary-in:disabled + label {\n",
       "  color: var(--xr-font-color2);\n",
       "}\n",
       "\n",
       ".xr-section-summary-in + label:before {\n",
       "  display: inline-block;\n",
       "  content: '►';\n",
       "  font-size: 11px;\n",
       "  width: 15px;\n",
       "  text-align: center;\n",
       "}\n",
       "\n",
       ".xr-section-summary-in:disabled + label:before {\n",
       "  color: var(--xr-disabled-color);\n",
       "}\n",
       "\n",
       ".xr-section-summary-in:checked + label:before {\n",
       "  content: '▼';\n",
       "}\n",
       "\n",
       ".xr-section-summary-in:checked + label > span {\n",
       "  display: none;\n",
       "}\n",
       "\n",
       ".xr-section-summary,\n",
       ".xr-section-inline-details {\n",
       "  padding-top: 4px;\n",
       "  padding-bottom: 4px;\n",
       "}\n",
       "\n",
       ".xr-section-inline-details {\n",
       "  grid-column: 2 / -1;\n",
       "}\n",
       "\n",
       ".xr-section-details {\n",
       "  display: none;\n",
       "  grid-column: 1 / -1;\n",
       "  margin-bottom: 5px;\n",
       "}\n",
       "\n",
       ".xr-section-summary-in:checked ~ .xr-section-details {\n",
       "  display: contents;\n",
       "}\n",
       "\n",
       ".xr-array-wrap {\n",
       "  grid-column: 1 / -1;\n",
       "  display: grid;\n",
       "  grid-template-columns: 20px auto;\n",
       "}\n",
       "\n",
       ".xr-array-wrap > label {\n",
       "  grid-column: 1;\n",
       "  vertical-align: top;\n",
       "}\n",
       "\n",
       ".xr-preview {\n",
       "  color: var(--xr-font-color3);\n",
       "}\n",
       "\n",
       ".xr-array-preview,\n",
       ".xr-array-data {\n",
       "  padding: 0 5px !important;\n",
       "  grid-column: 2;\n",
       "}\n",
       "\n",
       ".xr-array-data,\n",
       ".xr-array-in:checked ~ .xr-array-preview {\n",
       "  display: none;\n",
       "}\n",
       "\n",
       ".xr-array-in:checked ~ .xr-array-data,\n",
       ".xr-array-preview {\n",
       "  display: inline-block;\n",
       "}\n",
       "\n",
       ".xr-dim-list {\n",
       "  display: inline-block !important;\n",
       "  list-style: none;\n",
       "  padding: 0 !important;\n",
       "  margin: 0;\n",
       "}\n",
       "\n",
       ".xr-dim-list li {\n",
       "  display: inline-block;\n",
       "  padding: 0;\n",
       "  margin: 0;\n",
       "}\n",
       "\n",
       ".xr-dim-list:before {\n",
       "  content: '(';\n",
       "}\n",
       "\n",
       ".xr-dim-list:after {\n",
       "  content: ')';\n",
       "}\n",
       "\n",
       ".xr-dim-list li:not(:last-child):after {\n",
       "  content: ',';\n",
       "  padding-right: 5px;\n",
       "}\n",
       "\n",
       ".xr-has-index {\n",
       "  font-weight: bold;\n",
       "}\n",
       "\n",
       ".xr-var-list,\n",
       ".xr-var-item {\n",
       "  display: contents;\n",
       "}\n",
       "\n",
       ".xr-var-item > div,\n",
       ".xr-var-item label,\n",
       ".xr-var-item > .xr-var-name span {\n",
       "  background-color: var(--xr-background-color-row-even);\n",
       "  margin-bottom: 0;\n",
       "}\n",
       "\n",
       ".xr-var-item > .xr-var-name:hover span {\n",
       "  padding-right: 5px;\n",
       "}\n",
       "\n",
       ".xr-var-list > li:nth-child(odd) > div,\n",
       ".xr-var-list > li:nth-child(odd) > label,\n",
       ".xr-var-list > li:nth-child(odd) > .xr-var-name span {\n",
       "  background-color: var(--xr-background-color-row-odd);\n",
       "}\n",
       "\n",
       ".xr-var-name {\n",
       "  grid-column: 1;\n",
       "}\n",
       "\n",
       ".xr-var-dims {\n",
       "  grid-column: 2;\n",
       "}\n",
       "\n",
       ".xr-var-dtype {\n",
       "  grid-column: 3;\n",
       "  text-align: right;\n",
       "  color: var(--xr-font-color2);\n",
       "}\n",
       "\n",
       ".xr-var-preview {\n",
       "  grid-column: 4;\n",
       "}\n",
       "\n",
       ".xr-index-preview {\n",
       "  grid-column: 2 / 5;\n",
       "  color: var(--xr-font-color2);\n",
       "}\n",
       "\n",
       ".xr-var-name,\n",
       ".xr-var-dims,\n",
       ".xr-var-dtype,\n",
       ".xr-preview,\n",
       ".xr-attrs dt {\n",
       "  white-space: nowrap;\n",
       "  overflow: hidden;\n",
       "  text-overflow: ellipsis;\n",
       "  padding-right: 10px;\n",
       "}\n",
       "\n",
       ".xr-var-name:hover,\n",
       ".xr-var-dims:hover,\n",
       ".xr-var-dtype:hover,\n",
       ".xr-attrs dt:hover {\n",
       "  overflow: visible;\n",
       "  width: auto;\n",
       "  z-index: 1;\n",
       "}\n",
       "\n",
       ".xr-var-attrs,\n",
       ".xr-var-data,\n",
       ".xr-index-data {\n",
       "  display: none;\n",
       "  background-color: var(--xr-background-color) !important;\n",
       "  padding-bottom: 5px !important;\n",
       "}\n",
       "\n",
       ".xr-var-attrs-in:checked ~ .xr-var-attrs,\n",
       ".xr-var-data-in:checked ~ .xr-var-data,\n",
       ".xr-index-data-in:checked ~ .xr-index-data {\n",
       "  display: block;\n",
       "}\n",
       "\n",
       ".xr-var-data > table {\n",
       "  float: right;\n",
       "}\n",
       "\n",
       ".xr-var-name span,\n",
       ".xr-var-data,\n",
       ".xr-index-name div,\n",
       ".xr-index-data,\n",
       ".xr-attrs {\n",
       "  padding-left: 25px !important;\n",
       "}\n",
       "\n",
       ".xr-attrs,\n",
       ".xr-var-attrs,\n",
       ".xr-var-data,\n",
       ".xr-index-data {\n",
       "  grid-column: 1 / -1;\n",
       "}\n",
       "\n",
       "dl.xr-attrs {\n",
       "  padding: 0;\n",
       "  margin: 0;\n",
       "  display: grid;\n",
       "  grid-template-columns: 125px auto;\n",
       "}\n",
       "\n",
       ".xr-attrs dt,\n",
       ".xr-attrs dd {\n",
       "  padding: 0;\n",
       "  margin: 0;\n",
       "  float: left;\n",
       "  padding-right: 10px;\n",
       "  width: auto;\n",
       "}\n",
       "\n",
       ".xr-attrs dt {\n",
       "  font-weight: normal;\n",
       "  grid-column: 1;\n",
       "}\n",
       "\n",
       ".xr-attrs dt:hover span {\n",
       "  display: inline-block;\n",
       "  background: var(--xr-background-color);\n",
       "  padding-right: 10px;\n",
       "}\n",
       "\n",
       ".xr-attrs dd {\n",
       "  grid-column: 2;\n",
       "  white-space: pre-wrap;\n",
       "  word-break: break-all;\n",
       "}\n",
       "\n",
       ".xr-icon-database,\n",
       ".xr-icon-file-text2,\n",
       ".xr-no-icon {\n",
       "  display: inline-block;\n",
       "  vertical-align: middle;\n",
       "  width: 1em;\n",
       "  height: 1.5em !important;\n",
       "  stroke-width: 0;\n",
       "  stroke: currentColor;\n",
       "  fill: currentColor;\n",
       "}\n",
       "</style><pre class='xr-text-repr-fallback'>&lt;xarray.Dataset&gt; Size: 29MB\n",
       "Dimensions:  (time: 558, y: 80, x: 80)\n",
       "Coordinates:\n",
       "  * time     (time) datetime64[ns] 4kB 1978-01-01 1978-02-01 ... 2024-06-01\n",
       "  * x        (x) float64 640B -4.208e+06 -4.101e+06 ... 4.101e+06 4.208e+06\n",
       "  * y        (y) float64 640B -4.208e+06 -4.101e+06 ... 4.101e+06 4.208e+06\n",
       "Data variables:\n",
       "    icefrac  (time, y, x) float64 29MB ...\n",
       "Attributes:\n",
       "    regrid_method:  bilinear</pre><div class='xr-wrap' style='display:none'><div class='xr-header'><div class='xr-obj-type'>xarray.Dataset</div></div><ul class='xr-sections'><li class='xr-section-item'><input id='section-87ef97d4-e9c6-418f-a44c-5cb7467bf737' class='xr-section-summary-in' type='checkbox' disabled ><label for='section-87ef97d4-e9c6-418f-a44c-5cb7467bf737' class='xr-section-summary'  title='Expand/collapse section'>Dimensions:</label><div class='xr-section-inline-details'><ul class='xr-dim-list'><li><span class='xr-has-index'>time</span>: 558</li><li><span class='xr-has-index'>y</span>: 80</li><li><span class='xr-has-index'>x</span>: 80</li></ul></div><div class='xr-section-details'></div></li><li class='xr-section-item'><input id='section-bf002b8b-cd21-48e5-a2c0-5444acbd4b22' class='xr-section-summary-in' type='checkbox'  checked><label for='section-bf002b8b-cd21-48e5-a2c0-5444acbd4b22' class='xr-section-summary' >Coordinates: <span>(3)</span></label><div class='xr-section-inline-details'></div><div class='xr-section-details'><ul class='xr-var-list'><li class='xr-var-item'><div class='xr-var-name'><span class='xr-has-index'>time</span></div><div class='xr-var-dims'>(time)</div><div class='xr-var-dtype'>datetime64[ns]</div><div class='xr-var-preview xr-preview'>1978-01-01 ... 2024-06-01</div><input id='attrs-307cdc52-7240-4b81-b6bf-b868f8059f41' class='xr-var-attrs-in' type='checkbox' disabled><label for='attrs-307cdc52-7240-4b81-b6bf-b868f8059f41' title='Show/Hide attributes'><svg class='icon xr-icon-file-text2'><use xlink:href='#icon-file-text2'></use></svg></label><input id='data-164f3b53-f74f-40b2-8be3-1554c728aad8' class='xr-var-data-in' type='checkbox'><label for='data-164f3b53-f74f-40b2-8be3-1554c728aad8' title='Show/Hide data repr'><svg class='icon xr-icon-database'><use xlink:href='#icon-database'></use></svg></label><div class='xr-var-attrs'><dl class='xr-attrs'></dl></div><div class='xr-var-data'><pre>array([&#x27;1978-01-01T00:00:00.000000000&#x27;, &#x27;1978-02-01T00:00:00.000000000&#x27;,\n",
       "       &#x27;1978-03-01T00:00:00.000000000&#x27;, ..., &#x27;2024-04-01T00:00:00.000000000&#x27;,\n",
       "       &#x27;2024-05-01T00:00:00.000000000&#x27;, &#x27;2024-06-01T00:00:00.000000000&#x27;],\n",
       "      dtype=&#x27;datetime64[ns]&#x27;)</pre></div></li><li class='xr-var-item'><div class='xr-var-name'><span class='xr-has-index'>x</span></div><div class='xr-var-dims'>(x)</div><div class='xr-var-dtype'>float64</div><div class='xr-var-preview xr-preview'>-4.208e+06 -4.101e+06 ... 4.208e+06</div><input id='attrs-9bc6efa6-a1d0-4d0d-8ce6-91e375b2f5dd' class='xr-var-attrs-in' type='checkbox' disabled><label for='attrs-9bc6efa6-a1d0-4d0d-8ce6-91e375b2f5dd' title='Show/Hide attributes'><svg class='icon xr-icon-file-text2'><use xlink:href='#icon-file-text2'></use></svg></label><input id='data-77ac2d88-7de0-40d8-9a1d-8fd6375e73d3' class='xr-var-data-in' type='checkbox'><label for='data-77ac2d88-7de0-40d8-9a1d-8fd6375e73d3' title='Show/Hide data repr'><svg class='icon xr-icon-database'><use xlink:href='#icon-database'></use></svg></label><div class='xr-var-attrs'><dl class='xr-attrs'></dl></div><div class='xr-var-data'><pre>array([-4207923.50044 , -4101393.791568, -3994864.082696, -3888334.373824,\n",
       "       -3781804.664952, -3675274.95608 , -3568745.247208, -3462215.538336,\n",
       "       -3355685.829465, -3249156.120593, -3142626.411721, -3036096.702849,\n",
       "       -2929566.993977, -2823037.285105, -2716507.576233, -2609977.867361,\n",
       "       -2503448.158489, -2396918.449618, -2290388.740746, -2183859.031874,\n",
       "       -2077329.323002, -1970799.61413 , -1864269.905258, -1757740.196386,\n",
       "       -1651210.487514, -1544680.778642, -1438151.069771, -1331621.360899,\n",
       "       -1225091.652027, -1118561.943155, -1012032.234283,  -905502.525411,\n",
       "        -798972.816539,  -692443.107667,  -585913.398795,  -479383.689924,\n",
       "        -372853.981052,  -266324.27218 ,  -159794.563308,   -53264.854436,\n",
       "          53264.854436,   159794.563308,   266324.27218 ,   372853.981052,\n",
       "         479383.689924,   585913.398795,   692443.107667,   798972.816539,\n",
       "         905502.525411,  1012032.234283,  1118561.943155,  1225091.652027,\n",
       "        1331621.360899,  1438151.069771,  1544680.778642,  1651210.487514,\n",
       "        1757740.196386,  1864269.905258,  1970799.61413 ,  2077329.323002,\n",
       "        2183859.031874,  2290388.740746,  2396918.449618,  2503448.158489,\n",
       "        2609977.867361,  2716507.576233,  2823037.285105,  2929566.993977,\n",
       "        3036096.702849,  3142626.411721,  3249156.120593,  3355685.829465,\n",
       "        3462215.538336,  3568745.247208,  3675274.95608 ,  3781804.664952,\n",
       "        3888334.373824,  3994864.082696,  4101393.791568,  4207923.50044 ])</pre></div></li><li class='xr-var-item'><div class='xr-var-name'><span class='xr-has-index'>y</span></div><div class='xr-var-dims'>(y)</div><div class='xr-var-dtype'>float64</div><div class='xr-var-preview xr-preview'>-4.208e+06 -4.101e+06 ... 4.208e+06</div><input id='attrs-a15a8302-0166-4ab2-87f0-aa2ac5a43261' class='xr-var-attrs-in' type='checkbox' disabled><label for='attrs-a15a8302-0166-4ab2-87f0-aa2ac5a43261' title='Show/Hide attributes'><svg class='icon xr-icon-file-text2'><use xlink:href='#icon-file-text2'></use></svg></label><input id='data-902bc509-06be-4e3e-840a-2ad4ca902e79' class='xr-var-data-in' type='checkbox'><label for='data-902bc509-06be-4e3e-840a-2ad4ca902e79' title='Show/Hide data repr'><svg class='icon xr-icon-database'><use xlink:href='#icon-database'></use></svg></label><div class='xr-var-attrs'><dl class='xr-attrs'></dl></div><div class='xr-var-data'><pre>array([-4207923.50044 , -4101393.791568, -3994864.082696, -3888334.373824,\n",
       "       -3781804.664952, -3675274.95608 , -3568745.247208, -3462215.538336,\n",
       "       -3355685.829465, -3249156.120593, -3142626.411721, -3036096.702849,\n",
       "       -2929566.993977, -2823037.285105, -2716507.576233, -2609977.867361,\n",
       "       -2503448.158489, -2396918.449618, -2290388.740746, -2183859.031874,\n",
       "       -2077329.323002, -1970799.61413 , -1864269.905258, -1757740.196386,\n",
       "       -1651210.487514, -1544680.778642, -1438151.069771, -1331621.360899,\n",
       "       -1225091.652027, -1118561.943155, -1012032.234283,  -905502.525411,\n",
       "        -798972.816539,  -692443.107667,  -585913.398795,  -479383.689924,\n",
       "        -372853.981052,  -266324.27218 ,  -159794.563308,   -53264.854436,\n",
       "          53264.854436,   159794.563308,   266324.27218 ,   372853.981052,\n",
       "         479383.689924,   585913.398795,   692443.107667,   798972.816539,\n",
       "         905502.525411,  1012032.234283,  1118561.943155,  1225091.652027,\n",
       "        1331621.360899,  1438151.069771,  1544680.778642,  1651210.487514,\n",
       "        1757740.196386,  1864269.905258,  1970799.61413 ,  2077329.323002,\n",
       "        2183859.031874,  2290388.740746,  2396918.449618,  2503448.158489,\n",
       "        2609977.867361,  2716507.576233,  2823037.285105,  2929566.993977,\n",
       "        3036096.702849,  3142626.411721,  3249156.120593,  3355685.829465,\n",
       "        3462215.538336,  3568745.247208,  3675274.95608 ,  3781804.664952,\n",
       "        3888334.373824,  3994864.082696,  4101393.791568,  4207923.50044 ])</pre></div></li></ul></div></li><li class='xr-section-item'><input id='section-323d14ea-a6ae-43c2-82c8-6e26d3ac79a2' class='xr-section-summary-in' type='checkbox'  checked><label for='section-323d14ea-a6ae-43c2-82c8-6e26d3ac79a2' class='xr-section-summary' >Data variables: <span>(1)</span></label><div class='xr-section-inline-details'></div><div class='xr-section-details'><ul class='xr-var-list'><li class='xr-var-item'><div class='xr-var-name'><span>icefrac</span></div><div class='xr-var-dims'>(time, y, x)</div><div class='xr-var-dtype'>float64</div><div class='xr-var-preview xr-preview'>...</div><input id='attrs-3fec3b75-ff88-4ec1-924e-435e40d029d7' class='xr-var-attrs-in' type='checkbox' disabled><label for='attrs-3fec3b75-ff88-4ec1-924e-435e40d029d7' title='Show/Hide attributes'><svg class='icon xr-icon-file-text2'><use xlink:href='#icon-file-text2'></use></svg></label><input id='data-b396e109-cdfb-491b-bf19-93d58f8f3ba0' class='xr-var-data-in' type='checkbox'><label for='data-b396e109-cdfb-491b-bf19-93d58f8f3ba0' title='Show/Hide data repr'><svg class='icon xr-icon-database'><use xlink:href='#icon-database'></use></svg></label><div class='xr-var-attrs'><dl class='xr-attrs'></dl></div><div class='xr-var-data'><pre>[3571200 values with dtype=float64]</pre></div></li></ul></div></li><li class='xr-section-item'><input id='section-10b0263a-13c6-46dc-9df6-337dc36e86cb' class='xr-section-summary-in' type='checkbox'  ><label for='section-10b0263a-13c6-46dc-9df6-337dc36e86cb' class='xr-section-summary' >Indexes: <span>(3)</span></label><div class='xr-section-inline-details'></div><div class='xr-section-details'><ul class='xr-var-list'><li class='xr-var-item'><div class='xr-index-name'><div>time</div></div><div class='xr-index-preview'>PandasIndex</div><div></div><input id='index-0f9a1249-0041-419a-bef3-21a8a3b4b776' class='xr-index-data-in' type='checkbox'/><label for='index-0f9a1249-0041-419a-bef3-21a8a3b4b776' title='Show/Hide index repr'><svg class='icon xr-icon-database'><use xlink:href='#icon-database'></use></svg></label><div class='xr-index-data'><pre>PandasIndex(DatetimeIndex([&#x27;1978-01-01&#x27;, &#x27;1978-02-01&#x27;, &#x27;1978-03-01&#x27;, &#x27;1978-04-01&#x27;,\n",
       "               &#x27;1978-05-01&#x27;, &#x27;1978-06-01&#x27;, &#x27;1978-07-01&#x27;, &#x27;1978-08-01&#x27;,\n",
       "               &#x27;1978-09-01&#x27;, &#x27;1978-10-01&#x27;,\n",
       "               ...\n",
       "               &#x27;2023-09-01&#x27;, &#x27;2023-10-01&#x27;, &#x27;2023-11-01&#x27;, &#x27;2023-12-01&#x27;,\n",
       "               &#x27;2024-01-01&#x27;, &#x27;2024-02-01&#x27;, &#x27;2024-03-01&#x27;, &#x27;2024-04-01&#x27;,\n",
       "               &#x27;2024-05-01&#x27;, &#x27;2024-06-01&#x27;],\n",
       "              dtype=&#x27;datetime64[ns]&#x27;, name=&#x27;time&#x27;, length=558, freq=None))</pre></div></li><li class='xr-var-item'><div class='xr-index-name'><div>x</div></div><div class='xr-index-preview'>PandasIndex</div><div></div><input id='index-71113fea-6c15-4959-a850-2d92f5e6c275' class='xr-index-data-in' type='checkbox'/><label for='index-71113fea-6c15-4959-a850-2d92f5e6c275' title='Show/Hide index repr'><svg class='icon xr-icon-database'><use xlink:href='#icon-database'></use></svg></label><div class='xr-index-data'><pre>PandasIndex(Index([-4207923.5004396625,  -4101393.791567772, -3994864.0826958823,\n",
       "        -3888334.373823992, -3781804.6649521017, -3675274.9560802113,\n",
       "       -3568745.2472083215,  -3462215.538336431,  -3355685.829464541,\n",
       "        -3249156.120592651, -3142626.4117207606, -3036096.7028488703,\n",
       "       -2929566.9939769804, -2823037.2851050897,    -2716507.5762332,\n",
       "       -2609977.8673613095,  -2503448.158489419, -2396918.4496175293,\n",
       "        -2290388.740745639, -2183859.0318737486, -2077329.3230018588,\n",
       "       -1970799.6141299685, -1864269.9052580781, -1757740.1963861878,\n",
       "        -1651210.487514298, -1544680.7786424076, -1438151.0697705173,\n",
       "       -1331621.3608986274,  -1225091.652026737, -1118561.9431548468,\n",
       "       -1012032.2342829565,  -905502.5254110666,  -798972.8165391763,\n",
       "         -692443.107667286,  -585913.3987953961, -479383.68992350576,\n",
       "       -372853.98105161544,  -266324.2721797251, -159794.56330783525,\n",
       "        -53264.85443594493,   53264.85443594493,  159794.56330783572,\n",
       "         266324.2721797256,  372853.98105161544,  479383.68992350623,\n",
       "         585913.3987953961,   692443.1076672869,   798972.8165391767,\n",
       "         905502.5254110666,  1012032.2342829574,  1118561.9431548472,\n",
       "         1225091.652026737,   1331621.360898628,  1438151.0697705178,\n",
       "        1544680.7786424076,  1651210.4875142984,  1757740.1963861883,\n",
       "        1864269.9052580781,   1970799.614129969,  2077329.3230018588,\n",
       "        2183859.0318737496,  2290388.7407456394,  2396918.4496175293,\n",
       "          2503448.15848942,    2609977.86736131,     2716507.5762332,\n",
       "        2823037.2851050906,  2929566.9939769804,  3036096.7028488703,\n",
       "         3142626.411720761,   3249156.120592651,  3355685.8294645417,\n",
       "        3462215.5383364316,  3568745.2472083215,  3675274.9560802123,\n",
       "         3781804.664952102,   3888334.373823992,   3994864.082695883,\n",
       "        4101393.7915677726,  4207923.5004396625],\n",
       "      dtype=&#x27;float64&#x27;, name=&#x27;x&#x27;))</pre></div></li><li class='xr-var-item'><div class='xr-index-name'><div>y</div></div><div class='xr-index-preview'>PandasIndex</div><div></div><input id='index-e2a5867e-4c0b-4f7c-8549-e603cb331037' class='xr-index-data-in' type='checkbox'/><label for='index-e2a5867e-4c0b-4f7c-8549-e603cb331037' title='Show/Hide index repr'><svg class='icon xr-icon-database'><use xlink:href='#icon-database'></use></svg></label><div class='xr-index-data'><pre>PandasIndex(Index([-4207923.5004396625,  -4101393.791567772, -3994864.0826958823,\n",
       "        -3888334.373823992, -3781804.6649521017, -3675274.9560802113,\n",
       "       -3568745.2472083215,  -3462215.538336431,  -3355685.829464541,\n",
       "        -3249156.120592651, -3142626.4117207606, -3036096.7028488703,\n",
       "       -2929566.9939769804, -2823037.2851050897,    -2716507.5762332,\n",
       "       -2609977.8673613095,  -2503448.158489419, -2396918.4496175293,\n",
       "        -2290388.740745639, -2183859.0318737486, -2077329.3230018588,\n",
       "       -1970799.6141299685, -1864269.9052580781, -1757740.1963861878,\n",
       "        -1651210.487514298, -1544680.7786424076, -1438151.0697705173,\n",
       "       -1331621.3608986274,  -1225091.652026737, -1118561.9431548468,\n",
       "       -1012032.2342829565,  -905502.5254110666,  -798972.8165391763,\n",
       "         -692443.107667286,  -585913.3987953961, -479383.68992350576,\n",
       "       -372853.98105161544,  -266324.2721797251, -159794.56330783525,\n",
       "        -53264.85443594493,   53264.85443594493,  159794.56330783572,\n",
       "         266324.2721797256,  372853.98105161544,  479383.68992350623,\n",
       "         585913.3987953961,   692443.1076672869,   798972.8165391767,\n",
       "         905502.5254110666,  1012032.2342829574,  1118561.9431548472,\n",
       "         1225091.652026737,   1331621.360898628,  1438151.0697705178,\n",
       "        1544680.7786424076,  1651210.4875142984,  1757740.1963861883,\n",
       "        1864269.9052580781,   1970799.614129969,  2077329.3230018588,\n",
       "        2183859.0318737496,  2290388.7407456394,  2396918.4496175293,\n",
       "          2503448.15848942,    2609977.86736131,     2716507.5762332,\n",
       "        2823037.2851050906,  2929566.9939769804,  3036096.7028488703,\n",
       "         3142626.411720761,   3249156.120592651,  3355685.8294645417,\n",
       "        3462215.5383364316,  3568745.2472083215,  3675274.9560802123,\n",
       "         3781804.664952102,   3888334.373823992,   3994864.082695883,\n",
       "        4101393.7915677726,  4207923.5004396625],\n",
       "      dtype=&#x27;float64&#x27;, name=&#x27;y&#x27;))</pre></div></li></ul></div></li><li class='xr-section-item'><input id='section-c3094e32-d44f-4c55-9ffc-1f4259826a4c' class='xr-section-summary-in' type='checkbox'  checked><label for='section-c3094e32-d44f-4c55-9ffc-1f4259826a4c' class='xr-section-summary' >Attributes: <span>(1)</span></label><div class='xr-section-inline-details'></div><div class='xr-section-details'><dl class='xr-attrs'><dt><span>regrid_method :</span></dt><dd>bilinear</dd></dl></div></li></ul></div></div>"
      ],
      "text/plain": [
       "<xarray.Dataset> Size: 29MB\n",
       "Dimensions:  (time: 558, y: 80, x: 80)\n",
       "Coordinates:\n",
       "  * time     (time) datetime64[ns] 4kB 1978-01-01 1978-02-01 ... 2024-06-01\n",
       "  * x        (x) float64 640B -4.208e+06 -4.101e+06 ... 4.101e+06 4.208e+06\n",
       "  * y        (y) float64 640B -4.208e+06 -4.101e+06 ... 4.101e+06 4.208e+06\n",
       "Data variables:\n",
       "    icefrac  (time, y, x) float64 29MB ...\n",
       "Attributes:\n",
       "    regrid_method:  bilinear"
      ]
     },
     "execution_count": 14,
     "metadata": {},
     "output_type": "execute_result"
    }
   ],
   "source": [
    "xr.open_dataset(os.path.join(config_cesm.DATA_DIRECTORY, f\"ERA5/cesm_format/icefrac_obs.nc\"))"
   ]
  },
  {
   "cell_type": "code",
   "execution_count": 4,
   "metadata": {},
   "outputs": [],
   "source": []
  },
  {
   "cell_type": "code",
   "execution_count": 98,
   "metadata": {},
   "outputs": [],
   "source": [
    "import src.experiment_configs.config_simple_plus_psl as config\n",
    "import pandas as pd \n",
    "\n",
    "data_split_name = \"simple_plus_psl\" \n",
    "data_split_settings = config.DATA_SPLIT_SETTINGS\n",
    "max_lead_months = 6\n",
    "\n",
    "normalized_data = []\n",
    "for var_name in [\"temp\"]:\n",
    "    if config.INPUT_CONFIG[var_name]['include'] and config.INPUT_CONFIG[var_name]['norm']:\n",
    "        max_lag_months = config.INPUT_CONFIG[var_name]['lag']\n",
    "        merged_ds = xr.open_dataset(os.path.join(config_cesm.RAW_DATA_DIRECTORY, f\"{var_name}_combined.nc\"))\n",
    "        cesm_da = merged_ds[var_name]\n",
    "\n",
    "        divide_by_stdev = config.INPUT_CONFIG[var_name]['divide_by_stdev']\n",
    "\n",
    "        # Load the observational data\n",
    "        ds = xr.open_dataset(os.path.join(config_cesm.DATA_DIRECTORY, f\"ERA5/cesm_format/{var_name}_obs.nc\"))\n",
    "        obs_da = ds[var_name] \n",
    "\n",
    "        # convert SST from K to C \n",
    "        if var_name == \"temp\":\n",
    "            obs_da -= 273.15 \n",
    "\n",
    "        # Compute the normalization statistics over the CESM dataset\n",
    "        # this normalization is over the whole spatiotemporal domain \n",
    "        if data_split_settings[\"split_by\"] == \"time\": \n",
    "            all_times = util_cesm.get_start_prediction_months(data_split_settings)\n",
    "\n",
    "            # all_times gives all time coordinates that are accessed, given variable leads and lags\n",
    "            all_times = pd.date_range(all_times[0] - pd.DateOffset(months=max_lag_months), \n",
    "                                    all_times[-1] + pd.DateOffset(months=max_lead_months-1),\n",
    "                                    freq=\"MS\")        \n",
    "            cesm_da = cesm_da.sel(time=all_times, member_id=data_split_settings[\"member_ids\"]) \n",
    "            da_train_subset = cesm_da.sel(time=data_split_settings[\"train\"])\n",
    "\n",
    "        elif data_split_settings[\"split_by\"] == \"ensemble_member\": \n",
    "            all_member_ids = data_split_settings[\"train\"] + data_split_settings[\"val\"] + data_split_settings[\"test\"]\n",
    "            \n",
    "            all_times = data_split_settings[\"time_range\"]\n",
    "            all_times = pd.date_range(all_times[0] - pd.DateOffset(months=max_lag_months), \n",
    "                                    all_times[-1] + pd.DateOffset(months=max_lead_months-1),\n",
    "                                    freq=\"MS\") \n",
    "            cesm_da = cesm_da.sel(member_id=all_member_ids, time=all_times) \n",
    "            da_train_subset = cesm_da.sel(member_id=data_split_settings[\"train\"])\n",
    "        \n",
    "        # monthly_means = xr.open_dataset(os.path.join(config_cesm.PROCESSED_DATA_DIRECTORY, \"normalized_inputs\", \n",
    "        #     data_split_name, f\"{var_name}_mean.nc\"))\n",
    "\n",
    "        monthly_means = da_train_subset.groupby('time.month').mean((\"time\",\"x\",\"y\",\"member_id\"))\n",
    "        monthly_stdev = da_train_subset.groupby('time.month').std((\"time\",\"x\",\"y\",\"member_id\"))\n",
    "\n",
    "        # normalize\n",
    "        months = obs_da['time'].dt.month\n",
    "\n",
    "        if divide_by_stdev: \n",
    "            normalized_da = (obs_da - monthly_means.sel(month=months)) / monthly_stdev.sel(month=months)\n",
    "            # monthly_stdevs = xr.open_dataset(os.path.join(config_cesm.PROCESSED_DATA_DIRECTORY, \"normalized_inputs\", \n",
    "            #     data_split_name, f\"{var_name}_stdev.nc\"))\n",
    "        \n",
    "            # normalized_da = xr.apply_ufunc(\n",
    "            #     util_cesm.normalize,\n",
    "            #     da,\n",
    "            #     monthly_means.sel(month=months),\n",
    "            #     monthly_stdevs.sel(month=months),\n",
    "            #     var_name,\n",
    "            #     output_dtypes=[da.dtype],\n",
    "            #     dask=\"allowed\"\n",
    "            # )\n",
    "        else: \n",
    "            normalized_da = obs_da - monthly_means.sel(month=months)\n",
    "        \n",
    "        # normalized_data.append(normalized_da)\n"
   ]
  },
  {
   "cell_type": "code",
   "execution_count": 103,
   "metadata": {},
   "outputs": [
    {
     "data": {
      "text/plain": [
       "<matplotlib.collections.QuadMesh at 0x7f65ed5cf290>"
      ]
     },
     "execution_count": 103,
     "metadata": {},
     "output_type": "execute_result"
    },
    {
     "data": {
      "image/png": "[encoded data removed]",
      "text/plain": [
       "<Figure size 640x480 with 2 Axes>"
      ]
     },
     "metadata": {},
     "output_type": "display_data"
    }
   ],
   "source": [
    "normalized_da.isel(time=200).plot()"
   ]
  },
  {
   "cell_type": "code",
   "execution_count": 90,
   "metadata": {},
   "outputs": [
    {
     "data": {
      "image/png": "[encoded data removed]",
      "text/plain": [
       "<Figure size 640x480 with 2 Axes>"
      ]
     },
     "metadata": {},
     "output_type": "display_data"
    }
   ],
   "source": [
    "normalized_da.isel(time=205).temp.plot()\n",
    "plt.title(\"1995-02-01 normalized SST\")\n",
    "plt.savefig(\"figures/known_issues/distribution_shift_sst_example2.jpg\", dpi=300, bbox_inches='tight')"
   ]
  },
  {
   "cell_type": "code",
   "execution_count": 12,
   "metadata": {},
   "outputs": [
    {
     "name": "stderr",
     "output_type": "stream",
     "text": [
      "/home/groups/earlew/yuchen/miniconda3/envs/sicpred_env_conda/lib/python3.12/site-packages/numpy/lib/_nanfunctions_impl.py:2035: RuntimeWarning: Degrees of freedom <= 0 for slice.\n",
      "  var = nanvar(a, axis=axis, dtype=dtype, out=out, ddof=ddof,\n",
      "/home/groups/earlew/yuchen/miniconda3/envs/sicpred_env_conda/lib/python3.12/site-packages/numpy/lib/_nanfunctions_impl.py:2035: RuntimeWarning: Degrees of freedom <= 0 for slice.\n",
      "  var = nanvar(a, axis=axis, dtype=dtype, out=out, ddof=ddof,\n",
      "/home/groups/earlew/yuchen/miniconda3/envs/sicpred_env_conda/lib/python3.12/site-packages/numpy/lib/_nanfunctions_impl.py:2035: RuntimeWarning: Degrees of freedom <= 0 for slice.\n",
      "  var = nanvar(a, axis=axis, dtype=dtype, out=out, ddof=ddof,\n",
      "/home/groups/earlew/yuchen/miniconda3/envs/sicpred_env_conda/lib/python3.12/site-packages/numpy/lib/_nanfunctions_impl.py:2035: RuntimeWarning: Degrees of freedom <= 0 for slice.\n",
      "  var = nanvar(a, axis=axis, dtype=dtype, out=out, ddof=ddof,\n",
      "/home/groups/earlew/yuchen/miniconda3/envs/sicpred_env_conda/lib/python3.12/site-packages/numpy/lib/_nanfunctions_impl.py:2035: RuntimeWarning: Degrees of freedom <= 0 for slice.\n",
      "  var = nanvar(a, axis=axis, dtype=dtype, out=out, ddof=ddof,\n",
      "/home/groups/earlew/yuchen/miniconda3/envs/sicpred_env_conda/lib/python3.12/site-packages/numpy/lib/_nanfunctions_impl.py:2035: RuntimeWarning: Degrees of freedom <= 0 for slice.\n",
      "  var = nanvar(a, axis=axis, dtype=dtype, out=out, ddof=ddof,\n",
      "/home/groups/earlew/yuchen/miniconda3/envs/sicpred_env_conda/lib/python3.12/site-packages/numpy/lib/_nanfunctions_impl.py:2035: RuntimeWarning: Degrees of freedom <= 0 for slice.\n",
      "  var = nanvar(a, axis=axis, dtype=dtype, out=out, ddof=ddof,\n",
      "/home/groups/earlew/yuchen/miniconda3/envs/sicpred_env_conda/lib/python3.12/site-packages/numpy/lib/_nanfunctions_impl.py:2035: RuntimeWarning: Degrees of freedom <= 0 for slice.\n",
      "  var = nanvar(a, axis=axis, dtype=dtype, out=out, ddof=ddof,\n",
      "/home/groups/earlew/yuchen/miniconda3/envs/sicpred_env_conda/lib/python3.12/site-packages/numpy/lib/_nanfunctions_impl.py:2035: RuntimeWarning: Degrees of freedom <= 0 for slice.\n",
      "  var = nanvar(a, axis=axis, dtype=dtype, out=out, ddof=ddof,\n",
      "/home/groups/earlew/yuchen/miniconda3/envs/sicpred_env_conda/lib/python3.12/site-packages/numpy/lib/_nanfunctions_impl.py:2035: RuntimeWarning: Degrees of freedom <= 0 for slice.\n",
      "  var = nanvar(a, axis=axis, dtype=dtype, out=out, ddof=ddof,\n",
      "/home/groups/earlew/yuchen/miniconda3/envs/sicpred_env_conda/lib/python3.12/site-packages/numpy/lib/_nanfunctions_impl.py:2035: RuntimeWarning: Degrees of freedom <= 0 for slice.\n",
      "  var = nanvar(a, axis=axis, dtype=dtype, out=out, ddof=ddof,\n",
      "/home/groups/earlew/yuchen/miniconda3/envs/sicpred_env_conda/lib/python3.12/site-packages/numpy/lib/_nanfunctions_impl.py:2035: RuntimeWarning: Degrees of freedom <= 0 for slice.\n",
      "  var = nanvar(a, axis=axis, dtype=dtype, out=out, ddof=ddof,\n"
     ]
    }
   ],
   "source": [
    "ds = xr.open_dataset(os.path.join(config_cesm.DATA_DIRECTORY, f\"ERA5/cesm_format/temp_obs.nc\"))\n",
    "da = ds[\"temp\"] \n",
    "\n",
    "# convert SST from K to C \n",
    "da -= 273.15 \n",
    "\n",
    "obs_means = da.groupby(\"time.month\").mean(\"time\")\n",
    "obs_stdev = da.groupby(\"time.month\").std(\"time\")\n",
    "\n",
    "data_split_name = \"simple_plus_psl\" \n",
    "\n",
    "cesm_means = xr.open_dataset(os.path.join(config_cesm.PROCESSED_DATA_DIRECTORY, \"normalized_inputs\", \n",
    "    data_split_name, f\"temp_mean.nc\"))[\"temp\"]\n",
    " \n",
    "cesm_stdevs = xr.open_dataset(os.path.join(config_cesm.PROCESSED_DATA_DIRECTORY, \"normalized_inputs\", \n",
    "    data_split_name, f\"temp_stdev.nc\"))[\"temp\"]\n"
   ]
  },
  {
   "cell_type": "code",
   "execution_count": 71,
   "metadata": {},
   "outputs": [
    {
     "data": {
      "image/png": "[encoded data removed]",
      "text/plain": [
       "<Figure size 600x600 with 6 Axes>"
      ]
     },
     "metadata": {},
     "output_type": "display_data"
    }
   ],
   "source": [
    "fig, axs = plt.subplots(nrows=2, ncols=2, figsize=(6,6), sharex=True, sharey=True)\n",
    "\n",
    "axs[0,0].contourf(obs_means.sel(month=2) - cesm_means.sel(month=2), cmap=\"RdBu_r\", levels=np.arange(-4, 4.5, 0.5))\n",
    "cax = axs[1,0].contourf(obs_means.sel(month=9) - cesm_means.sel(month=9), cmap=\"RdBu_r\", levels=np.arange(-4, 4.5, 0.5), extend='both')\n",
    "axs[0,0].set_ylabel(\"February\")\n",
    "axs[0,0].set_title(\"Mean SST_obs minus SST_cesm\", fontsize=10)\n",
    "axs[0,1].set_title(\"Stdev SST_obs minus SST_cesm\", fontsize=10)\n",
    "axs[0,0].set_yticks([])\n",
    "axs[0,0].set_xticks([])\n",
    "\n",
    "axs[0,1].contourf(obs_stdev.sel(month=2) - cesm_stdevs.sel(month=2), cmap=\"RdBu_r\", levels=np.arange(-1, 1.2, 0.2))\n",
    "axs[1,0].set_ylabel(\"September\")\n",
    "\n",
    "cax2 = axs[1,1].contourf(obs_stdev.sel(month=9) - cesm_stdevs.sel(month=9), cmap=\"RdBu_r\", levels=np.arange(-1, 1.2, 0.2), extend='both')\n",
    "\n",
    "cbar_ax = fig.add_axes([0.15,0.05, 0.3, 0.02])\n",
    "cbar_ax2 = fig.add_axes([0.57, 0.05, 0.3, 0.02])\n",
    "plt.colorbar(cax, cax=cbar_ax, label=r'˚C', orientation='horizontal', extend=\"both\")\n",
    "plt.colorbar(cax2, cax=cbar_ax2, label=r'˚C', orientation='horizontal')\n",
    "plt.savefig(\"figures/known_issues/distribution_shift_sst.jpg\", dpi=300, bbox_inches='tight')\n",
    "\n"
   ]
  },
  {
   "cell_type": "code",
   "execution_count": null,
   "metadata": {},
   "outputs": [],
   "source": []
  },
  {
   "cell_type": "markdown",
   "metadata": {},
   "source": [
    "### Data loader"
   ]
  },
  {
   "cell_type": "code",
   "execution_count": 8,
   "metadata": {},
   "outputs": [],
   "source": [
    "import src.experiment_configs.exp1_inputs.input2 as config\n",
    "ds = xr.open_dataset(os.path.join(config_cesm.DATA_DIRECTORY, f\"ERA5/cesm_format/icefrac_obs.nc\"))\n",
    "ntime = len(ds.time) - 12 - 6\n",
    "\n",
    "train_subset = np.arange(0, (7/10) * ntime, dtype=int)\n",
    "val_subset = np.arange((7/10) * ntime, (8/10) * ntime, dtype=int)\n",
    "test_subset = np.arange((8/10) * ntime, ntime, dtype=int)\n",
    "\n",
    "data_split_settings = {\n",
    "    \"train\": train_subset,\n",
    "    \"val\": val_subset,\n",
    "    \"test\": test_subset\n",
    "}"
   ]
  },
  {
   "cell_type": "code",
   "execution_count": 17,
   "metadata": {},
   "outputs": [
    {
     "name": "stderr",
     "output_type": "stream",
     "text": [
      "/home/groups/earlew/yuchen/miniconda3/envs/sicpred_env_conda/lib/python3.12/site-packages/numpy/lib/_nanfunctions_impl.py:2035: RuntimeWarning: Degrees of freedom <= 0 for slice.\n",
      "  var = nanvar(a, axis=axis, dtype=dtype, out=out, ddof=ddof,\n",
      "/home/groups/earlew/yuchen/miniconda3/envs/sicpred_env_conda/lib/python3.12/site-packages/numpy/lib/_nanfunctions_impl.py:2035: RuntimeWarning: Degrees of freedom <= 0 for slice.\n",
      "  var = nanvar(a, axis=axis, dtype=dtype, out=out, ddof=ddof,\n",
      "/home/groups/earlew/yuchen/miniconda3/envs/sicpred_env_conda/lib/python3.12/site-packages/numpy/lib/_nanfunctions_impl.py:2035: RuntimeWarning: Degrees of freedom <= 0 for slice.\n",
      "  var = nanvar(a, axis=axis, dtype=dtype, out=out, ddof=ddof,\n",
      "/home/groups/earlew/yuchen/miniconda3/envs/sicpred_env_conda/lib/python3.12/site-packages/numpy/lib/_nanfunctions_impl.py:2035: RuntimeWarning: Degrees of freedom <= 0 for slice.\n",
      "  var = nanvar(a, axis=axis, dtype=dtype, out=out, ddof=ddof,\n",
      "/home/groups/earlew/yuchen/miniconda3/envs/sicpred_env_conda/lib/python3.12/site-packages/numpy/lib/_nanfunctions_impl.py:2035: RuntimeWarning: Degrees of freedom <= 0 for slice.\n",
      "  var = nanvar(a, axis=axis, dtype=dtype, out=out, ddof=ddof,\n",
      "/home/groups/earlew/yuchen/miniconda3/envs/sicpred_env_conda/lib/python3.12/site-packages/numpy/lib/_nanfunctions_impl.py:2035: RuntimeWarning: Degrees of freedom <= 0 for slice.\n",
      "  var = nanvar(a, axis=axis, dtype=dtype, out=out, ddof=ddof,\n",
      "/home/groups/earlew/yuchen/miniconda3/envs/sicpred_env_conda/lib/python3.12/site-packages/numpy/lib/_nanfunctions_impl.py:2035: RuntimeWarning: Degrees of freedom <= 0 for slice.\n",
      "  var = nanvar(a, axis=axis, dtype=dtype, out=out, ddof=ddof,\n",
      "/home/groups/earlew/yuchen/miniconda3/envs/sicpred_env_conda/lib/python3.12/site-packages/numpy/lib/_nanfunctions_impl.py:2035: RuntimeWarning: Degrees of freedom <= 0 for slice.\n",
      "  var = nanvar(a, axis=axis, dtype=dtype, out=out, ddof=ddof,\n",
      "/home/groups/earlew/yuchen/miniconda3/envs/sicpred_env_conda/lib/python3.12/site-packages/numpy/lib/_nanfunctions_impl.py:2035: RuntimeWarning: Degrees of freedom <= 0 for slice.\n",
      "  var = nanvar(a, axis=axis, dtype=dtype, out=out, ddof=ddof,\n",
      "/home/groups/earlew/yuchen/miniconda3/envs/sicpred_env_conda/lib/python3.12/site-packages/numpy/lib/_nanfunctions_impl.py:2035: RuntimeWarning: Degrees of freedom <= 0 for slice.\n",
      "  var = nanvar(a, axis=axis, dtype=dtype, out=out, ddof=ddof,\n",
      "/home/groups/earlew/yuchen/miniconda3/envs/sicpred_env_conda/lib/python3.12/site-packages/numpy/lib/_nanfunctions_impl.py:2035: RuntimeWarning: Degrees of freedom <= 0 for slice.\n",
      "  var = nanvar(a, axis=axis, dtype=dtype, out=out, ddof=ddof,\n",
      "/home/groups/earlew/yuchen/miniconda3/envs/sicpred_env_conda/lib/python3.12/site-packages/numpy/lib/_nanfunctions_impl.py:2035: RuntimeWarning: Degrees of freedom <= 0 for slice.\n",
      "  var = nanvar(a, axis=axis, dtype=dtype, out=out, ddof=ddof,\n"
     ]
    }
   ],
   "source": [
    "data_da_dict = {}\n",
    "\n",
    "for var_name in config.INPUT_CONFIG.keys(): \n",
    "    if config.INPUT_CONFIG[var_name]['include'] and config.INPUT_CONFIG[var_name]['norm']:\n",
    "        max_lag_months = config.INPUT_CONFIG[var_name]['lag']\n",
    "        divide_by_stdev = config.INPUT_CONFIG[var_name]['divide_by_stdev']\n",
    "\n",
    "        # Load the observational data\n",
    "        ds = xr.open_dataset(os.path.join(config_cesm.DATA_DIRECTORY, f\"ERA5/cesm_format/{var_name}_obs.nc\"))\n",
    "        obs_da = ds[var_name] \n",
    "\n",
    "        da_train_subset = obs_da[np.concatenate((np.arange(12, dtype=int), train_subset + int(12)))]\n",
    "        monthly_means = da_train_subset.groupby('time.month').mean((\"time\"))\n",
    "        monthly_stdev = da_train_subset.groupby('time.month').std((\"time\"))\n",
    "\n",
    "        # normalize\n",
    "        months = obs_da['time'].dt.month\n",
    "\n",
    "        if divide_by_stdev: \n",
    "            normalized_da = (obs_da - monthly_means.sel(month=months)) / monthly_stdev.sel(month=months)\n",
    "        else: \n",
    "            normalized_da = obs_da - monthly_means.sel(month=months)\n",
    "        \n",
    "        data_da_dict[var_name] = normalized_da.drop_vars(\"month\")\n"
   ]
  },
  {
   "cell_type": "code",
   "execution_count": 19,
   "metadata": {},
   "outputs": [],
   "source": [
    "def get_obs_start_prediction_months(data_da_dict, data_split_settings):\n",
    "    max_lag = 12\n",
    "    first_month = data_da_dict[\"icefrac\"].time[max_lag].item()\n",
    "    last_month = data_da_dict[\"icefrac\"].time[-config.MAX_LEAD_MONTHS].item()\n",
    "    return pd.date_range(first_month, last_month, freq=\"MS\")\n",
    "\n",
    "\n",
    "def save_obs_inputs(input_config, save_path, data_da_dict, data_split_settings):\n",
    "    \"\"\"\n",
    "    Writes a model-ready input file (.nc) for each ensemble member to save_path\n",
    "\n",
    "    Param:\n",
    "        (dict)      input_config\n",
    "        (string)    save_path\n",
    "    \"\"\"\n",
    "\n",
    "    # get some auxiliary data\n",
    "    x_coords = data_da_dict[\"icefrac\"].x.data\n",
    "    y_coords = data_da_dict[\"icefrac\"].y.data\n",
    "    land_mask = np.isnan(data_da_dict[\"icefrac\"].isel(time=0)).data\n",
    "    land_mask = np.transpose(land_mask.reshape(1, 80, 80), [0, 2, 1]) # for some reason, x and y get switched\n",
    "\n",
    "    start_prediction_months = get_obs_start_prediction_months(data_da_dict, data_split_settings)\n",
    "    save_name = os.path.join(save_path, f\"inputs_obs.nc\")\n",
    "    if os.path.exists(save_name):\n",
    "       return\n",
    "\n",
    "    da_list = []\n",
    "    for start_prediction_month in start_prediction_months:\n",
    "        time_da_list = []\n",
    "        for input_var, input_var_params in input_config.items():\n",
    "            if not input_var_params[\"include\"]: \n",
    "                continue \n",
    "            \n",
    "            if not input_var_params[\"auxiliary\"]:\n",
    "                prediction_input_months = pd.date_range(start_prediction_month - pd.DateOffset(months=input_var_params[\"lag\"]), \n",
    "                                                        start_prediction_month - pd.DateOffset(months=1), freq=\"MS\")\n",
    "\n",
    "                input_data = data_da_dict[input_var].sel(time=prediction_input_months)\n",
    "\n",
    "                # mask out NaN values\n",
    "                input_data = input_data.fillna(0)\n",
    "\n",
    "                # rename the time coordinate to channel \n",
    "                lag = input_var_params[\"lag\"]\n",
    "                input_data = input_data.assign_coords(time=[f\"{input_var}_lag{lag+1-i}\" for i in range(1, lag+1)])\n",
    "                input_data = input_data.rename({\"time\": \"channel\"})\n",
    "            else:\n",
    "                if input_var == \"cosine_of_init_month\":\n",
    "                    input_data = xr.DataArray(\n",
    "                        np.full((1, 80, 80), np.cos(2 * np.pi * start_prediction_month.month / 12)),\n",
    "                        dims=[\"channel\", \"x\", \"y\"],\n",
    "                        coords={\"channel\": [input_var], \"x\": x_coords, \"y\": y_coords},\n",
    "                    )\n",
    "                elif input_var == \"sine_of_init_month\":\n",
    "                    input_data = xr.DataArray(\n",
    "                        np.full((1, 80, 80), np.sin(2 * np.pi * start_prediction_month.month / 12)),\n",
    "                        dims=[\"channel\", \"x\", \"y\"],\n",
    "                        coords={\"channel\": [input_var], \"x\": x_coords, \"y\": y_coords},\n",
    "                    )\n",
    "                elif input_var == \"land_mask\": \n",
    "                    input_data = xr.DataArray(\n",
    "                        land_mask, \n",
    "                        dims=[\"channel\", \"x\", \"y\"],\n",
    "                        coords={\"channel\": [input_var], \"x\": x_coords, \"y\": y_coords},\n",
    "                    )\n",
    "                else: \n",
    "                    raise NotImplementedError()\n",
    "\n",
    "            # add a coordinate to denote the start prediction month (time origin)\n",
    "            input_data = input_data.assign_coords(start_prediction_month=start_prediction_month)\n",
    "\n",
    "            time_da_list.append(input_data)\n",
    "\n",
    "        da_list.append(xr.concat(time_da_list, dim=\"channel\", coords='minimal', compat='override'))\n",
    "\n",
    "    da_merged = xr.concat(da_list, dim=\"start_prediction_month\", coords=\"minimal\", compat='override')\n",
    "\n",
    "    # rechunk\n",
    "    da_merged = da_merged.chunk(chunks={\"start_prediction_month\":12, \"channel\":-1})\n",
    "\n",
    "    # clean up singleton dimensions\n",
    "    if \"z_t\" in da_merged.dims: \n",
    "        da_merged = da_merged.drop_vars(\"z_t\")\n",
    "    if \"lev\" in da_merged.dims:\n",
    "        da_merged = da_merged.drop_vars(\"lev\")\n",
    "\n",
    "\n",
    "    print(\"done! Saving...\")\n",
    "    da_merged.to_dataset(name=\"data\").to_netcdf(save_name)\n",
    "    da_merged.close()\n",
    "\n"
   ]
  },
  {
   "cell_type": "code",
   "execution_count": 20,
   "metadata": {},
   "outputs": [],
   "source": [
    "\n",
    "def save_obs_targets(input_da_dict, input_config, target_config, \n",
    "                    save_path, max_lead_months, data_split_settings):\n",
    "    \"\"\"\n",
    "    Writes a model-ready targets file (.nc) for each ensemble member to save_path\n",
    "    \n",
    "    Param:\n",
    "        (dict)      input_config\n",
    "        (dict)      target_config\n",
    "        (string)    save_path\n",
    "        (int)       max_lead_months\n",
    "        (dict)      data_split_settings\n",
    "    \"\"\"\n",
    "\n",
    "    if not target_config[\"predict_anom\"]:\n",
    "        raise NotImplementedError()\n",
    "    else:\n",
    "        da = input_da_dict[\"icefrac\"]\n",
    "\n",
    "    start_prediction_months = get_obs_start_prediction_months(input_da_dict, data_split_settings)\n",
    "    save_name = os.path.join(save_path, f\"targets_obs.nc\")\n",
    "    if os.path.exists(save_name):\n",
    "        return\n",
    "\n",
    "    time_da_list = []\n",
    "\n",
    "    for start_prediction_month in start_prediction_months:\n",
    "        prediction_target_months = pd.date_range(start_prediction_month, \n",
    "                                                start_prediction_month + pd.DateOffset(months=max_lead_months-1), \n",
    "                                                freq=\"MS\")\n",
    "        \n",
    "        target_data = da.sel(time=prediction_target_months)\n",
    "\n",
    "        # mask out nans\n",
    "        target_data = target_data.fillna(0)\n",
    "\n",
    "        target_data = target_data.assign_coords(time=np.arange(1,7))\n",
    "        target_data = target_data.rename({\"time\": \"lead_time\"}) \n",
    "\n",
    "        # add a coordinate to denote the start prediction month (time origin)\n",
    "        target_data = target_data.assign_coords(start_prediction_month=start_prediction_month)\n",
    "\n",
    "        time_da_list.append(target_data)\n",
    "\n",
    "    da_merged = xr.concat(time_da_list, dim=\"start_prediction_month\", coords='minimal', compat='override')\n",
    "\n",
    "    da_merged = da_merged.chunk(chunks={\"start_prediction_month\":12, \"lead_time\":-1})\n",
    "    \n",
    "    da_merged.to_dataset(name=\"data\").to_netcdf(save_name)\n",
    "    da_merged.close()\n"
   ]
  },
  {
   "cell_type": "code",
   "execution_count": 21,
   "metadata": {},
   "outputs": [],
   "source": [
    "save_path = os.path.join(config_cesm.PROCESSED_DATA_DIRECTORY, \"data_pairs\", config.DATA_CONFIG_NAME)\n",
    "\n",
    "save_obs_inputs(config.INPUT_CONFIG, save_path, data_da_dict, data_split_settings)\n",
    "\n",
    "save_obs_targets(data_da_dict, config.INPUT_CONFIG, config.TARGET_CONFIG, \n",
    "                save_path, 6, data_split_settings)\n"
   ]
  },
  {
   "cell_type": "code",
   "execution_count": 22,
   "metadata": {},
   "outputs": [],
   "source": [
    "save_path = os.path.join(config_cesm.PROCESSED_DATA_DIRECTORY, \"data_pairs\", config.DATA_CONFIG_NAME)\n",
    "\n",
    "inputs_da = xr.open_dataset(os.path.join(save_path, \"inputs_obs.nc\")).data\n",
    "targets_da = xr.open_dataset(os.path.join(save_path, \"targets_obs.nc\")).data\n",
    "\n",
    "\n",
    "class Obs_Dataset(torch.utils.data.Dataset):\n",
    "    def __init__(self, split, data_config_name, data_split_settings):\n",
    "        self.data_dir = os.path.join(config_cesm.PROCESSED_DATA_DIRECTORY, \"data_pairs\", data_config_name)\n",
    "        self.split = split\n",
    "\n",
    "        # Open and keep datasets in memory (or use .load() to load them immediately)\n",
    "        self.inputs = xr.open_dataset(os.path.join(self.data_dir, \"inputs_obs.nc\")).data\n",
    "        self.targets = xr.open_dataset(os.path.join(self.data_dir, \"targets_obs.nc\")).data\n",
    "\n",
    "        # Build a global index of samples\n",
    "        time_values = self.inputs[\"start_prediction_month\"].values\n",
    "        self.samples = [(time_values[start_idx], int(start_idx)) for start_idx in data_split_settings[split]]\n",
    "\n",
    "    def __len__(self):\n",
    "        return len(self.samples)\n",
    "\n",
    "    def __getitem__(self, idx):\n",
    "        start_prediction_month, start_idx = self.samples[idx]\n",
    "\n",
    "        input_sample = self.inputs.isel(start_prediction_month=start_idx).load().values.copy()\n",
    "        target_sample = self.targets.isel(start_prediction_month=start_idx).load().values.copy()\n",
    "\n",
    "        max_lead_months = target_sample.shape[0]\n",
    "        start_prediction_months = pd.date_range(\n",
    "            start_prediction_month,\n",
    "            start_prediction_month + pd.DateOffset(months=max_lead_months - 1),\n",
    "            freq=\"MS\"\n",
    "        )\n",
    "\n",
    "        time_npy = np.column_stack((start_prediction_months.year, start_prediction_months.month))\n",
    "\n",
    "        sample = {\n",
    "            \"input\": torch.tensor(input_sample, dtype=torch.float32),\n",
    "            \"target\": torch.tensor(target_sample, dtype=torch.float32),\n",
    "            \"start_prediction_month\": time_npy,\n",
    "        }\n",
    "\n",
    "        return sample\n"
   ]
  },
  {
   "cell_type": "code",
   "execution_count": 23,
   "metadata": {},
   "outputs": [],
   "source": [
    "\n",
    "train_dataset = Obs_Dataset(\"train\", config.DATA_CONFIG_NAME, data_split_settings)\n",
    "val_dataset = Obs_Dataset(\"val\", config.DATA_CONFIG_NAME, data_split_settings)\n",
    "\n",
    "train_dataloader = DataLoader(train_dataset, batch_size=4, shuffle=True, num_workers=2)\n",
    "val_dataloader = DataLoader(val_dataset, batch_size=4, shuffle=False, num_workers=2)\n",
    "\n",
    "# Initialize model, optimizer, and loss function\n",
    "device = torch.device(\"cuda\" if torch.cuda.is_available() else \"cpu\")\n",
    "\n",
    "in_channels = util_cesm.get_num_input_channels(config.INPUT_CONFIG)\n",
    "out_channels = util_cesm.get_num_output_channels(config.MAX_LEAD_MONTHS, config.TARGET_CONFIG)\n",
    "\n",
    "if config.MODEL == \"UNetRes3\": \n",
    "    model = UNetRes3(in_channels=in_channels, \n",
    "                    out_channels=out_channels, \n",
    "                    predict_anomalies=config.TARGET_CONFIG[\"predict_anom\"]).to(device)\n",
    "else: \n",
    "    raise NotImplementedError(f\"Model {config.MODEL} not implemented.\")\n",
    "\n",
    "optimizer = Adam(model.parameters(), lr=0.0005)\n",
    "\n",
    "if config.LOSS_FUNCTION == \"MSE\": \n",
    "    loss_fn = WeightedMSELoss(device=device, **config.LOSS_FUNCTION_ARGS)"
   ]
  },
  {
   "cell_type": "code",
   "execution_count": 24,
   "metadata": {},
   "outputs": [],
   "source": [
    "def validate_epoch(model, dataloader, loss_fn, device, epoch, total_epochs):\n",
    "    model.eval()\n",
    "    epoch_loss = 0\n",
    "    progress_bar = tqdm(enumerate(dataloader), total=len(dataloader), desc=f\"Epoch {epoch}/{total_epochs} [Val]\")\n",
    "    loss_fn_params = inspect.signature(loss_fn.forward).parameters\n",
    "\n",
    "    with torch.no_grad():\n",
    "        for batch_idx, batch in progress_bar:\n",
    "            inputs, targets = batch[\"input\"].to(device), batch[\"target\"].to(device)\n",
    "            predictions = model(inputs)\n",
    "\n",
    "            loss_kwargs = {\"prediction\": predictions, \"target\": targets}\n",
    "            if \"target_months\" in loss_fn_params:\n",
    "                target_months = batch[\"start_prediction_month\"][:, :, 1].to(device)\n",
    "                loss_kwargs[\"target_months\"] = target_months\n",
    "\n",
    "            loss = loss_fn(**loss_kwargs)\n",
    "            \n",
    "            epoch_loss += loss.item()\n",
    "            # Update progress bar with batch loss\n",
    "            progress_bar.set_postfix({\"Batch Loss\": loss.item()})\n",
    "    \n",
    "    return epoch_loss / len(dataloader)\n",
    "    \n",
    "def train_epoch(model, dataloader, optimizer, loss_fn, device, epoch, total_epochs):\n",
    "    model.train()\n",
    "    epoch_loss = 0\n",
    "    progress_bar = tqdm(enumerate(dataloader), total=len(dataloader), desc=f\"Epoch {epoch}/{total_epochs} [Train]\")\n",
    "    loss_fn_params = inspect.signature(loss_fn.forward).parameters\n",
    "\n",
    "    for _, batch in progress_bar:\n",
    "        inputs, targets = batch[\"input\"].to(device), batch[\"target\"].to(device)\n",
    "        \n",
    "        optimizer.zero_grad()\n",
    "        predictions = model(inputs)\n",
    "\n",
    "        loss_kwargs = {\"prediction\": predictions, \"target\": targets}\n",
    "        if \"target_months\" in loss_fn_params:\n",
    "            # batch[\"start_prediction_month\"] is of shape (batch_size, max_lead_months, 2)\n",
    "            target_months = batch[\"start_prediction_month\"][:, :, 1].to(device)\n",
    "            loss_kwargs[\"target_months\"] = target_months\n",
    "\n",
    "        loss = loss_fn(**loss_kwargs)\n",
    "        loss.backward()\n",
    "        optimizer.step()\n",
    "        \n",
    "        epoch_loss += loss.item()\n",
    "        # Update progress bar with batch loss\n",
    "        progress_bar.set_postfix({\"Batch Loss\": loss.item()})\n",
    "\n",
    "    return epoch_loss / len(dataloader)\n"
   ]
  },
  {
   "cell_type": "code",
   "execution_count": 80,
   "metadata": {},
   "outputs": [
    {
     "name": "stderr",
     "output_type": "stream",
     "text": [
      "Epoch 0/20 [Train]: 100%|██████████| 95/95 [00:03<00:00, 28.48it/s, Batch Loss=0.0133] \n",
      "Epoch 0/20 [Val]: 100%|██████████| 14/14 [00:00<00:00, 24.95it/s, Batch Loss=0.0147]"
     ]
    },
    {
     "name": "stdout",
     "output_type": "stream",
     "text": [
      "Epoch 0 - Train Loss: 0.0077, Val Loss: 0.0110\n"
     ]
    },
    {
     "name": "stderr",
     "output_type": "stream",
     "text": [
      "\n",
      "Epoch 1/20 [Train]: 100%|██████████| 95/95 [00:03<00:00, 28.59it/s, Batch Loss=0.00711]\n",
      "Epoch 1/20 [Val]: 100%|██████████| 14/14 [00:00<00:00, 26.08it/s, Batch Loss=0.0159] "
     ]
    },
    {
     "name": "stdout",
     "output_type": "stream",
     "text": [
      "Epoch 1 - Train Loss: 0.0075, Val Loss: 0.0110\n"
     ]
    },
    {
     "name": "stderr",
     "output_type": "stream",
     "text": [
      "\n",
      "Epoch 2/20 [Train]: 100%|██████████| 95/95 [00:03<00:00, 27.44it/s, Batch Loss=0.0071] \n",
      "Epoch 2/20 [Val]: 100%|██████████| 14/14 [00:00<00:00, 32.71it/s, Batch Loss=0.0135] "
     ]
    },
    {
     "name": "stdout",
     "output_type": "stream",
     "text": [
      "Epoch 2 - Train Loss: 0.0075, Val Loss: 0.0107\n"
     ]
    },
    {
     "name": "stderr",
     "output_type": "stream",
     "text": [
      "\n",
      "Epoch 3/20 [Train]: 100%|██████████| 95/95 [00:03<00:00, 28.56it/s, Batch Loss=0.0082] \n",
      "Epoch 3/20 [Val]: 100%|██████████| 14/14 [00:00<00:00, 20.45it/s, Batch Loss=0.0147]"
     ]
    },
    {
     "name": "stdout",
     "output_type": "stream",
     "text": [
      "Epoch 3 - Train Loss: 0.0073, Val Loss: 0.0110\n"
     ]
    },
    {
     "name": "stderr",
     "output_type": "stream",
     "text": [
      "\n",
      "Epoch 4/20 [Train]: 100%|██████████| 95/95 [00:03<00:00, 24.13it/s, Batch Loss=0.00473]\n",
      "Epoch 4/20 [Val]: 100%|██████████| 14/14 [00:00<00:00, 27.89it/s, Batch Loss=0.0142]"
     ]
    },
    {
     "name": "stdout",
     "output_type": "stream",
     "text": [
      "Epoch 4 - Train Loss: 0.0073, Val Loss: 0.0107\n"
     ]
    },
    {
     "name": "stderr",
     "output_type": "stream",
     "text": [
      "\n",
      "Epoch 5/20 [Train]: 100%|██████████| 95/95 [00:03<00:00, 23.82it/s, Batch Loss=0.00733]\n",
      "Epoch 5/20 [Val]: 100%|██████████| 14/14 [00:00<00:00, 24.24it/s, Batch Loss=0.0153]"
     ]
    },
    {
     "name": "stdout",
     "output_type": "stream",
     "text": [
      "Epoch 5 - Train Loss: 0.0072, Val Loss: 0.0111\n"
     ]
    },
    {
     "name": "stderr",
     "output_type": "stream",
     "text": [
      "\n",
      "Epoch 6/20 [Train]: 100%|██████████| 95/95 [00:03<00:00, 27.54it/s, Batch Loss=0.00955]\n",
      "Epoch 6/20 [Val]: 100%|██████████| 14/14 [00:00<00:00, 20.03it/s, Batch Loss=0.0161]"
     ]
    },
    {
     "name": "stdout",
     "output_type": "stream",
     "text": [
      "Epoch 6 - Train Loss: 0.0071, Val Loss: 0.0111\n"
     ]
    },
    {
     "name": "stderr",
     "output_type": "stream",
     "text": [
      "\n",
      "Epoch 7/20 [Train]: 100%|██████████| 95/95 [00:03<00:00, 31.44it/s, Batch Loss=0.00819]\n",
      "Epoch 7/20 [Val]: 100%|██████████| 14/14 [00:00<00:00, 23.95it/s, Batch Loss=0.0155] "
     ]
    },
    {
     "name": "stdout",
     "output_type": "stream",
     "text": [
      "Epoch 7 - Train Loss: 0.0071, Val Loss: 0.0110\n"
     ]
    },
    {
     "name": "stderr",
     "output_type": "stream",
     "text": [
      "\n",
      "Epoch 8/20 [Train]: 100%|██████████| 95/95 [00:03<00:00, 27.47it/s, Batch Loss=0.0126] \n",
      "Epoch 8/20 [Val]: 100%|██████████| 14/14 [00:00<00:00, 22.91it/s, Batch Loss=0.0151]"
     ]
    },
    {
     "name": "stdout",
     "output_type": "stream",
     "text": [
      "Epoch 8 - Train Loss: 0.0069, Val Loss: 0.0111\n"
     ]
    },
    {
     "name": "stderr",
     "output_type": "stream",
     "text": [
      "\n",
      "Epoch 9/20 [Train]: 100%|██████████| 95/95 [00:03<00:00, 27.72it/s, Batch Loss=0.00583]\n",
      "Epoch 9/20 [Val]: 100%|██████████| 14/14 [00:00<00:00, 28.74it/s, Batch Loss=0.0162] "
     ]
    },
    {
     "name": "stdout",
     "output_type": "stream",
     "text": [
      "Epoch 9 - Train Loss: 0.0068, Val Loss: 0.0112\n"
     ]
    },
    {
     "name": "stderr",
     "output_type": "stream",
     "text": [
      "\n",
      "Epoch 10/20 [Train]: 100%|██████████| 95/95 [00:03<00:00, 27.73it/s, Batch Loss=0.00579]\n",
      "Epoch 10/20 [Val]: 100%|██████████| 14/14 [00:00<00:00, 26.95it/s, Batch Loss=0.0143] "
     ]
    },
    {
     "name": "stdout",
     "output_type": "stream",
     "text": [
      "Epoch 10 - Train Loss: 0.0068, Val Loss: 0.0110\n"
     ]
    },
    {
     "name": "stderr",
     "output_type": "stream",
     "text": [
      "\n",
      "Epoch 11/20 [Train]: 100%|██████████| 95/95 [00:03<00:00, 24.20it/s, Batch Loss=0.00423]\n",
      "Epoch 11/20 [Val]: 100%|██████████| 14/14 [00:00<00:00, 26.20it/s, Batch Loss=0.0152]"
     ]
    },
    {
     "name": "stdout",
     "output_type": "stream",
     "text": [
      "Epoch 11 - Train Loss: 0.0066, Val Loss: 0.0110\n"
     ]
    },
    {
     "name": "stderr",
     "output_type": "stream",
     "text": [
      "\n",
      "Epoch 12/20 [Train]: 100%|██████████| 95/95 [00:03<00:00, 29.43it/s, Batch Loss=0.00458]\n",
      "Epoch 12/20 [Val]: 100%|██████████| 14/14 [00:00<00:00, 30.84it/s, Batch Loss=0.0154]"
     ]
    },
    {
     "name": "stdout",
     "output_type": "stream",
     "text": [
      "Epoch 12 - Train Loss: 0.0064, Val Loss: 0.0115\n"
     ]
    },
    {
     "name": "stderr",
     "output_type": "stream",
     "text": [
      "\n",
      "Epoch 13/20 [Train]: 100%|██████████| 95/95 [00:03<00:00, 24.87it/s, Batch Loss=0.00384]\n",
      "Epoch 13/20 [Val]: 100%|██████████| 14/14 [00:00<00:00, 26.14it/s, Batch Loss=0.0131]"
     ]
    },
    {
     "name": "stdout",
     "output_type": "stream",
     "text": [
      "Epoch 13 - Train Loss: 0.0064, Val Loss: 0.0109\n"
     ]
    },
    {
     "name": "stderr",
     "output_type": "stream",
     "text": [
      "\n",
      "Epoch 14/20 [Train]: 100%|██████████| 95/95 [00:04<00:00, 23.53it/s, Batch Loss=0.006]  \n",
      "Epoch 14/20 [Val]: 100%|██████████| 14/14 [00:00<00:00, 27.33it/s, Batch Loss=0.0153] "
     ]
    },
    {
     "name": "stdout",
     "output_type": "stream",
     "text": [
      "Epoch 14 - Train Loss: 0.0063, Val Loss: 0.0115\n"
     ]
    },
    {
     "name": "stderr",
     "output_type": "stream",
     "text": [
      "\n",
      "Epoch 15/20 [Train]: 100%|██████████| 95/95 [00:04<00:00, 21.53it/s, Batch Loss=0.00526]\n",
      "Epoch 15/20 [Val]: 100%|██████████| 14/14 [00:00<00:00, 25.91it/s, Batch Loss=0.0141]"
     ]
    },
    {
     "name": "stdout",
     "output_type": "stream",
     "text": [
      "Epoch 15 - Train Loss: 0.0061, Val Loss: 0.0119\n"
     ]
    },
    {
     "name": "stderr",
     "output_type": "stream",
     "text": [
      "\n",
      "Epoch 16/20 [Train]: 100%|██████████| 95/95 [00:03<00:00, 29.11it/s, Batch Loss=0.00466]\n",
      "Epoch 16/20 [Val]: 100%|██████████| 14/14 [00:00<00:00, 20.50it/s, Batch Loss=0.0137]"
     ]
    },
    {
     "name": "stdout",
     "output_type": "stream",
     "text": [
      "Epoch 16 - Train Loss: 0.0060, Val Loss: 0.0112\n"
     ]
    },
    {
     "name": "stderr",
     "output_type": "stream",
     "text": [
      "\n",
      "Epoch 17/20 [Train]: 100%|██████████| 95/95 [00:03<00:00, 28.14it/s, Batch Loss=0.00452]\n",
      "Epoch 17/20 [Val]: 100%|██████████| 14/14 [00:00<00:00, 21.97it/s, Batch Loss=0.0138]"
     ]
    },
    {
     "name": "stdout",
     "output_type": "stream",
     "text": [
      "Epoch 17 - Train Loss: 0.0059, Val Loss: 0.0110\n"
     ]
    },
    {
     "name": "stderr",
     "output_type": "stream",
     "text": [
      "\n",
      "Epoch 18/20 [Train]: 100%|██████████| 95/95 [00:03<00:00, 25.42it/s, Batch Loss=0.00688]\n",
      "Epoch 18/20 [Val]: 100%|██████████| 14/14 [00:00<00:00, 22.00it/s, Batch Loss=0.0141]"
     ]
    },
    {
     "name": "stdout",
     "output_type": "stream",
     "text": [
      "Epoch 18 - Train Loss: 0.0058, Val Loss: 0.0111\n"
     ]
    },
    {
     "name": "stderr",
     "output_type": "stream",
     "text": [
      "\n",
      "Epoch 19/20 [Train]: 100%|██████████| 95/95 [00:03<00:00, 27.08it/s, Batch Loss=0.00512]\n",
      "Epoch 19/20 [Val]: 100%|██████████| 14/14 [00:00<00:00, 26.57it/s, Batch Loss=0.0153] "
     ]
    },
    {
     "name": "stdout",
     "output_type": "stream",
     "text": [
      "Epoch 19 - Train Loss: 0.0057, Val Loss: 0.0120\n"
     ]
    },
    {
     "name": "stderr",
     "output_type": "stream",
     "text": [
      "\n",
      "Epoch 20/20 [Train]: 100%|██████████| 95/95 [00:02<00:00, 34.71it/s, Batch Loss=0.00574]\n",
      "Epoch 20/20 [Val]: 100%|██████████| 14/14 [00:00<00:00, 22.91it/s, Batch Loss=0.0145]"
     ]
    },
    {
     "name": "stdout",
     "output_type": "stream",
     "text": [
      "Epoch 20 - Train Loss: 0.0056, Val Loss: 0.0115\n"
     ]
    },
    {
     "name": "stderr",
     "output_type": "stream",
     "text": [
      "\n"
     ]
    }
   ],
   "source": [
    "# train model \n",
    "start_epoch = 0\n",
    "total_epochs = 20\n",
    "for epoch in range(start_epoch, total_epochs + 1):\n",
    "    train_loss = train_epoch(model, train_dataloader, optimizer, loss_fn, device, epoch, total_epochs)\n",
    "    val_loss = validate_epoch(model, val_dataloader, loss_fn, device, epoch, total_epochs)\n",
    "\n",
    "    # Log metrics to WandB\n",
    "    # wandb.log({\"epoch\": epoch, \"train_loss\": train_loss, \"val_loss\": val_loss})\n",
    "\n",
    "    # Save a checkpoint\n",
    "    # file_name = f\"{config.MODEL}_{config.EXPERIMENT_NAME}_member_{ensemble_id}_epoch_{epoch}.pth\"\n",
    "    # checkpoint_path = os.path.join(save_dir, file_name)\n",
    "    # if epoch % config.CHECKPOINT_INTERVAL == 0:\n",
    "    #     torch.save({\n",
    "    #         \"epoch\": epoch,\n",
    "    #         \"model_state_dict\": model.state_dict(),\n",
    "    #         \"optimizer_state_dict\": optimizer.state_dict(),\n",
    "    #     }, checkpoint_path)\n",
    "\n",
    "    print(f\"Epoch {epoch} - Train Loss: {train_loss:.4f}, Val Loss: {val_loss:.4f}\")\n"
   ]
  },
  {
   "cell_type": "code",
   "execution_count": 81,
   "metadata": {},
   "outputs": [
    {
     "name": "stderr",
     "output_type": "stream",
     "text": [
      "Evaluating: 100%|██████████| 108/108 [00:04<00:00, 22.70sample/s]\n"
     ]
    }
   ],
   "source": [
    "test_dataset = Obs_Dataset(\"test\", config.DATA_CONFIG_NAME, data_split_settings)\n",
    "test_dataloader = DataLoader(test_dataset, batch_size=1, shuffle=False, num_workers=2)\n",
    "\n",
    "model.eval()\n",
    "\n",
    "time_coords = inputs_da.start_prediction_month[data_split_settings[\"test\"]]\n",
    "channels, x_dim, y_dim = config.MAX_LEAD_MONTHS, 80, 80\n",
    "\n",
    "ds_pred = xr.Dataset(\n",
    "    {\n",
    "        \"icefrac\": (\n",
    "            [\"start_prediction_month\", \"lead_time\", \"y\", \"x\"],\n",
    "            np.full((len(time_coords), channels, y_dim, x_dim), \n",
    "                    np.nan, dtype=np.float32)\n",
    "        )\n",
    "    },\n",
    "    coords={\n",
    "        \"start_prediction_month\": time_coords,\n",
    "        \"lead_time\": np.arange(1, channels + 1),\n",
    "        \"y\": reference_grid.y.values,\n",
    "        \"x\": reference_grid.x.values,\n",
    "    }\n",
    ")\n",
    "\n",
    "ds_truth = xr.Dataset(\n",
    "    {\n",
    "        \"icefrac\": (\n",
    "            [\"start_prediction_month\", \"lead_time\", \"y\", \"x\"],\n",
    "            np.full((len(time_coords), channels, y_dim, x_dim), \n",
    "                    np.nan, dtype=np.float32)\n",
    "        )\n",
    "    },\n",
    "    coords={\n",
    "        \"start_prediction_month\": time_coords,\n",
    "        \"lead_time\": np.arange(1, channels + 1),\n",
    "        \"y\": reference_grid.y.values,\n",
    "        \"x\": reference_grid.x.values,\n",
    "    }\n",
    ")\n",
    "\n",
    "# Populate the Dataset with predictions\n",
    "with torch.no_grad():\n",
    "    for i, batch in enumerate(tqdm(test_dataloader, desc=\"Evaluating\", unit=\"sample\")): \n",
    "        inputs = batch[\"input\"].to(device)\n",
    "        targets = batch[\"target\"]\n",
    "        predictions = model(inputs).cpu().numpy()  # Move predictions to CPU\n",
    "        \n",
    "        # since batch size = 1, get the only sample in the batch\n",
    "        predictions = predictions[0]\n",
    "\n",
    "        # Extract metadata\n",
    "        start_year, start_month = batch[\"start_prediction_month\"].cpu().numpy()[0,0]\n",
    "        start_prediction_month = pd.Timestamp(year=start_year, month=start_month, day=1)\n",
    "\n",
    "        # Find the appropriate indices\n",
    "        time_idx = list(time_coords).index(start_prediction_month)\n",
    "\n",
    "        ds_pred[\"icefrac\"][time_idx, :, :, :] = predictions\n",
    "        ds_truth[\"icefrac\"][time_idx, :, :, :] = targets[0]"
   ]
  },
  {
   "cell_type": "code",
   "execution_count": 87,
   "metadata": {},
   "outputs": [],
   "source": [
    "ds_truth.to_netcdf(\"/scratch/users/yucli/sicpred_model_predictions/exp3/obs_truth.nc\")\n",
    "ds_pred.to_netcdf(\"/scratch/users/yucli/sicpred_model_predictions/exp3/obs_pred_input2_nopretrain.nc\")"
   ]
  },
  {
   "cell_type": "code",
   "execution_count": 108,
   "metadata": {},
   "outputs": [],
   "source": [
    "pred_anom = ds_pred.icefrac\n",
    "truth_anom = ds_truth.icefrac\n",
    "\n",
    "def calc_acc(pred_anom, truth_anom):\n",
    "    dim = (\"x\", \"y\")\n",
    "    acc = xr.cov(pred_anom, truth_anom, dim=dim) / (pred_anom.std(dim=dim) * truth_anom.std(dim=dim))\n",
    "    acc = acc.groupby(\"start_prediction_month.month\").mean(\"start_prediction_month\")\n",
    "\n",
    "    acc = xr.concat(\n",
    "        [acc.roll(month=int(lt - 1), roll_coords=False).sel(lead_time=lt) for lt in acc.lead_time.values],\n",
    "        dim=\"lead_time\"\n",
    "    )\n",
    "\n",
    "    return acc"
   ]
  },
  {
   "cell_type": "code",
   "execution_count": 94,
   "metadata": {},
   "outputs": [],
   "source": [
    "checkpoint_path = \"/scratch/users/yucli/sicpred_models/exp2_vol4/UNetRes3_exp2_vol4_member_0_epoch_10.pth\"\n",
    "checkpoint = torch.load(checkpoint_path, map_location=device, weights_only=True)\n",
    "\n",
    "model_pt = UNetRes3(in_channels=in_channels, \n",
    "                out_channels=out_channels, \n",
    "                predict_anomalies=config.TARGET_CONFIG[\"predict_anom\"]).to(device)\n",
    "model_pt.load_state_dict(checkpoint[\"model_state_dict\"])\n",
    "\n",
    "optimizer = Adam(model_pt.parameters(), lr=0.0005)\n",
    "\n",
    "if config.LOSS_FUNCTION == \"MSE\": \n",
    "    loss_fn = WeightedMSELoss(device=device, **config.LOSS_FUNCTION_ARGS)"
   ]
  },
  {
   "cell_type": "code",
   "execution_count": 107,
   "metadata": {},
   "outputs": [
    {
     "name": "stderr",
     "output_type": "stream",
     "text": [
      "Evaluating: 100%|██████████| 108/108 [00:05<00:00, 20.36sample/s]\n"
     ]
    }
   ],
   "source": [
    "test_dataset = Obs_Dataset(\"test\", config.DATA_CONFIG_NAME, data_split_settings)\n",
    "test_dataloader = DataLoader(test_dataset, batch_size=1, shuffle=False, num_workers=2)\n",
    "\n",
    "model_pt.eval()\n",
    "\n",
    "time_coords = inputs_da.start_prediction_month[data_split_settings[\"test\"]]\n",
    "channels, x_dim, y_dim = config.MAX_LEAD_MONTHS, 80, 80\n",
    "\n",
    "ds_pred = xr.Dataset(\n",
    "    {\n",
    "        \"icefrac\": (\n",
    "            [\"start_prediction_month\", \"lead_time\", \"y\", \"x\"],\n",
    "            np.full((len(time_coords), channels, y_dim, x_dim), \n",
    "                    np.nan, dtype=np.float32)\n",
    "        )\n",
    "    },\n",
    "    coords={\n",
    "        \"start_prediction_month\": time_coords,\n",
    "        \"lead_time\": np.arange(1, channels + 1),\n",
    "        \"y\": reference_grid.y.values,\n",
    "        \"x\": reference_grid.x.values,\n",
    "    }\n",
    ")\n",
    "\n",
    "ds_truth = xr.Dataset(\n",
    "    {\n",
    "        \"icefrac\": (\n",
    "            [\"start_prediction_month\", \"lead_time\", \"y\", \"x\"],\n",
    "            np.full((len(time_coords), channels, y_dim, x_dim), \n",
    "                    np.nan, dtype=np.float32)\n",
    "        )\n",
    "    },\n",
    "    coords={\n",
    "        \"start_prediction_month\": time_coords,\n",
    "        \"lead_time\": np.arange(1, channels + 1),\n",
    "        \"y\": reference_grid.y.values,\n",
    "        \"x\": reference_grid.x.values,\n",
    "    }\n",
    ")\n",
    "\n",
    "# Populate the Dataset with predictions\n",
    "with torch.no_grad():\n",
    "    for i, batch in enumerate(tqdm(test_dataloader, desc=\"Evaluating\", unit=\"sample\")): \n",
    "        inputs = batch[\"input\"].to(device)\n",
    "        targets = batch[\"target\"]\n",
    "        predictions = model_pt(inputs).cpu().numpy()  # Move predictions to CPU\n",
    "        \n",
    "        # since batch size = 1, get the only sample in the batch\n",
    "        predictions = predictions[0]\n",
    "\n",
    "        # Extract metadata\n",
    "        start_year, start_month = batch[\"start_prediction_month\"].cpu().numpy()[0,0]\n",
    "        start_prediction_month = pd.Timestamp(year=start_year, month=start_month, day=1)\n",
    "\n",
    "        # Find the appropriate indices\n",
    "        time_idx = list(time_coords).index(start_prediction_month)\n",
    "\n",
    "        ds_pred[\"icefrac\"][time_idx, :, :, :] = predictions\n",
    "        ds_truth[\"icefrac\"][time_idx, :, :, :] = targets[0]\n",
    "\n",
    "ds_pred.to_netcdf(\"/scratch/users/yucli/sicpred_model_predictions/exp3/obs_pred_input2_pretrain_nofinetune.nc\")"
   ]
  },
  {
   "cell_type": "code",
   "execution_count": 111,
   "metadata": {},
   "outputs": [
    {
     "data": {
      "text/plain": [
       "<matplotlib.collections.QuadMesh at 0x7f75f7b70a70>"
      ]
     },
     "execution_count": 111,
     "metadata": {},
     "output_type": "execute_result"
    },
    {
     "data": {
      "image/png": "[encoded data removed]",
      "text/plain": [
       "<Figure size 640x480 with 2 Axes>"
      ]
     },
     "metadata": {},
     "output_type": "display_data"
    }
   ],
   "source": [
    "calc_acc(ds_pred.icefrac, ds_truth.icefrac).plot(vmin=0, vmax=1, cmap=\"Spectral\")"
   ]
  },
  {
   "cell_type": "code",
   "execution_count": 112,
   "metadata": {},
   "outputs": [
    {
     "name": "stderr",
     "output_type": "stream",
     "text": [
      "Epoch 0/10 [Train]: 100%|██████████| 95/95 [00:02<00:00, 33.86it/s, Batch Loss=0.00681]\n",
      "Epoch 0/10 [Val]: 100%|██████████| 14/14 [00:00<00:00, 23.93it/s, Batch Loss=0.012] "
     ]
    },
    {
     "name": "stdout",
     "output_type": "stream",
     "text": [
      "Epoch 0 - Train Loss: 0.0073, Val Loss: 0.0096\n"
     ]
    },
    {
     "name": "stderr",
     "output_type": "stream",
     "text": [
      "\n",
      "Epoch 1/10 [Train]: 100%|██████████| 95/95 [00:02<00:00, 32.18it/s, Batch Loss=0.00439]\n",
      "Epoch 1/10 [Val]: 100%|██████████| 14/14 [00:00<00:00, 21.63it/s, Batch Loss=0.0133]"
     ]
    },
    {
     "name": "stdout",
     "output_type": "stream",
     "text": [
      "Epoch 1 - Train Loss: 0.0066, Val Loss: 0.0098\n"
     ]
    },
    {
     "name": "stderr",
     "output_type": "stream",
     "text": [
      "\n",
      "Epoch 2/10 [Train]: 100%|██████████| 95/95 [00:03<00:00, 29.33it/s, Batch Loss=0.00417]\n",
      "Epoch 2/10 [Val]: 100%|██████████| 14/14 [00:00<00:00, 21.41it/s, Batch Loss=0.0119] "
     ]
    },
    {
     "name": "stdout",
     "output_type": "stream",
     "text": [
      "Epoch 2 - Train Loss: 0.0060, Val Loss: 0.0098\n"
     ]
    },
    {
     "name": "stderr",
     "output_type": "stream",
     "text": [
      "\n",
      "Epoch 3/10 [Train]: 100%|██████████| 95/95 [00:02<00:00, 32.32it/s, Batch Loss=0.00463]\n",
      "Epoch 3/10 [Val]: 100%|██████████| 14/14 [00:00<00:00, 25.96it/s, Batch Loss=0.0127] "
     ]
    },
    {
     "name": "stdout",
     "output_type": "stream",
     "text": [
      "Epoch 3 - Train Loss: 0.0055, Val Loss: 0.0101\n"
     ]
    },
    {
     "name": "stderr",
     "output_type": "stream",
     "text": [
      "\n",
      "Epoch 4/10 [Train]: 100%|██████████| 95/95 [00:02<00:00, 32.94it/s, Batch Loss=0.00571]\n",
      "Epoch 4/10 [Val]: 100%|██████████| 14/14 [00:00<00:00, 28.00it/s, Batch Loss=0.0117]"
     ]
    },
    {
     "name": "stdout",
     "output_type": "stream",
     "text": [
      "Epoch 4 - Train Loss: 0.0051, Val Loss: 0.0100\n"
     ]
    },
    {
     "name": "stderr",
     "output_type": "stream",
     "text": [
      "\n",
      "Epoch 5/10 [Train]: 100%|██████████| 95/95 [00:03<00:00, 29.17it/s, Batch Loss=0.00677]\n",
      "Epoch 5/10 [Val]: 100%|██████████| 14/14 [00:00<00:00, 27.63it/s, Batch Loss=0.0119]"
     ]
    },
    {
     "name": "stdout",
     "output_type": "stream",
     "text": [
      "Epoch 5 - Train Loss: 0.0048, Val Loss: 0.0100\n"
     ]
    },
    {
     "name": "stderr",
     "output_type": "stream",
     "text": [
      "\n",
      "Epoch 6/10 [Train]: 100%|██████████| 95/95 [00:02<00:00, 35.44it/s, Batch Loss=0.00409]\n",
      "Epoch 6/10 [Val]: 100%|██████████| 14/14 [00:00<00:00, 42.11it/s, Batch Loss=0.0131]"
     ]
    },
    {
     "name": "stdout",
     "output_type": "stream",
     "text": [
      "Epoch 6 - Train Loss: 0.0045, Val Loss: 0.0103\n"
     ]
    },
    {
     "name": "stderr",
     "output_type": "stream",
     "text": [
      "\n",
      "Epoch 7/10 [Train]: 100%|██████████| 95/95 [00:02<00:00, 32.19it/s, Batch Loss=0.00387]\n",
      "Epoch 7/10 [Val]: 100%|██████████| 14/14 [00:00<00:00, 27.65it/s, Batch Loss=0.0132]"
     ]
    },
    {
     "name": "stdout",
     "output_type": "stream",
     "text": [
      "Epoch 7 - Train Loss: 0.0043, Val Loss: 0.0103\n"
     ]
    },
    {
     "name": "stderr",
     "output_type": "stream",
     "text": [
      "\n",
      "Epoch 8/10 [Train]: 100%|██████████| 95/95 [00:02<00:00, 32.63it/s, Batch Loss=0.00369]\n",
      "Epoch 8/10 [Val]: 100%|██████████| 14/14 [00:00<00:00, 27.82it/s, Batch Loss=0.0122]"
     ]
    },
    {
     "name": "stdout",
     "output_type": "stream",
     "text": [
      "Epoch 8 - Train Loss: 0.0041, Val Loss: 0.0102\n"
     ]
    },
    {
     "name": "stderr",
     "output_type": "stream",
     "text": [
      "\n",
      "Epoch 9/10 [Train]: 100%|██████████| 95/95 [00:03<00:00, 31.21it/s, Batch Loss=0.00321]\n",
      "Epoch 9/10 [Val]: 100%|██████████| 14/14 [00:00<00:00, 29.02it/s, Batch Loss=0.0143] "
     ]
    },
    {
     "name": "stdout",
     "output_type": "stream",
     "text": [
      "Epoch 9 - Train Loss: 0.0039, Val Loss: 0.0107\n"
     ]
    },
    {
     "name": "stderr",
     "output_type": "stream",
     "text": [
      "\n",
      "Epoch 10/10 [Train]: 100%|██████████| 95/95 [00:02<00:00, 32.21it/s, Batch Loss=0.00379]\n",
      "Epoch 10/10 [Val]: 100%|██████████| 14/14 [00:00<00:00, 33.02it/s, Batch Loss=0.0127] "
     ]
    },
    {
     "name": "stdout",
     "output_type": "stream",
     "text": [
      "Epoch 10 - Train Loss: 0.0038, Val Loss: 0.0105\n"
     ]
    },
    {
     "name": "stderr",
     "output_type": "stream",
     "text": [
      "\n"
     ]
    }
   ],
   "source": [
    "# train model \n",
    "start_epoch = 0\n",
    "total_epochs = 10\n",
    "for epoch in range(start_epoch, total_epochs + 1):\n",
    "    train_loss = train_epoch(model_pt, train_dataloader, optimizer, loss_fn, device, epoch, total_epochs)\n",
    "    val_loss = validate_epoch(model_pt, val_dataloader, loss_fn, device, epoch, total_epochs)\n",
    "\n",
    "    print(f\"Epoch {epoch} - Train Loss: {train_loss:.4f}, Val Loss: {val_loss:.4f}\")\n"
   ]
  },
  {
   "cell_type": "code",
   "execution_count": 113,
   "metadata": {},
   "outputs": [
    {
     "name": "stderr",
     "output_type": "stream",
     "text": [
      "Evaluating: 100%|██████████| 108/108 [00:05<00:00, 20.89sample/s]\n"
     ]
    }
   ],
   "source": [
    "model_pt.eval()\n",
    "\n",
    "ds_pred = xr.Dataset(\n",
    "    {\n",
    "        \"icefrac\": (\n",
    "            [\"start_prediction_month\", \"lead_time\", \"y\", \"x\"],\n",
    "            np.full((len(time_coords), channels, y_dim, x_dim), \n",
    "                    np.nan, dtype=np.float32)\n",
    "        )\n",
    "    },\n",
    "    coords={\n",
    "        \"start_prediction_month\": time_coords,\n",
    "        \"lead_time\": np.arange(1, channels + 1),\n",
    "        \"y\": reference_grid.y.values,\n",
    "        \"x\": reference_grid.x.values,\n",
    "    }\n",
    ")\n",
    "\n",
    "# Populate the Dataset with predictions\n",
    "with torch.no_grad():\n",
    "    for i, batch in enumerate(tqdm(test_dataloader, desc=\"Evaluating\", unit=\"sample\")): \n",
    "        inputs = batch[\"input\"].to(device)\n",
    "        targets = batch[\"target\"]\n",
    "        predictions = model_pt(inputs).cpu().numpy()  # Move predictions to CPU\n",
    "        \n",
    "        # since batch size = 1, get the only sample in the batch\n",
    "        predictions = predictions[0]\n",
    "\n",
    "        # Extract metadata\n",
    "        start_year, start_month = batch[\"start_prediction_month\"].cpu().numpy()[0,0]\n",
    "        start_prediction_month = pd.Timestamp(year=start_year, month=start_month, day=1)\n",
    "\n",
    "        # Find the appropriate indices\n",
    "        time_idx = list(time_coords).index(start_prediction_month)\n",
    "\n",
    "        ds_pred[\"icefrac\"][time_idx, :, :, :] = predictions\n",
    "\n",
    "ds_pred.to_netcdf(\"/scratch/users/yucli/sicpred_model_predictions/exp3/obs_pred_input2_pretrain_finetune_10epochs.nc\")"
   ]
  },
  {
   "cell_type": "code",
   "execution_count": 115,
   "metadata": {},
   "outputs": [
    {
     "data": {
      "text/plain": [
       "<matplotlib.collections.QuadMesh at 0x7f75f7b9acc0>"
      ]
     },
     "execution_count": 115,
     "metadata": {},
     "output_type": "execute_result"
    },
    {
     "data": {
      "image/png": "[encoded data removed]",
      "text/plain": [
       "<Figure size 640x480 with 2 Axes>"
      ]
     },
     "metadata": {},
     "output_type": "display_data"
    }
   ],
   "source": [
    "calc_acc(ds_pred.icefrac, ds_truth.icefrac).plot(vmin=0, vmax=1, cmap=\"Spectral\")"
   ]
  }
 ],
 "metadata": {
  "kernelspec": {
   "display_name": "sicpred_env_conda",
   "language": "python",
   "name": "python3"
  },
  "language_info": {
   "codemirror_mode": {
    "name": "ipython",
    "version": 3
   },
   "file_extension": ".py",
   "mimetype": "text/x-python",
   "name": "python",
   "nbconvert_exporter": "python",
   "pygments_lexer": "ipython3",
   "version": "3.12.7"
  }
 },
 "nbformat": 4,
 "nbformat_minor": 2
}
